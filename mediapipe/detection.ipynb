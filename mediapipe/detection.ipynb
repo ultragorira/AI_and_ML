{
 "cells": [
  {
   "cell_type": "code",
   "execution_count": 1,
   "metadata": {},
   "outputs": [
    {
     "name": "stdout",
     "output_type": "stream",
     "text": [
      "Requirement already satisfied: mediapipe in c:\\users\\loris.deluca\\appdata\\local\\programs\\python\\python39\\lib\\site-packages (0.9.0)\n",
      "Collecting opencv-python\n",
      "  Using cached opencv_python-4.6.0.66-cp36-abi3-win_amd64.whl (35.6 MB)\n",
      "Requirement already satisfied: numpy in c:\\users\\loris.deluca\\appdata\\local\\programs\\python\\python39\\lib\\site-packages (from mediapipe) (1.23.3)\n",
      "Requirement already satisfied: matplotlib in c:\\users\\loris.deluca\\appdata\\local\\programs\\python\\python39\\lib\\site-packages (from mediapipe) (3.6.0)\n",
      "Requirement already satisfied: opencv-contrib-python in c:\\users\\loris.deluca\\appdata\\local\\programs\\python\\python39\\lib\\site-packages (from mediapipe) (4.6.0.66)\n",
      "Requirement already satisfied: flatbuffers>=2.0 in c:\\users\\loris.deluca\\appdata\\local\\programs\\python\\python39\\lib\\site-packages (from mediapipe) (22.10.26)\n",
      "Requirement already satisfied: protobuf<4,>=3.11 in c:\\users\\loris.deluca\\appdata\\local\\programs\\python\\python39\\lib\\site-packages (from mediapipe) (3.19.6)\n",
      "Requirement already satisfied: absl-py in c:\\users\\loris.deluca\\appdata\\local\\programs\\python\\python39\\lib\\site-packages (from mediapipe) (1.2.0)\n",
      "Requirement already satisfied: attrs>=19.1.0 in c:\\users\\loris.deluca\\appdata\\local\\programs\\python\\python39\\lib\\site-packages (from mediapipe) (22.1.0)\n",
      "Requirement already satisfied: pillow>=6.2.0 in c:\\users\\loris.deluca\\appdata\\local\\programs\\python\\python39\\lib\\site-packages (from matplotlib->mediapipe) (9.2.0)\n",
      "Requirement already satisfied: python-dateutil>=2.7 in c:\\users\\loris.deluca\\appdata\\local\\programs\\python\\python39\\lib\\site-packages (from matplotlib->mediapipe) (2.8.2)\n",
      "Requirement already satisfied: packaging>=20.0 in c:\\users\\loris.deluca\\appdata\\roaming\\python\\python39\\site-packages (from matplotlib->mediapipe) (21.3)\n",
      "Requirement already satisfied: kiwisolver>=1.0.1 in c:\\users\\loris.deluca\\appdata\\local\\programs\\python\\python39\\lib\\site-packages (from matplotlib->mediapipe) (1.4.4)\n",
      "Requirement already satisfied: contourpy>=1.0.1 in c:\\users\\loris.deluca\\appdata\\local\\programs\\python\\python39\\lib\\site-packages (from matplotlib->mediapipe) (1.0.5)\n",
      "Requirement already satisfied: cycler>=0.10 in c:\\users\\loris.deluca\\appdata\\local\\programs\\python\\python39\\lib\\site-packages (from matplotlib->mediapipe) (0.11.0)\n",
      "Requirement already satisfied: fonttools>=4.22.0 in c:\\users\\loris.deluca\\appdata\\local\\programs\\python\\python39\\lib\\site-packages (from matplotlib->mediapipe) (4.37.3)\n",
      "Requirement already satisfied: pyparsing>=2.2.1 in c:\\users\\loris.deluca\\appdata\\roaming\\python\\python39\\site-packages (from matplotlib->mediapipe) (3.0.9)\n",
      "Requirement already satisfied: six>=1.5 in c:\\users\\loris.deluca\\appdata\\local\\programs\\python\\python39\\lib\\site-packages (from python-dateutil>=2.7->matplotlib->mediapipe) (1.16.0)\n",
      "Installing collected packages: opencv-python\n",
      "Successfully installed opencv-python-4.6.0.66\n"
     ]
    }
   ],
   "source": [
    "!pip install mediapipe opencv-python"
   ]
  },
  {
   "cell_type": "markdown",
   "metadata": {},
   "source": [
    "# Holistic Detection with MediaPipe on CPU"
   ]
  },
  {
   "cell_type": "code",
   "execution_count": 3,
   "metadata": {},
   "outputs": [],
   "source": [
    "import cv2\n",
    "import mediapipe as mp"
   ]
  },
  {
   "cell_type": "markdown",
   "metadata": {},
   "source": [
    "## Load Holistic model"
   ]
  },
  {
   "cell_type": "code",
   "execution_count": 4,
   "metadata": {},
   "outputs": [],
   "source": [
    "mp_drawing = mp.solutions.drawing_utils\n",
    "model = mp.solutions.holistic"
   ]
  },
  {
   "cell_type": "code",
   "execution_count": 15,
   "metadata": {},
   "outputs": [],
   "source": [
    "cap = cv2.VideoCapture(0)\n",
    "with model.Holistic(min_detection_confidence=0.6, min_tracking_confidence=0.6) as hl:\n",
    "    while cap.isOpened():\n",
    "        ret, frame = cap.read()\n",
    "\n",
    "        img = cv2.cvtColor(frame, cv2.COLOR_BGR2RGB)\n",
    "        #Detection start. In results you can extract all the coordinates.\n",
    "        #For example, results.pose_landmarks will have x,y coordinates of each keypoint detected. If no detection => None\n",
    "        results = hl.process(img)\n",
    "        \n",
    "        img = cv2.cvtColor(frame, cv2.COLOR_RGB2BGR)\n",
    "\n",
    "        #POSE\n",
    "        mp_drawing.draw_landmarks(img, results.pose_landmarks, model.POSE_CONNECTIONS,\n",
    "                                mp_drawing.DrawingSpec(color=(140,50,50), thickness=2, circle_radius=2),\n",
    "                                mp_drawing.DrawingSpec(color=(140,200,100), thickness=2, circle_radius=2)\n",
    "                                )\n",
    "        #FACE\n",
    "        mp_drawing.draw_landmarks(img, results.face_landmarks, model.FACEMESH_CONTOURS,\n",
    "                                mp_drawing.DrawingSpec(color=(220,100,50), thickness=1, circle_radius=1),\n",
    "                                mp_drawing.DrawingSpec(color=(220,100,50), thickness=1, circle_radius=1)\n",
    "                                )\n",
    "        #L HAND\n",
    "        mp_drawing.draw_landmarks(img, results.left_hand_landmarks, model.HAND_CONNECTIONS,\n",
    "                                    mp_drawing.DrawingSpec(color=(0, 0, 255), thickness=2, circle_radius=3),\n",
    "                                    mp_drawing.DrawingSpec(color=(0, 255, 0), thickness=2, circle_radius=3)\n",
    "                                    )\n",
    "        #R HAND\n",
    "        mp_drawing.draw_landmarks(img, results.right_hand_landmarks, model.HAND_CONNECTIONS,\n",
    "                                mp_drawing.DrawingSpec(color=(0, 0, 255), thickness=2, circle_radius=3),\n",
    "                                mp_drawing.DrawingSpec(color=(0, 255, 0), thickness=2, circle_radius=3)\n",
    "                                )\n",
    "\n",
    "        cv2.imshow('Webcam feed', img)\n",
    "\n",
    "        if cv2.waitKey(10) & 0xFF == ord('q'):\n",
    "            break\n",
    "\n",
    "cap.release()\n",
    "cv2.destroyAllWindows()\n"
   ]
  }
 ],
 "metadata": {
  "kernelspec": {
   "display_name": "Python 3.9.13 64-bit",
   "language": "python",
   "name": "python3"
  },
  "language_info": {
   "codemirror_mode": {
    "name": "ipython",
    "version": 3
   },
   "file_extension": ".py",
   "mimetype": "text/x-python",
   "name": "python",
   "nbconvert_exporter": "python",
   "pygments_lexer": "ipython3",
   "version": "3.9.13"
  },
  "orig_nbformat": 4,
  "vscode": {
   "interpreter": {
    "hash": "453a729581bf3fb288c4b38271197a5c99c87855636a0a0f08c327901814d31c"
   }
  }
 },
 "nbformat": 4,
 "nbformat_minor": 2
}
