{
 "cells": [
  {
   "cell_type": "markdown",
   "metadata": {},
   "source": [
    "## DCGAN IMPLEMENTATION\n",
    "\n",
    "In this notebook I will implement [DCGAN](https://arxiv.org/abs/1511.06434) and try to generate new Pokemon.\n",
    "Dataset of original Pokemon was taken from "
   ]
  }
 ],
 "metadata": {
  "language_info": {
   "name": "python"
  },
  "orig_nbformat": 4
 },
 "nbformat": 4,
 "nbformat_minor": 2
}
