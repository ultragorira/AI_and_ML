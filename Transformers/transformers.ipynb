{
 "cells": [
  {
   "cell_type": "code",
   "execution_count": 1,
   "metadata": {},
   "outputs": [],
   "source": [
    "import requests as r\n",
    "from bs4 import BeautifulSoup\n",
    "import torch"
   ]
  },
  {
   "cell_type": "markdown",
   "metadata": {},
   "source": [
    "# GET THE DATA"
   ]
  },
  {
   "cell_type": "code",
   "execution_count": 2,
   "metadata": {},
   "outputs": [],
   "source": [
    "URL = \"https://dmf.unicatt.it/~della/pythoncourse18/commedia.txt\"\n",
    "DATASET = \"dataset.txt\""
   ]
  },
  {
   "cell_type": "code",
   "execution_count": 3,
   "metadata": {},
   "outputs": [],
   "source": [
    "response = r.get(URL).text\n",
    "with open(DATASET, mode=\"w\", encoding=\"utf-8\") as f:\n",
    "    f.write(response)\n"
   ]
  },
  {
   "cell_type": "code",
   "execution_count": 4,
   "metadata": {},
   "outputs": [],
   "source": [
    "with open(DATASET, mode='r', encoding=\"utf-8\") as f:\n",
    "    data = f.read()"
   ]
  },
  {
   "cell_type": "code",
   "execution_count": 5,
   "metadata": {},
   "outputs": [
    {
     "name": "stdout",
     "output_type": "stream",
     "text": [
      "Number of chars in the dataset is 551846\n"
     ]
    }
   ],
   "source": [
    "print(f\"Number of chars in the dataset is {len(data)}\")"
   ]
  },
  {
   "cell_type": "code",
   "execution_count": 6,
   "metadata": {},
   "outputs": [
    {
     "data": {
      "text/plain": [
       "\"LA DIVINA COMMEDIA\\n\\ndi Dante Alighieri\\n\\nINFERNO\\n\\n\\n\\n\\n\\n\\n\\nInferno: Canto I\\n\\n\\n\\n  Nel mezzo del cammin di nostra vita\\n\\nmi ritrovai per una selva oscura\\n\\nché la diritta via era smarrita.\\n\\n  Ahi quanto a dir qual era è cosa dura\\n\\nesta selva selvaggia e aspra e forte\\n\\nche nel pensier rinova la paura!\\n\\n  Tant'è amara che poco è più morte;\\n\\nma per trattar del ben ch'i' vi trovai,\\n\\ndirò de l'altre cose ch'i' v'ho scorte.\\n\\n  Io non so ben ridir com'i' v'intrai,\\n\\ntant'era pien di sonno a quel punto\\n\\nche la v\""
      ]
     },
     "execution_count": 6,
     "metadata": {},
     "output_type": "execute_result"
    }
   ],
   "source": [
    "data[:500]"
   ]
  },
  {
   "cell_type": "code",
   "execution_count": 7,
   "metadata": {},
   "outputs": [
    {
     "name": "stdout",
     "output_type": "stream",
     "text": [
      "\n",
      " !\"'(),-.:;?ABCDEFGHILMNOPQRSTUVXZabcdefghijlmnopqrstuvxyz~àèéìïòóù\n"
     ]
    }
   ],
   "source": [
    "chars = sorted(list(set(data)))\n",
    "print(\"\".join(chars))\n"
   ]
  },
  {
   "cell_type": "code",
   "execution_count": 8,
   "metadata": {},
   "outputs": [
    {
     "name": "stdout",
     "output_type": "stream",
     "text": [
      "68\n"
     ]
    }
   ],
   "source": [
    "print(len(chars))"
   ]
  },
  {
   "cell_type": "markdown",
   "metadata": {},
   "source": [
    "# Encoder and Decoder"
   ]
  },
  {
   "cell_type": "code",
   "execution_count": 9,
   "metadata": {},
   "outputs": [],
   "source": [
    "char_to_int = {ch:i for i,ch in enumerate(chars)}\n",
    "int_to_char = {i:ch for i,ch in enumerate(chars)}\n",
    "encode = lambda ch: [char_to_int[c] for c in ch]\n",
    "decode = lambda l: \"\".join([int_to_char[i] for i in l])"
   ]
  },
  {
   "cell_type": "code",
   "execution_count": 10,
   "metadata": {},
   "outputs": [
    {
     "name": "stdout",
     "output_type": "stream",
     "text": [
      "[16, 43, 55, 43, 47, 35, 1, 15, 48, 46, 46, 39, 38, 43, 35]\n",
      "Divina Commedia\n"
     ]
    }
   ],
   "source": [
    "print(encode(\"Divina Commedia\"))\n",
    "print(decode(encode(\"Divina Commedia\")))"
   ]
  },
  {
   "cell_type": "markdown",
   "metadata": {},
   "source": [
    "### Dataset to tensor"
   ]
  },
  {
   "cell_type": "code",
   "execution_count": 11,
   "metadata": {},
   "outputs": [
    {
     "name": "stdout",
     "output_type": "stream",
     "text": [
      "torch.Size([551846]) torch.int64\n",
      "tensor([22, 13,  1, 16, 21, 32, 21, 24, 13,  1, 15, 25, 23, 23, 17, 16, 21, 13,\n",
      "         0,  0, 38, 43,  1, 16, 35, 47, 53, 39,  1, 13, 45, 43, 41, 42, 43, 39,\n",
      "        51, 43,  0,  0, 21, 24, 18, 17, 28, 24, 25,  0,  0,  0,  0,  0,  0,  0,\n",
      "         0, 21, 47, 40, 39, 51, 47, 48, 10,  1, 15, 35, 47, 53, 48,  1, 21,  0,\n",
      "         0,  0,  0,  1,  1, 24, 39, 45,  1, 46, 39, 58, 58, 48,  1, 38, 39, 45,\n",
      "         1, 37, 35, 46, 46, 43, 47,  1, 38, 43,  1, 47, 48, 52, 53, 51, 35,  1,\n",
      "        55, 43, 53, 35,  0,  0, 46, 43,  1, 51, 43, 53, 51, 48, 55, 35, 43,  1,\n",
      "        49, 39, 51,  1, 54, 47, 35,  1, 52, 39, 45, 55, 35,  1, 48, 52, 37, 54,\n",
      "        51, 35,  0,  0, 37, 42, 62,  1, 45, 35,  1, 38, 43, 51, 43, 53, 53, 35,\n",
      "         1, 55, 43, 35,  1, 39, 51, 35,  1, 52, 46, 35, 51, 51, 43, 53, 35,  9,\n",
      "         0,  0,  1,  1, 13, 42, 43,  1, 50, 54, 35, 47, 53, 48,  1, 35,  1, 38,\n",
      "        43, 51])\n"
     ]
    }
   ],
   "source": [
    "dataset_tensor = torch.tensor(encode(data), dtype=torch.long)\n",
    "print(dataset_tensor.shape, dataset_tensor.dtype)\n",
    "print(dataset_tensor[0:200])"
   ]
  },
  {
   "cell_type": "markdown",
   "metadata": {},
   "source": [
    "## Divide Data into Training and Validation Sets"
   ]
  },
  {
   "cell_type": "code",
   "execution_count": 12,
   "metadata": {},
   "outputs": [],
   "source": [
    "split = int(0.9*len(data))\n",
    "train_data = data[:split]\n",
    "validation_data = data[split:]\n"
   ]
  },
  {
   "cell_type": "code",
   "execution_count": 13,
   "metadata": {},
   "outputs": [
    {
     "data": {
      "text/plain": [
       "496661"
      ]
     },
     "execution_count": 13,
     "metadata": {},
     "output_type": "execute_result"
    }
   ],
   "source": [
    "len(train_data)"
   ]
  },
  {
   "cell_type": "code",
   "execution_count": 14,
   "metadata": {},
   "outputs": [
    {
     "data": {
      "text/plain": [
       "55185"
      ]
     },
     "execution_count": 14,
     "metadata": {},
     "output_type": "execute_result"
    }
   ],
   "source": [
    "len(validation_data)"
   ]
  }
 ],
 "metadata": {
  "kernelspec": {
   "display_name": "Python 3.9.7 ('base')",
   "language": "python",
   "name": "python3"
  },
  "language_info": {
   "codemirror_mode": {
    "name": "ipython",
    "version": 3
   },
   "file_extension": ".py",
   "mimetype": "text/x-python",
   "name": "python",
   "nbconvert_exporter": "python",
   "pygments_lexer": "ipython3",
   "version": "3.9.7"
  },
  "orig_nbformat": 4,
  "vscode": {
   "interpreter": {
    "hash": "0bd3759d1d8aa52da212024e62c534f3eafdba18a88d1945e55a82ebd3bdefdc"
   }
  }
 },
 "nbformat": 4,
 "nbformat_minor": 2
}
