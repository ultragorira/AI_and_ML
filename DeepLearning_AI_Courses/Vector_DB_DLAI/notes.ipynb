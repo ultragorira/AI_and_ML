{
 "cells": [
  {
   "cell_type": "markdown",
   "metadata": {},
   "source": [
    "Vector embeddings capture meaning and are machine understandable format of the data. \n",
    "\n",
    "Image > [-0.43243, -0.2342423]\n",
    "\n",
    "Text > [-0.424342, -0.123232, -0.323112....]\n",
    "\n"
   ]
  }
 ],
 "metadata": {
  "language_info": {
   "name": "python"
  }
 },
 "nbformat": 4,
 "nbformat_minor": 2
}
