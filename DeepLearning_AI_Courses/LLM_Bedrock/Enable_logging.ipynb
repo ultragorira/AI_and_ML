{
 "cells": [
  {
   "cell_type": "markdown",
   "id": "cc6b7b9f-a75d-4b78-930f-26d2343ac2c2",
   "metadata": {},
   "source": [
    "# Lesson 3: Enable Logging"
   ]
  },
  {
   "cell_type": "markdown",
   "id": "06fc5839-0b4b-42a3-9aaf-99a97e347955",
   "metadata": {},
   "source": [
    "### Import all needed packages"
   ]
  },
  {
   "cell_type": "code",
   "execution_count": 1,
   "id": "63cf31e4",
   "metadata": {
    "height": 98
   },
   "outputs": [],
   "source": [
    "import boto3\n",
    "import json\n",
    "import os\n",
    "\n",
    "bedrock = boto3.client('bedrock', region_name=\"us-west-2\")"
   ]
  },
  {
   "cell_type": "code",
   "execution_count": 2,
   "id": "e5d9e31b",
   "metadata": {
    "height": 47
   },
   "outputs": [],
   "source": [
    "from helpers.CloudWatchHelper import CloudWatch_Helper\n",
    "cloudwatch = CloudWatch_Helper()"
   ]
  },
  {
   "cell_type": "code",
   "execution_count": 3,
   "id": "87a30e7e",
   "metadata": {
    "height": 30
   },
   "outputs": [],
   "source": [
    "log_group_name = '/my/amazon/bedrock/logs'"
   ]
  },
  {
   "cell_type": "code",
   "execution_count": 4,
   "id": "2461a51c",
   "metadata": {
    "height": 30
   },
   "outputs": [
    {
     "name": "stdout",
     "output_type": "stream",
     "text": [
      "Log group '/my/amazon/bedrock/logs' created successfully.\n"
     ]
    }
   ],
   "source": [
    "cloudwatch.create_log_group(log_group_name)"
   ]
  },
  {
   "cell_type": "code",
   "execution_count": 5,
   "id": "0afe5997",
   "metadata": {
    "height": 268
   },
   "outputs": [],
   "source": [
    "loggingConfig = {\n",
    "    'cloudWatchConfig': {\n",
    "        'logGroupName': log_group_name,\n",
    "        'roleArn': os.environ['LOGGINGROLEARN'],\n",
    "        'largeDataDeliveryS3Config': {\n",
    "            'bucketName': os.environ['LOGGINGBUCKETNAME'],\n",
    "            'keyPrefix': 'amazon_bedrock_large_data_delivery',\n",
    "        }\n",
    "    },\n",
    "    's3Config': {\n",
    "        'bucketName': os.environ['LOGGINGBUCKETNAME'],\n",
    "        'keyPrefix': 'amazon_bedrock_logs',\n",
    "    },\n",
    "    'textDataDeliveryEnabled': True,\n",
    "}"
   ]
  },
  {
   "cell_type": "code",
   "execution_count": 6,
   "id": "2ca33ffe",
   "metadata": {
    "height": 30
   },
   "outputs": [
    {
     "data": {
      "text/plain": [
       "{'ResponseMetadata': {'RequestId': 'ab31e96d-a4b3-4356-9274-179a8fedc76d',\n",
       "  'HTTPStatusCode': 200,\n",
       "  'HTTPHeaders': {'date': 'Thu, 15 Feb 2024 17:38:46 GMT',\n",
       "   'content-type': 'application/json',\n",
       "   'content-length': '2',\n",
       "   'connection': 'keep-alive',\n",
       "   'x-amzn-requestid': 'ab31e96d-a4b3-4356-9274-179a8fedc76d'},\n",
       "  'RetryAttempts': 0}}"
      ]
     },
     "execution_count": 6,
     "metadata": {},
     "output_type": "execute_result"
    }
   ],
   "source": [
    "bedrock.put_model_invocation_logging_configuration(loggingConfig=loggingConfig)"
   ]
  },
  {
   "cell_type": "code",
   "execution_count": 7,
   "id": "41fdb20d",
   "metadata": {
    "height": 30
   },
   "outputs": [
    {
     "data": {
      "text/plain": [
       "{'ResponseMetadata': {'RequestId': 'c42881d6-c34e-4747-aff4-d9f736e4ed8d',\n",
       "  'HTTPStatusCode': 200,\n",
       "  'HTTPHeaders': {'date': 'Thu, 15 Feb 2024 17:38:54 GMT',\n",
       "   'content-type': 'application/json',\n",
       "   'content-length': '572',\n",
       "   'connection': 'keep-alive',\n",
       "   'x-amzn-requestid': 'c42881d6-c34e-4747-aff4-d9f736e4ed8d'},\n",
       "  'RetryAttempts': 0},\n",
       " 'loggingConfig': {'cloudWatchConfig': {'logGroupName': '/my/amazon/bedrock/logs',\n",
       "   'roleArn': 'arn:aws:iam::810113758748:role/c99355a2566044l5845840t1w81011375874-LoggingIAMRole-kbrUpV6gCRxS',\n",
       "   'largeDataDeliveryS3Config': {'bucketName': 'c99355a2566044l5845840t1w810113758-loggings3bucket-k9pbey26ficx',\n",
       "    'keyPrefix': 'amazon_bedrock_large_data_delivery'}},\n",
       "  's3Config': {'bucketName': 'c99355a2566044l5845840t1w810113758-loggings3bucket-k9pbey26ficx',\n",
       "   'keyPrefix': 'amazon_bedrock_logs'},\n",
       "  'textDataDeliveryEnabled': True,\n",
       "  'imageDataDeliveryEnabled': True,\n",
       "  'embeddingDataDeliveryEnabled': True}}"
      ]
     },
     "execution_count": 7,
     "metadata": {},
     "output_type": "execute_result"
    }
   ],
   "source": [
    "bedrock.get_model_invocation_logging_configuration()"
   ]
  },
  {
   "cell_type": "code",
   "execution_count": 8,
   "id": "95ebecb7",
   "metadata": {
    "height": 30
   },
   "outputs": [],
   "source": [
    "bedrock_runtime = boto3.client('bedrock-runtime', region_name=\"us-west-2\")"
   ]
  },
  {
   "cell_type": "code",
   "execution_count": 9,
   "id": "402c6311",
   "metadata": {
    "height": 421
   },
   "outputs": [
    {
     "name": "stdout",
     "output_type": "stream",
     "text": [
      "\n",
      "Foobar is a fictional planet in the science fiction literature of author Douglas Adams. It is described as a planet similar to Earth in terms of size, mass, and atmospheric composition, but with a unique and strange landscape. The planet is home to a wide range of creatures, including sentient beings, animals, and plants.\n",
      "\n",
      "One of the most notable features of Foobar is its \"animal problem.\" The planet is overpopulated with animals, many of which are aggressive and dangerous. The animals have evolved to survive in a harsh environment, and they have developed a complex social structure that is often difficult for humans to understand.\n",
      "\n",
      "Despite the challenges of living on Foobar, humans have managed to establish a small colony on the planet. The colony is governed by a group of scientists and engineers who are working to study the planet's animals and learn how to coexist with them. The colony is also home to a group of artists and musicians who are inspired by the planet's unique landscape and culture.\n",
      "\n",
      "One of the most interesting aspects of Foobar is its culture and society. The planet is home to a wide range of sentient beings, including humans, aliens, and animals. The animals have their own language and culture, and they often interact with humans in complex and unpredictable ways. The humans, in turn, have developed their own culture and society, which is influenced by the planet's unique environment and culture.\n",
      "\n",
      "Foobar is also a planet of great scientific interest. The planet's animals and plants are unique and diverse, and scientists are working to learn more about them and their adaptations to the planet's harsh environment. The planet's landscape is also unique and fascinating, with a wide range of geological features, including mountains, valleys, and rivers.\n",
      "\n",
      "Despite the many challenges of living on Foobar, the planet has also inspired a sense of wonder and curiosity in humans. The planet's unique landscape and culture have inspired artists and musicians, and the planet's scientific interest has inspired scientists and engineers. Foobar is a fictional planet that has captured the imaginations of millions of people around the world, and it remains a popular and iconic part of science fiction literature.\n"
     ]
    }
   ],
   "source": [
    "prompt = \"Write an article about the fictional planet Foobar.\"\n",
    "\n",
    "kwargs = {\n",
    "    \"modelId\": \"amazon.titan-text-express-v1\",\n",
    "    \"contentType\": \"application/json\",\n",
    "    \"accept\": \"*/*\",\n",
    "    \"body\": json.dumps(\n",
    "        {\n",
    "            \"inputText\": prompt,\n",
    "            \"textGenerationConfig\": {\n",
    "                \"maxTokenCount\": 512,\n",
    "                \"temperature\": 0.7,\n",
    "                \"topP\": 0.9\n",
    "            }\n",
    "        }\n",
    "    )\n",
    "}\n",
    "\n",
    "response = bedrock_runtime.invoke_model(**kwargs)\n",
    "response_body = json.loads(response.get('body').read())\n",
    "\n",
    "generation = response_body['results'][0]['outputText']\n",
    "\n",
    "print(generation)"
   ]
  },
  {
   "cell_type": "code",
   "execution_count": 10,
   "id": "68a7bab7",
   "metadata": {
    "height": 30
   },
   "outputs": [
    {
     "name": "stdout",
     "output_type": "stream",
     "text": [
      "Permissions are correctly set for Amazon Bedrock logs.\n",
      "-------------------------\n",
      "\n",
      "{\n",
      "    \"schemaType\": \"ModelInvocationLog\",\n",
      "    \"schemaVersion\": \"1.0\",\n",
      "    \"timestamp\": \"2024-02-15T17:39:12Z\",\n",
      "    \"accountId\": \"810113758748\",\n",
      "    \"identity\": {\n",
      "        \"arn\": \"arn:aws:sts::810113758748:assumed-role/voclabs/user3079678=eyJhbGciOiJIUzI1NiJ9.eyJpc3MiOiJhcHAiLCJzdWIiOiIyMzQ\"\n",
      "    },\n",
      "    \"region\": \"us-west-2\",\n",
      "    \"requestId\": \"7e5bd8f7-b670-4dd6-b67e-8bd60a97efa1\",\n",
      "    \"operation\": \"InvokeModel\",\n",
      "    \"modelId\": \"amazon.titan-text-express-v1\",\n",
      "    \"input\": {\n",
      "        \"inputContentType\": \"application/json\",\n",
      "        \"inputBodyJson\": {\n",
      "            \"inputText\": \"Write an article about the fictional planet Foobar.\",\n",
      "            \"textGenerationConfig\": {\n",
      "                \"maxTokenCount\": 512,\n",
      "                \"temperature\": 0.7,\n",
      "                \"topP\": 0.9\n",
      "            }\n",
      "        },\n",
      "        \"inputTokenCount\": 10\n",
      "    },\n",
      "    \"output\": {\n",
      "        \"outputContentType\": \"application/json\",\n",
      "        \"outputBodyJson\": {\n",
      "            \"inputTextTokenCount\": 10,\n",
      "            \"results\": [\n",
      "                {\n",
      "                    \"tokenCount\": 442,\n",
      "                    \"outputText\": \"\\nFoobar is a fictional planet in the science fiction literature of author Douglas Adams. It is described as a planet similar to Earth in terms of size, mass, and atmospheric composition, but with a unique and strange landscape. The planet is home to a wide range of creatures, including sentient beings, animals, and plants.\\n\\nOne of the most notable features of Foobar is its \\\"animal problem.\\\" The planet is overpopulated with animals, many of which are aggressive and dangerous. The animals have evolved to survive in a harsh environment, and they have developed a complex social structure that is often difficult for humans to understand.\\n\\nDespite the challenges of living on Foobar, humans have managed to establish a small colony on the planet. The colony is governed by a group of scientists and engineers who are working to study the planet's animals and learn how to coexist with them. The colony is also home to a group of artists and musicians who are inspired by the planet's unique landscape and culture.\\n\\nOne of the most interesting aspects of Foobar is its culture and society. The planet is home to a wide range of sentient beings, including humans, aliens, and animals. The animals have their own language and culture, and they often interact with humans in complex and unpredictable ways. The humans, in turn, have developed their own culture and society, which is influenced by the planet's unique environment and culture.\\n\\nFoobar is also a planet of great scientific interest. The planet's animals and plants are unique and diverse, and scientists are working to learn more about them and their adaptations to the planet's harsh environment. The planet's landscape is also unique and fascinating, with a wide range of geological features, including mountains, valleys, and rivers.\\n\\nDespite the many challenges of living on Foobar, the planet has also inspired a sense of wonder and curiosity in humans. The planet's unique landscape and culture have inspired artists and musicians, and the planet's scientific interest has inspired scientists and engineers. Foobar is a fictional planet that has captured the imaginations of millions of people around the world, and it remains a popular and iconic part of science fiction literature.\",\n",
      "                    \"completionReason\": \"FINISH\"\n",
      "                }\n",
      "            ]\n",
      "        },\n",
      "        \"outputTokenCount\": 442\n",
      "    }\n",
      "}\n",
      "-------------------------\n",
      "\n"
     ]
    }
   ],
   "source": [
    "cloudwatch.print_recent_logs(log_group_name)"
   ]
  },
  {
   "cell_type": "markdown",
   "id": "1118acfb",
   "metadata": {},
   "source": [
    "To review the logs within the AWS console, please use the following link to reference the steps outlined in the video:"
   ]
  },
  {
   "cell_type": "code",
   "execution_count": 11,
   "id": "2cf443d2",
   "metadata": {
    "height": 47
   },
   "outputs": [],
   "source": [
    "from IPython.display import HTML\n",
    "aws_url = os.environ['AWS_CONSOLE_URL']"
   ]
  },
  {
   "cell_type": "code",
   "execution_count": null,
   "id": "0b7c904c",
   "metadata": {
    "height": 47
   },
   "outputs": [],
   "source": [
    "HTML(f'<a href=\"{aws_url}\" target=\"_blank\">GO TO AWS CONSOLE</a>')\n"
   ]
  }
 ],
 "metadata": {
  "kernelspec": {
   "display_name": "Python 3 (ipykernel)",
   "language": "python",
   "name": "python3"
  },
  "language_info": {
   "codemirror_mode": {
    "name": "ipython",
    "version": 3
   },
   "file_extension": ".py",
   "mimetype": "text/x-python",
   "name": "python",
   "nbconvert_exporter": "python",
   "pygments_lexer": "ipython3",
   "version": "3.11.8"
  }
 },
 "nbformat": 4,
 "nbformat_minor": 5
}
