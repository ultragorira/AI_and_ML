{
 "cells": [
  {
   "cell_type": "code",
   "execution_count": 50,
   "metadata": {},
   "outputs": [],
   "source": [
    "import pandas as pd"
   ]
  },
  {
   "cell_type": "code",
   "execution_count": 51,
   "metadata": {},
   "outputs": [],
   "source": [
    "\n",
    "data = pd.read_excel('data/etunimitilasto-2022-08-04-dvv.xlsx', ['Miehet kaikki', 'Naiset kaikki'])"
   ]
  },
  {
   "cell_type": "code",
   "execution_count": 52,
   "metadata": {},
   "outputs": [
    {
     "data": {
      "text/html": [
       "<div>\n",
       "<style scoped>\n",
       "    .dataframe tbody tr th:only-of-type {\n",
       "        vertical-align: middle;\n",
       "    }\n",
       "\n",
       "    .dataframe tbody tr th {\n",
       "        vertical-align: top;\n",
       "    }\n",
       "\n",
       "    .dataframe thead th {\n",
       "        text-align: right;\n",
       "    }\n",
       "</style>\n",
       "<table border=\"1\" class=\"dataframe\">\n",
       "  <thead>\n",
       "    <tr style=\"text-align: right;\">\n",
       "      <th></th>\n",
       "      <th>Etunimi</th>\n",
       "      <th>Lukumäärä</th>\n",
       "    </tr>\n",
       "  </thead>\n",
       "  <tbody>\n",
       "    <tr>\n",
       "      <th>0</th>\n",
       "      <td>Juhani</td>\n",
       "      <td>281516</td>\n",
       "    </tr>\n",
       "    <tr>\n",
       "      <th>1</th>\n",
       "      <td>Olavi</td>\n",
       "      <td>140701</td>\n",
       "    </tr>\n",
       "    <tr>\n",
       "      <th>2</th>\n",
       "      <td>Antero</td>\n",
       "      <td>135448</td>\n",
       "    </tr>\n",
       "    <tr>\n",
       "      <th>3</th>\n",
       "      <td>Tapani</td>\n",
       "      <td>135058</td>\n",
       "    </tr>\n",
       "    <tr>\n",
       "      <th>4</th>\n",
       "      <td>Johannes</td>\n",
       "      <td>133244</td>\n",
       "    </tr>\n",
       "    <tr>\n",
       "      <th>...</th>\n",
       "      <td>...</td>\n",
       "      <td>...</td>\n",
       "    </tr>\n",
       "    <tr>\n",
       "      <th>9957</th>\n",
       "      <td>Zubeir</td>\n",
       "      <td>5</td>\n",
       "    </tr>\n",
       "    <tr>\n",
       "      <th>9958</th>\n",
       "      <td>Zuhdi</td>\n",
       "      <td>5</td>\n",
       "    </tr>\n",
       "    <tr>\n",
       "      <th>9959</th>\n",
       "      <td>Åge</td>\n",
       "      <td>5</td>\n",
       "    </tr>\n",
       "    <tr>\n",
       "      <th>9960</th>\n",
       "      <td>Ämir</td>\n",
       "      <td>5</td>\n",
       "    </tr>\n",
       "    <tr>\n",
       "      <th>9961</th>\n",
       "      <td>Änäs</td>\n",
       "      <td>5</td>\n",
       "    </tr>\n",
       "  </tbody>\n",
       "</table>\n",
       "<p>9962 rows × 2 columns</p>\n",
       "</div>"
      ],
      "text/plain": [
       "       Etunimi  Lukumäärä\n",
       "0       Juhani     281516\n",
       "1        Olavi     140701\n",
       "2       Antero     135448\n",
       "3       Tapani     135058\n",
       "4     Johannes     133244\n",
       "...        ...        ...\n",
       "9957    Zubeir          5\n",
       "9958     Zuhdi          5\n",
       "9959       Åge          5\n",
       "9960      Ämir          5\n",
       "9961      Änäs          5\n",
       "\n",
       "[9962 rows x 2 columns]"
      ]
     },
     "execution_count": 52,
     "metadata": {},
     "output_type": "execute_result"
    }
   ],
   "source": [
    "data['Miehet kaikki']"
   ]
  },
  {
   "cell_type": "code",
   "execution_count": 53,
   "metadata": {},
   "outputs": [
    {
     "name": "stdout",
     "output_type": "stream",
     "text": [
      "There are 9962 male names\n",
      "There are 12921 female names\n",
      "22883\n"
     ]
    }
   ],
   "source": [
    "male_names = [name for name, _ in data['Miehet kaikki'].values]\n",
    "print(f\"There are {len(male_names)} male names\")\n",
    "female_names = [name for name, _ in data['Naiset kaikki'].values]\n",
    "print(f\"There are {len(female_names)} female names\")\n",
    "full_list_names = male_names + female_names\n",
    "\n",
    "print(len(full_list_names))\n",
    "\n",
    "#for names, _ in data['Miehet kaikki'].values:\n",
    "#   full_list_names.append(names)\n"
   ]
  },
  {
   "cell_type": "markdown",
   "metadata": {},
   "source": [
    "Lets check some of the sample"
   ]
  },
  {
   "cell_type": "code",
   "execution_count": 54,
   "metadata": {},
   "outputs": [
    {
     "name": "stdout",
     "output_type": "stream",
     "text": [
      "Male names:\n",
      "Tibor\n",
      "Naman\n",
      "Tapio\n",
      "William\n",
      "Wen\n",
      "Iikanpoika\n",
      "Najeeb\n",
      "Nsimba\n",
      "Bengt\n",
      "Joda\n",
      "Female names:\n",
      "Geeta\n",
      "Sarang\n",
      "Eeva-Reetta\n",
      "Koskinen\n",
      "Fredriikka\n",
      "Kristi\n",
      "Märtta\n",
      "Jasmiine\n",
      "Caren\n",
      "Maite\n"
     ]
    }
   ],
   "source": [
    "import random\n",
    "\n",
    "male_indeces = random.sample(range(0, len(male_names)-1), 10)\n",
    "female_indeces = random.sample(range(0, len(female_names)-1), 10)\n",
    "\n",
    "print('Male names:')\n",
    "for i in male_indeces:\n",
    "    print(male_names[i])\n",
    "\n",
    "print('Female names:')\n",
    "for i in female_indeces:\n",
    "    print(female_names[i])\n",
    "\n"
   ]
  },
  {
   "cell_type": "code",
   "execution_count": 55,
   "metadata": {},
   "outputs": [
    {
     "data": {
      "text/plain": [
       "['Wali',\n",
       " 'Wanida',\n",
       " 'Waseem',\n",
       " 'Wassana',\n",
       " 'Wenni',\n",
       " 'Werona',\n",
       " 'Whitney',\n",
       " 'Wiam',\n",
       " 'Widad',\n",
       " 'Wilhelm',\n",
       " 'William',\n",
       " 'Wirginia',\n",
       " 'Xanaan',\n",
       " 'Xian',\n",
       " 'Ximena',\n",
       " 'Xiomara',\n",
       " 'Xuân',\n",
       " 'Yahia',\n",
       " 'Yamila',\n",
       " 'Yar',\n",
       " 'Yasser',\n",
       " 'Yazmin',\n",
       " 'Yazmine',\n",
       " 'Yenni',\n",
       " 'Yeshi',\n",
       " 'Yoana',\n",
       " 'Yoko',\n",
       " 'Yonis',\n",
       " 'Yousuf',\n",
       " 'Ysabel',\n",
       " 'Yuri',\n",
       " 'Ywonne',\n",
       " 'Z.',\n",
       " 'Zakaria',\n",
       " 'Zamira',\n",
       " 'Zar',\n",
       " 'Zari',\n",
       " 'Zeena',\n",
       " 'Zelealem',\n",
       " 'Zelia',\n",
       " 'Zelina',\n",
       " 'Zine',\n",
       " 'Zinita',\n",
       " 'Zion',\n",
       " 'Ziyad',\n",
       " 'Zozan',\n",
       " 'Zubaida',\n",
       " 'Zuhra',\n",
       " 'Zuhur',\n",
       " 'Äänis']"
      ]
     },
     "execution_count": 55,
     "metadata": {},
     "output_type": "execute_result"
    }
   ],
   "source": [
    "full_list_names[-50:]"
   ]
  },
  {
   "cell_type": "code",
   "execution_count": 56,
   "metadata": {},
   "outputs": [
    {
     "data": {
      "text/plain": [
       "1"
      ]
     },
     "execution_count": 56,
     "metadata": {},
     "output_type": "execute_result"
    }
   ],
   "source": [
    "min(len(name) for name in full_list_names)"
   ]
  },
  {
   "cell_type": "code",
   "execution_count": 57,
   "metadata": {},
   "outputs": [
    {
     "name": "stdout",
     "output_type": "stream",
     "text": [
      "M\n",
      "A\n",
      "J\n",
      "R\n",
      "S\n",
      "Y\n",
      "C\n",
      "H\n",
      "K\n",
      "P\n",
      "D\n",
      "A\n",
      "Y\n",
      "H\n",
      "M\n",
      "S\n",
      "J\n",
      "F\n",
      "R\n",
      "C\n"
     ]
    }
   ],
   "source": [
    "for name in full_list_names:\n",
    "     if len(name) == 1:\n",
    "        print(name)"
   ]
  },
  {
   "cell_type": "markdown",
   "metadata": {},
   "source": [
    "I will get rid of entries with 1 letter only..."
   ]
  },
  {
   "cell_type": "code",
   "execution_count": 58,
   "metadata": {},
   "outputs": [
    {
     "name": "stdout",
     "output_type": "stream",
     "text": [
      "Before popping the list was 22883\n",
      "After popping the list is 22863\n"
     ]
    }
   ],
   "source": [
    "print(f\"Before popping the list was {len(full_list_names)}\")\n",
    "for i, name in enumerate(full_list_names):\n",
    "     if len(name) == 1:\n",
    "        full_list_names.pop(i)\n",
    "print(f\"After popping the list is {len(full_list_names)}\")\n"
   ]
  },
  {
   "cell_type": "code",
   "execution_count": 59,
   "metadata": {},
   "outputs": [
    {
     "data": {
      "text/plain": [
       "16"
      ]
     },
     "execution_count": 59,
     "metadata": {},
     "output_type": "execute_result"
    }
   ],
   "source": [
    "max(len(name) for name in full_list_names)"
   ]
  },
  {
   "cell_type": "markdown",
   "metadata": {},
   "source": [
    "# Bigram"
   ]
  },
  {
   "cell_type": "code",
   "execution_count": 61,
   "metadata": {},
   "outputs": [
    {
     "name": "stdout",
     "output_type": "stream",
     "text": [
      "<S> J\n",
      "J u\n",
      "u h\n",
      "h a\n",
      "a n\n",
      "n i\n",
      "i <E>\n",
      "<S> O\n",
      "O l\n",
      "l a\n",
      "a v\n",
      "v i\n",
      "i <E>\n",
      "<S> A\n",
      "A n\n",
      "n t\n",
      "t e\n",
      "e r\n",
      "r o\n",
      "o <E>\n",
      "<S> T\n",
      "T a\n",
      "a p\n",
      "p a\n",
      "a n\n",
      "n i\n",
      "i <E>\n",
      "<S> J\n",
      "J o\n",
      "o h\n",
      "h a\n",
      "a n\n",
      "n n\n",
      "n e\n",
      "e s\n",
      "s <E>\n"
     ]
    }
   ],
   "source": [
    "from collections import Counter\n",
    "\n",
    "biagram_counter = Counter()\n",
    "\n",
    "for w in full_list_names[:5]:\n",
    "    chs = ['<S>'] + list(w) + ['<E>']\n",
    "    for ch1, ch2, in zip(chs, chs[1:]):\n",
    "        biagram = (ch1, ch2)\n",
    "        biagram_counter[biagram] += 1"
   ]
  }
 ],
 "metadata": {
  "kernelspec": {
   "display_name": "Python 3.9.7 ('base')",
   "language": "python",
   "name": "python3"
  },
  "language_info": {
   "codemirror_mode": {
    "name": "ipython",
    "version": 3
   },
   "file_extension": ".py",
   "mimetype": "text/x-python",
   "name": "python",
   "nbconvert_exporter": "python",
   "pygments_lexer": "ipython3",
   "version": "3.9.7"
  },
  "orig_nbformat": 4,
  "vscode": {
   "interpreter": {
    "hash": "0bd3759d1d8aa52da212024e62c534f3eafdba18a88d1945e55a82ebd3bdefdc"
   }
  }
 },
 "nbformat": 4,
 "nbformat_minor": 2
}
