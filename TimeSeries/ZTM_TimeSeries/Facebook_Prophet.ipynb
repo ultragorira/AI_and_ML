{
 "cells": [
  {
   "cell_type": "code",
   "execution_count": 1,
   "metadata": {},
   "outputs": [],
   "source": [
    "import pandas as pd\n",
    "import numpy as np\n",
    "import matplotlib.pyplot as plt"
   ]
  },
  {
   "cell_type": "code",
   "execution_count": 39,
   "metadata": {},
   "outputs": [
    {
     "data": {
      "text/html": [
       "<div>\n",
       "<style scoped>\n",
       "    .dataframe tbody tr th:only-of-type {\n",
       "        vertical-align: middle;\n",
       "    }\n",
       "\n",
       "    .dataframe tbody tr th {\n",
       "        vertical-align: top;\n",
       "    }\n",
       "\n",
       "    .dataframe thead th {\n",
       "        text-align: right;\n",
       "    }\n",
       "</style>\n",
       "<table border=\"1\" class=\"dataframe\">\n",
       "  <thead>\n",
       "    <tr style=\"text-align: right;\">\n",
       "      <th></th>\n",
       "      <th>ds</th>\n",
       "      <th>y</th>\n",
       "      <th>Easter</th>\n",
       "      <th>Thanksgiving</th>\n",
       "      <th>Christmas</th>\n",
       "      <th>Temperature</th>\n",
       "      <th>Marketing</th>\n",
       "    </tr>\n",
       "  </thead>\n",
       "  <tbody>\n",
       "    <tr>\n",
       "      <th>0</th>\n",
       "      <td>1/1/2015</td>\n",
       "      <td>720.000885</td>\n",
       "      <td>0</td>\n",
       "      <td>0</td>\n",
       "      <td>0</td>\n",
       "      <td>3.68</td>\n",
       "      <td>41.305</td>\n",
       "    </tr>\n",
       "    <tr>\n",
       "      <th>1</th>\n",
       "      <td>1/2/2015</td>\n",
       "      <td>581.276773</td>\n",
       "      <td>0</td>\n",
       "      <td>0</td>\n",
       "      <td>0</td>\n",
       "      <td>4.73</td>\n",
       "      <td>131.574</td>\n",
       "    </tr>\n",
       "    <tr>\n",
       "      <th>2</th>\n",
       "      <td>1/3/2015</td>\n",
       "      <td>754.117039</td>\n",
       "      <td>0</td>\n",
       "      <td>0</td>\n",
       "      <td>0</td>\n",
       "      <td>7.23</td>\n",
       "      <td>162.700</td>\n",
       "    </tr>\n",
       "    <tr>\n",
       "      <th>3</th>\n",
       "      <td>1/4/2015</td>\n",
       "      <td>622.252774</td>\n",
       "      <td>0</td>\n",
       "      <td>0</td>\n",
       "      <td>0</td>\n",
       "      <td>10.96</td>\n",
       "      <td>160.281</td>\n",
       "    </tr>\n",
       "    <tr>\n",
       "      <th>4</th>\n",
       "      <td>1/5/2015</td>\n",
       "      <td>785.373319</td>\n",
       "      <td>0</td>\n",
       "      <td>0</td>\n",
       "      <td>0</td>\n",
       "      <td>6.92</td>\n",
       "      <td>51.077</td>\n",
       "    </tr>\n",
       "  </tbody>\n",
       "</table>\n",
       "</div>"
      ],
      "text/plain": [
       "         ds           y  Easter  Thanksgiving  Christmas  Temperature  \\\n",
       "0  1/1/2015  720.000885       0             0          0         3.68   \n",
       "1  1/2/2015  581.276773       0             0          0         4.73   \n",
       "2  1/3/2015  754.117039       0             0          0         7.23   \n",
       "3  1/4/2015  622.252774       0             0          0        10.96   \n",
       "4  1/5/2015  785.373319       0             0          0         6.92   \n",
       "\n",
       "   Marketing  \n",
       "0     41.305  \n",
       "1    131.574  \n",
       "2    162.700  \n",
       "3    160.281  \n",
       "4     51.077  "
      ]
     },
     "execution_count": 39,
     "metadata": {},
     "output_type": "execute_result"
    }
   ],
   "source": [
    "df = pd.read_csv(\"nyc_data.csv\")\n",
    "df = df.rename(columns={\"Demand\" : \"y\",\n",
    "                        \"Date\" : \"ds\"})\n",
    "df.head(5)"
   ]
  },
  {
   "cell_type": "code",
   "execution_count": 40,
   "metadata": {},
   "outputs": [
    {
     "data": {
      "text/plain": [
       "0   2015-01-01\n",
       "1   2015-01-02\n",
       "2   2015-01-03\n",
       "3   2015-01-04\n",
       "4   2015-01-05\n",
       "Name: ds, dtype: datetime64[ns]"
      ]
     },
     "execution_count": 40,
     "metadata": {},
     "output_type": "execute_result"
    }
   ],
   "source": [
    "# Date variable\n",
    "\n",
    "df.ds = pd.to_datetime(df.ds, format='%m/%d/%Y')\n",
    "df.ds.head()"
   ]
  },
  {
   "cell_type": "code",
   "execution_count": 41,
   "metadata": {},
   "outputs": [
    {
     "data": {
      "text/html": [
       "<div>\n",
       "<style scoped>\n",
       "    .dataframe tbody tr th:only-of-type {\n",
       "        vertical-align: middle;\n",
       "    }\n",
       "\n",
       "    .dataframe tbody tr th {\n",
       "        vertical-align: top;\n",
       "    }\n",
       "\n",
       "    .dataframe thead th {\n",
       "        text-align: right;\n",
       "    }\n",
       "</style>\n",
       "<table border=\"1\" class=\"dataframe\">\n",
       "  <thead>\n",
       "    <tr style=\"text-align: right;\">\n",
       "      <th></th>\n",
       "      <th>holiday</th>\n",
       "      <th>ds</th>\n",
       "      <th>lower_window</th>\n",
       "      <th>upper_window</th>\n",
       "    </tr>\n",
       "  </thead>\n",
       "  <tbody>\n",
       "    <tr>\n",
       "      <th>94</th>\n",
       "      <td>easter</td>\n",
       "      <td>2015-04-05</td>\n",
       "      <td>-5</td>\n",
       "      <td>2</td>\n",
       "    </tr>\n",
       "    <tr>\n",
       "      <th>451</th>\n",
       "      <td>easter</td>\n",
       "      <td>2016-03-27</td>\n",
       "      <td>-5</td>\n",
       "      <td>2</td>\n",
       "    </tr>\n",
       "    <tr>\n",
       "      <th>836</th>\n",
       "      <td>easter</td>\n",
       "      <td>2017-04-16</td>\n",
       "      <td>-5</td>\n",
       "      <td>2</td>\n",
       "    </tr>\n",
       "    <tr>\n",
       "      <th>1186</th>\n",
       "      <td>easter</td>\n",
       "      <td>2018-04-01</td>\n",
       "      <td>-5</td>\n",
       "      <td>2</td>\n",
       "    </tr>\n",
       "    <tr>\n",
       "      <th>1571</th>\n",
       "      <td>easter</td>\n",
       "      <td>2019-04-21</td>\n",
       "      <td>-5</td>\n",
       "      <td>2</td>\n",
       "    </tr>\n",
       "    <tr>\n",
       "      <th>1928</th>\n",
       "      <td>easter</td>\n",
       "      <td>2020-04-12</td>\n",
       "      <td>-5</td>\n",
       "      <td>2</td>\n",
       "    </tr>\n",
       "  </tbody>\n",
       "</table>\n",
       "</div>"
      ],
      "text/plain": [
       "     holiday         ds  lower_window  upper_window\n",
       "94    easter 2015-04-05            -5             2\n",
       "451   easter 2016-03-27            -5             2\n",
       "836   easter 2017-04-16            -5             2\n",
       "1186  easter 2018-04-01            -5             2\n",
       "1571  easter 2019-04-21            -5             2\n",
       "1928  easter 2020-04-12            -5             2"
      ]
     },
     "execution_count": 41,
     "metadata": {},
     "output_type": "execute_result"
    }
   ],
   "source": [
    "# Holidays\n",
    "# Easter\n",
    "\n",
    "dates = pd.to_datetime(df[df.Easter == 1].ds)\n",
    "easter = pd.DataFrame({\"holiday\": \"easter\",\n",
    "                       \"ds\" : dates,\n",
    "                       \"lower_window\" : -5,\n",
    "                       \"upper_window\" : 2})\n",
    "easter"
   ]
  },
  {
   "cell_type": "code",
   "execution_count": 42,
   "metadata": {},
   "outputs": [
    {
     "data": {
      "text/html": [
       "<div>\n",
       "<style scoped>\n",
       "    .dataframe tbody tr th:only-of-type {\n",
       "        vertical-align: middle;\n",
       "    }\n",
       "\n",
       "    .dataframe tbody tr th {\n",
       "        vertical-align: top;\n",
       "    }\n",
       "\n",
       "    .dataframe thead th {\n",
       "        text-align: right;\n",
       "    }\n",
       "</style>\n",
       "<table border=\"1\" class=\"dataframe\">\n",
       "  <thead>\n",
       "    <tr style=\"text-align: right;\">\n",
       "      <th></th>\n",
       "      <th>holiday</th>\n",
       "      <th>ds</th>\n",
       "      <th>lower_window</th>\n",
       "      <th>upper_window</th>\n",
       "    </tr>\n",
       "  </thead>\n",
       "  <tbody>\n",
       "    <tr>\n",
       "      <th>329</th>\n",
       "      <td>thanksgiving</td>\n",
       "      <td>2015-11-26</td>\n",
       "      <td>-3</td>\n",
       "      <td>5</td>\n",
       "    </tr>\n",
       "    <tr>\n",
       "      <th>693</th>\n",
       "      <td>thanksgiving</td>\n",
       "      <td>2016-11-24</td>\n",
       "      <td>-3</td>\n",
       "      <td>5</td>\n",
       "    </tr>\n",
       "    <tr>\n",
       "      <th>1057</th>\n",
       "      <td>thanksgiving</td>\n",
       "      <td>2017-11-23</td>\n",
       "      <td>-3</td>\n",
       "      <td>5</td>\n",
       "    </tr>\n",
       "    <tr>\n",
       "      <th>1421</th>\n",
       "      <td>thanksgiving</td>\n",
       "      <td>2018-11-22</td>\n",
       "      <td>-3</td>\n",
       "      <td>5</td>\n",
       "    </tr>\n",
       "    <tr>\n",
       "      <th>1792</th>\n",
       "      <td>thanksgiving</td>\n",
       "      <td>2019-11-28</td>\n",
       "      <td>-3</td>\n",
       "      <td>5</td>\n",
       "    </tr>\n",
       "    <tr>\n",
       "      <th>2156</th>\n",
       "      <td>thanksgiving</td>\n",
       "      <td>2020-11-26</td>\n",
       "      <td>-3</td>\n",
       "      <td>5</td>\n",
       "    </tr>\n",
       "  </tbody>\n",
       "</table>\n",
       "</div>"
      ],
      "text/plain": [
       "           holiday         ds  lower_window  upper_window\n",
       "329   thanksgiving 2015-11-26            -3             5\n",
       "693   thanksgiving 2016-11-24            -3             5\n",
       "1057  thanksgiving 2017-11-23            -3             5\n",
       "1421  thanksgiving 2018-11-22            -3             5\n",
       "1792  thanksgiving 2019-11-28            -3             5\n",
       "2156  thanksgiving 2020-11-26            -3             5"
      ]
     },
     "execution_count": 42,
     "metadata": {},
     "output_type": "execute_result"
    }
   ],
   "source": [
    "# Thanksgiving\n",
    "dates = pd.to_datetime(df[df.Thanksgiving == 1].ds)\n",
    "thanksgiving = pd.DataFrame({\"holiday\": \"thanksgiving\",\n",
    "                       \"ds\" : dates,\n",
    "                       \"lower_window\" : -3,\n",
    "                       \"upper_window\" : 5})\n",
    "thanksgiving"
   ]
  },
  {
   "cell_type": "code",
   "execution_count": 43,
   "metadata": {},
   "outputs": [
    {
     "data": {
      "text/html": [
       "<div>\n",
       "<style scoped>\n",
       "    .dataframe tbody tr th:only-of-type {\n",
       "        vertical-align: middle;\n",
       "    }\n",
       "\n",
       "    .dataframe tbody tr th {\n",
       "        vertical-align: top;\n",
       "    }\n",
       "\n",
       "    .dataframe thead th {\n",
       "        text-align: right;\n",
       "    }\n",
       "</style>\n",
       "<table border=\"1\" class=\"dataframe\">\n",
       "  <thead>\n",
       "    <tr style=\"text-align: right;\">\n",
       "      <th></th>\n",
       "      <th>holiday</th>\n",
       "      <th>ds</th>\n",
       "      <th>lower_window</th>\n",
       "      <th>upper_window</th>\n",
       "    </tr>\n",
       "  </thead>\n",
       "  <tbody>\n",
       "    <tr>\n",
       "      <th>94</th>\n",
       "      <td>easter</td>\n",
       "      <td>2015-04-05</td>\n",
       "      <td>-5</td>\n",
       "      <td>2</td>\n",
       "    </tr>\n",
       "    <tr>\n",
       "      <th>451</th>\n",
       "      <td>easter</td>\n",
       "      <td>2016-03-27</td>\n",
       "      <td>-5</td>\n",
       "      <td>2</td>\n",
       "    </tr>\n",
       "    <tr>\n",
       "      <th>836</th>\n",
       "      <td>easter</td>\n",
       "      <td>2017-04-16</td>\n",
       "      <td>-5</td>\n",
       "      <td>2</td>\n",
       "    </tr>\n",
       "    <tr>\n",
       "      <th>1186</th>\n",
       "      <td>easter</td>\n",
       "      <td>2018-04-01</td>\n",
       "      <td>-5</td>\n",
       "      <td>2</td>\n",
       "    </tr>\n",
       "    <tr>\n",
       "      <th>1571</th>\n",
       "      <td>easter</td>\n",
       "      <td>2019-04-21</td>\n",
       "      <td>-5</td>\n",
       "      <td>2</td>\n",
       "    </tr>\n",
       "    <tr>\n",
       "      <th>1928</th>\n",
       "      <td>easter</td>\n",
       "      <td>2020-04-12</td>\n",
       "      <td>-5</td>\n",
       "      <td>2</td>\n",
       "    </tr>\n",
       "    <tr>\n",
       "      <th>329</th>\n",
       "      <td>thanksgiving</td>\n",
       "      <td>2015-11-26</td>\n",
       "      <td>-3</td>\n",
       "      <td>5</td>\n",
       "    </tr>\n",
       "    <tr>\n",
       "      <th>693</th>\n",
       "      <td>thanksgiving</td>\n",
       "      <td>2016-11-24</td>\n",
       "      <td>-3</td>\n",
       "      <td>5</td>\n",
       "    </tr>\n",
       "    <tr>\n",
       "      <th>1057</th>\n",
       "      <td>thanksgiving</td>\n",
       "      <td>2017-11-23</td>\n",
       "      <td>-3</td>\n",
       "      <td>5</td>\n",
       "    </tr>\n",
       "    <tr>\n",
       "      <th>1421</th>\n",
       "      <td>thanksgiving</td>\n",
       "      <td>2018-11-22</td>\n",
       "      <td>-3</td>\n",
       "      <td>5</td>\n",
       "    </tr>\n",
       "    <tr>\n",
       "      <th>1792</th>\n",
       "      <td>thanksgiving</td>\n",
       "      <td>2019-11-28</td>\n",
       "      <td>-3</td>\n",
       "      <td>5</td>\n",
       "    </tr>\n",
       "    <tr>\n",
       "      <th>2156</th>\n",
       "      <td>thanksgiving</td>\n",
       "      <td>2020-11-26</td>\n",
       "      <td>-3</td>\n",
       "      <td>5</td>\n",
       "    </tr>\n",
       "  </tbody>\n",
       "</table>\n",
       "</div>"
      ],
      "text/plain": [
       "           holiday         ds  lower_window  upper_window\n",
       "94          easter 2015-04-05            -5             2\n",
       "451         easter 2016-03-27            -5             2\n",
       "836         easter 2017-04-16            -5             2\n",
       "1186        easter 2018-04-01            -5             2\n",
       "1571        easter 2019-04-21            -5             2\n",
       "1928        easter 2020-04-12            -5             2\n",
       "329   thanksgiving 2015-11-26            -3             5\n",
       "693   thanksgiving 2016-11-24            -3             5\n",
       "1057  thanksgiving 2017-11-23            -3             5\n",
       "1421  thanksgiving 2018-11-22            -3             5\n",
       "1792  thanksgiving 2019-11-28            -3             5\n",
       "2156  thanksgiving 2020-11-26            -3             5"
      ]
     },
     "execution_count": 43,
     "metadata": {},
     "output_type": "execute_result"
    }
   ],
   "source": [
    "holidays = pd.concat([easter, thanksgiving])\n",
    "holidays"
   ]
  },
  {
   "cell_type": "code",
   "execution_count": 7,
   "metadata": {},
   "outputs": [],
   "source": [
    "df = df.drop(columns=[\"Easter\", \"Thanksgiving\"])"
   ]
  },
  {
   "attachments": {},
   "cell_type": "markdown",
   "metadata": {},
   "source": [
    "# PROPHET MODEL"
   ]
  },
  {
   "cell_type": "code",
   "execution_count": 44,
   "metadata": {},
   "outputs": [],
   "source": [
    "from prophet import Prophet"
   ]
  },
  {
   "cell_type": "code",
   "execution_count": 9,
   "metadata": {},
   "outputs": [
    {
     "name": "stderr",
     "output_type": "stream",
     "text": [
      "20:50:49 - cmdstanpy - INFO - Chain [1] start processing\n",
      "20:50:51 - cmdstanpy - INFO - Chain [1] done processing\n"
     ]
    },
    {
     "data": {
      "text/plain": [
       "<prophet.forecaster.Prophet at 0x2dfd05dbc70>"
      ]
     },
     "execution_count": 9,
     "metadata": {},
     "output_type": "execute_result"
    }
   ],
   "source": [
    "model = Prophet(holidays=holidays,\n",
    "                seasonality_mode = \"multiplicative\",\n",
    "                seasonality_prior_scale = 10,\n",
    "                holidays_prior_scale = 10,\n",
    "                changepoint_prior_scale = 0.5)\n",
    "\n",
    "model.add_regressor(\"Christmas\")\n",
    "model.add_regressor(\"Temperature\")\n",
    "model.add_regressor(\"Marketing\")\n",
    "\n",
    "model.fit(df)\n"
   ]
  },
  {
   "attachments": {},
   "cell_type": "markdown",
   "metadata": {},
   "source": [
    "## Cross-validation"
   ]
  },
  {
   "cell_type": "code",
   "execution_count": 4,
   "metadata": {},
   "outputs": [],
   "source": [
    "from prophet.diagnostics import cross_validation"
   ]
  },
  {
   "cell_type": "code",
   "execution_count": 11,
   "metadata": {},
   "outputs": [
    {
     "data": {
      "text/html": [
       "<div>\n",
       "<style scoped>\n",
       "    .dataframe tbody tr th:only-of-type {\n",
       "        vertical-align: middle;\n",
       "    }\n",
       "\n",
       "    .dataframe tbody tr th {\n",
       "        vertical-align: top;\n",
       "    }\n",
       "\n",
       "    .dataframe thead th {\n",
       "        text-align: right;\n",
       "    }\n",
       "</style>\n",
       "<table border=\"1\" class=\"dataframe\">\n",
       "  <thead>\n",
       "    <tr style=\"text-align: right;\">\n",
       "      <th></th>\n",
       "      <th>ds</th>\n",
       "      <th>yhat</th>\n",
       "      <th>yhat_lower</th>\n",
       "      <th>yhat_upper</th>\n",
       "      <th>y</th>\n",
       "      <th>cutoff</th>\n",
       "    </tr>\n",
       "  </thead>\n",
       "  <tbody>\n",
       "    <tr>\n",
       "      <th>0</th>\n",
       "      <td>2020-07-10</td>\n",
       "      <td>616.919246</td>\n",
       "      <td>554.918953</td>\n",
       "      <td>677.813727</td>\n",
       "      <td>571.069531</td>\n",
       "      <td>2020-07-09</td>\n",
       "    </tr>\n",
       "    <tr>\n",
       "      <th>1</th>\n",
       "      <td>2020-07-11</td>\n",
       "      <td>735.492966</td>\n",
       "      <td>667.578097</td>\n",
       "      <td>797.887893</td>\n",
       "      <td>677.106981</td>\n",
       "      <td>2020-07-09</td>\n",
       "    </tr>\n",
       "    <tr>\n",
       "      <th>2</th>\n",
       "      <td>2020-07-12</td>\n",
       "      <td>649.586229</td>\n",
       "      <td>583.303556</td>\n",
       "      <td>709.537414</td>\n",
       "      <td>619.572774</td>\n",
       "      <td>2020-07-09</td>\n",
       "    </tr>\n",
       "    <tr>\n",
       "      <th>3</th>\n",
       "      <td>2020-07-13</td>\n",
       "      <td>784.349204</td>\n",
       "      <td>724.175807</td>\n",
       "      <td>848.637742</td>\n",
       "      <td>808.932621</td>\n",
       "      <td>2020-07-09</td>\n",
       "    </tr>\n",
       "    <tr>\n",
       "      <th>4</th>\n",
       "      <td>2020-07-14</td>\n",
       "      <td>649.748544</td>\n",
       "      <td>582.344867</td>\n",
       "      <td>705.218277</td>\n",
       "      <td>661.791644</td>\n",
       "      <td>2020-07-09</td>\n",
       "    </tr>\n",
       "  </tbody>\n",
       "</table>\n",
       "</div>"
      ],
      "text/plain": [
       "          ds        yhat  yhat_lower  yhat_upper           y     cutoff\n",
       "0 2020-07-10  616.919246  554.918953  677.813727  571.069531 2020-07-09\n",
       "1 2020-07-11  735.492966  667.578097  797.887893  677.106981 2020-07-09\n",
       "2 2020-07-12  649.586229  583.303556  709.537414  619.572774 2020-07-09\n",
       "3 2020-07-13  784.349204  724.175807  848.637742  808.932621 2020-07-09\n",
       "4 2020-07-14  649.748544  582.344867  705.218277  661.791644 2020-07-09"
      ]
     },
     "execution_count": 11,
     "metadata": {},
     "output_type": "execute_result"
    }
   ],
   "source": [
    "df_cv = cross_validation(model,\n",
    "                         horizon = \"31 days\",\n",
    "                         period = \"16 days\",\n",
    "                         initial = \"2012 days\", #df.shape[0] - 180 (6 months)\n",
    "                         parallel = \"processes\")\n",
    "\n",
    "df_cv.head()"
   ]
  },
  {
   "cell_type": "code",
   "execution_count": 5,
   "metadata": {},
   "outputs": [],
   "source": [
    "from prophet.diagnostics import performance_metrics\n",
    "from prophet.plot import plot_cross_validation_metric"
   ]
  },
  {
   "cell_type": "code",
   "execution_count": 13,
   "metadata": {},
   "outputs": [
    {
     "data": {
      "text/html": [
       "<div>\n",
       "<style scoped>\n",
       "    .dataframe tbody tr th:only-of-type {\n",
       "        vertical-align: middle;\n",
       "    }\n",
       "\n",
       "    .dataframe tbody tr th {\n",
       "        vertical-align: top;\n",
       "    }\n",
       "\n",
       "    .dataframe thead th {\n",
       "        text-align: right;\n",
       "    }\n",
       "</style>\n",
       "<table border=\"1\" class=\"dataframe\">\n",
       "  <thead>\n",
       "    <tr style=\"text-align: right;\">\n",
       "      <th></th>\n",
       "      <th>horizon</th>\n",
       "      <th>mse</th>\n",
       "      <th>rmse</th>\n",
       "      <th>mae</th>\n",
       "      <th>mape</th>\n",
       "      <th>mdape</th>\n",
       "      <th>smape</th>\n",
       "      <th>coverage</th>\n",
       "    </tr>\n",
       "  </thead>\n",
       "  <tbody>\n",
       "    <tr>\n",
       "      <th>0</th>\n",
       "      <td>4 days</td>\n",
       "      <td>2771.214494</td>\n",
       "      <td>52.642326</td>\n",
       "      <td>45.045724</td>\n",
       "      <td>0.063733</td>\n",
       "      <td>0.048442</td>\n",
       "      <td>0.062860</td>\n",
       "      <td>0.832258</td>\n",
       "    </tr>\n",
       "    <tr>\n",
       "      <th>1</th>\n",
       "      <td>5 days</td>\n",
       "      <td>3061.927352</td>\n",
       "      <td>55.334685</td>\n",
       "      <td>47.083367</td>\n",
       "      <td>0.067434</td>\n",
       "      <td>0.059769</td>\n",
       "      <td>0.066019</td>\n",
       "      <td>0.741935</td>\n",
       "    </tr>\n",
       "    <tr>\n",
       "      <th>2</th>\n",
       "      <td>6 days</td>\n",
       "      <td>3328.783735</td>\n",
       "      <td>57.695613</td>\n",
       "      <td>50.292930</td>\n",
       "      <td>0.070984</td>\n",
       "      <td>0.068063</td>\n",
       "      <td>0.070094</td>\n",
       "      <td>0.700000</td>\n",
       "    </tr>\n",
       "    <tr>\n",
       "      <th>3</th>\n",
       "      <td>7 days</td>\n",
       "      <td>2723.982743</td>\n",
       "      <td>52.191788</td>\n",
       "      <td>44.108951</td>\n",
       "      <td>0.063278</td>\n",
       "      <td>0.057707</td>\n",
       "      <td>0.062226</td>\n",
       "      <td>0.767742</td>\n",
       "    </tr>\n",
       "    <tr>\n",
       "      <th>4</th>\n",
       "      <td>8 days</td>\n",
       "      <td>2221.065426</td>\n",
       "      <td>47.128181</td>\n",
       "      <td>38.408562</td>\n",
       "      <td>0.053932</td>\n",
       "      <td>0.033162</td>\n",
       "      <td>0.053690</td>\n",
       "      <td>0.796774</td>\n",
       "    </tr>\n",
       "    <tr>\n",
       "      <th>5</th>\n",
       "      <td>9 days</td>\n",
       "      <td>1186.296029</td>\n",
       "      <td>34.442648</td>\n",
       "      <td>28.740584</td>\n",
       "      <td>0.039412</td>\n",
       "      <td>0.033126</td>\n",
       "      <td>0.039631</td>\n",
       "      <td>0.922581</td>\n",
       "    </tr>\n",
       "    <tr>\n",
       "      <th>6</th>\n",
       "      <td>10 days</td>\n",
       "      <td>1281.310627</td>\n",
       "      <td>35.795400</td>\n",
       "      <td>29.325195</td>\n",
       "      <td>0.040695</td>\n",
       "      <td>0.032196</td>\n",
       "      <td>0.040806</td>\n",
       "      <td>0.903226</td>\n",
       "    </tr>\n",
       "    <tr>\n",
       "      <th>7</th>\n",
       "      <td>11 days</td>\n",
       "      <td>1290.961479</td>\n",
       "      <td>35.929952</td>\n",
       "      <td>30.112829</td>\n",
       "      <td>0.042741</td>\n",
       "      <td>0.035380</td>\n",
       "      <td>0.042552</td>\n",
       "      <td>0.929032</td>\n",
       "    </tr>\n",
       "    <tr>\n",
       "      <th>8</th>\n",
       "      <td>12 days</td>\n",
       "      <td>2178.385467</td>\n",
       "      <td>46.673177</td>\n",
       "      <td>38.356448</td>\n",
       "      <td>0.055214</td>\n",
       "      <td>0.040870</td>\n",
       "      <td>0.054661</td>\n",
       "      <td>0.741935</td>\n",
       "    </tr>\n",
       "    <tr>\n",
       "      <th>9</th>\n",
       "      <td>13 days</td>\n",
       "      <td>2557.093747</td>\n",
       "      <td>50.567714</td>\n",
       "      <td>43.127159</td>\n",
       "      <td>0.061859</td>\n",
       "      <td>0.058046</td>\n",
       "      <td>0.061426</td>\n",
       "      <td>0.674194</td>\n",
       "    </tr>\n",
       "    <tr>\n",
       "      <th>10</th>\n",
       "      <td>14 days</td>\n",
       "      <td>3007.901966</td>\n",
       "      <td>54.844343</td>\n",
       "      <td>47.264319</td>\n",
       "      <td>0.067597</td>\n",
       "      <td>0.055969</td>\n",
       "      <td>0.066860</td>\n",
       "      <td>0.674194</td>\n",
       "    </tr>\n",
       "    <tr>\n",
       "      <th>11</th>\n",
       "      <td>15 days</td>\n",
       "      <td>2444.295084</td>\n",
       "      <td>49.439813</td>\n",
       "      <td>42.209962</td>\n",
       "      <td>0.059994</td>\n",
       "      <td>0.049359</td>\n",
       "      <td>0.059396</td>\n",
       "      <td>0.787097</td>\n",
       "    </tr>\n",
       "    <tr>\n",
       "      <th>12</th>\n",
       "      <td>16 days</td>\n",
       "      <td>2429.886643</td>\n",
       "      <td>49.293880</td>\n",
       "      <td>40.295234</td>\n",
       "      <td>0.055361</td>\n",
       "      <td>0.049359</td>\n",
       "      <td>0.054729</td>\n",
       "      <td>0.829032</td>\n",
       "    </tr>\n",
       "    <tr>\n",
       "      <th>13</th>\n",
       "      <td>17 days</td>\n",
       "      <td>2828.905136</td>\n",
       "      <td>53.187453</td>\n",
       "      <td>41.621953</td>\n",
       "      <td>0.056012</td>\n",
       "      <td>0.045360</td>\n",
       "      <td>0.055991</td>\n",
       "      <td>0.770968</td>\n",
       "    </tr>\n",
       "    <tr>\n",
       "      <th>14</th>\n",
       "      <td>18 days</td>\n",
       "      <td>2719.507899</td>\n",
       "      <td>52.148901</td>\n",
       "      <td>41.595741</td>\n",
       "      <td>0.056408</td>\n",
       "      <td>0.048454</td>\n",
       "      <td>0.056318</td>\n",
       "      <td>0.800000</td>\n",
       "    </tr>\n",
       "    <tr>\n",
       "      <th>15</th>\n",
       "      <td>19 days</td>\n",
       "      <td>3864.210348</td>\n",
       "      <td>62.162773</td>\n",
       "      <td>49.669202</td>\n",
       "      <td>0.069242</td>\n",
       "      <td>0.061192</td>\n",
       "      <td>0.068348</td>\n",
       "      <td>0.735484</td>\n",
       "    </tr>\n",
       "    <tr>\n",
       "      <th>16</th>\n",
       "      <td>20 days</td>\n",
       "      <td>3347.844781</td>\n",
       "      <td>57.860563</td>\n",
       "      <td>47.298953</td>\n",
       "      <td>0.065878</td>\n",
       "      <td>0.051611</td>\n",
       "      <td>0.064895</td>\n",
       "      <td>0.764516</td>\n",
       "    </tr>\n",
       "    <tr>\n",
       "      <th>17</th>\n",
       "      <td>21 days</td>\n",
       "      <td>3969.877277</td>\n",
       "      <td>63.006962</td>\n",
       "      <td>52.611141</td>\n",
       "      <td>0.072951</td>\n",
       "      <td>0.061192</td>\n",
       "      <td>0.071425</td>\n",
       "      <td>0.706452</td>\n",
       "    </tr>\n",
       "    <tr>\n",
       "      <th>18</th>\n",
       "      <td>22 days</td>\n",
       "      <td>3116.905536</td>\n",
       "      <td>55.829253</td>\n",
       "      <td>47.901405</td>\n",
       "      <td>0.066782</td>\n",
       "      <td>0.060391</td>\n",
       "      <td>0.065975</td>\n",
       "      <td>0.696774</td>\n",
       "    </tr>\n",
       "    <tr>\n",
       "      <th>19</th>\n",
       "      <td>23 days</td>\n",
       "      <td>2767.203913</td>\n",
       "      <td>52.604220</td>\n",
       "      <td>44.794619</td>\n",
       "      <td>0.062460</td>\n",
       "      <td>0.053498</td>\n",
       "      <td>0.061627</td>\n",
       "      <td>0.735484</td>\n",
       "    </tr>\n",
       "    <tr>\n",
       "      <th>20</th>\n",
       "      <td>24 days</td>\n",
       "      <td>1952.760665</td>\n",
       "      <td>44.190052</td>\n",
       "      <td>36.497572</td>\n",
       "      <td>0.050358</td>\n",
       "      <td>0.044053</td>\n",
       "      <td>0.050274</td>\n",
       "      <td>0.796774</td>\n",
       "    </tr>\n",
       "    <tr>\n",
       "      <th>21</th>\n",
       "      <td>25 days</td>\n",
       "      <td>1348.212340</td>\n",
       "      <td>36.718011</td>\n",
       "      <td>30.502713</td>\n",
       "      <td>0.041290</td>\n",
       "      <td>0.034082</td>\n",
       "      <td>0.041410</td>\n",
       "      <td>0.922581</td>\n",
       "    </tr>\n",
       "    <tr>\n",
       "      <th>22</th>\n",
       "      <td>26 days</td>\n",
       "      <td>1549.087904</td>\n",
       "      <td>39.358454</td>\n",
       "      <td>31.668584</td>\n",
       "      <td>0.042716</td>\n",
       "      <td>0.039753</td>\n",
       "      <td>0.042864</td>\n",
       "      <td>0.900000</td>\n",
       "    </tr>\n",
       "    <tr>\n",
       "      <th>23</th>\n",
       "      <td>27 days</td>\n",
       "      <td>1678.774783</td>\n",
       "      <td>40.972854</td>\n",
       "      <td>33.553017</td>\n",
       "      <td>0.046641</td>\n",
       "      <td>0.039753</td>\n",
       "      <td>0.046400</td>\n",
       "      <td>0.900000</td>\n",
       "    </tr>\n",
       "    <tr>\n",
       "      <th>24</th>\n",
       "      <td>28 days</td>\n",
       "      <td>3156.626922</td>\n",
       "      <td>56.183867</td>\n",
       "      <td>45.072993</td>\n",
       "      <td>0.061588</td>\n",
       "      <td>0.047290</td>\n",
       "      <td>0.061177</td>\n",
       "      <td>0.741935</td>\n",
       "    </tr>\n",
       "    <tr>\n",
       "      <th>25</th>\n",
       "      <td>29 days</td>\n",
       "      <td>3747.681955</td>\n",
       "      <td>61.218314</td>\n",
       "      <td>51.526625</td>\n",
       "      <td>0.071096</td>\n",
       "      <td>0.065408</td>\n",
       "      <td>0.070822</td>\n",
       "      <td>0.638710</td>\n",
       "    </tr>\n",
       "    <tr>\n",
       "      <th>26</th>\n",
       "      <td>30 days</td>\n",
       "      <td>4059.797764</td>\n",
       "      <td>63.716542</td>\n",
       "      <td>53.603515</td>\n",
       "      <td>0.073598</td>\n",
       "      <td>0.065408</td>\n",
       "      <td>0.073084</td>\n",
       "      <td>0.641935</td>\n",
       "    </tr>\n",
       "    <tr>\n",
       "      <th>27</th>\n",
       "      <td>31 days</td>\n",
       "      <td>3085.830403</td>\n",
       "      <td>55.550251</td>\n",
       "      <td>46.972380</td>\n",
       "      <td>0.065434</td>\n",
       "      <td>0.056955</td>\n",
       "      <td>0.064778</td>\n",
       "      <td>0.725806</td>\n",
       "    </tr>\n",
       "  </tbody>\n",
       "</table>\n",
       "</div>"
      ],
      "text/plain": [
       "   horizon          mse       rmse        mae      mape     mdape     smape  \\\n",
       "0   4 days  2771.214494  52.642326  45.045724  0.063733  0.048442  0.062860   \n",
       "1   5 days  3061.927352  55.334685  47.083367  0.067434  0.059769  0.066019   \n",
       "2   6 days  3328.783735  57.695613  50.292930  0.070984  0.068063  0.070094   \n",
       "3   7 days  2723.982743  52.191788  44.108951  0.063278  0.057707  0.062226   \n",
       "4   8 days  2221.065426  47.128181  38.408562  0.053932  0.033162  0.053690   \n",
       "5   9 days  1186.296029  34.442648  28.740584  0.039412  0.033126  0.039631   \n",
       "6  10 days  1281.310627  35.795400  29.325195  0.040695  0.032196  0.040806   \n",
       "7  11 days  1290.961479  35.929952  30.112829  0.042741  0.035380  0.042552   \n",
       "8  12 days  2178.385467  46.673177  38.356448  0.055214  0.040870  0.054661   \n",
       "9  13 days  2557.093747  50.567714  43.127159  0.061859  0.058046  0.061426   \n",
       "10 14 days  3007.901966  54.844343  47.264319  0.067597  0.055969  0.066860   \n",
       "11 15 days  2444.295084  49.439813  42.209962  0.059994  0.049359  0.059396   \n",
       "12 16 days  2429.886643  49.293880  40.295234  0.055361  0.049359  0.054729   \n",
       "13 17 days  2828.905136  53.187453  41.621953  0.056012  0.045360  0.055991   \n",
       "14 18 days  2719.507899  52.148901  41.595741  0.056408  0.048454  0.056318   \n",
       "15 19 days  3864.210348  62.162773  49.669202  0.069242  0.061192  0.068348   \n",
       "16 20 days  3347.844781  57.860563  47.298953  0.065878  0.051611  0.064895   \n",
       "17 21 days  3969.877277  63.006962  52.611141  0.072951  0.061192  0.071425   \n",
       "18 22 days  3116.905536  55.829253  47.901405  0.066782  0.060391  0.065975   \n",
       "19 23 days  2767.203913  52.604220  44.794619  0.062460  0.053498  0.061627   \n",
       "20 24 days  1952.760665  44.190052  36.497572  0.050358  0.044053  0.050274   \n",
       "21 25 days  1348.212340  36.718011  30.502713  0.041290  0.034082  0.041410   \n",
       "22 26 days  1549.087904  39.358454  31.668584  0.042716  0.039753  0.042864   \n",
       "23 27 days  1678.774783  40.972854  33.553017  0.046641  0.039753  0.046400   \n",
       "24 28 days  3156.626922  56.183867  45.072993  0.061588  0.047290  0.061177   \n",
       "25 29 days  3747.681955  61.218314  51.526625  0.071096  0.065408  0.070822   \n",
       "26 30 days  4059.797764  63.716542  53.603515  0.073598  0.065408  0.073084   \n",
       "27 31 days  3085.830403  55.550251  46.972380  0.065434  0.056955  0.064778   \n",
       "\n",
       "    coverage  \n",
       "0   0.832258  \n",
       "1   0.741935  \n",
       "2   0.700000  \n",
       "3   0.767742  \n",
       "4   0.796774  \n",
       "5   0.922581  \n",
       "6   0.903226  \n",
       "7   0.929032  \n",
       "8   0.741935  \n",
       "9   0.674194  \n",
       "10  0.674194  \n",
       "11  0.787097  \n",
       "12  0.829032  \n",
       "13  0.770968  \n",
       "14  0.800000  \n",
       "15  0.735484  \n",
       "16  0.764516  \n",
       "17  0.706452  \n",
       "18  0.696774  \n",
       "19  0.735484  \n",
       "20  0.796774  \n",
       "21  0.922581  \n",
       "22  0.900000  \n",
       "23  0.900000  \n",
       "24  0.741935  \n",
       "25  0.638710  \n",
       "26  0.641935  \n",
       "27  0.725806  "
      ]
     },
     "execution_count": 13,
     "metadata": {},
     "output_type": "execute_result"
    }
   ],
   "source": [
    "# Performance\n",
    "\n",
    "performance_metrics(df_cv)"
   ]
  },
  {
   "cell_type": "code",
   "execution_count": 14,
   "metadata": {},
   "outputs": [
    {
     "data": {
      "image/png": "[encoded data removed]",
      "text/plain": [
       "<Figure size 720x432 with 1 Axes>"
      ]
     },
     "metadata": {},
     "output_type": "display_data"
    }
   ],
   "source": [
    "plot_cross_validation_metric(df_cv, metric = \"rmse\");"
   ]
  },
  {
   "attachments": {},
   "cell_type": "markdown",
   "metadata": {},
   "source": [
    "# Parameter Tuning"
   ]
  },
  {
   "cell_type": "code",
   "execution_count": 15,
   "metadata": {},
   "outputs": [
    {
     "name": "stderr",
     "output_type": "stream",
     "text": [
      "c:\\Users\\ultra\\anaconda3\\lib\\site-packages\\scipy\\__init__.py:146: UserWarning: A NumPy version >=1.16.5 and <1.23.0 is required for this version of SciPy (detected version 1.24.2\n",
      "  warnings.warn(f\"A NumPy version >={np_minversion} and <{np_maxversion}\"\n"
     ]
    }
   ],
   "source": [
    "from sklearn.model_selection import ParameterGrid"
   ]
  },
  {
   "cell_type": "code",
   "execution_count": 16,
   "metadata": {},
   "outputs": [],
   "source": [
    "param_grid = {\"seasonality_mode\" :[\"additive\", \"multiplicative\"],\n",
    "                \"seasonality_prior_scale\" : [1, 5, 10, 20],\n",
    "                \"holidays_prior_scale\" : [5, 10, 20, 25],\n",
    "                \"changepoint_prior_scale\" : [0.005, 0.01, 0.05, 0.1]\n",
    "}\n",
    "\n",
    "grid = ParameterGrid(param_grid)\n"
   ]
  },
  {
   "cell_type": "code",
   "execution_count": 17,
   "metadata": {},
   "outputs": [
    {
     "data": {
      "text/plain": [
       "[{'changepoint_prior_scale': 0.005,\n",
       "  'holidays_prior_scale': 5,\n",
       "  'seasonality_mode': 'additive',\n",
       "  'seasonality_prior_scale': 1},\n",
       " {'changepoint_prior_scale': 0.005,\n",
       "  'holidays_prior_scale': 5,\n",
       "  'seasonality_mode': 'additive',\n",
       "  'seasonality_prior_scale': 5},\n",
       " {'changepoint_prior_scale': 0.005,\n",
       "  'holidays_prior_scale': 5,\n",
       "  'seasonality_mode': 'additive',\n",
       "  'seasonality_prior_scale': 10},\n",
       " {'changepoint_prior_scale': 0.005,\n",
       "  'holidays_prior_scale': 5,\n",
       "  'seasonality_mode': 'additive',\n",
       "  'seasonality_prior_scale': 20},\n",
       " {'changepoint_prior_scale': 0.005,\n",
       "  'holidays_prior_scale': 5,\n",
       "  'seasonality_mode': 'multiplicative',\n",
       "  'seasonality_prior_scale': 1},\n",
       " {'changepoint_prior_scale': 0.005,\n",
       "  'holidays_prior_scale': 5,\n",
       "  'seasonality_mode': 'multiplicative',\n",
       "  'seasonality_prior_scale': 5},\n",
       " {'changepoint_prior_scale': 0.005,\n",
       "  'holidays_prior_scale': 5,\n",
       "  'seasonality_mode': 'multiplicative',\n",
       "  'seasonality_prior_scale': 10},\n",
       " {'changepoint_prior_scale': 0.005,\n",
       "  'holidays_prior_scale': 5,\n",
       "  'seasonality_mode': 'multiplicative',\n",
       "  'seasonality_prior_scale': 20},\n",
       " {'changepoint_prior_scale': 0.005,\n",
       "  'holidays_prior_scale': 10,\n",
       "  'seasonality_mode': 'additive',\n",
       "  'seasonality_prior_scale': 1},\n",
       " {'changepoint_prior_scale': 0.005,\n",
       "  'holidays_prior_scale': 10,\n",
       "  'seasonality_mode': 'additive',\n",
       "  'seasonality_prior_scale': 5},\n",
       " {'changepoint_prior_scale': 0.005,\n",
       "  'holidays_prior_scale': 10,\n",
       "  'seasonality_mode': 'additive',\n",
       "  'seasonality_prior_scale': 10},\n",
       " {'changepoint_prior_scale': 0.005,\n",
       "  'holidays_prior_scale': 10,\n",
       "  'seasonality_mode': 'additive',\n",
       "  'seasonality_prior_scale': 20},\n",
       " {'changepoint_prior_scale': 0.005,\n",
       "  'holidays_prior_scale': 10,\n",
       "  'seasonality_mode': 'multiplicative',\n",
       "  'seasonality_prior_scale': 1},\n",
       " {'changepoint_prior_scale': 0.005,\n",
       "  'holidays_prior_scale': 10,\n",
       "  'seasonality_mode': 'multiplicative',\n",
       "  'seasonality_prior_scale': 5},\n",
       " {'changepoint_prior_scale': 0.005,\n",
       "  'holidays_prior_scale': 10,\n",
       "  'seasonality_mode': 'multiplicative',\n",
       "  'seasonality_prior_scale': 10},\n",
       " {'changepoint_prior_scale': 0.005,\n",
       "  'holidays_prior_scale': 10,\n",
       "  'seasonality_mode': 'multiplicative',\n",
       "  'seasonality_prior_scale': 20},\n",
       " {'changepoint_prior_scale': 0.005,\n",
       "  'holidays_prior_scale': 20,\n",
       "  'seasonality_mode': 'additive',\n",
       "  'seasonality_prior_scale': 1},\n",
       " {'changepoint_prior_scale': 0.005,\n",
       "  'holidays_prior_scale': 20,\n",
       "  'seasonality_mode': 'additive',\n",
       "  'seasonality_prior_scale': 5},\n",
       " {'changepoint_prior_scale': 0.005,\n",
       "  'holidays_prior_scale': 20,\n",
       "  'seasonality_mode': 'additive',\n",
       "  'seasonality_prior_scale': 10},\n",
       " {'changepoint_prior_scale': 0.005,\n",
       "  'holidays_prior_scale': 20,\n",
       "  'seasonality_mode': 'additive',\n",
       "  'seasonality_prior_scale': 20},\n",
       " {'changepoint_prior_scale': 0.005,\n",
       "  'holidays_prior_scale': 20,\n",
       "  'seasonality_mode': 'multiplicative',\n",
       "  'seasonality_prior_scale': 1},\n",
       " {'changepoint_prior_scale': 0.005,\n",
       "  'holidays_prior_scale': 20,\n",
       "  'seasonality_mode': 'multiplicative',\n",
       "  'seasonality_prior_scale': 5},\n",
       " {'changepoint_prior_scale': 0.005,\n",
       "  'holidays_prior_scale': 20,\n",
       "  'seasonality_mode': 'multiplicative',\n",
       "  'seasonality_prior_scale': 10},\n",
       " {'changepoint_prior_scale': 0.005,\n",
       "  'holidays_prior_scale': 20,\n",
       "  'seasonality_mode': 'multiplicative',\n",
       "  'seasonality_prior_scale': 20},\n",
       " {'changepoint_prior_scale': 0.005,\n",
       "  'holidays_prior_scale': 25,\n",
       "  'seasonality_mode': 'additive',\n",
       "  'seasonality_prior_scale': 1},\n",
       " {'changepoint_prior_scale': 0.005,\n",
       "  'holidays_prior_scale': 25,\n",
       "  'seasonality_mode': 'additive',\n",
       "  'seasonality_prior_scale': 5},\n",
       " {'changepoint_prior_scale': 0.005,\n",
       "  'holidays_prior_scale': 25,\n",
       "  'seasonality_mode': 'additive',\n",
       "  'seasonality_prior_scale': 10},\n",
       " {'changepoint_prior_scale': 0.005,\n",
       "  'holidays_prior_scale': 25,\n",
       "  'seasonality_mode': 'additive',\n",
       "  'seasonality_prior_scale': 20},\n",
       " {'changepoint_prior_scale': 0.005,\n",
       "  'holidays_prior_scale': 25,\n",
       "  'seasonality_mode': 'multiplicative',\n",
       "  'seasonality_prior_scale': 1},\n",
       " {'changepoint_prior_scale': 0.005,\n",
       "  'holidays_prior_scale': 25,\n",
       "  'seasonality_mode': 'multiplicative',\n",
       "  'seasonality_prior_scale': 5},\n",
       " {'changepoint_prior_scale': 0.005,\n",
       "  'holidays_prior_scale': 25,\n",
       "  'seasonality_mode': 'multiplicative',\n",
       "  'seasonality_prior_scale': 10},\n",
       " {'changepoint_prior_scale': 0.005,\n",
       "  'holidays_prior_scale': 25,\n",
       "  'seasonality_mode': 'multiplicative',\n",
       "  'seasonality_prior_scale': 20},\n",
       " {'changepoint_prior_scale': 0.01,\n",
       "  'holidays_prior_scale': 5,\n",
       "  'seasonality_mode': 'additive',\n",
       "  'seasonality_prior_scale': 1},\n",
       " {'changepoint_prior_scale': 0.01,\n",
       "  'holidays_prior_scale': 5,\n",
       "  'seasonality_mode': 'additive',\n",
       "  'seasonality_prior_scale': 5},\n",
       " {'changepoint_prior_scale': 0.01,\n",
       "  'holidays_prior_scale': 5,\n",
       "  'seasonality_mode': 'additive',\n",
       "  'seasonality_prior_scale': 10},\n",
       " {'changepoint_prior_scale': 0.01,\n",
       "  'holidays_prior_scale': 5,\n",
       "  'seasonality_mode': 'additive',\n",
       "  'seasonality_prior_scale': 20},\n",
       " {'changepoint_prior_scale': 0.01,\n",
       "  'holidays_prior_scale': 5,\n",
       "  'seasonality_mode': 'multiplicative',\n",
       "  'seasonality_prior_scale': 1},\n",
       " {'changepoint_prior_scale': 0.01,\n",
       "  'holidays_prior_scale': 5,\n",
       "  'seasonality_mode': 'multiplicative',\n",
       "  'seasonality_prior_scale': 5},\n",
       " {'changepoint_prior_scale': 0.01,\n",
       "  'holidays_prior_scale': 5,\n",
       "  'seasonality_mode': 'multiplicative',\n",
       "  'seasonality_prior_scale': 10},\n",
       " {'changepoint_prior_scale': 0.01,\n",
       "  'holidays_prior_scale': 5,\n",
       "  'seasonality_mode': 'multiplicative',\n",
       "  'seasonality_prior_scale': 20},\n",
       " {'changepoint_prior_scale': 0.01,\n",
       "  'holidays_prior_scale': 10,\n",
       "  'seasonality_mode': 'additive',\n",
       "  'seasonality_prior_scale': 1},\n",
       " {'changepoint_prior_scale': 0.01,\n",
       "  'holidays_prior_scale': 10,\n",
       "  'seasonality_mode': 'additive',\n",
       "  'seasonality_prior_scale': 5},\n",
       " {'changepoint_prior_scale': 0.01,\n",
       "  'holidays_prior_scale': 10,\n",
       "  'seasonality_mode': 'additive',\n",
       "  'seasonality_prior_scale': 10},\n",
       " {'changepoint_prior_scale': 0.01,\n",
       "  'holidays_prior_scale': 10,\n",
       "  'seasonality_mode': 'additive',\n",
       "  'seasonality_prior_scale': 20},\n",
       " {'changepoint_prior_scale': 0.01,\n",
       "  'holidays_prior_scale': 10,\n",
       "  'seasonality_mode': 'multiplicative',\n",
       "  'seasonality_prior_scale': 1},\n",
       " {'changepoint_prior_scale': 0.01,\n",
       "  'holidays_prior_scale': 10,\n",
       "  'seasonality_mode': 'multiplicative',\n",
       "  'seasonality_prior_scale': 5},\n",
       " {'changepoint_prior_scale': 0.01,\n",
       "  'holidays_prior_scale': 10,\n",
       "  'seasonality_mode': 'multiplicative',\n",
       "  'seasonality_prior_scale': 10},\n",
       " {'changepoint_prior_scale': 0.01,\n",
       "  'holidays_prior_scale': 10,\n",
       "  'seasonality_mode': 'multiplicative',\n",
       "  'seasonality_prior_scale': 20},\n",
       " {'changepoint_prior_scale': 0.01,\n",
       "  'holidays_prior_scale': 20,\n",
       "  'seasonality_mode': 'additive',\n",
       "  'seasonality_prior_scale': 1},\n",
       " {'changepoint_prior_scale': 0.01,\n",
       "  'holidays_prior_scale': 20,\n",
       "  'seasonality_mode': 'additive',\n",
       "  'seasonality_prior_scale': 5},\n",
       " {'changepoint_prior_scale': 0.01,\n",
       "  'holidays_prior_scale': 20,\n",
       "  'seasonality_mode': 'additive',\n",
       "  'seasonality_prior_scale': 10},\n",
       " {'changepoint_prior_scale': 0.01,\n",
       "  'holidays_prior_scale': 20,\n",
       "  'seasonality_mode': 'additive',\n",
       "  'seasonality_prior_scale': 20},\n",
       " {'changepoint_prior_scale': 0.01,\n",
       "  'holidays_prior_scale': 20,\n",
       "  'seasonality_mode': 'multiplicative',\n",
       "  'seasonality_prior_scale': 1},\n",
       " {'changepoint_prior_scale': 0.01,\n",
       "  'holidays_prior_scale': 20,\n",
       "  'seasonality_mode': 'multiplicative',\n",
       "  'seasonality_prior_scale': 5},\n",
       " {'changepoint_prior_scale': 0.01,\n",
       "  'holidays_prior_scale': 20,\n",
       "  'seasonality_mode': 'multiplicative',\n",
       "  'seasonality_prior_scale': 10},\n",
       " {'changepoint_prior_scale': 0.01,\n",
       "  'holidays_prior_scale': 20,\n",
       "  'seasonality_mode': 'multiplicative',\n",
       "  'seasonality_prior_scale': 20},\n",
       " {'changepoint_prior_scale': 0.01,\n",
       "  'holidays_prior_scale': 25,\n",
       "  'seasonality_mode': 'additive',\n",
       "  'seasonality_prior_scale': 1},\n",
       " {'changepoint_prior_scale': 0.01,\n",
       "  'holidays_prior_scale': 25,\n",
       "  'seasonality_mode': 'additive',\n",
       "  'seasonality_prior_scale': 5},\n",
       " {'changepoint_prior_scale': 0.01,\n",
       "  'holidays_prior_scale': 25,\n",
       "  'seasonality_mode': 'additive',\n",
       "  'seasonality_prior_scale': 10},\n",
       " {'changepoint_prior_scale': 0.01,\n",
       "  'holidays_prior_scale': 25,\n",
       "  'seasonality_mode': 'additive',\n",
       "  'seasonality_prior_scale': 20},\n",
       " {'changepoint_prior_scale': 0.01,\n",
       "  'holidays_prior_scale': 25,\n",
       "  'seasonality_mode': 'multiplicative',\n",
       "  'seasonality_prior_scale': 1},\n",
       " {'changepoint_prior_scale': 0.01,\n",
       "  'holidays_prior_scale': 25,\n",
       "  'seasonality_mode': 'multiplicative',\n",
       "  'seasonality_prior_scale': 5},\n",
       " {'changepoint_prior_scale': 0.01,\n",
       "  'holidays_prior_scale': 25,\n",
       "  'seasonality_mode': 'multiplicative',\n",
       "  'seasonality_prior_scale': 10},\n",
       " {'changepoint_prior_scale': 0.01,\n",
       "  'holidays_prior_scale': 25,\n",
       "  'seasonality_mode': 'multiplicative',\n",
       "  'seasonality_prior_scale': 20},\n",
       " {'changepoint_prior_scale': 0.05,\n",
       "  'holidays_prior_scale': 5,\n",
       "  'seasonality_mode': 'additive',\n",
       "  'seasonality_prior_scale': 1},\n",
       " {'changepoint_prior_scale': 0.05,\n",
       "  'holidays_prior_scale': 5,\n",
       "  'seasonality_mode': 'additive',\n",
       "  'seasonality_prior_scale': 5},\n",
       " {'changepoint_prior_scale': 0.05,\n",
       "  'holidays_prior_scale': 5,\n",
       "  'seasonality_mode': 'additive',\n",
       "  'seasonality_prior_scale': 10},\n",
       " {'changepoint_prior_scale': 0.05,\n",
       "  'holidays_prior_scale': 5,\n",
       "  'seasonality_mode': 'additive',\n",
       "  'seasonality_prior_scale': 20},\n",
       " {'changepoint_prior_scale': 0.05,\n",
       "  'holidays_prior_scale': 5,\n",
       "  'seasonality_mode': 'multiplicative',\n",
       "  'seasonality_prior_scale': 1},\n",
       " {'changepoint_prior_scale': 0.05,\n",
       "  'holidays_prior_scale': 5,\n",
       "  'seasonality_mode': 'multiplicative',\n",
       "  'seasonality_prior_scale': 5},\n",
       " {'changepoint_prior_scale': 0.05,\n",
       "  'holidays_prior_scale': 5,\n",
       "  'seasonality_mode': 'multiplicative',\n",
       "  'seasonality_prior_scale': 10},\n",
       " {'changepoint_prior_scale': 0.05,\n",
       "  'holidays_prior_scale': 5,\n",
       "  'seasonality_mode': 'multiplicative',\n",
       "  'seasonality_prior_scale': 20},\n",
       " {'changepoint_prior_scale': 0.05,\n",
       "  'holidays_prior_scale': 10,\n",
       "  'seasonality_mode': 'additive',\n",
       "  'seasonality_prior_scale': 1},\n",
       " {'changepoint_prior_scale': 0.05,\n",
       "  'holidays_prior_scale': 10,\n",
       "  'seasonality_mode': 'additive',\n",
       "  'seasonality_prior_scale': 5},\n",
       " {'changepoint_prior_scale': 0.05,\n",
       "  'holidays_prior_scale': 10,\n",
       "  'seasonality_mode': 'additive',\n",
       "  'seasonality_prior_scale': 10},\n",
       " {'changepoint_prior_scale': 0.05,\n",
       "  'holidays_prior_scale': 10,\n",
       "  'seasonality_mode': 'additive',\n",
       "  'seasonality_prior_scale': 20},\n",
       " {'changepoint_prior_scale': 0.05,\n",
       "  'holidays_prior_scale': 10,\n",
       "  'seasonality_mode': 'multiplicative',\n",
       "  'seasonality_prior_scale': 1},\n",
       " {'changepoint_prior_scale': 0.05,\n",
       "  'holidays_prior_scale': 10,\n",
       "  'seasonality_mode': 'multiplicative',\n",
       "  'seasonality_prior_scale': 5},\n",
       " {'changepoint_prior_scale': 0.05,\n",
       "  'holidays_prior_scale': 10,\n",
       "  'seasonality_mode': 'multiplicative',\n",
       "  'seasonality_prior_scale': 10},\n",
       " {'changepoint_prior_scale': 0.05,\n",
       "  'holidays_prior_scale': 10,\n",
       "  'seasonality_mode': 'multiplicative',\n",
       "  'seasonality_prior_scale': 20},\n",
       " {'changepoint_prior_scale': 0.05,\n",
       "  'holidays_prior_scale': 20,\n",
       "  'seasonality_mode': 'additive',\n",
       "  'seasonality_prior_scale': 1},\n",
       " {'changepoint_prior_scale': 0.05,\n",
       "  'holidays_prior_scale': 20,\n",
       "  'seasonality_mode': 'additive',\n",
       "  'seasonality_prior_scale': 5},\n",
       " {'changepoint_prior_scale': 0.05,\n",
       "  'holidays_prior_scale': 20,\n",
       "  'seasonality_mode': 'additive',\n",
       "  'seasonality_prior_scale': 10},\n",
       " {'changepoint_prior_scale': 0.05,\n",
       "  'holidays_prior_scale': 20,\n",
       "  'seasonality_mode': 'additive',\n",
       "  'seasonality_prior_scale': 20},\n",
       " {'changepoint_prior_scale': 0.05,\n",
       "  'holidays_prior_scale': 20,\n",
       "  'seasonality_mode': 'multiplicative',\n",
       "  'seasonality_prior_scale': 1},\n",
       " {'changepoint_prior_scale': 0.05,\n",
       "  'holidays_prior_scale': 20,\n",
       "  'seasonality_mode': 'multiplicative',\n",
       "  'seasonality_prior_scale': 5},\n",
       " {'changepoint_prior_scale': 0.05,\n",
       "  'holidays_prior_scale': 20,\n",
       "  'seasonality_mode': 'multiplicative',\n",
       "  'seasonality_prior_scale': 10},\n",
       " {'changepoint_prior_scale': 0.05,\n",
       "  'holidays_prior_scale': 20,\n",
       "  'seasonality_mode': 'multiplicative',\n",
       "  'seasonality_prior_scale': 20},\n",
       " {'changepoint_prior_scale': 0.05,\n",
       "  'holidays_prior_scale': 25,\n",
       "  'seasonality_mode': 'additive',\n",
       "  'seasonality_prior_scale': 1},\n",
       " {'changepoint_prior_scale': 0.05,\n",
       "  'holidays_prior_scale': 25,\n",
       "  'seasonality_mode': 'additive',\n",
       "  'seasonality_prior_scale': 5},\n",
       " {'changepoint_prior_scale': 0.05,\n",
       "  'holidays_prior_scale': 25,\n",
       "  'seasonality_mode': 'additive',\n",
       "  'seasonality_prior_scale': 10},\n",
       " {'changepoint_prior_scale': 0.05,\n",
       "  'holidays_prior_scale': 25,\n",
       "  'seasonality_mode': 'additive',\n",
       "  'seasonality_prior_scale': 20},\n",
       " {'changepoint_prior_scale': 0.05,\n",
       "  'holidays_prior_scale': 25,\n",
       "  'seasonality_mode': 'multiplicative',\n",
       "  'seasonality_prior_scale': 1},\n",
       " {'changepoint_prior_scale': 0.05,\n",
       "  'holidays_prior_scale': 25,\n",
       "  'seasonality_mode': 'multiplicative',\n",
       "  'seasonality_prior_scale': 5},\n",
       " {'changepoint_prior_scale': 0.05,\n",
       "  'holidays_prior_scale': 25,\n",
       "  'seasonality_mode': 'multiplicative',\n",
       "  'seasonality_prior_scale': 10},\n",
       " {'changepoint_prior_scale': 0.05,\n",
       "  'holidays_prior_scale': 25,\n",
       "  'seasonality_mode': 'multiplicative',\n",
       "  'seasonality_prior_scale': 20},\n",
       " {'changepoint_prior_scale': 0.1,\n",
       "  'holidays_prior_scale': 5,\n",
       "  'seasonality_mode': 'additive',\n",
       "  'seasonality_prior_scale': 1},\n",
       " {'changepoint_prior_scale': 0.1,\n",
       "  'holidays_prior_scale': 5,\n",
       "  'seasonality_mode': 'additive',\n",
       "  'seasonality_prior_scale': 5},\n",
       " {'changepoint_prior_scale': 0.1,\n",
       "  'holidays_prior_scale': 5,\n",
       "  'seasonality_mode': 'additive',\n",
       "  'seasonality_prior_scale': 10},\n",
       " {'changepoint_prior_scale': 0.1,\n",
       "  'holidays_prior_scale': 5,\n",
       "  'seasonality_mode': 'additive',\n",
       "  'seasonality_prior_scale': 20},\n",
       " {'changepoint_prior_scale': 0.1,\n",
       "  'holidays_prior_scale': 5,\n",
       "  'seasonality_mode': 'multiplicative',\n",
       "  'seasonality_prior_scale': 1},\n",
       " {'changepoint_prior_scale': 0.1,\n",
       "  'holidays_prior_scale': 5,\n",
       "  'seasonality_mode': 'multiplicative',\n",
       "  'seasonality_prior_scale': 5},\n",
       " {'changepoint_prior_scale': 0.1,\n",
       "  'holidays_prior_scale': 5,\n",
       "  'seasonality_mode': 'multiplicative',\n",
       "  'seasonality_prior_scale': 10},\n",
       " {'changepoint_prior_scale': 0.1,\n",
       "  'holidays_prior_scale': 5,\n",
       "  'seasonality_mode': 'multiplicative',\n",
       "  'seasonality_prior_scale': 20},\n",
       " {'changepoint_prior_scale': 0.1,\n",
       "  'holidays_prior_scale': 10,\n",
       "  'seasonality_mode': 'additive',\n",
       "  'seasonality_prior_scale': 1},\n",
       " {'changepoint_prior_scale': 0.1,\n",
       "  'holidays_prior_scale': 10,\n",
       "  'seasonality_mode': 'additive',\n",
       "  'seasonality_prior_scale': 5},\n",
       " {'changepoint_prior_scale': 0.1,\n",
       "  'holidays_prior_scale': 10,\n",
       "  'seasonality_mode': 'additive',\n",
       "  'seasonality_prior_scale': 10},\n",
       " {'changepoint_prior_scale': 0.1,\n",
       "  'holidays_prior_scale': 10,\n",
       "  'seasonality_mode': 'additive',\n",
       "  'seasonality_prior_scale': 20},\n",
       " {'changepoint_prior_scale': 0.1,\n",
       "  'holidays_prior_scale': 10,\n",
       "  'seasonality_mode': 'multiplicative',\n",
       "  'seasonality_prior_scale': 1},\n",
       " {'changepoint_prior_scale': 0.1,\n",
       "  'holidays_prior_scale': 10,\n",
       "  'seasonality_mode': 'multiplicative',\n",
       "  'seasonality_prior_scale': 5},\n",
       " {'changepoint_prior_scale': 0.1,\n",
       "  'holidays_prior_scale': 10,\n",
       "  'seasonality_mode': 'multiplicative',\n",
       "  'seasonality_prior_scale': 10},\n",
       " {'changepoint_prior_scale': 0.1,\n",
       "  'holidays_prior_scale': 10,\n",
       "  'seasonality_mode': 'multiplicative',\n",
       "  'seasonality_prior_scale': 20},\n",
       " {'changepoint_prior_scale': 0.1,\n",
       "  'holidays_prior_scale': 20,\n",
       "  'seasonality_mode': 'additive',\n",
       "  'seasonality_prior_scale': 1},\n",
       " {'changepoint_prior_scale': 0.1,\n",
       "  'holidays_prior_scale': 20,\n",
       "  'seasonality_mode': 'additive',\n",
       "  'seasonality_prior_scale': 5},\n",
       " {'changepoint_prior_scale': 0.1,\n",
       "  'holidays_prior_scale': 20,\n",
       "  'seasonality_mode': 'additive',\n",
       "  'seasonality_prior_scale': 10},\n",
       " {'changepoint_prior_scale': 0.1,\n",
       "  'holidays_prior_scale': 20,\n",
       "  'seasonality_mode': 'additive',\n",
       "  'seasonality_prior_scale': 20},\n",
       " {'changepoint_prior_scale': 0.1,\n",
       "  'holidays_prior_scale': 20,\n",
       "  'seasonality_mode': 'multiplicative',\n",
       "  'seasonality_prior_scale': 1},\n",
       " {'changepoint_prior_scale': 0.1,\n",
       "  'holidays_prior_scale': 20,\n",
       "  'seasonality_mode': 'multiplicative',\n",
       "  'seasonality_prior_scale': 5},\n",
       " {'changepoint_prior_scale': 0.1,\n",
       "  'holidays_prior_scale': 20,\n",
       "  'seasonality_mode': 'multiplicative',\n",
       "  'seasonality_prior_scale': 10},\n",
       " {'changepoint_prior_scale': 0.1,\n",
       "  'holidays_prior_scale': 20,\n",
       "  'seasonality_mode': 'multiplicative',\n",
       "  'seasonality_prior_scale': 20},\n",
       " {'changepoint_prior_scale': 0.1,\n",
       "  'holidays_prior_scale': 25,\n",
       "  'seasonality_mode': 'additive',\n",
       "  'seasonality_prior_scale': 1},\n",
       " {'changepoint_prior_scale': 0.1,\n",
       "  'holidays_prior_scale': 25,\n",
       "  'seasonality_mode': 'additive',\n",
       "  'seasonality_prior_scale': 5},\n",
       " {'changepoint_prior_scale': 0.1,\n",
       "  'holidays_prior_scale': 25,\n",
       "  'seasonality_mode': 'additive',\n",
       "  'seasonality_prior_scale': 10},\n",
       " {'changepoint_prior_scale': 0.1,\n",
       "  'holidays_prior_scale': 25,\n",
       "  'seasonality_mode': 'additive',\n",
       "  'seasonality_prior_scale': 20},\n",
       " {'changepoint_prior_scale': 0.1,\n",
       "  'holidays_prior_scale': 25,\n",
       "  'seasonality_mode': 'multiplicative',\n",
       "  'seasonality_prior_scale': 1},\n",
       " {'changepoint_prior_scale': 0.1,\n",
       "  'holidays_prior_scale': 25,\n",
       "  'seasonality_mode': 'multiplicative',\n",
       "  'seasonality_prior_scale': 5},\n",
       " {'changepoint_prior_scale': 0.1,\n",
       "  'holidays_prior_scale': 25,\n",
       "  'seasonality_mode': 'multiplicative',\n",
       "  'seasonality_prior_scale': 10},\n",
       " {'changepoint_prior_scale': 0.1,\n",
       "  'holidays_prior_scale': 25,\n",
       "  'seasonality_mode': 'multiplicative',\n",
       "  'seasonality_prior_scale': 20}]"
      ]
     },
     "execution_count": 17,
     "metadata": {},
     "output_type": "execute_result"
    }
   ],
   "source": [
    "list(grid)"
   ]
  },
  {
   "cell_type": "code",
   "execution_count": 18,
   "metadata": {},
   "outputs": [
    {
     "data": {
      "text/plain": [
       "128"
      ]
     },
     "execution_count": 18,
     "metadata": {},
     "output_type": "execute_result"
    }
   ],
   "source": [
    "len(list(grid))"
   ]
  },
  {
   "cell_type": "code",
   "execution_count": 19,
   "metadata": {},
   "outputs": [
    {
     "name": "stdout",
     "output_type": "stream",
     "text": [
      "Running 1 / 128\n"
     ]
    },
    {
     "name": "stderr",
     "output_type": "stream",
     "text": [
      "20:51:34 - cmdstanpy - INFO - Chain [1] start processing\n",
      "20:51:34 - cmdstanpy - INFO - Chain [1] done processing\n"
     ]
    },
    {
     "name": "stdout",
     "output_type": "stream",
     "text": [
      "RMSE for epoch 1 is 53.18518315760396\n",
      "Running 2 / 128\n"
     ]
    },
    {
     "name": "stderr",
     "output_type": "stream",
     "text": [
      "20:51:52 - cmdstanpy - INFO - Chain [1] start processing\n",
      "20:51:53 - cmdstanpy - INFO - Chain [1] done processing\n"
     ]
    },
    {
     "name": "stdout",
     "output_type": "stream",
     "text": [
      "RMSE for epoch 2 is 52.879007813534066\n",
      "Running 3 / 128\n"
     ]
    },
    {
     "name": "stderr",
     "output_type": "stream",
     "text": [
      "20:52:09 - cmdstanpy - INFO - Chain [1] start processing\n",
      "20:52:09 - cmdstanpy - INFO - Chain [1] done processing\n"
     ]
    },
    {
     "name": "stdout",
     "output_type": "stream",
     "text": [
      "RMSE for epoch 3 is 53.31542253028949\n",
      "Running 4 / 128\n"
     ]
    },
    {
     "name": "stderr",
     "output_type": "stream",
     "text": [
      "20:52:26 - cmdstanpy - INFO - Chain [1] start processing\n",
      "20:52:26 - cmdstanpy - INFO - Chain [1] done processing\n"
     ]
    },
    {
     "name": "stdout",
     "output_type": "stream",
     "text": [
      "RMSE for epoch 4 is 52.9833463921711\n",
      "Running 5 / 128\n"
     ]
    },
    {
     "name": "stderr",
     "output_type": "stream",
     "text": [
      "20:52:42 - cmdstanpy - INFO - Chain [1] start processing\n",
      "20:52:42 - cmdstanpy - INFO - Chain [1] done processing\n"
     ]
    },
    {
     "name": "stdout",
     "output_type": "stream",
     "text": [
      "RMSE for epoch 5 is 49.77267660508992\n",
      "Running 6 / 128\n"
     ]
    },
    {
     "name": "stderr",
     "output_type": "stream",
     "text": [
      "20:53:02 - cmdstanpy - INFO - Chain [1] start processing\n",
      "20:53:03 - cmdstanpy - INFO - Chain [1] done processing\n"
     ]
    },
    {
     "name": "stdout",
     "output_type": "stream",
     "text": [
      "RMSE for epoch 6 is 49.91301895539415\n",
      "Running 7 / 128\n"
     ]
    },
    {
     "name": "stderr",
     "output_type": "stream",
     "text": [
      "20:53:23 - cmdstanpy - INFO - Chain [1] start processing\n",
      "20:53:23 - cmdstanpy - INFO - Chain [1] done processing\n"
     ]
    },
    {
     "name": "stdout",
     "output_type": "stream",
     "text": [
      "RMSE for epoch 7 is 50.38133985730108\n",
      "Running 8 / 128\n"
     ]
    },
    {
     "name": "stderr",
     "output_type": "stream",
     "text": [
      "20:53:41 - cmdstanpy - INFO - Chain [1] start processing\n",
      "20:53:42 - cmdstanpy - INFO - Chain [1] done processing\n"
     ]
    },
    {
     "name": "stdout",
     "output_type": "stream",
     "text": [
      "RMSE for epoch 8 is 50.799200263690636\n",
      "Running 9 / 128\n"
     ]
    },
    {
     "name": "stderr",
     "output_type": "stream",
     "text": [
      "20:54:00 - cmdstanpy - INFO - Chain [1] start processing\n",
      "20:54:01 - cmdstanpy - INFO - Chain [1] done processing\n"
     ]
    },
    {
     "name": "stdout",
     "output_type": "stream",
     "text": [
      "RMSE for epoch 9 is 53.54058942121667\n",
      "Running 10 / 128\n"
     ]
    },
    {
     "name": "stderr",
     "output_type": "stream",
     "text": [
      "20:54:20 - cmdstanpy - INFO - Chain [1] start processing\n",
      "20:54:21 - cmdstanpy - INFO - Chain [1] done processing\n"
     ]
    },
    {
     "name": "stdout",
     "output_type": "stream",
     "text": [
      "RMSE for epoch 10 is 52.694675220806644\n",
      "Running 11 / 128\n"
     ]
    },
    {
     "name": "stderr",
     "output_type": "stream",
     "text": [
      "20:54:38 - cmdstanpy - INFO - Chain [1] start processing\n",
      "20:54:38 - cmdstanpy - INFO - Chain [1] done processing\n"
     ]
    },
    {
     "name": "stdout",
     "output_type": "stream",
     "text": [
      "RMSE for epoch 11 is 52.233644940707464\n",
      "Running 12 / 128\n"
     ]
    },
    {
     "name": "stderr",
     "output_type": "stream",
     "text": [
      "20:54:58 - cmdstanpy - INFO - Chain [1] start processing\n",
      "20:54:58 - cmdstanpy - INFO - Chain [1] done processing\n"
     ]
    },
    {
     "name": "stdout",
     "output_type": "stream",
     "text": [
      "RMSE for epoch 12 is 52.650079024605354\n",
      "Running 13 / 128\n"
     ]
    },
    {
     "name": "stderr",
     "output_type": "stream",
     "text": [
      "20:55:17 - cmdstanpy - INFO - Chain [1] start processing\n",
      "20:55:17 - cmdstanpy - INFO - Chain [1] done processing\n"
     ]
    },
    {
     "name": "stdout",
     "output_type": "stream",
     "text": [
      "RMSE for epoch 13 is 49.9654027066743\n",
      "Running 14 / 128\n"
     ]
    },
    {
     "name": "stderr",
     "output_type": "stream",
     "text": [
      "20:55:35 - cmdstanpy - INFO - Chain [1] start processing\n",
      "20:55:35 - cmdstanpy - INFO - Chain [1] done processing\n"
     ]
    },
    {
     "name": "stdout",
     "output_type": "stream",
     "text": [
      "RMSE for epoch 14 is 49.920043676916286\n",
      "Running 15 / 128\n"
     ]
    },
    {
     "name": "stderr",
     "output_type": "stream",
     "text": [
      "20:55:51 - cmdstanpy - INFO - Chain [1] start processing\n",
      "20:55:52 - cmdstanpy - INFO - Chain [1] done processing\n"
     ]
    },
    {
     "name": "stdout",
     "output_type": "stream",
     "text": [
      "RMSE for epoch 15 is 50.24911154301185\n",
      "Running 16 / 128\n"
     ]
    },
    {
     "name": "stderr",
     "output_type": "stream",
     "text": [
      "20:56:07 - cmdstanpy - INFO - Chain [1] start processing\n",
      "20:56:07 - cmdstanpy - INFO - Chain [1] done processing\n"
     ]
    },
    {
     "name": "stdout",
     "output_type": "stream",
     "text": [
      "RMSE for epoch 16 is 50.305127348426346\n",
      "Running 17 / 128\n"
     ]
    },
    {
     "name": "stderr",
     "output_type": "stream",
     "text": [
      "20:56:22 - cmdstanpy - INFO - Chain [1] start processing\n",
      "20:56:23 - cmdstanpy - INFO - Chain [1] done processing\n"
     ]
    },
    {
     "name": "stdout",
     "output_type": "stream",
     "text": [
      "RMSE for epoch 17 is 53.23893515483019\n",
      "Running 18 / 128\n"
     ]
    },
    {
     "name": "stderr",
     "output_type": "stream",
     "text": [
      "20:56:39 - cmdstanpy - INFO - Chain [1] start processing\n",
      "20:56:40 - cmdstanpy - INFO - Chain [1] done processing\n"
     ]
    },
    {
     "name": "stdout",
     "output_type": "stream",
     "text": [
      "RMSE for epoch 18 is 52.70570563252104\n",
      "Running 19 / 128\n"
     ]
    },
    {
     "name": "stderr",
     "output_type": "stream",
     "text": [
      "20:56:53 - cmdstanpy - INFO - Chain [1] start processing\n",
      "20:56:53 - cmdstanpy - INFO - Chain [1] done processing\n"
     ]
    },
    {
     "name": "stdout",
     "output_type": "stream",
     "text": [
      "RMSE for epoch 19 is 52.424861099941374\n",
      "Running 20 / 128\n"
     ]
    },
    {
     "name": "stderr",
     "output_type": "stream",
     "text": [
      "20:57:09 - cmdstanpy - INFO - Chain [1] start processing\n",
      "20:57:10 - cmdstanpy - INFO - Chain [1] done processing\n"
     ]
    },
    {
     "name": "stdout",
     "output_type": "stream",
     "text": [
      "RMSE for epoch 20 is 52.75270968254707\n",
      "Running 21 / 128\n"
     ]
    },
    {
     "name": "stderr",
     "output_type": "stream",
     "text": [
      "20:57:25 - cmdstanpy - INFO - Chain [1] start processing\n",
      "20:57:25 - cmdstanpy - INFO - Chain [1] done processing\n"
     ]
    },
    {
     "name": "stdout",
     "output_type": "stream",
     "text": [
      "RMSE for epoch 21 is 50.15330334991899\n",
      "Running 22 / 128\n"
     ]
    },
    {
     "name": "stderr",
     "output_type": "stream",
     "text": [
      "20:57:40 - cmdstanpy - INFO - Chain [1] start processing\n",
      "20:57:40 - cmdstanpy - INFO - Chain [1] done processing\n"
     ]
    },
    {
     "name": "stdout",
     "output_type": "stream",
     "text": [
      "RMSE for epoch 22 is 50.1731920313859\n",
      "Running 23 / 128\n"
     ]
    },
    {
     "name": "stderr",
     "output_type": "stream",
     "text": [
      "20:57:52 - cmdstanpy - INFO - Chain [1] start processing\n",
      "20:57:53 - cmdstanpy - INFO - Chain [1] done processing\n"
     ]
    },
    {
     "name": "stdout",
     "output_type": "stream",
     "text": [
      "RMSE for epoch 23 is 49.68611276953048\n",
      "Running 24 / 128\n"
     ]
    },
    {
     "name": "stderr",
     "output_type": "stream",
     "text": [
      "20:58:08 - cmdstanpy - INFO - Chain [1] start processing\n",
      "20:58:08 - cmdstanpy - INFO - Chain [1] done processing\n"
     ]
    },
    {
     "name": "stdout",
     "output_type": "stream",
     "text": [
      "RMSE for epoch 24 is 50.230943588390446\n",
      "Running 25 / 128\n"
     ]
    },
    {
     "name": "stderr",
     "output_type": "stream",
     "text": [
      "20:58:24 - cmdstanpy - INFO - Chain [1] start processing\n",
      "20:58:25 - cmdstanpy - INFO - Chain [1] done processing\n"
     ]
    },
    {
     "name": "stdout",
     "output_type": "stream",
     "text": [
      "RMSE for epoch 25 is 52.846428024809335\n",
      "Running 26 / 128\n"
     ]
    },
    {
     "name": "stderr",
     "output_type": "stream",
     "text": [
      "20:58:41 - cmdstanpy - INFO - Chain [1] start processing\n",
      "20:58:41 - cmdstanpy - INFO - Chain [1] done processing\n"
     ]
    },
    {
     "name": "stdout",
     "output_type": "stream",
     "text": [
      "RMSE for epoch 26 is 53.17062693926693\n",
      "Running 27 / 128\n"
     ]
    },
    {
     "name": "stderr",
     "output_type": "stream",
     "text": [
      "20:58:55 - cmdstanpy - INFO - Chain [1] start processing\n",
      "20:58:56 - cmdstanpy - INFO - Chain [1] done processing\n"
     ]
    },
    {
     "name": "stdout",
     "output_type": "stream",
     "text": [
      "RMSE for epoch 27 is 52.81652791937654\n",
      "Running 28 / 128\n"
     ]
    },
    {
     "name": "stderr",
     "output_type": "stream",
     "text": [
      "20:59:11 - cmdstanpy - INFO - Chain [1] start processing\n",
      "20:59:12 - cmdstanpy - INFO - Chain [1] done processing\n"
     ]
    },
    {
     "name": "stdout",
     "output_type": "stream",
     "text": [
      "RMSE for epoch 28 is 53.20561614268297\n",
      "Running 29 / 128\n"
     ]
    },
    {
     "name": "stderr",
     "output_type": "stream",
     "text": [
      "20:59:25 - cmdstanpy - INFO - Chain [1] start processing\n",
      "20:59:26 - cmdstanpy - INFO - Chain [1] done processing\n"
     ]
    },
    {
     "name": "stdout",
     "output_type": "stream",
     "text": [
      "RMSE for epoch 29 is 51.016449405476386\n",
      "Running 30 / 128\n"
     ]
    },
    {
     "name": "stderr",
     "output_type": "stream",
     "text": [
      "20:59:41 - cmdstanpy - INFO - Chain [1] start processing\n",
      "20:59:42 - cmdstanpy - INFO - Chain [1] done processing\n"
     ]
    },
    {
     "name": "stdout",
     "output_type": "stream",
     "text": [
      "RMSE for epoch 30 is 50.1586540156972\n",
      "Running 31 / 128\n"
     ]
    },
    {
     "name": "stderr",
     "output_type": "stream",
     "text": [
      "20:59:57 - cmdstanpy - INFO - Chain [1] start processing\n",
      "20:59:57 - cmdstanpy - INFO - Chain [1] done processing\n"
     ]
    },
    {
     "name": "stdout",
     "output_type": "stream",
     "text": [
      "RMSE for epoch 31 is 50.04510147839981\n",
      "Running 32 / 128\n"
     ]
    },
    {
     "name": "stderr",
     "output_type": "stream",
     "text": [
      "21:00:11 - cmdstanpy - INFO - Chain [1] start processing\n",
      "21:00:12 - cmdstanpy - INFO - Chain [1] done processing\n"
     ]
    },
    {
     "name": "stdout",
     "output_type": "stream",
     "text": [
      "RMSE for epoch 32 is 49.81218706781815\n",
      "Running 33 / 128\n"
     ]
    },
    {
     "name": "stderr",
     "output_type": "stream",
     "text": [
      "21:00:25 - cmdstanpy - INFO - Chain [1] start processing\n",
      "21:00:26 - cmdstanpy - INFO - Chain [1] done processing\n"
     ]
    },
    {
     "name": "stdout",
     "output_type": "stream",
     "text": [
      "RMSE for epoch 33 is 48.36698747299489\n",
      "Running 34 / 128\n"
     ]
    },
    {
     "name": "stderr",
     "output_type": "stream",
     "text": [
      "21:00:41 - cmdstanpy - INFO - Chain [1] start processing\n",
      "21:00:42 - cmdstanpy - INFO - Chain [1] done processing\n"
     ]
    },
    {
     "name": "stdout",
     "output_type": "stream",
     "text": [
      "RMSE for epoch 34 is 47.87161449453226\n",
      "Running 35 / 128\n"
     ]
    },
    {
     "name": "stderr",
     "output_type": "stream",
     "text": [
      "21:00:57 - cmdstanpy - INFO - Chain [1] start processing\n",
      "21:00:58 - cmdstanpy - INFO - Chain [1] done processing\n"
     ]
    },
    {
     "name": "stdout",
     "output_type": "stream",
     "text": [
      "RMSE for epoch 35 is 48.87176184925083\n",
      "Running 36 / 128\n"
     ]
    },
    {
     "name": "stderr",
     "output_type": "stream",
     "text": [
      "21:01:11 - cmdstanpy - INFO - Chain [1] start processing\n",
      "21:01:12 - cmdstanpy - INFO - Chain [1] done processing\n"
     ]
    },
    {
     "name": "stdout",
     "output_type": "stream",
     "text": [
      "RMSE for epoch 36 is 48.42749722289296\n",
      "Running 37 / 128\n"
     ]
    },
    {
     "name": "stderr",
     "output_type": "stream",
     "text": [
      "21:01:26 - cmdstanpy - INFO - Chain [1] start processing\n",
      "21:01:26 - cmdstanpy - INFO - Chain [1] done processing\n"
     ]
    },
    {
     "name": "stdout",
     "output_type": "stream",
     "text": [
      "RMSE for epoch 37 is 49.03229493075894\n",
      "Running 38 / 128\n"
     ]
    },
    {
     "name": "stderr",
     "output_type": "stream",
     "text": [
      "21:01:40 - cmdstanpy - INFO - Chain [1] start processing\n",
      "21:01:40 - cmdstanpy - INFO - Chain [1] done processing\n"
     ]
    },
    {
     "name": "stdout",
     "output_type": "stream",
     "text": [
      "RMSE for epoch 38 is 49.222530815046824\n",
      "Running 39 / 128\n"
     ]
    },
    {
     "name": "stderr",
     "output_type": "stream",
     "text": [
      "21:01:55 - cmdstanpy - INFO - Chain [1] start processing\n",
      "21:01:56 - cmdstanpy - INFO - Chain [1] done processing\n"
     ]
    },
    {
     "name": "stdout",
     "output_type": "stream",
     "text": [
      "RMSE for epoch 39 is 49.229139496468584\n",
      "Running 40 / 128\n"
     ]
    },
    {
     "name": "stderr",
     "output_type": "stream",
     "text": [
      "21:02:11 - cmdstanpy - INFO - Chain [1] start processing\n",
      "21:02:12 - cmdstanpy - INFO - Chain [1] done processing\n"
     ]
    },
    {
     "name": "stdout",
     "output_type": "stream",
     "text": [
      "RMSE for epoch 40 is 49.128357706886604\n",
      "Running 41 / 128\n"
     ]
    },
    {
     "name": "stderr",
     "output_type": "stream",
     "text": [
      "21:02:27 - cmdstanpy - INFO - Chain [1] start processing\n",
      "21:02:27 - cmdstanpy - INFO - Chain [1] done processing\n"
     ]
    },
    {
     "name": "stdout",
     "output_type": "stream",
     "text": [
      "RMSE for epoch 41 is 48.351337305396044\n",
      "Running 42 / 128\n"
     ]
    },
    {
     "name": "stderr",
     "output_type": "stream",
     "text": [
      "21:02:43 - cmdstanpy - INFO - Chain [1] start processing\n",
      "21:02:43 - cmdstanpy - INFO - Chain [1] done processing\n"
     ]
    },
    {
     "name": "stdout",
     "output_type": "stream",
     "text": [
      "RMSE for epoch 42 is 48.20016382117325\n",
      "Running 43 / 128\n"
     ]
    },
    {
     "name": "stderr",
     "output_type": "stream",
     "text": [
      "21:02:59 - cmdstanpy - INFO - Chain [1] start processing\n",
      "21:03:00 - cmdstanpy - INFO - Chain [1] done processing\n"
     ]
    },
    {
     "name": "stdout",
     "output_type": "stream",
     "text": [
      "RMSE for epoch 43 is 48.31966540390166\n",
      "Running 44 / 128\n"
     ]
    },
    {
     "name": "stderr",
     "output_type": "stream",
     "text": [
      "21:03:15 - cmdstanpy - INFO - Chain [1] start processing\n",
      "21:03:15 - cmdstanpy - INFO - Chain [1] done processing\n"
     ]
    },
    {
     "name": "stdout",
     "output_type": "stream",
     "text": [
      "RMSE for epoch 44 is 48.25625968570298\n",
      "Running 45 / 128\n"
     ]
    },
    {
     "name": "stderr",
     "output_type": "stream",
     "text": [
      "21:03:31 - cmdstanpy - INFO - Chain [1] start processing\n",
      "21:03:32 - cmdstanpy - INFO - Chain [1] done processing\n"
     ]
    },
    {
     "name": "stdout",
     "output_type": "stream",
     "text": [
      "RMSE for epoch 45 is 49.24545103790732\n",
      "Running 46 / 128\n"
     ]
    },
    {
     "name": "stderr",
     "output_type": "stream",
     "text": [
      "21:03:49 - cmdstanpy - INFO - Chain [1] start processing\n",
      "21:03:49 - cmdstanpy - INFO - Chain [1] done processing\n"
     ]
    },
    {
     "name": "stdout",
     "output_type": "stream",
     "text": [
      "RMSE for epoch 46 is 49.105057322621064\n",
      "Running 47 / 128\n"
     ]
    },
    {
     "name": "stderr",
     "output_type": "stream",
     "text": [
      "21:04:06 - cmdstanpy - INFO - Chain [1] start processing\n",
      "21:04:06 - cmdstanpy - INFO - Chain [1] done processing\n"
     ]
    },
    {
     "name": "stdout",
     "output_type": "stream",
     "text": [
      "RMSE for epoch 47 is 49.22858642453087\n",
      "Running 48 / 128\n"
     ]
    },
    {
     "name": "stderr",
     "output_type": "stream",
     "text": [
      "21:04:23 - cmdstanpy - INFO - Chain [1] start processing\n",
      "21:04:24 - cmdstanpy - INFO - Chain [1] done processing\n"
     ]
    },
    {
     "name": "stdout",
     "output_type": "stream",
     "text": [
      "RMSE for epoch 48 is 49.284183018956604\n",
      "Running 49 / 128\n"
     ]
    },
    {
     "name": "stderr",
     "output_type": "stream",
     "text": [
      "21:04:39 - cmdstanpy - INFO - Chain [1] start processing\n",
      "21:04:39 - cmdstanpy - INFO - Chain [1] done processing\n"
     ]
    },
    {
     "name": "stdout",
     "output_type": "stream",
     "text": [
      "RMSE for epoch 49 is 48.588767810697156\n",
      "Running 50 / 128\n"
     ]
    },
    {
     "name": "stderr",
     "output_type": "stream",
     "text": [
      "21:04:53 - cmdstanpy - INFO - Chain [1] start processing\n",
      "21:04:54 - cmdstanpy - INFO - Chain [1] done processing\n"
     ]
    },
    {
     "name": "stdout",
     "output_type": "stream",
     "text": [
      "RMSE for epoch 50 is 48.267641799741774\n",
      "Running 51 / 128\n"
     ]
    },
    {
     "name": "stderr",
     "output_type": "stream",
     "text": [
      "21:05:10 - cmdstanpy - INFO - Chain [1] start processing\n",
      "21:05:11 - cmdstanpy - INFO - Chain [1] done processing\n"
     ]
    },
    {
     "name": "stdout",
     "output_type": "stream",
     "text": [
      "RMSE for epoch 51 is 48.37758131383588\n",
      "Running 52 / 128\n"
     ]
    },
    {
     "name": "stderr",
     "output_type": "stream",
     "text": [
      "21:05:26 - cmdstanpy - INFO - Chain [1] start processing\n",
      "21:05:26 - cmdstanpy - INFO - Chain [1] done processing\n"
     ]
    },
    {
     "name": "stdout",
     "output_type": "stream",
     "text": [
      "RMSE for epoch 52 is 48.419223503170016\n",
      "Running 53 / 128\n"
     ]
    },
    {
     "name": "stderr",
     "output_type": "stream",
     "text": [
      "21:05:42 - cmdstanpy - INFO - Chain [1] start processing\n",
      "21:05:42 - cmdstanpy - INFO - Chain [1] done processing\n"
     ]
    },
    {
     "name": "stdout",
     "output_type": "stream",
     "text": [
      "RMSE for epoch 53 is 49.16691452339314\n",
      "Running 54 / 128\n"
     ]
    },
    {
     "name": "stderr",
     "output_type": "stream",
     "text": [
      "21:05:55 - cmdstanpy - INFO - Chain [1] start processing\n",
      "21:05:55 - cmdstanpy - INFO - Chain [1] done processing\n"
     ]
    },
    {
     "name": "stdout",
     "output_type": "stream",
     "text": [
      "RMSE for epoch 54 is 49.183127509550175\n",
      "Running 55 / 128\n"
     ]
    },
    {
     "name": "stderr",
     "output_type": "stream",
     "text": [
      "21:06:11 - cmdstanpy - INFO - Chain [1] start processing\n",
      "21:06:11 - cmdstanpy - INFO - Chain [1] done processing\n"
     ]
    },
    {
     "name": "stdout",
     "output_type": "stream",
     "text": [
      "RMSE for epoch 55 is 49.08250436215544\n",
      "Running 56 / 128\n"
     ]
    },
    {
     "name": "stderr",
     "output_type": "stream",
     "text": [
      "21:06:27 - cmdstanpy - INFO - Chain [1] start processing\n",
      "21:06:28 - cmdstanpy - INFO - Chain [1] done processing\n"
     ]
    },
    {
     "name": "stdout",
     "output_type": "stream",
     "text": [
      "RMSE for epoch 56 is 48.86422845389096\n",
      "Running 57 / 128\n"
     ]
    },
    {
     "name": "stderr",
     "output_type": "stream",
     "text": [
      "21:06:43 - cmdstanpy - INFO - Chain [1] start processing\n",
      "21:06:44 - cmdstanpy - INFO - Chain [1] done processing\n"
     ]
    },
    {
     "name": "stdout",
     "output_type": "stream",
     "text": [
      "RMSE for epoch 57 is 48.362882409169615\n",
      "Running 58 / 128\n"
     ]
    },
    {
     "name": "stderr",
     "output_type": "stream",
     "text": [
      "21:06:58 - cmdstanpy - INFO - Chain [1] start processing\n",
      "21:06:58 - cmdstanpy - INFO - Chain [1] done processing\n"
     ]
    },
    {
     "name": "stdout",
     "output_type": "stream",
     "text": [
      "RMSE for epoch 58 is 48.37545157307342\n",
      "Running 59 / 128\n"
     ]
    },
    {
     "name": "stderr",
     "output_type": "stream",
     "text": [
      "21:07:12 - cmdstanpy - INFO - Chain [1] start processing\n",
      "21:07:12 - cmdstanpy - INFO - Chain [1] done processing\n"
     ]
    },
    {
     "name": "stdout",
     "output_type": "stream",
     "text": [
      "RMSE for epoch 59 is 48.276362326213466\n",
      "Running 60 / 128\n"
     ]
    },
    {
     "name": "stderr",
     "output_type": "stream",
     "text": [
      "21:07:27 - cmdstanpy - INFO - Chain [1] start processing\n",
      "21:07:27 - cmdstanpy - INFO - Chain [1] done processing\n"
     ]
    },
    {
     "name": "stdout",
     "output_type": "stream",
     "text": [
      "RMSE for epoch 60 is 48.829043757161976\n",
      "Running 61 / 128\n"
     ]
    },
    {
     "name": "stderr",
     "output_type": "stream",
     "text": [
      "21:07:41 - cmdstanpy - INFO - Chain [1] start processing\n",
      "21:07:42 - cmdstanpy - INFO - Chain [1] done processing\n"
     ]
    },
    {
     "name": "stdout",
     "output_type": "stream",
     "text": [
      "RMSE for epoch 61 is 49.03962582046755\n",
      "Running 62 / 128\n"
     ]
    },
    {
     "name": "stderr",
     "output_type": "stream",
     "text": [
      "21:07:56 - cmdstanpy - INFO - Chain [1] start processing\n",
      "21:07:57 - cmdstanpy - INFO - Chain [1] done processing\n"
     ]
    },
    {
     "name": "stdout",
     "output_type": "stream",
     "text": [
      "RMSE for epoch 62 is 49.4215569636979\n",
      "Running 63 / 128\n"
     ]
    },
    {
     "name": "stderr",
     "output_type": "stream",
     "text": [
      "21:08:12 - cmdstanpy - INFO - Chain [1] start processing\n",
      "21:08:12 - cmdstanpy - INFO - Chain [1] done processing\n"
     ]
    },
    {
     "name": "stdout",
     "output_type": "stream",
     "text": [
      "RMSE for epoch 63 is 49.55030373406989\n",
      "Running 64 / 128\n"
     ]
    },
    {
     "name": "stderr",
     "output_type": "stream",
     "text": [
      "21:08:27 - cmdstanpy - INFO - Chain [1] start processing\n",
      "21:08:27 - cmdstanpy - INFO - Chain [1] done processing\n"
     ]
    },
    {
     "name": "stdout",
     "output_type": "stream",
     "text": [
      "RMSE for epoch 64 is 49.168146255874426\n",
      "Running 65 / 128\n"
     ]
    },
    {
     "name": "stderr",
     "output_type": "stream",
     "text": [
      "21:08:42 - cmdstanpy - INFO - Chain [1] start processing\n",
      "21:08:43 - cmdstanpy - INFO - Chain [1] done processing\n"
     ]
    },
    {
     "name": "stdout",
     "output_type": "stream",
     "text": [
      "RMSE for epoch 65 is 49.910960283182796\n",
      "Running 66 / 128\n"
     ]
    },
    {
     "name": "stderr",
     "output_type": "stream",
     "text": [
      "21:09:00 - cmdstanpy - INFO - Chain [1] start processing\n",
      "21:09:01 - cmdstanpy - INFO - Chain [1] done processing\n"
     ]
    },
    {
     "name": "stdout",
     "output_type": "stream",
     "text": [
      "RMSE for epoch 66 is 49.901114739164846\n",
      "Running 67 / 128\n"
     ]
    },
    {
     "name": "stderr",
     "output_type": "stream",
     "text": [
      "21:09:21 - cmdstanpy - INFO - Chain [1] start processing\n",
      "21:09:22 - cmdstanpy - INFO - Chain [1] done processing\n"
     ]
    },
    {
     "name": "stdout",
     "output_type": "stream",
     "text": [
      "RMSE for epoch 67 is 50.07432964488339\n",
      "Running 68 / 128\n"
     ]
    },
    {
     "name": "stderr",
     "output_type": "stream",
     "text": [
      "21:09:40 - cmdstanpy - INFO - Chain [1] start processing\n",
      "21:09:41 - cmdstanpy - INFO - Chain [1] done processing\n"
     ]
    },
    {
     "name": "stdout",
     "output_type": "stream",
     "text": [
      "RMSE for epoch 68 is 50.029867365661666\n",
      "Running 69 / 128\n"
     ]
    },
    {
     "name": "stderr",
     "output_type": "stream",
     "text": [
      "21:10:00 - cmdstanpy - INFO - Chain [1] start processing\n",
      "21:10:01 - cmdstanpy - INFO - Chain [1] done processing\n"
     ]
    },
    {
     "name": "stdout",
     "output_type": "stream",
     "text": [
      "RMSE for epoch 69 is 53.661950632390884\n",
      "Running 70 / 128\n"
     ]
    },
    {
     "name": "stderr",
     "output_type": "stream",
     "text": [
      "21:10:21 - cmdstanpy - INFO - Chain [1] start processing\n",
      "21:10:21 - cmdstanpy - INFO - Chain [1] done processing\n"
     ]
    },
    {
     "name": "stdout",
     "output_type": "stream",
     "text": [
      "RMSE for epoch 70 is 53.73929694580984\n",
      "Running 71 / 128\n"
     ]
    },
    {
     "name": "stderr",
     "output_type": "stream",
     "text": [
      "21:10:38 - cmdstanpy - INFO - Chain [1] start processing\n",
      "21:10:39 - cmdstanpy - INFO - Chain [1] done processing\n"
     ]
    },
    {
     "name": "stdout",
     "output_type": "stream",
     "text": [
      "RMSE for epoch 71 is 53.717080249352314\n",
      "Running 72 / 128\n"
     ]
    },
    {
     "name": "stderr",
     "output_type": "stream",
     "text": [
      "21:10:58 - cmdstanpy - INFO - Chain [1] start processing\n",
      "21:10:59 - cmdstanpy - INFO - Chain [1] done processing\n"
     ]
    },
    {
     "name": "stdout",
     "output_type": "stream",
     "text": [
      "RMSE for epoch 72 is 53.78734444751383\n",
      "Running 73 / 128\n"
     ]
    },
    {
     "name": "stderr",
     "output_type": "stream",
     "text": [
      "21:11:18 - cmdstanpy - INFO - Chain [1] start processing\n",
      "21:11:19 - cmdstanpy - INFO - Chain [1] done processing\n"
     ]
    },
    {
     "name": "stdout",
     "output_type": "stream",
     "text": [
      "RMSE for epoch 73 is 49.93084964419454\n",
      "Running 74 / 128\n"
     ]
    },
    {
     "name": "stderr",
     "output_type": "stream",
     "text": [
      "21:11:38 - cmdstanpy - INFO - Chain [1] start processing\n",
      "21:11:39 - cmdstanpy - INFO - Chain [1] done processing\n"
     ]
    },
    {
     "name": "stdout",
     "output_type": "stream",
     "text": [
      "RMSE for epoch 74 is 50.0910102987554\n",
      "Running 75 / 128\n"
     ]
    },
    {
     "name": "stderr",
     "output_type": "stream",
     "text": [
      "21:11:58 - cmdstanpy - INFO - Chain [1] start processing\n",
      "21:11:59 - cmdstanpy - INFO - Chain [1] done processing\n"
     ]
    },
    {
     "name": "stdout",
     "output_type": "stream",
     "text": [
      "RMSE for epoch 75 is 50.17482778683199\n",
      "Running 76 / 128\n"
     ]
    },
    {
     "name": "stderr",
     "output_type": "stream",
     "text": [
      "21:12:19 - cmdstanpy - INFO - Chain [1] start processing\n",
      "21:12:20 - cmdstanpy - INFO - Chain [1] done processing\n"
     ]
    },
    {
     "name": "stdout",
     "output_type": "stream",
     "text": [
      "RMSE for epoch 76 is 49.9556025872118\n",
      "Running 77 / 128\n"
     ]
    },
    {
     "name": "stderr",
     "output_type": "stream",
     "text": [
      "21:12:39 - cmdstanpy - INFO - Chain [1] start processing\n",
      "21:12:40 - cmdstanpy - INFO - Chain [1] done processing\n"
     ]
    },
    {
     "name": "stdout",
     "output_type": "stream",
     "text": [
      "RMSE for epoch 77 is 54.01962330006175\n",
      "Running 78 / 128\n"
     ]
    },
    {
     "name": "stderr",
     "output_type": "stream",
     "text": [
      "21:13:01 - cmdstanpy - INFO - Chain [1] start processing\n",
      "21:13:02 - cmdstanpy - INFO - Chain [1] done processing\n"
     ]
    },
    {
     "name": "stdout",
     "output_type": "stream",
     "text": [
      "RMSE for epoch 78 is 53.75749881013736\n",
      "Running 79 / 128\n"
     ]
    },
    {
     "name": "stderr",
     "output_type": "stream",
     "text": [
      "21:13:19 - cmdstanpy - INFO - Chain [1] start processing\n",
      "21:13:20 - cmdstanpy - INFO - Chain [1] done processing\n"
     ]
    },
    {
     "name": "stdout",
     "output_type": "stream",
     "text": [
      "RMSE for epoch 79 is 53.87900814021837\n",
      "Running 80 / 128\n"
     ]
    },
    {
     "name": "stderr",
     "output_type": "stream",
     "text": [
      "21:13:39 - cmdstanpy - INFO - Chain [1] start processing\n",
      "21:13:40 - cmdstanpy - INFO - Chain [1] done processing\n"
     ]
    },
    {
     "name": "stdout",
     "output_type": "stream",
     "text": [
      "RMSE for epoch 80 is 53.79821543412101\n",
      "Running 81 / 128\n"
     ]
    },
    {
     "name": "stderr",
     "output_type": "stream",
     "text": [
      "21:13:57 - cmdstanpy - INFO - Chain [1] start processing\n",
      "21:13:58 - cmdstanpy - INFO - Chain [1] done processing\n"
     ]
    },
    {
     "name": "stdout",
     "output_type": "stream",
     "text": [
      "RMSE for epoch 81 is 49.80674045174063\n",
      "Running 82 / 128\n"
     ]
    },
    {
     "name": "stderr",
     "output_type": "stream",
     "text": [
      "21:14:17 - cmdstanpy - INFO - Chain [1] start processing\n",
      "21:14:18 - cmdstanpy - INFO - Chain [1] done processing\n"
     ]
    },
    {
     "name": "stdout",
     "output_type": "stream",
     "text": [
      "RMSE for epoch 82 is 50.04920528211538\n",
      "Running 83 / 128\n"
     ]
    },
    {
     "name": "stderr",
     "output_type": "stream",
     "text": [
      "21:14:38 - cmdstanpy - INFO - Chain [1] start processing\n",
      "21:14:39 - cmdstanpy - INFO - Chain [1] done processing\n"
     ]
    },
    {
     "name": "stdout",
     "output_type": "stream",
     "text": [
      "RMSE for epoch 83 is 49.76867957958241\n",
      "Running 84 / 128\n"
     ]
    },
    {
     "name": "stderr",
     "output_type": "stream",
     "text": [
      "21:14:59 - cmdstanpy - INFO - Chain [1] start processing\n",
      "21:14:59 - cmdstanpy - INFO - Chain [1] done processing\n"
     ]
    },
    {
     "name": "stdout",
     "output_type": "stream",
     "text": [
      "RMSE for epoch 84 is 50.079884433261256\n",
      "Running 85 / 128\n"
     ]
    },
    {
     "name": "stderr",
     "output_type": "stream",
     "text": [
      "21:15:19 - cmdstanpy - INFO - Chain [1] start processing\n",
      "21:15:20 - cmdstanpy - INFO - Chain [1] done processing\n"
     ]
    },
    {
     "name": "stdout",
     "output_type": "stream",
     "text": [
      "RMSE for epoch 85 is 53.860167030284565\n",
      "Running 86 / 128\n"
     ]
    },
    {
     "name": "stderr",
     "output_type": "stream",
     "text": [
      "21:15:38 - cmdstanpy - INFO - Chain [1] start processing\n",
      "21:15:39 - cmdstanpy - INFO - Chain [1] done processing\n"
     ]
    },
    {
     "name": "stdout",
     "output_type": "stream",
     "text": [
      "RMSE for epoch 86 is 53.5857485600058\n",
      "Running 87 / 128\n"
     ]
    },
    {
     "name": "stderr",
     "output_type": "stream",
     "text": [
      "21:15:57 - cmdstanpy - INFO - Chain [1] start processing\n",
      "21:15:58 - cmdstanpy - INFO - Chain [1] done processing\n"
     ]
    },
    {
     "name": "stdout",
     "output_type": "stream",
     "text": [
      "RMSE for epoch 87 is 53.807023424886246\n",
      "Running 88 / 128\n"
     ]
    },
    {
     "name": "stderr",
     "output_type": "stream",
     "text": [
      "21:16:19 - cmdstanpy - INFO - Chain [1] start processing\n",
      "21:16:20 - cmdstanpy - INFO - Chain [1] done processing\n"
     ]
    },
    {
     "name": "stdout",
     "output_type": "stream",
     "text": [
      "RMSE for epoch 88 is 53.7787023802389\n",
      "Running 89 / 128\n"
     ]
    },
    {
     "name": "stderr",
     "output_type": "stream",
     "text": [
      "21:16:40 - cmdstanpy - INFO - Chain [1] start processing\n",
      "21:16:41 - cmdstanpy - INFO - Chain [1] done processing\n"
     ]
    },
    {
     "name": "stdout",
     "output_type": "stream",
     "text": [
      "RMSE for epoch 89 is 49.94009698032663\n",
      "Running 90 / 128\n"
     ]
    },
    {
     "name": "stderr",
     "output_type": "stream",
     "text": [
      "21:17:00 - cmdstanpy - INFO - Chain [1] start processing\n",
      "21:17:01 - cmdstanpy - INFO - Chain [1] done processing\n"
     ]
    },
    {
     "name": "stdout",
     "output_type": "stream",
     "text": [
      "RMSE for epoch 90 is 49.82479714375291\n",
      "Running 91 / 128\n"
     ]
    },
    {
     "name": "stderr",
     "output_type": "stream",
     "text": [
      "21:17:20 - cmdstanpy - INFO - Chain [1] start processing\n",
      "21:17:21 - cmdstanpy - INFO - Chain [1] done processing\n"
     ]
    },
    {
     "name": "stdout",
     "output_type": "stream",
     "text": [
      "RMSE for epoch 91 is 49.94444613273659\n",
      "Running 92 / 128\n"
     ]
    },
    {
     "name": "stderr",
     "output_type": "stream",
     "text": [
      "21:17:40 - cmdstanpy - INFO - Chain [1] start processing\n",
      "21:17:41 - cmdstanpy - INFO - Chain [1] done processing\n"
     ]
    },
    {
     "name": "stdout",
     "output_type": "stream",
     "text": [
      "RMSE for epoch 92 is 50.05597524165752\n",
      "Running 93 / 128\n"
     ]
    },
    {
     "name": "stderr",
     "output_type": "stream",
     "text": [
      "21:17:59 - cmdstanpy - INFO - Chain [1] start processing\n",
      "21:18:00 - cmdstanpy - INFO - Chain [1] done processing\n"
     ]
    },
    {
     "name": "stdout",
     "output_type": "stream",
     "text": [
      "RMSE for epoch 93 is 53.57946754154754\n",
      "Running 94 / 128\n"
     ]
    },
    {
     "name": "stderr",
     "output_type": "stream",
     "text": [
      "21:18:18 - cmdstanpy - INFO - Chain [1] start processing\n",
      "21:18:19 - cmdstanpy - INFO - Chain [1] done processing\n"
     ]
    },
    {
     "name": "stdout",
     "output_type": "stream",
     "text": [
      "RMSE for epoch 94 is 53.73784023084828\n",
      "Running 95 / 128\n"
     ]
    },
    {
     "name": "stderr",
     "output_type": "stream",
     "text": [
      "21:18:37 - cmdstanpy - INFO - Chain [1] start processing\n",
      "21:18:37 - cmdstanpy - INFO - Chain [1] done processing\n"
     ]
    },
    {
     "name": "stdout",
     "output_type": "stream",
     "text": [
      "RMSE for epoch 95 is 53.88097979702235\n",
      "Running 96 / 128\n"
     ]
    },
    {
     "name": "stderr",
     "output_type": "stream",
     "text": [
      "21:18:56 - cmdstanpy - INFO - Chain [1] start processing\n",
      "21:18:57 - cmdstanpy - INFO - Chain [1] done processing\n"
     ]
    },
    {
     "name": "stdout",
     "output_type": "stream",
     "text": [
      "RMSE for epoch 96 is 53.96507635977413\n",
      "Running 97 / 128\n"
     ]
    },
    {
     "name": "stderr",
     "output_type": "stream",
     "text": [
      "21:19:17 - cmdstanpy - INFO - Chain [1] start processing\n",
      "21:19:18 - cmdstanpy - INFO - Chain [1] done processing\n"
     ]
    },
    {
     "name": "stdout",
     "output_type": "stream",
     "text": [
      "RMSE for epoch 97 is 49.54069048255393\n",
      "Running 98 / 128\n"
     ]
    },
    {
     "name": "stderr",
     "output_type": "stream",
     "text": [
      "21:19:42 - cmdstanpy - INFO - Chain [1] start processing\n",
      "21:19:43 - cmdstanpy - INFO - Chain [1] done processing\n"
     ]
    },
    {
     "name": "stdout",
     "output_type": "stream",
     "text": [
      "RMSE for epoch 98 is 49.37956771565091\n",
      "Running 99 / 128\n"
     ]
    },
    {
     "name": "stderr",
     "output_type": "stream",
     "text": [
      "21:20:05 - cmdstanpy - INFO - Chain [1] start processing\n",
      "21:20:06 - cmdstanpy - INFO - Chain [1] done processing\n"
     ]
    },
    {
     "name": "stdout",
     "output_type": "stream",
     "text": [
      "RMSE for epoch 99 is 49.499470771181734\n",
      "Running 100 / 128\n"
     ]
    },
    {
     "name": "stderr",
     "output_type": "stream",
     "text": [
      "21:20:29 - cmdstanpy - INFO - Chain [1] start processing\n",
      "21:20:30 - cmdstanpy - INFO - Chain [1] done processing\n"
     ]
    },
    {
     "name": "stdout",
     "output_type": "stream",
     "text": [
      "RMSE for epoch 100 is 49.49011447262729\n",
      "Running 101 / 128\n"
     ]
    },
    {
     "name": "stderr",
     "output_type": "stream",
     "text": [
      "21:20:55 - cmdstanpy - INFO - Chain [1] start processing\n",
      "21:20:56 - cmdstanpy - INFO - Chain [1] done processing\n"
     ]
    },
    {
     "name": "stdout",
     "output_type": "stream",
     "text": [
      "RMSE for epoch 101 is 53.32297680896327\n",
      "Running 102 / 128\n"
     ]
    },
    {
     "name": "stderr",
     "output_type": "stream",
     "text": [
      "21:21:18 - cmdstanpy - INFO - Chain [1] start processing\n",
      "21:21:19 - cmdstanpy - INFO - Chain [1] done processing\n"
     ]
    },
    {
     "name": "stdout",
     "output_type": "stream",
     "text": [
      "RMSE for epoch 102 is 53.52182483429453\n",
      "Running 103 / 128\n"
     ]
    },
    {
     "name": "stderr",
     "output_type": "stream",
     "text": [
      "21:21:39 - cmdstanpy - INFO - Chain [1] start processing\n",
      "21:21:41 - cmdstanpy - INFO - Chain [1] done processing\n"
     ]
    },
    {
     "name": "stdout",
     "output_type": "stream",
     "text": [
      "RMSE for epoch 103 is 53.37527955532264\n",
      "Running 104 / 128\n"
     ]
    },
    {
     "name": "stderr",
     "output_type": "stream",
     "text": [
      "21:22:02 - cmdstanpy - INFO - Chain [1] start processing\n",
      "21:22:04 - cmdstanpy - INFO - Chain [1] done processing\n"
     ]
    },
    {
     "name": "stdout",
     "output_type": "stream",
     "text": [
      "RMSE for epoch 104 is 53.36085179995141\n",
      "Running 105 / 128\n"
     ]
    },
    {
     "name": "stderr",
     "output_type": "stream",
     "text": [
      "21:22:26 - cmdstanpy - INFO - Chain [1] start processing\n",
      "21:22:27 - cmdstanpy - INFO - Chain [1] done processing\n"
     ]
    },
    {
     "name": "stdout",
     "output_type": "stream",
     "text": [
      "RMSE for epoch 105 is 49.54767181031839\n",
      "Running 106 / 128\n"
     ]
    },
    {
     "name": "stderr",
     "output_type": "stream",
     "text": [
      "21:22:49 - cmdstanpy - INFO - Chain [1] start processing\n",
      "21:22:51 - cmdstanpy - INFO - Chain [1] done processing\n"
     ]
    },
    {
     "name": "stdout",
     "output_type": "stream",
     "text": [
      "RMSE for epoch 106 is 49.41446818331339\n",
      "Running 107 / 128\n"
     ]
    },
    {
     "name": "stderr",
     "output_type": "stream",
     "text": [
      "21:23:16 - cmdstanpy - INFO - Chain [1] start processing\n",
      "21:23:17 - cmdstanpy - INFO - Chain [1] done processing\n"
     ]
    },
    {
     "name": "stdout",
     "output_type": "stream",
     "text": [
      "RMSE for epoch 107 is 49.54745272861315\n",
      "Running 108 / 128\n"
     ]
    },
    {
     "name": "stderr",
     "output_type": "stream",
     "text": [
      "21:23:40 - cmdstanpy - INFO - Chain [1] start processing\n",
      "21:23:42 - cmdstanpy - INFO - Chain [1] done processing\n"
     ]
    },
    {
     "name": "stdout",
     "output_type": "stream",
     "text": [
      "RMSE for epoch 108 is 49.55403835457431\n",
      "Running 109 / 128\n"
     ]
    },
    {
     "name": "stderr",
     "output_type": "stream",
     "text": [
      "21:24:05 - cmdstanpy - INFO - Chain [1] start processing\n",
      "21:24:06 - cmdstanpy - INFO - Chain [1] done processing\n"
     ]
    },
    {
     "name": "stdout",
     "output_type": "stream",
     "text": [
      "RMSE for epoch 109 is 53.47789516624173\n",
      "Running 110 / 128\n"
     ]
    },
    {
     "name": "stderr",
     "output_type": "stream",
     "text": [
      "21:24:27 - cmdstanpy - INFO - Chain [1] start processing\n",
      "21:24:28 - cmdstanpy - INFO - Chain [1] done processing\n"
     ]
    },
    {
     "name": "stdout",
     "output_type": "stream",
     "text": [
      "RMSE for epoch 110 is 53.27885114347597\n",
      "Running 111 / 128\n"
     ]
    },
    {
     "name": "stderr",
     "output_type": "stream",
     "text": [
      "21:24:50 - cmdstanpy - INFO - Chain [1] start processing\n",
      "21:24:52 - cmdstanpy - INFO - Chain [1] done processing\n"
     ]
    },
    {
     "name": "stdout",
     "output_type": "stream",
     "text": [
      "RMSE for epoch 111 is 53.295144383926605\n",
      "Running 112 / 128\n"
     ]
    },
    {
     "name": "stderr",
     "output_type": "stream",
     "text": [
      "21:25:15 - cmdstanpy - INFO - Chain [1] start processing\n",
      "21:25:17 - cmdstanpy - INFO - Chain [1] done processing\n"
     ]
    },
    {
     "name": "stdout",
     "output_type": "stream",
     "text": [
      "RMSE for epoch 112 is 53.57553945140023\n",
      "Running 113 / 128\n"
     ]
    },
    {
     "name": "stderr",
     "output_type": "stream",
     "text": [
      "21:25:37 - cmdstanpy - INFO - Chain [1] start processing\n",
      "21:25:38 - cmdstanpy - INFO - Chain [1] done processing\n"
     ]
    },
    {
     "name": "stdout",
     "output_type": "stream",
     "text": [
      "RMSE for epoch 113 is 49.62102098224799\n",
      "Running 114 / 128\n"
     ]
    },
    {
     "name": "stderr",
     "output_type": "stream",
     "text": [
      "21:26:02 - cmdstanpy - INFO - Chain [1] start processing\n",
      "21:26:03 - cmdstanpy - INFO - Chain [1] done processing\n"
     ]
    },
    {
     "name": "stdout",
     "output_type": "stream",
     "text": [
      "RMSE for epoch 114 is 49.57136846780582\n",
      "Running 115 / 128\n"
     ]
    },
    {
     "name": "stderr",
     "output_type": "stream",
     "text": [
      "21:26:28 - cmdstanpy - INFO - Chain [1] start processing\n",
      "21:26:29 - cmdstanpy - INFO - Chain [1] done processing\n"
     ]
    },
    {
     "name": "stdout",
     "output_type": "stream",
     "text": [
      "RMSE for epoch 115 is 49.51931040013687\n",
      "Running 116 / 128\n"
     ]
    },
    {
     "name": "stderr",
     "output_type": "stream",
     "text": [
      "21:26:53 - cmdstanpy - INFO - Chain [1] start processing\n",
      "21:26:54 - cmdstanpy - INFO - Chain [1] done processing\n"
     ]
    },
    {
     "name": "stdout",
     "output_type": "stream",
     "text": [
      "RMSE for epoch 116 is 49.42042216491779\n",
      "Running 117 / 128\n"
     ]
    },
    {
     "name": "stderr",
     "output_type": "stream",
     "text": [
      "21:27:17 - cmdstanpy - INFO - Chain [1] start processing\n",
      "21:27:18 - cmdstanpy - INFO - Chain [1] done processing\n"
     ]
    },
    {
     "name": "stdout",
     "output_type": "stream",
     "text": [
      "RMSE for epoch 117 is 53.45396878984945\n",
      "Running 118 / 128\n"
     ]
    },
    {
     "name": "stderr",
     "output_type": "stream",
     "text": [
      "21:27:39 - cmdstanpy - INFO - Chain [1] start processing\n",
      "21:27:40 - cmdstanpy - INFO - Chain [1] done processing\n"
     ]
    },
    {
     "name": "stdout",
     "output_type": "stream",
     "text": [
      "RMSE for epoch 118 is 53.44036687908761\n",
      "Running 119 / 128\n"
     ]
    },
    {
     "name": "stderr",
     "output_type": "stream",
     "text": [
      "21:28:02 - cmdstanpy - INFO - Chain [1] start processing\n",
      "21:28:03 - cmdstanpy - INFO - Chain [1] done processing\n"
     ]
    },
    {
     "name": "stdout",
     "output_type": "stream",
     "text": [
      "RMSE for epoch 119 is 53.23066539744531\n",
      "Running 120 / 128\n"
     ]
    },
    {
     "name": "stderr",
     "output_type": "stream",
     "text": [
      "21:28:24 - cmdstanpy - INFO - Chain [1] start processing\n",
      "21:28:26 - cmdstanpy - INFO - Chain [1] done processing\n"
     ]
    },
    {
     "name": "stdout",
     "output_type": "stream",
     "text": [
      "RMSE for epoch 120 is 53.40875118169456\n",
      "Running 121 / 128\n"
     ]
    },
    {
     "name": "stderr",
     "output_type": "stream",
     "text": [
      "21:28:49 - cmdstanpy - INFO - Chain [1] start processing\n",
      "21:28:50 - cmdstanpy - INFO - Chain [1] done processing\n"
     ]
    },
    {
     "name": "stdout",
     "output_type": "stream",
     "text": [
      "RMSE for epoch 121 is 49.5638683245561\n",
      "Running 122 / 128\n"
     ]
    },
    {
     "name": "stderr",
     "output_type": "stream",
     "text": [
      "21:29:14 - cmdstanpy - INFO - Chain [1] start processing\n",
      "21:29:15 - cmdstanpy - INFO - Chain [1] done processing\n"
     ]
    },
    {
     "name": "stdout",
     "output_type": "stream",
     "text": [
      "RMSE for epoch 122 is 49.545245924347135\n",
      "Running 123 / 128\n"
     ]
    },
    {
     "name": "stderr",
     "output_type": "stream",
     "text": [
      "21:29:39 - cmdstanpy - INFO - Chain [1] start processing\n",
      "21:29:40 - cmdstanpy - INFO - Chain [1] done processing\n"
     ]
    },
    {
     "name": "stdout",
     "output_type": "stream",
     "text": [
      "RMSE for epoch 123 is 49.52362007540417\n",
      "Running 124 / 128\n"
     ]
    },
    {
     "name": "stderr",
     "output_type": "stream",
     "text": [
      "21:30:02 - cmdstanpy - INFO - Chain [1] start processing\n",
      "21:30:04 - cmdstanpy - INFO - Chain [1] done processing\n"
     ]
    },
    {
     "name": "stdout",
     "output_type": "stream",
     "text": [
      "RMSE for epoch 124 is 49.492092296323996\n",
      "Running 125 / 128\n"
     ]
    },
    {
     "name": "stderr",
     "output_type": "stream",
     "text": [
      "21:30:29 - cmdstanpy - INFO - Chain [1] start processing\n",
      "21:30:30 - cmdstanpy - INFO - Chain [1] done processing\n"
     ]
    },
    {
     "name": "stdout",
     "output_type": "stream",
     "text": [
      "RMSE for epoch 125 is 53.38118056541458\n",
      "Running 126 / 128\n"
     ]
    },
    {
     "name": "stderr",
     "output_type": "stream",
     "text": [
      "21:30:53 - cmdstanpy - INFO - Chain [1] start processing\n",
      "21:30:55 - cmdstanpy - INFO - Chain [1] done processing\n"
     ]
    },
    {
     "name": "stdout",
     "output_type": "stream",
     "text": [
      "RMSE for epoch 126 is 53.501925958486844\n",
      "Running 127 / 128\n"
     ]
    },
    {
     "name": "stderr",
     "output_type": "stream",
     "text": [
      "21:31:17 - cmdstanpy - INFO - Chain [1] start processing\n",
      "21:31:19 - cmdstanpy - INFO - Chain [1] done processing\n"
     ]
    },
    {
     "name": "stdout",
     "output_type": "stream",
     "text": [
      "RMSE for epoch 127 is 53.15809010335134\n",
      "Running 128 / 128\n"
     ]
    },
    {
     "name": "stderr",
     "output_type": "stream",
     "text": [
      "21:31:41 - cmdstanpy - INFO - Chain [1] start processing\n",
      "21:31:42 - cmdstanpy - INFO - Chain [1] done processing\n"
     ]
    },
    {
     "name": "stdout",
     "output_type": "stream",
     "text": [
      "RMSE for epoch 128 is 53.46222339077253\n"
     ]
    }
   ],
   "source": [
    "rmse = []\n",
    "\n",
    "for i, params in enumerate(grid, start = 1):\n",
    "\n",
    "    print(f\"Running {i} / {len(list(grid))}\")\n",
    "    \n",
    "    #Model\n",
    "    model = Prophet(holidays=holidays,\n",
    "                    seasonality_mode = params[\"seasonality_mode\"],\n",
    "                    seasonality_prior_scale = params[\"seasonality_prior_scale\"],\n",
    "                    holidays_prior_scale = params[\"holidays_prior_scale\"],\n",
    "                    changepoint_prior_scale = params[\"changepoint_prior_scale\"])\n",
    "    model.add_regressor(\"Christmas\")\n",
    "    model.add_regressor(\"Temperature\")\n",
    "    model.add_regressor(\"Marketing\")\n",
    "\n",
    "    model.fit(df)\n",
    "\n",
    "    #CV\n",
    "    df_cv = cross_validation(model,\n",
    "                         horizon = \"31 days\",\n",
    "                         period = \"16 days\",\n",
    "                         initial = \"2012 days\", #df.shape[0] - 180 (6 months)\n",
    "                         parallel = \"processes\")\n",
    "\n",
    "    epoch_rmse = performance_metrics(df_cv)[\"rmse\"].mean()\n",
    "    print(f\"RMSE for epoch {i} is {epoch_rmse}\")\n",
    "    #Measure Error and Store\n",
    "    rmse.append(epoch_rmse)"
   ]
  },
  {
   "cell_type": "code",
   "execution_count": 21,
   "metadata": {},
   "outputs": [
    {
     "data": {
      "text/html": [
       "<div>\n",
       "<style scoped>\n",
       "    .dataframe tbody tr th:only-of-type {\n",
       "        vertical-align: middle;\n",
       "    }\n",
       "\n",
       "    .dataframe tbody tr th {\n",
       "        vertical-align: top;\n",
       "    }\n",
       "\n",
       "    .dataframe thead th {\n",
       "        text-align: right;\n",
       "    }\n",
       "</style>\n",
       "<table border=\"1\" class=\"dataframe\">\n",
       "  <thead>\n",
       "    <tr style=\"text-align: right;\">\n",
       "      <th></th>\n",
       "      <th>changepoint_prior_scale</th>\n",
       "      <th>holidays_prior_scale</th>\n",
       "      <th>seasonality_mode</th>\n",
       "      <th>seasonality_prior_scale</th>\n",
       "    </tr>\n",
       "  </thead>\n",
       "  <tbody>\n",
       "    <tr>\n",
       "      <th>0</th>\n",
       "      <td>0.005</td>\n",
       "      <td>5</td>\n",
       "      <td>additive</td>\n",
       "      <td>1</td>\n",
       "    </tr>\n",
       "    <tr>\n",
       "      <th>1</th>\n",
       "      <td>0.005</td>\n",
       "      <td>5</td>\n",
       "      <td>additive</td>\n",
       "      <td>5</td>\n",
       "    </tr>\n",
       "    <tr>\n",
       "      <th>2</th>\n",
       "      <td>0.005</td>\n",
       "      <td>5</td>\n",
       "      <td>additive</td>\n",
       "      <td>10</td>\n",
       "    </tr>\n",
       "    <tr>\n",
       "      <th>3</th>\n",
       "      <td>0.005</td>\n",
       "      <td>5</td>\n",
       "      <td>additive</td>\n",
       "      <td>20</td>\n",
       "    </tr>\n",
       "    <tr>\n",
       "      <th>4</th>\n",
       "      <td>0.005</td>\n",
       "      <td>5</td>\n",
       "      <td>multiplicative</td>\n",
       "      <td>1</td>\n",
       "    </tr>\n",
       "    <tr>\n",
       "      <th>...</th>\n",
       "      <td>...</td>\n",
       "      <td>...</td>\n",
       "      <td>...</td>\n",
       "      <td>...</td>\n",
       "    </tr>\n",
       "    <tr>\n",
       "      <th>123</th>\n",
       "      <td>0.100</td>\n",
       "      <td>25</td>\n",
       "      <td>additive</td>\n",
       "      <td>20</td>\n",
       "    </tr>\n",
       "    <tr>\n",
       "      <th>124</th>\n",
       "      <td>0.100</td>\n",
       "      <td>25</td>\n",
       "      <td>multiplicative</td>\n",
       "      <td>1</td>\n",
       "    </tr>\n",
       "    <tr>\n",
       "      <th>125</th>\n",
       "      <td>0.100</td>\n",
       "      <td>25</td>\n",
       "      <td>multiplicative</td>\n",
       "      <td>5</td>\n",
       "    </tr>\n",
       "    <tr>\n",
       "      <th>126</th>\n",
       "      <td>0.100</td>\n",
       "      <td>25</td>\n",
       "      <td>multiplicative</td>\n",
       "      <td>10</td>\n",
       "    </tr>\n",
       "    <tr>\n",
       "      <th>127</th>\n",
       "      <td>0.100</td>\n",
       "      <td>25</td>\n",
       "      <td>multiplicative</td>\n",
       "      <td>20</td>\n",
       "    </tr>\n",
       "  </tbody>\n",
       "</table>\n",
       "<p>128 rows × 4 columns</p>\n",
       "</div>"
      ],
      "text/plain": [
       "     changepoint_prior_scale  holidays_prior_scale seasonality_mode  \\\n",
       "0                      0.005                     5         additive   \n",
       "1                      0.005                     5         additive   \n",
       "2                      0.005                     5         additive   \n",
       "3                      0.005                     5         additive   \n",
       "4                      0.005                     5   multiplicative   \n",
       "..                       ...                   ...              ...   \n",
       "123                    0.100                    25         additive   \n",
       "124                    0.100                    25   multiplicative   \n",
       "125                    0.100                    25   multiplicative   \n",
       "126                    0.100                    25   multiplicative   \n",
       "127                    0.100                    25   multiplicative   \n",
       "\n",
       "     seasonality_prior_scale  \n",
       "0                          1  \n",
       "1                          5  \n",
       "2                         10  \n",
       "3                         20  \n",
       "4                          1  \n",
       "..                       ...  \n",
       "123                       20  \n",
       "124                        1  \n",
       "125                        5  \n",
       "126                       10  \n",
       "127                       20  \n",
       "\n",
       "[128 rows x 4 columns]"
      ]
     },
     "execution_count": 21,
     "metadata": {},
     "output_type": "execute_result"
    }
   ],
   "source": [
    "results = pd.DataFrame(grid)\n",
    "results"
   ]
  },
  {
   "cell_type": "code",
   "execution_count": 29,
   "metadata": {},
   "outputs": [
    {
     "data": {
      "text/html": [
       "<div>\n",
       "<style scoped>\n",
       "    .dataframe tbody tr th:only-of-type {\n",
       "        vertical-align: middle;\n",
       "    }\n",
       "\n",
       "    .dataframe tbody tr th {\n",
       "        vertical-align: top;\n",
       "    }\n",
       "\n",
       "    .dataframe thead th {\n",
       "        text-align: right;\n",
       "    }\n",
       "</style>\n",
       "<table border=\"1\" class=\"dataframe\">\n",
       "  <thead>\n",
       "    <tr style=\"text-align: right;\">\n",
       "      <th></th>\n",
       "      <th>changepoint_prior_scale</th>\n",
       "      <th>holidays_prior_scale</th>\n",
       "      <th>seasonality_mode</th>\n",
       "      <th>seasonality_prior_scale</th>\n",
       "      <th>rmse</th>\n",
       "    </tr>\n",
       "  </thead>\n",
       "  <tbody>\n",
       "    <tr>\n",
       "      <th>31</th>\n",
       "      <td>0.005</td>\n",
       "      <td>25</td>\n",
       "      <td>multiplicative</td>\n",
       "      <td>20</td>\n",
       "      <td>47.871614</td>\n",
       "    </tr>\n",
       "    <tr>\n",
       "      <th>33</th>\n",
       "      <td>0.010</td>\n",
       "      <td>5</td>\n",
       "      <td>additive</td>\n",
       "      <td>5</td>\n",
       "      <td>48.200164</td>\n",
       "    </tr>\n",
       "    <tr>\n",
       "      <th>70</th>\n",
       "      <td>0.050</td>\n",
       "      <td>5</td>\n",
       "      <td>multiplicative</td>\n",
       "      <td>10</td>\n",
       "      <td>48.256260</td>\n",
       "    </tr>\n",
       "    <tr>\n",
       "      <th>93</th>\n",
       "      <td>0.050</td>\n",
       "      <td>25</td>\n",
       "      <td>multiplicative</td>\n",
       "      <td>5</td>\n",
       "      <td>48.267642</td>\n",
       "    </tr>\n",
       "    <tr>\n",
       "      <th>127</th>\n",
       "      <td>0.100</td>\n",
       "      <td>25</td>\n",
       "      <td>multiplicative</td>\n",
       "      <td>20</td>\n",
       "      <td>48.276362</td>\n",
       "    </tr>\n",
       "    <tr>\n",
       "      <th>...</th>\n",
       "      <td>...</td>\n",
       "      <td>...</td>\n",
       "      <td>...</td>\n",
       "      <td>...</td>\n",
       "      <td>...</td>\n",
       "    </tr>\n",
       "    <tr>\n",
       "      <th>25</th>\n",
       "      <td>0.005</td>\n",
       "      <td>25</td>\n",
       "      <td>additive</td>\n",
       "      <td>5</td>\n",
       "      <td>53.860167</td>\n",
       "    </tr>\n",
       "    <tr>\n",
       "      <th>29</th>\n",
       "      <td>0.005</td>\n",
       "      <td>25</td>\n",
       "      <td>multiplicative</td>\n",
       "      <td>5</td>\n",
       "      <td>53.879008</td>\n",
       "    </tr>\n",
       "    <tr>\n",
       "      <th>4</th>\n",
       "      <td>0.005</td>\n",
       "      <td>5</td>\n",
       "      <td>multiplicative</td>\n",
       "      <td>1</td>\n",
       "      <td>53.880980</td>\n",
       "    </tr>\n",
       "    <tr>\n",
       "      <th>27</th>\n",
       "      <td>0.005</td>\n",
       "      <td>25</td>\n",
       "      <td>additive</td>\n",
       "      <td>20</td>\n",
       "      <td>53.965076</td>\n",
       "    </tr>\n",
       "    <tr>\n",
       "      <th>21</th>\n",
       "      <td>0.005</td>\n",
       "      <td>20</td>\n",
       "      <td>multiplicative</td>\n",
       "      <td>5</td>\n",
       "      <td>54.019623</td>\n",
       "    </tr>\n",
       "  </tbody>\n",
       "</table>\n",
       "<p>128 rows × 5 columns</p>\n",
       "</div>"
      ],
      "text/plain": [
       "     changepoint_prior_scale  holidays_prior_scale seasonality_mode  \\\n",
       "31                     0.005                    25   multiplicative   \n",
       "33                     0.010                     5         additive   \n",
       "70                     0.050                     5   multiplicative   \n",
       "93                     0.050                    25   multiplicative   \n",
       "127                    0.100                    25   multiplicative   \n",
       "..                       ...                   ...              ...   \n",
       "25                     0.005                    25         additive   \n",
       "29                     0.005                    25   multiplicative   \n",
       "4                      0.005                     5   multiplicative   \n",
       "27                     0.005                    25         additive   \n",
       "21                     0.005                    20   multiplicative   \n",
       "\n",
       "     seasonality_prior_scale       rmse  \n",
       "31                        20  47.871614  \n",
       "33                         5  48.200164  \n",
       "70                        10  48.256260  \n",
       "93                         5  48.267642  \n",
       "127                       20  48.276362  \n",
       "..                       ...        ...  \n",
       "25                         5  53.860167  \n",
       "29                         5  53.879008  \n",
       "4                          1  53.880980  \n",
       "27                        20  53.965076  \n",
       "21                         5  54.019623  \n",
       "\n",
       "[128 rows x 5 columns]"
      ]
     },
     "execution_count": 29,
     "metadata": {},
     "output_type": "execute_result"
    }
   ],
   "source": [
    "results[\"rmse\"] = rmse\n",
    "results.sort_values(by = \"rmse\", ascending = True, inplace=True)\n",
    "results"
   ]
  },
  {
   "cell_type": "code",
   "execution_count": 46,
   "metadata": {},
   "outputs": [],
   "source": [
    "best_results = results.loc[0, :].to_frame().transpose()\n",
    "best_results.to_csv(\"best_results.csv\", index=False)"
   ]
  },
  {
   "cell_type": "code",
   "execution_count": 47,
   "metadata": {},
   "outputs": [
    {
     "data": {
      "text/html": [
       "<div>\n",
       "<style scoped>\n",
       "    .dataframe tbody tr th:only-of-type {\n",
       "        vertical-align: middle;\n",
       "    }\n",
       "\n",
       "    .dataframe tbody tr th {\n",
       "        vertical-align: top;\n",
       "    }\n",
       "\n",
       "    .dataframe thead th {\n",
       "        text-align: right;\n",
       "    }\n",
       "</style>\n",
       "<table border=\"1\" class=\"dataframe\">\n",
       "  <thead>\n",
       "    <tr style=\"text-align: right;\">\n",
       "      <th></th>\n",
       "      <th>changepoint_prior_scale</th>\n",
       "      <th>holidays_prior_scale</th>\n",
       "      <th>seasonality_mode</th>\n",
       "      <th>seasonality_prior_scale</th>\n",
       "      <th>rmse</th>\n",
       "    </tr>\n",
       "  </thead>\n",
       "  <tbody>\n",
       "    <tr>\n",
       "      <th>0</th>\n",
       "      <td>0.005</td>\n",
       "      <td>5</td>\n",
       "      <td>additive</td>\n",
       "      <td>1</td>\n",
       "      <td>49.550304</td>\n",
       "    </tr>\n",
       "  </tbody>\n",
       "</table>\n",
       "</div>"
      ],
      "text/plain": [
       "  changepoint_prior_scale holidays_prior_scale seasonality_mode  \\\n",
       "0                   0.005                    5         additive   \n",
       "\n",
       "  seasonality_prior_scale       rmse  \n",
       "0                       1  49.550304  "
      ]
     },
     "execution_count": 47,
     "metadata": {},
     "output_type": "execute_result"
    }
   ],
   "source": [
    "best_results"
   ]
  },
  {
   "cell_type": "code",
   "execution_count": 45,
   "metadata": {},
   "outputs": [
    {
     "data": {
      "text/html": [
       "<div>\n",
       "<style scoped>\n",
       "    .dataframe tbody tr th:only-of-type {\n",
       "        vertical-align: middle;\n",
       "    }\n",
       "\n",
       "    .dataframe tbody tr th {\n",
       "        vertical-align: top;\n",
       "    }\n",
       "\n",
       "    .dataframe thead th {\n",
       "        text-align: right;\n",
       "    }\n",
       "</style>\n",
       "<table border=\"1\" class=\"dataframe\">\n",
       "  <thead>\n",
       "    <tr style=\"text-align: right;\">\n",
       "      <th></th>\n",
       "      <th>ds</th>\n",
       "      <th>y</th>\n",
       "      <th>Easter</th>\n",
       "      <th>Thanksgiving</th>\n",
       "      <th>Christmas</th>\n",
       "      <th>Temperature</th>\n",
       "      <th>Marketing</th>\n",
       "    </tr>\n",
       "  </thead>\n",
       "  <tbody>\n",
       "    <tr>\n",
       "      <th>0</th>\n",
       "      <td>2021-01-01</td>\n",
       "      <td>NaN</td>\n",
       "      <td>0</td>\n",
       "      <td>0</td>\n",
       "      <td>0</td>\n",
       "      <td>5.00</td>\n",
       "      <td>154.221</td>\n",
       "    </tr>\n",
       "    <tr>\n",
       "      <th>1</th>\n",
       "      <td>2021-01-02</td>\n",
       "      <td>NaN</td>\n",
       "      <td>0</td>\n",
       "      <td>0</td>\n",
       "      <td>0</td>\n",
       "      <td>11.11</td>\n",
       "      <td>264.805</td>\n",
       "    </tr>\n",
       "    <tr>\n",
       "      <th>2</th>\n",
       "      <td>2021-01-03</td>\n",
       "      <td>NaN</td>\n",
       "      <td>0</td>\n",
       "      <td>0</td>\n",
       "      <td>0</td>\n",
       "      <td>3.89</td>\n",
       "      <td>115.499</td>\n",
       "    </tr>\n",
       "    <tr>\n",
       "      <th>3</th>\n",
       "      <td>2021-01-04</td>\n",
       "      <td>NaN</td>\n",
       "      <td>0</td>\n",
       "      <td>0</td>\n",
       "      <td>0</td>\n",
       "      <td>6.67</td>\n",
       "      <td>124.650</td>\n",
       "    </tr>\n",
       "    <tr>\n",
       "      <th>4</th>\n",
       "      <td>2021-01-05</td>\n",
       "      <td>NaN</td>\n",
       "      <td>0</td>\n",
       "      <td>0</td>\n",
       "      <td>0</td>\n",
       "      <td>5.56</td>\n",
       "      <td>77.968</td>\n",
       "    </tr>\n",
       "    <tr>\n",
       "      <th>5</th>\n",
       "      <td>2021-01-06</td>\n",
       "      <td>NaN</td>\n",
       "      <td>0</td>\n",
       "      <td>0</td>\n",
       "      <td>0</td>\n",
       "      <td>5.56</td>\n",
       "      <td>234.200</td>\n",
       "    </tr>\n",
       "    <tr>\n",
       "      <th>6</th>\n",
       "      <td>2021-01-07</td>\n",
       "      <td>NaN</td>\n",
       "      <td>0</td>\n",
       "      <td>0</td>\n",
       "      <td>0</td>\n",
       "      <td>6.11</td>\n",
       "      <td>142.041</td>\n",
       "    </tr>\n",
       "    <tr>\n",
       "      <th>7</th>\n",
       "      <td>2021-01-08</td>\n",
       "      <td>NaN</td>\n",
       "      <td>0</td>\n",
       "      <td>0</td>\n",
       "      <td>0</td>\n",
       "      <td>3.89</td>\n",
       "      <td>252.094</td>\n",
       "    </tr>\n",
       "    <tr>\n",
       "      <th>8</th>\n",
       "      <td>2021-01-09</td>\n",
       "      <td>NaN</td>\n",
       "      <td>0</td>\n",
       "      <td>0</td>\n",
       "      <td>0</td>\n",
       "      <td>2.78</td>\n",
       "      <td>100.483</td>\n",
       "    </tr>\n",
       "    <tr>\n",
       "      <th>9</th>\n",
       "      <td>2021-01-10</td>\n",
       "      <td>NaN</td>\n",
       "      <td>0</td>\n",
       "      <td>0</td>\n",
       "      <td>0</td>\n",
       "      <td>6.11</td>\n",
       "      <td>71.600</td>\n",
       "    </tr>\n",
       "  </tbody>\n",
       "</table>\n",
       "</div>"
      ],
      "text/plain": [
       "          ds   y  Easter  Thanksgiving  Christmas  Temperature  Marketing\n",
       "0 2021-01-01 NaN       0             0          0         5.00    154.221\n",
       "1 2021-01-02 NaN       0             0          0        11.11    264.805\n",
       "2 2021-01-03 NaN       0             0          0         3.89    115.499\n",
       "3 2021-01-04 NaN       0             0          0         6.67    124.650\n",
       "4 2021-01-05 NaN       0             0          0         5.56     77.968\n",
       "5 2021-01-06 NaN       0             0          0         5.56    234.200\n",
       "6 2021-01-07 NaN       0             0          0         6.11    142.041\n",
       "7 2021-01-08 NaN       0             0          0         3.89    252.094\n",
       "8 2021-01-09 NaN       0             0          0         2.78    100.483\n",
       "9 2021-01-10 NaN       0             0          0         6.11     71.600"
      ]
     },
     "execution_count": 45,
     "metadata": {},
     "output_type": "execute_result"
    }
   ],
   "source": [
    "future_df = pd.read_csv(\"future.csv\")\n",
    "future_df = future_df.rename(columns={\"Demand\" : \"y\",\n",
    "                        \"Date\" : \"ds\"})\n",
    "future_df.ds = pd.to_datetime(future_df.ds, format='%m/%d/%Y')\n",
    "future_df.head(10)"
   ]
  },
  {
   "cell_type": "code",
   "execution_count": 46,
   "metadata": {},
   "outputs": [
    {
     "data": {
      "text/html": [
       "<div>\n",
       "<style scoped>\n",
       "    .dataframe tbody tr th:only-of-type {\n",
       "        vertical-align: middle;\n",
       "    }\n",
       "\n",
       "    .dataframe tbody tr th {\n",
       "        vertical-align: top;\n",
       "    }\n",
       "\n",
       "    .dataframe thead th {\n",
       "        text-align: right;\n",
       "    }\n",
       "</style>\n",
       "<table border=\"1\" class=\"dataframe\">\n",
       "  <thead>\n",
       "    <tr style=\"text-align: right;\">\n",
       "      <th></th>\n",
       "      <th>ds</th>\n",
       "      <th>y</th>\n",
       "      <th>Easter</th>\n",
       "      <th>Thanksgiving</th>\n",
       "      <th>Christmas</th>\n",
       "      <th>Temperature</th>\n",
       "      <th>Marketing</th>\n",
       "    </tr>\n",
       "  </thead>\n",
       "  <tbody>\n",
       "    <tr>\n",
       "      <th>0</th>\n",
       "      <td>2015-01-01</td>\n",
       "      <td>720.000885</td>\n",
       "      <td>0</td>\n",
       "      <td>0</td>\n",
       "      <td>0</td>\n",
       "      <td>3.68</td>\n",
       "      <td>41.305</td>\n",
       "    </tr>\n",
       "    <tr>\n",
       "      <th>1</th>\n",
       "      <td>2015-01-02</td>\n",
       "      <td>581.276773</td>\n",
       "      <td>0</td>\n",
       "      <td>0</td>\n",
       "      <td>0</td>\n",
       "      <td>4.73</td>\n",
       "      <td>131.574</td>\n",
       "    </tr>\n",
       "    <tr>\n",
       "      <th>2</th>\n",
       "      <td>2015-01-03</td>\n",
       "      <td>754.117039</td>\n",
       "      <td>0</td>\n",
       "      <td>0</td>\n",
       "      <td>0</td>\n",
       "      <td>7.23</td>\n",
       "      <td>162.700</td>\n",
       "    </tr>\n",
       "    <tr>\n",
       "      <th>3</th>\n",
       "      <td>2015-01-04</td>\n",
       "      <td>622.252774</td>\n",
       "      <td>0</td>\n",
       "      <td>0</td>\n",
       "      <td>0</td>\n",
       "      <td>10.96</td>\n",
       "      <td>160.281</td>\n",
       "    </tr>\n",
       "    <tr>\n",
       "      <th>4</th>\n",
       "      <td>2015-01-05</td>\n",
       "      <td>785.373319</td>\n",
       "      <td>0</td>\n",
       "      <td>0</td>\n",
       "      <td>0</td>\n",
       "      <td>6.92</td>\n",
       "      <td>51.077</td>\n",
       "    </tr>\n",
       "    <tr>\n",
       "      <th>...</th>\n",
       "      <td>...</td>\n",
       "      <td>...</td>\n",
       "      <td>...</td>\n",
       "      <td>...</td>\n",
       "      <td>...</td>\n",
       "      <td>...</td>\n",
       "      <td>...</td>\n",
       "    </tr>\n",
       "    <tr>\n",
       "      <th>2218</th>\n",
       "      <td>2021-01-27</td>\n",
       "      <td>NaN</td>\n",
       "      <td>0</td>\n",
       "      <td>0</td>\n",
       "      <td>0</td>\n",
       "      <td>3.33</td>\n",
       "      <td>39.664</td>\n",
       "    </tr>\n",
       "    <tr>\n",
       "      <th>2219</th>\n",
       "      <td>2021-01-28</td>\n",
       "      <td>NaN</td>\n",
       "      <td>0</td>\n",
       "      <td>0</td>\n",
       "      <td>0</td>\n",
       "      <td>1.67</td>\n",
       "      <td>195.314</td>\n",
       "    </tr>\n",
       "    <tr>\n",
       "      <th>2220</th>\n",
       "      <td>2021-01-29</td>\n",
       "      <td>NaN</td>\n",
       "      <td>0</td>\n",
       "      <td>0</td>\n",
       "      <td>0</td>\n",
       "      <td>-2.78</td>\n",
       "      <td>235.894</td>\n",
       "    </tr>\n",
       "    <tr>\n",
       "      <th>2221</th>\n",
       "      <td>2021-01-30</td>\n",
       "      <td>NaN</td>\n",
       "      <td>0</td>\n",
       "      <td>0</td>\n",
       "      <td>0</td>\n",
       "      <td>1.11</td>\n",
       "      <td>152.752</td>\n",
       "    </tr>\n",
       "    <tr>\n",
       "      <th>2222</th>\n",
       "      <td>2021-01-31</td>\n",
       "      <td>NaN</td>\n",
       "      <td>0</td>\n",
       "      <td>0</td>\n",
       "      <td>0</td>\n",
       "      <td>4.44</td>\n",
       "      <td>158.620</td>\n",
       "    </tr>\n",
       "  </tbody>\n",
       "</table>\n",
       "<p>2223 rows × 7 columns</p>\n",
       "</div>"
      ],
      "text/plain": [
       "             ds           y  Easter  Thanksgiving  Christmas  Temperature  \\\n",
       "0    2015-01-01  720.000885       0             0          0         3.68   \n",
       "1    2015-01-02  581.276773       0             0          0         4.73   \n",
       "2    2015-01-03  754.117039       0             0          0         7.23   \n",
       "3    2015-01-04  622.252774       0             0          0        10.96   \n",
       "4    2015-01-05  785.373319       0             0          0         6.92   \n",
       "...         ...         ...     ...           ...        ...          ...   \n",
       "2218 2021-01-27         NaN       0             0          0         3.33   \n",
       "2219 2021-01-28         NaN       0             0          0         1.67   \n",
       "2220 2021-01-29         NaN       0             0          0        -2.78   \n",
       "2221 2021-01-30         NaN       0             0          0         1.11   \n",
       "2222 2021-01-31         NaN       0             0          0         4.44   \n",
       "\n",
       "      Marketing  \n",
       "0        41.305  \n",
       "1       131.574  \n",
       "2       162.700  \n",
       "3       160.281  \n",
       "4        51.077  \n",
       "...         ...  \n",
       "2218     39.664  \n",
       "2219    195.314  \n",
       "2220    235.894  \n",
       "2221    152.752  \n",
       "2222    158.620  \n",
       "\n",
       "[2223 rows x 7 columns]"
      ]
     },
     "execution_count": 46,
     "metadata": {},
     "output_type": "execute_result"
    }
   ],
   "source": [
    "df_concat = pd.concat([df, future_df]).reset_index(drop=True)\n",
    "df_concat"
   ]
  },
  {
   "cell_type": "code",
   "execution_count": 47,
   "metadata": {},
   "outputs": [],
   "source": [
    "dates = pd.to_datetime(df_concat[df_concat.Easter == 1].ds)\n",
    "easter = pd.DataFrame({\"holiday\": \"easter\",\n",
    "                       \"ds\" : dates,\n",
    "                       \"lower_window\" : -5,\n",
    "                       \"upper_window\" : 2})\n",
    "\n",
    "dates = pd.to_datetime(df_concat[df_concat.Thanksgiving == 1].ds)\n",
    "thanksgiving = pd.DataFrame({\"holiday\": \"thanksgiving\",\n",
    "                       \"ds\" : dates,\n",
    "                       \"lower_window\" : -3,\n",
    "                       \"upper_window\" : 5})\n",
    "\n",
    "\n",
    "holidays = pd.concat([easter, thanksgiving])\n",
    "\n",
    "df_concat = df_concat.drop(columns=[\"Easter\", \"Thanksgiving\"])"
   ]
  },
  {
   "cell_type": "code",
   "execution_count": 48,
   "metadata": {},
   "outputs": [],
   "source": [
    "#Split data\n",
    "\n",
    "training_data = df_concat.iloc[: -31, :]\n",
    "future_data = df_concat.iloc[-31 :, :]"
   ]
  },
  {
   "cell_type": "code",
   "execution_count": 49,
   "metadata": {},
   "outputs": [
    {
     "data": {
      "text/html": [
       "<div>\n",
       "<style scoped>\n",
       "    .dataframe tbody tr th:only-of-type {\n",
       "        vertical-align: middle;\n",
       "    }\n",
       "\n",
       "    .dataframe tbody tr th {\n",
       "        vertical-align: top;\n",
       "    }\n",
       "\n",
       "    .dataframe thead th {\n",
       "        text-align: right;\n",
       "    }\n",
       "</style>\n",
       "<table border=\"1\" class=\"dataframe\">\n",
       "  <thead>\n",
       "    <tr style=\"text-align: right;\">\n",
       "      <th></th>\n",
       "      <th>ds</th>\n",
       "      <th>y</th>\n",
       "      <th>Christmas</th>\n",
       "      <th>Temperature</th>\n",
       "      <th>Marketing</th>\n",
       "    </tr>\n",
       "  </thead>\n",
       "  <tbody>\n",
       "    <tr>\n",
       "      <th>2187</th>\n",
       "      <td>2020-12-27</td>\n",
       "      <td>685.915026</td>\n",
       "      <td>0</td>\n",
       "      <td>2.89</td>\n",
       "      <td>38.674</td>\n",
       "    </tr>\n",
       "    <tr>\n",
       "      <th>2188</th>\n",
       "      <td>2020-12-28</td>\n",
       "      <td>998.051170</td>\n",
       "      <td>0</td>\n",
       "      <td>8.83</td>\n",
       "      <td>166.712</td>\n",
       "    </tr>\n",
       "    <tr>\n",
       "      <th>2189</th>\n",
       "      <td>2020-12-29</td>\n",
       "      <td>847.123399</td>\n",
       "      <td>0</td>\n",
       "      <td>3.48</td>\n",
       "      <td>161.865</td>\n",
       "    </tr>\n",
       "    <tr>\n",
       "      <th>2190</th>\n",
       "      <td>2020-12-30</td>\n",
       "      <td>857.521043</td>\n",
       "      <td>0</td>\n",
       "      <td>5.97</td>\n",
       "      <td>179.634</td>\n",
       "    </tr>\n",
       "    <tr>\n",
       "      <th>2191</th>\n",
       "      <td>2020-12-31</td>\n",
       "      <td>783.891494</td>\n",
       "      <td>0</td>\n",
       "      <td>8.22</td>\n",
       "      <td>149.221</td>\n",
       "    </tr>\n",
       "  </tbody>\n",
       "</table>\n",
       "</div>"
      ],
      "text/plain": [
       "             ds           y  Christmas  Temperature  Marketing\n",
       "2187 2020-12-27  685.915026          0         2.89     38.674\n",
       "2188 2020-12-28  998.051170          0         8.83    166.712\n",
       "2189 2020-12-29  847.123399          0         3.48    161.865\n",
       "2190 2020-12-30  857.521043          0         5.97    179.634\n",
       "2191 2020-12-31  783.891494          0         8.22    149.221"
      ]
     },
     "execution_count": 49,
     "metadata": {},
     "output_type": "execute_result"
    }
   ],
   "source": [
    "training_data.tail()"
   ]
  },
  {
   "cell_type": "code",
   "execution_count": 13,
   "metadata": {},
   "outputs": [
    {
     "data": {
      "text/html": [
       "<div>\n",
       "<style scoped>\n",
       "    .dataframe tbody tr th:only-of-type {\n",
       "        vertical-align: middle;\n",
       "    }\n",
       "\n",
       "    .dataframe tbody tr th {\n",
       "        vertical-align: top;\n",
       "    }\n",
       "\n",
       "    .dataframe thead th {\n",
       "        text-align: right;\n",
       "    }\n",
       "</style>\n",
       "<table border=\"1\" class=\"dataframe\">\n",
       "  <thead>\n",
       "    <tr style=\"text-align: right;\">\n",
       "      <th></th>\n",
       "      <th>changepoint_prior_scale</th>\n",
       "      <th>holidays_prior_scale</th>\n",
       "      <th>seasonality_mode</th>\n",
       "      <th>seasonality_prior_scale</th>\n",
       "      <th>rmse</th>\n",
       "    </tr>\n",
       "  </thead>\n",
       "  <tbody>\n",
       "    <tr>\n",
       "      <th>0</th>\n",
       "      <td>0.005</td>\n",
       "      <td>5</td>\n",
       "      <td>additive</td>\n",
       "      <td>1</td>\n",
       "      <td>49.550304</td>\n",
       "    </tr>\n",
       "  </tbody>\n",
       "</table>\n",
       "</div>"
      ],
      "text/plain": [
       "   changepoint_prior_scale  holidays_prior_scale seasonality_mode  \\\n",
       "0                    0.005                     5         additive   \n",
       "\n",
       "   seasonality_prior_scale       rmse  \n",
       "0                        1  49.550304  "
      ]
     },
     "execution_count": 13,
     "metadata": {},
     "output_type": "execute_result"
    }
   ],
   "source": [
    "params = pd.read_csv(\"best_results.csv\")\n",
    "params"
   ]
  },
  {
   "cell_type": "code",
   "execution_count": 50,
   "metadata": {},
   "outputs": [
    {
     "name": "stderr",
     "output_type": "stream",
     "text": [
      "19:59:42 - cmdstanpy - INFO - Chain [1] start processing\n",
      "19:59:43 - cmdstanpy - INFO - Chain [1] done processing\n"
     ]
    },
    {
     "data": {
      "text/plain": [
       "<prophet.forecaster.Prophet at 0x2e4f4f61490>"
      ]
     },
     "execution_count": 50,
     "metadata": {},
     "output_type": "execute_result"
    }
   ],
   "source": [
    "model = Prophet(holidays=holidays,\n",
    "                    seasonality_mode = params[\"seasonality_mode\"][0],\n",
    "                    seasonality_prior_scale = params[\"seasonality_prior_scale\"][0],\n",
    "                    holidays_prior_scale = params[\"holidays_prior_scale\"][0],\n",
    "                    changepoint_prior_scale = params[\"changepoint_prior_scale\"][0])\n",
    "model.add_regressor(\"Christmas\")\n",
    "model.add_regressor(\"Temperature\")\n",
    "model.add_regressor(\"Marketing\")\n",
    "\n",
    "model.fit(training_data)"
   ]
  },
  {
   "attachments": {},
   "cell_type": "markdown",
   "metadata": {},
   "source": [
    "## Forecasting"
   ]
  },
  {
   "cell_type": "code",
   "execution_count": 51,
   "metadata": {},
   "outputs": [
    {
     "data": {
      "text/html": [
       "<div>\n",
       "<style scoped>\n",
       "    .dataframe tbody tr th:only-of-type {\n",
       "        vertical-align: middle;\n",
       "    }\n",
       "\n",
       "    .dataframe tbody tr th {\n",
       "        vertical-align: top;\n",
       "    }\n",
       "\n",
       "    .dataframe thead th {\n",
       "        text-align: right;\n",
       "    }\n",
       "</style>\n",
       "<table border=\"1\" class=\"dataframe\">\n",
       "  <thead>\n",
       "    <tr style=\"text-align: right;\">\n",
       "      <th></th>\n",
       "      <th>ds</th>\n",
       "      <th>Christmas</th>\n",
       "      <th>Temperature</th>\n",
       "      <th>Marketing</th>\n",
       "    </tr>\n",
       "  </thead>\n",
       "  <tbody>\n",
       "    <tr>\n",
       "      <th>0</th>\n",
       "      <td>2015-01-01</td>\n",
       "      <td>0</td>\n",
       "      <td>3.68</td>\n",
       "      <td>41.305</td>\n",
       "    </tr>\n",
       "    <tr>\n",
       "      <th>1</th>\n",
       "      <td>2015-01-02</td>\n",
       "      <td>0</td>\n",
       "      <td>4.73</td>\n",
       "      <td>131.574</td>\n",
       "    </tr>\n",
       "    <tr>\n",
       "      <th>2</th>\n",
       "      <td>2015-01-03</td>\n",
       "      <td>0</td>\n",
       "      <td>7.23</td>\n",
       "      <td>162.700</td>\n",
       "    </tr>\n",
       "    <tr>\n",
       "      <th>3</th>\n",
       "      <td>2015-01-04</td>\n",
       "      <td>0</td>\n",
       "      <td>10.96</td>\n",
       "      <td>160.281</td>\n",
       "    </tr>\n",
       "    <tr>\n",
       "      <th>4</th>\n",
       "      <td>2015-01-05</td>\n",
       "      <td>0</td>\n",
       "      <td>6.92</td>\n",
       "      <td>51.077</td>\n",
       "    </tr>\n",
       "  </tbody>\n",
       "</table>\n",
       "</div>"
      ],
      "text/plain": [
       "          ds  Christmas  Temperature  Marketing\n",
       "0 2015-01-01          0         3.68     41.305\n",
       "1 2015-01-02          0         4.73    131.574\n",
       "2 2015-01-03          0         7.23    162.700\n",
       "3 2015-01-04          0        10.96    160.281\n",
       "4 2015-01-05          0         6.92     51.077"
      ]
     },
     "execution_count": 51,
     "metadata": {},
     "output_type": "execute_result"
    }
   ],
   "source": [
    "future = model.make_future_dataframe(periods = len(future_data),\n",
    "                            freq = \"D\")\n",
    "\n",
    "future = pd.concat([future, df_concat.iloc[:, 2: ]], axis=1)\n",
    "future.head()"
   ]
  },
  {
   "cell_type": "code",
   "execution_count": 52,
   "metadata": {},
   "outputs": [
    {
     "data": {
      "text/html": [
       "<div>\n",
       "<style scoped>\n",
       "    .dataframe tbody tr th:only-of-type {\n",
       "        vertical-align: middle;\n",
       "    }\n",
       "\n",
       "    .dataframe tbody tr th {\n",
       "        vertical-align: top;\n",
       "    }\n",
       "\n",
       "    .dataframe thead th {\n",
       "        text-align: right;\n",
       "    }\n",
       "</style>\n",
       "<table border=\"1\" class=\"dataframe\">\n",
       "  <thead>\n",
       "    <tr style=\"text-align: right;\">\n",
       "      <th></th>\n",
       "      <th>ds</th>\n",
       "      <th>trend</th>\n",
       "      <th>yhat_lower</th>\n",
       "      <th>yhat_upper</th>\n",
       "      <th>trend_lower</th>\n",
       "      <th>trend_upper</th>\n",
       "      <th>Christmas</th>\n",
       "      <th>Christmas_lower</th>\n",
       "      <th>Christmas_upper</th>\n",
       "      <th>Marketing</th>\n",
       "      <th>...</th>\n",
       "      <th>weekly</th>\n",
       "      <th>weekly_lower</th>\n",
       "      <th>weekly_upper</th>\n",
       "      <th>yearly</th>\n",
       "      <th>yearly_lower</th>\n",
       "      <th>yearly_upper</th>\n",
       "      <th>multiplicative_terms</th>\n",
       "      <th>multiplicative_terms_lower</th>\n",
       "      <th>multiplicative_terms_upper</th>\n",
       "      <th>yhat</th>\n",
       "    </tr>\n",
       "  </thead>\n",
       "  <tbody>\n",
       "    <tr>\n",
       "      <th>2192</th>\n",
       "      <td>2021-01-01</td>\n",
       "      <td>725.368783</td>\n",
       "      <td>665.826765</td>\n",
       "      <td>801.190847</td>\n",
       "      <td>725.368783</td>\n",
       "      <td>725.368783</td>\n",
       "      <td>0.0</td>\n",
       "      <td>0.0</td>\n",
       "      <td>0.0</td>\n",
       "      <td>1.427560</td>\n",
       "      <td>...</td>\n",
       "      <td>-89.416913</td>\n",
       "      <td>-89.416913</td>\n",
       "      <td>-89.416913</td>\n",
       "      <td>87.486117</td>\n",
       "      <td>87.486117</td>\n",
       "      <td>87.486117</td>\n",
       "      <td>0.0</td>\n",
       "      <td>0.0</td>\n",
       "      <td>0.0</td>\n",
       "      <td>735.953619</td>\n",
       "    </tr>\n",
       "    <tr>\n",
       "      <th>2193</th>\n",
       "      <td>2021-01-02</td>\n",
       "      <td>724.989377</td>\n",
       "      <td>782.038636</td>\n",
       "      <td>917.408665</td>\n",
       "      <td>724.989377</td>\n",
       "      <td>724.989377</td>\n",
       "      <td>0.0</td>\n",
       "      <td>0.0</td>\n",
       "      <td>0.0</td>\n",
       "      <td>7.158714</td>\n",
       "      <td>...</td>\n",
       "      <td>25.147626</td>\n",
       "      <td>25.147626</td>\n",
       "      <td>25.147626</td>\n",
       "      <td>86.445796</td>\n",
       "      <td>86.445796</td>\n",
       "      <td>86.445796</td>\n",
       "      <td>0.0</td>\n",
       "      <td>0.0</td>\n",
       "      <td>0.0</td>\n",
       "      <td>848.063336</td>\n",
       "    </tr>\n",
       "    <tr>\n",
       "      <th>2194</th>\n",
       "      <td>2021-01-03</td>\n",
       "      <td>724.609972</td>\n",
       "      <td>690.922847</td>\n",
       "      <td>838.934188</td>\n",
       "      <td>724.609972</td>\n",
       "      <td>724.609972</td>\n",
       "      <td>0.0</td>\n",
       "      <td>0.0</td>\n",
       "      <td>0.0</td>\n",
       "      <td>-0.579256</td>\n",
       "      <td>...</td>\n",
       "      <td>-55.725333</td>\n",
       "      <td>-55.725333</td>\n",
       "      <td>-55.725333</td>\n",
       "      <td>85.573947</td>\n",
       "      <td>85.573947</td>\n",
       "      <td>85.573947</td>\n",
       "      <td>0.0</td>\n",
       "      <td>0.0</td>\n",
       "      <td>0.0</td>\n",
       "      <td>766.196622</td>\n",
       "    </tr>\n",
       "    <tr>\n",
       "      <th>2195</th>\n",
       "      <td>2021-01-04</td>\n",
       "      <td>724.230566</td>\n",
       "      <td>820.096956</td>\n",
       "      <td>957.408486</td>\n",
       "      <td>724.230566</td>\n",
       "      <td>724.230566</td>\n",
       "      <td>0.0</td>\n",
       "      <td>0.0</td>\n",
       "      <td>0.0</td>\n",
       "      <td>-0.104994</td>\n",
       "      <td>...</td>\n",
       "      <td>74.205261</td>\n",
       "      <td>74.205261</td>\n",
       "      <td>74.205261</td>\n",
       "      <td>84.882905</td>\n",
       "      <td>84.882905</td>\n",
       "      <td>84.882905</td>\n",
       "      <td>0.0</td>\n",
       "      <td>0.0</td>\n",
       "      <td>0.0</td>\n",
       "      <td>892.452441</td>\n",
       "    </tr>\n",
       "    <tr>\n",
       "      <th>2196</th>\n",
       "      <td>2021-01-05</td>\n",
       "      <td>723.851161</td>\n",
       "      <td>692.256295</td>\n",
       "      <td>831.285313</td>\n",
       "      <td>723.851161</td>\n",
       "      <td>723.851161</td>\n",
       "      <td>0.0</td>\n",
       "      <td>0.0</td>\n",
       "      <td>0.0</td>\n",
       "      <td>-2.524347</td>\n",
       "      <td>...</td>\n",
       "      <td>-53.804184</td>\n",
       "      <td>-53.804184</td>\n",
       "      <td>-53.804184</td>\n",
       "      <td>84.379658</td>\n",
       "      <td>84.379658</td>\n",
       "      <td>84.379658</td>\n",
       "      <td>0.0</td>\n",
       "      <td>0.0</td>\n",
       "      <td>0.0</td>\n",
       "      <td>762.370212</td>\n",
       "    </tr>\n",
       "    <tr>\n",
       "      <th>2197</th>\n",
       "      <td>2021-01-06</td>\n",
       "      <td>723.471755</td>\n",
       "      <td>855.740798</td>\n",
       "      <td>993.669480</td>\n",
       "      <td>723.471755</td>\n",
       "      <td>723.471755</td>\n",
       "      <td>0.0</td>\n",
       "      <td>0.0</td>\n",
       "      <td>0.0</td>\n",
       "      <td>5.572572</td>\n",
       "      <td>...</td>\n",
       "      <td>103.661393</td>\n",
       "      <td>103.661393</td>\n",
       "      <td>103.661393</td>\n",
       "      <td>84.065772</td>\n",
       "      <td>84.065772</td>\n",
       "      <td>84.065772</td>\n",
       "      <td>0.0</td>\n",
       "      <td>0.0</td>\n",
       "      <td>0.0</td>\n",
       "      <td>927.239417</td>\n",
       "    </tr>\n",
       "    <tr>\n",
       "      <th>2198</th>\n",
       "      <td>2021-01-07</td>\n",
       "      <td>723.092350</td>\n",
       "      <td>742.840912</td>\n",
       "      <td>886.570496</td>\n",
       "      <td>723.092350</td>\n",
       "      <td>723.092350</td>\n",
       "      <td>0.0</td>\n",
       "      <td>0.0</td>\n",
       "      <td>0.0</td>\n",
       "      <td>0.796316</td>\n",
       "      <td>...</td>\n",
       "      <td>-4.067850</td>\n",
       "      <td>-4.067850</td>\n",
       "      <td>-4.067850</td>\n",
       "      <td>83.937445</td>\n",
       "      <td>83.937445</td>\n",
       "      <td>83.937445</td>\n",
       "      <td>0.0</td>\n",
       "      <td>0.0</td>\n",
       "      <td>0.0</td>\n",
       "      <td>813.617112</td>\n",
       "    </tr>\n",
       "    <tr>\n",
       "      <th>2199</th>\n",
       "      <td>2021-01-08</td>\n",
       "      <td>722.712944</td>\n",
       "      <td>665.909305</td>\n",
       "      <td>800.375777</td>\n",
       "      <td>722.712944</td>\n",
       "      <td>722.712944</td>\n",
       "      <td>0.0</td>\n",
       "      <td>0.0</td>\n",
       "      <td>0.0</td>\n",
       "      <td>6.499950</td>\n",
       "      <td>...</td>\n",
       "      <td>-89.416913</td>\n",
       "      <td>-89.416913</td>\n",
       "      <td>-89.416913</td>\n",
       "      <td>83.985702</td>\n",
       "      <td>83.985702</td>\n",
       "      <td>83.985702</td>\n",
       "      <td>0.0</td>\n",
       "      <td>0.0</td>\n",
       "      <td>0.0</td>\n",
       "      <td>736.098976</td>\n",
       "    </tr>\n",
       "    <tr>\n",
       "      <th>2200</th>\n",
       "      <td>2021-01-09</td>\n",
       "      <td>722.333539</td>\n",
       "      <td>770.412702</td>\n",
       "      <td>912.590186</td>\n",
       "      <td>722.333539</td>\n",
       "      <td>722.333539</td>\n",
       "      <td>0.0</td>\n",
       "      <td>0.0</td>\n",
       "      <td>0.0</td>\n",
       "      <td>-1.357479</td>\n",
       "      <td>...</td>\n",
       "      <td>25.147626</td>\n",
       "      <td>25.147626</td>\n",
       "      <td>25.147626</td>\n",
       "      <td>84.196712</td>\n",
       "      <td>84.196712</td>\n",
       "      <td>84.196712</td>\n",
       "      <td>0.0</td>\n",
       "      <td>0.0</td>\n",
       "      <td>0.0</td>\n",
       "      <td>843.866910</td>\n",
       "    </tr>\n",
       "    <tr>\n",
       "      <th>2201</th>\n",
       "      <td>2021-01-10</td>\n",
       "      <td>721.954133</td>\n",
       "      <td>690.678529</td>\n",
       "      <td>828.941002</td>\n",
       "      <td>721.954133</td>\n",
       "      <td>721.954133</td>\n",
       "      <td>0.0</td>\n",
       "      <td>0.0</td>\n",
       "      <td>0.0</td>\n",
       "      <td>-2.854377</td>\n",
       "      <td>...</td>\n",
       "      <td>-55.725333</td>\n",
       "      <td>-55.725333</td>\n",
       "      <td>-55.725333</td>\n",
       "      <td>84.552225</td>\n",
       "      <td>84.552225</td>\n",
       "      <td>84.552225</td>\n",
       "      <td>0.0</td>\n",
       "      <td>0.0</td>\n",
       "      <td>0.0</td>\n",
       "      <td>757.785501</td>\n",
       "    </tr>\n",
       "    <tr>\n",
       "      <th>2202</th>\n",
       "      <td>2021-01-11</td>\n",
       "      <td>721.574728</td>\n",
       "      <td>822.702273</td>\n",
       "      <td>963.708212</td>\n",
       "      <td>721.574728</td>\n",
       "      <td>721.574728</td>\n",
       "      <td>0.0</td>\n",
       "      <td>0.0</td>\n",
       "      <td>0.0</td>\n",
       "      <td>-0.237618</td>\n",
       "      <td>...</td>\n",
       "      <td>74.205261</td>\n",
       "      <td>74.205261</td>\n",
       "      <td>74.205261</td>\n",
       "      <td>85.030119</td>\n",
       "      <td>85.030119</td>\n",
       "      <td>85.030119</td>\n",
       "      <td>0.0</td>\n",
       "      <td>0.0</td>\n",
       "      <td>0.0</td>\n",
       "      <td>893.509929</td>\n",
       "    </tr>\n",
       "    <tr>\n",
       "      <th>2203</th>\n",
       "      <td>2021-01-12</td>\n",
       "      <td>721.195323</td>\n",
       "      <td>698.013487</td>\n",
       "      <td>834.224469</td>\n",
       "      <td>721.195323</td>\n",
       "      <td>721.195323</td>\n",
       "      <td>0.0</td>\n",
       "      <td>0.0</td>\n",
       "      <td>0.0</td>\n",
       "      <td>7.622248</td>\n",
       "      <td>...</td>\n",
       "      <td>-53.804184</td>\n",
       "      <td>-53.804184</td>\n",
       "      <td>-53.804184</td>\n",
       "      <td>85.605030</td>\n",
       "      <td>85.605030</td>\n",
       "      <td>85.605030</td>\n",
       "      <td>0.0</td>\n",
       "      <td>0.0</td>\n",
       "      <td>0.0</td>\n",
       "      <td>769.248047</td>\n",
       "    </tr>\n",
       "    <tr>\n",
       "      <th>2204</th>\n",
       "      <td>2021-01-13</td>\n",
       "      <td>720.815917</td>\n",
       "      <td>845.295645</td>\n",
       "      <td>984.130631</td>\n",
       "      <td>720.815917</td>\n",
       "      <td>720.815917</td>\n",
       "      <td>0.0</td>\n",
       "      <td>0.0</td>\n",
       "      <td>0.0</td>\n",
       "      <td>-4.355369</td>\n",
       "      <td>...</td>\n",
       "      <td>103.661393</td>\n",
       "      <td>103.661393</td>\n",
       "      <td>103.661393</td>\n",
       "      <td>86.249069</td>\n",
       "      <td>86.249069</td>\n",
       "      <td>86.249069</td>\n",
       "      <td>0.0</td>\n",
       "      <td>0.0</td>\n",
       "      <td>0.0</td>\n",
       "      <td>915.609715</td>\n",
       "    </tr>\n",
       "    <tr>\n",
       "      <th>2205</th>\n",
       "      <td>2021-01-14</td>\n",
       "      <td>720.436512</td>\n",
       "      <td>743.660177</td>\n",
       "      <td>887.785452</td>\n",
       "      <td>720.436512</td>\n",
       "      <td>720.436512</td>\n",
       "      <td>0.0</td>\n",
       "      <td>0.0</td>\n",
       "      <td>0.0</td>\n",
       "      <td>8.357092</td>\n",
       "      <td>...</td>\n",
       "      <td>-4.067850</td>\n",
       "      <td>-4.067850</td>\n",
       "      <td>-4.067850</td>\n",
       "      <td>86.932588</td>\n",
       "      <td>86.932588</td>\n",
       "      <td>86.932588</td>\n",
       "      <td>0.0</td>\n",
       "      <td>0.0</td>\n",
       "      <td>0.0</td>\n",
       "      <td>817.209384</td>\n",
       "    </tr>\n",
       "    <tr>\n",
       "      <th>2206</th>\n",
       "      <td>2021-01-15</td>\n",
       "      <td>720.057106</td>\n",
       "      <td>655.629770</td>\n",
       "      <td>797.888968</td>\n",
       "      <td>720.057106</td>\n",
       "      <td>720.057106</td>\n",
       "      <td>0.0</td>\n",
       "      <td>0.0</td>\n",
       "      <td>0.0</td>\n",
       "      <td>0.054112</td>\n",
       "      <td>...</td>\n",
       "      <td>-89.416913</td>\n",
       "      <td>-89.416913</td>\n",
       "      <td>-89.416913</td>\n",
       "      <td>87.624978</td>\n",
       "      <td>87.624978</td>\n",
       "      <td>87.624978</td>\n",
       "      <td>0.0</td>\n",
       "      <td>0.0</td>\n",
       "      <td>0.0</td>\n",
       "      <td>725.719694</td>\n",
       "    </tr>\n",
       "    <tr>\n",
       "      <th>2207</th>\n",
       "      <td>2021-01-16</td>\n",
       "      <td>719.677701</td>\n",
       "      <td>767.914143</td>\n",
       "      <td>905.495103</td>\n",
       "      <td>719.677701</td>\n",
       "      <td>719.677701</td>\n",
       "      <td>0.0</td>\n",
       "      <td>0.0</td>\n",
       "      <td>0.0</td>\n",
       "      <td>2.274919</td>\n",
       "      <td>...</td>\n",
       "      <td>25.147626</td>\n",
       "      <td>25.147626</td>\n",
       "      <td>25.147626</td>\n",
       "      <td>88.295491</td>\n",
       "      <td>88.295491</td>\n",
       "      <td>88.295491</td>\n",
       "      <td>0.0</td>\n",
       "      <td>0.0</td>\n",
       "      <td>0.0</td>\n",
       "      <td>842.176000</td>\n",
       "    </tr>\n",
       "    <tr>\n",
       "      <th>2208</th>\n",
       "      <td>2021-01-17</td>\n",
       "      <td>719.298295</td>\n",
       "      <td>692.645540</td>\n",
       "      <td>835.917076</td>\n",
       "      <td>719.298295</td>\n",
       "      <td>719.298295</td>\n",
       "      <td>0.0</td>\n",
       "      <td>0.0</td>\n",
       "      <td>0.0</td>\n",
       "      <td>2.381785</td>\n",
       "      <td>...</td>\n",
       "      <td>-55.725333</td>\n",
       "      <td>-55.725333</td>\n",
       "      <td>-55.725333</td>\n",
       "      <td>88.914042</td>\n",
       "      <td>88.914042</td>\n",
       "      <td>88.914042</td>\n",
       "      <td>0.0</td>\n",
       "      <td>0.0</td>\n",
       "      <td>0.0</td>\n",
       "      <td>762.878273</td>\n",
       "    </tr>\n",
       "    <tr>\n",
       "      <th>2209</th>\n",
       "      <td>2021-01-18</td>\n",
       "      <td>718.918890</td>\n",
       "      <td>821.061348</td>\n",
       "      <td>963.625359</td>\n",
       "      <td>718.918890</td>\n",
       "      <td>718.918890</td>\n",
       "      <td>0.0</td>\n",
       "      <td>0.0</td>\n",
       "      <td>0.0</td>\n",
       "      <td>2.331047</td>\n",
       "      <td>...</td>\n",
       "      <td>74.205261</td>\n",
       "      <td>74.205261</td>\n",
       "      <td>74.205261</td>\n",
       "      <td>89.451991</td>\n",
       "      <td>89.451991</td>\n",
       "      <td>89.451991</td>\n",
       "      <td>0.0</td>\n",
       "      <td>0.0</td>\n",
       "      <td>0.0</td>\n",
       "      <td>892.916672</td>\n",
       "    </tr>\n",
       "    <tr>\n",
       "      <th>2210</th>\n",
       "      <td>2021-01-19</td>\n",
       "      <td>718.539484</td>\n",
       "      <td>689.374642</td>\n",
       "      <td>832.402718</td>\n",
       "      <td>718.539484</td>\n",
       "      <td>718.542416</td>\n",
       "      <td>0.0</td>\n",
       "      <td>0.0</td>\n",
       "      <td>0.0</td>\n",
       "      <td>-3.593264</td>\n",
       "      <td>...</td>\n",
       "      <td>-53.804184</td>\n",
       "      <td>-53.804184</td>\n",
       "      <td>-53.804184</td>\n",
       "      <td>89.882865</td>\n",
       "      <td>89.882865</td>\n",
       "      <td>89.882865</td>\n",
       "      <td>0.0</td>\n",
       "      <td>0.0</td>\n",
       "      <td>0.0</td>\n",
       "      <td>760.883753</td>\n",
       "    </tr>\n",
       "    <tr>\n",
       "      <th>2211</th>\n",
       "      <td>2021-01-20</td>\n",
       "      <td>718.160079</td>\n",
       "      <td>846.399771</td>\n",
       "      <td>985.883012</td>\n",
       "      <td>718.160079</td>\n",
       "      <td>718.168820</td>\n",
       "      <td>0.0</td>\n",
       "      <td>0.0</td>\n",
       "      <td>0.0</td>\n",
       "      <td>-5.178059</td>\n",
       "      <td>...</td>\n",
       "      <td>103.661393</td>\n",
       "      <td>103.661393</td>\n",
       "      <td>103.661393</td>\n",
       "      <td>90.183021</td>\n",
       "      <td>90.183021</td>\n",
       "      <td>90.183021</td>\n",
       "      <td>0.0</td>\n",
       "      <td>0.0</td>\n",
       "      <td>0.0</td>\n",
       "      <td>917.914506</td>\n",
       "    </tr>\n",
       "    <tr>\n",
       "      <th>2212</th>\n",
       "      <td>2021-01-21</td>\n",
       "      <td>717.780673</td>\n",
       "      <td>747.904356</td>\n",
       "      <td>887.446588</td>\n",
       "      <td>717.777801</td>\n",
       "      <td>717.800937</td>\n",
       "      <td>0.0</td>\n",
       "      <td>0.0</td>\n",
       "      <td>0.0</td>\n",
       "      <td>1.447254</td>\n",
       "      <td>...</td>\n",
       "      <td>-4.067850</td>\n",
       "      <td>-4.067850</td>\n",
       "      <td>-4.067850</td>\n",
       "      <td>90.332212</td>\n",
       "      <td>90.332212</td>\n",
       "      <td>90.332212</td>\n",
       "      <td>0.0</td>\n",
       "      <td>0.0</td>\n",
       "      <td>0.0</td>\n",
       "      <td>814.121920</td>\n",
       "    </tr>\n",
       "    <tr>\n",
       "      <th>2213</th>\n",
       "      <td>2021-01-22</td>\n",
       "      <td>717.401268</td>\n",
       "      <td>650.071587</td>\n",
       "      <td>790.885327</td>\n",
       "      <td>717.392708</td>\n",
       "      <td>717.429879</td>\n",
       "      <td>0.0</td>\n",
       "      <td>0.0</td>\n",
       "      <td>0.0</td>\n",
       "      <td>-5.269325</td>\n",
       "      <td>...</td>\n",
       "      <td>-89.416913</td>\n",
       "      <td>-89.416913</td>\n",
       "      <td>-89.416913</td>\n",
       "      <td>90.314059</td>\n",
       "      <td>90.314059</td>\n",
       "      <td>90.314059</td>\n",
       "      <td>0.0</td>\n",
       "      <td>0.0</td>\n",
       "      <td>0.0</td>\n",
       "      <td>721.038573</td>\n",
       "    </tr>\n",
       "    <tr>\n",
       "      <th>2214</th>\n",
       "      <td>2021-01-23</td>\n",
       "      <td>717.021863</td>\n",
       "      <td>772.325927</td>\n",
       "      <td>909.307621</td>\n",
       "      <td>717.005380</td>\n",
       "      <td>717.061946</td>\n",
       "      <td>0.0</td>\n",
       "      <td>0.0</td>\n",
       "      <td>0.0</td>\n",
       "      <td>-2.650492</td>\n",
       "      <td>...</td>\n",
       "      <td>25.147626</td>\n",
       "      <td>25.147626</td>\n",
       "      <td>25.147626</td>\n",
       "      <td>90.116408</td>\n",
       "      <td>90.116408</td>\n",
       "      <td>90.116408</td>\n",
       "      <td>0.0</td>\n",
       "      <td>0.0</td>\n",
       "      <td>0.0</td>\n",
       "      <td>843.181916</td>\n",
       "    </tr>\n",
       "    <tr>\n",
       "      <th>2215</th>\n",
       "      <td>2021-01-24</td>\n",
       "      <td>716.642457</td>\n",
       "      <td>704.229110</td>\n",
       "      <td>842.608420</td>\n",
       "      <td>716.609892</td>\n",
       "      <td>716.687940</td>\n",
       "      <td>0.0</td>\n",
       "      <td>0.0</td>\n",
       "      <td>0.0</td>\n",
       "      <td>2.776234</td>\n",
       "      <td>...</td>\n",
       "      <td>-55.725333</td>\n",
       "      <td>-55.725333</td>\n",
       "      <td>-55.725333</td>\n",
       "      <td>89.731559</td>\n",
       "      <td>89.731559</td>\n",
       "      <td>89.731559</td>\n",
       "      <td>0.0</td>\n",
       "      <td>0.0</td>\n",
       "      <td>0.0</td>\n",
       "      <td>768.820798</td>\n",
       "    </tr>\n",
       "    <tr>\n",
       "      <th>2216</th>\n",
       "      <td>2021-01-25</td>\n",
       "      <td>716.263052</td>\n",
       "      <td>819.766366</td>\n",
       "      <td>960.986586</td>\n",
       "      <td>716.214232</td>\n",
       "      <td>716.319699</td>\n",
       "      <td>0.0</td>\n",
       "      <td>0.0</td>\n",
       "      <td>0.0</td>\n",
       "      <td>-4.262963</td>\n",
       "      <td>...</td>\n",
       "      <td>74.205261</td>\n",
       "      <td>74.205261</td>\n",
       "      <td>74.205261</td>\n",
       "      <td>89.156382</td>\n",
       "      <td>89.156382</td>\n",
       "      <td>89.156382</td>\n",
       "      <td>0.0</td>\n",
       "      <td>0.0</td>\n",
       "      <td>0.0</td>\n",
       "      <td>887.679024</td>\n",
       "    </tr>\n",
       "    <tr>\n",
       "      <th>2217</th>\n",
       "      <td>2021-01-26</td>\n",
       "      <td>715.883646</td>\n",
       "      <td>698.016262</td>\n",
       "      <td>836.241227</td>\n",
       "      <td>715.831910</td>\n",
       "      <td>715.944763</td>\n",
       "      <td>0.0</td>\n",
       "      <td>0.0</td>\n",
       "      <td>0.0</td>\n",
       "      <td>2.249369</td>\n",
       "      <td>...</td>\n",
       "      <td>-53.804184</td>\n",
       "      <td>-53.804184</td>\n",
       "      <td>-53.804184</td>\n",
       "      <td>88.392290</td>\n",
       "      <td>88.392290</td>\n",
       "      <td>88.392290</td>\n",
       "      <td>0.0</td>\n",
       "      <td>0.0</td>\n",
       "      <td>0.0</td>\n",
       "      <td>766.887781</td>\n",
       "    </tr>\n",
       "    <tr>\n",
       "      <th>2218</th>\n",
       "      <td>2021-01-27</td>\n",
       "      <td>715.504241</td>\n",
       "      <td>844.452610</td>\n",
       "      <td>987.961669</td>\n",
       "      <td>715.430038</td>\n",
       "      <td>715.578452</td>\n",
       "      <td>0.0</td>\n",
       "      <td>0.0</td>\n",
       "      <td>0.0</td>\n",
       "      <td>-4.509500</td>\n",
       "      <td>...</td>\n",
       "      <td>103.661393</td>\n",
       "      <td>103.661393</td>\n",
       "      <td>103.661393</td>\n",
       "      <td>87.445096</td>\n",
       "      <td>87.445096</td>\n",
       "      <td>87.445096</td>\n",
       "      <td>0.0</td>\n",
       "      <td>0.0</td>\n",
       "      <td>0.0</td>\n",
       "      <td>915.038669</td>\n",
       "    </tr>\n",
       "    <tr>\n",
       "      <th>2219</th>\n",
       "      <td>2021-01-28</td>\n",
       "      <td>715.124835</td>\n",
       "      <td>744.231298</td>\n",
       "      <td>889.674986</td>\n",
       "      <td>715.033778</td>\n",
       "      <td>715.209822</td>\n",
       "      <td>0.0</td>\n",
       "      <td>0.0</td>\n",
       "      <td>0.0</td>\n",
       "      <td>3.557256</td>\n",
       "      <td>...</td>\n",
       "      <td>-4.067850</td>\n",
       "      <td>-4.067850</td>\n",
       "      <td>-4.067850</td>\n",
       "      <td>86.324745</td>\n",
       "      <td>86.324745</td>\n",
       "      <td>86.324745</td>\n",
       "      <td>0.0</td>\n",
       "      <td>0.0</td>\n",
       "      <td>0.0</td>\n",
       "      <td>815.714719</td>\n",
       "    </tr>\n",
       "    <tr>\n",
       "      <th>2220</th>\n",
       "      <td>2021-01-29</td>\n",
       "      <td>714.745430</td>\n",
       "      <td>669.438107</td>\n",
       "      <td>805.824522</td>\n",
       "      <td>714.629037</td>\n",
       "      <td>714.849630</td>\n",
       "      <td>0.0</td>\n",
       "      <td>0.0</td>\n",
       "      <td>0.0</td>\n",
       "      <td>5.660365</td>\n",
       "      <td>...</td>\n",
       "      <td>-89.416913</td>\n",
       "      <td>-89.416913</td>\n",
       "      <td>-89.416913</td>\n",
       "      <td>85.044941</td>\n",
       "      <td>85.044941</td>\n",
       "      <td>85.044941</td>\n",
       "      <td>0.0</td>\n",
       "      <td>0.0</td>\n",
       "      <td>0.0</td>\n",
       "      <td>735.737512</td>\n",
       "    </tr>\n",
       "    <tr>\n",
       "      <th>2221</th>\n",
       "      <td>2021-01-30</td>\n",
       "      <td>714.366024</td>\n",
       "      <td>769.132312</td>\n",
       "      <td>908.143266</td>\n",
       "      <td>714.235437</td>\n",
       "      <td>714.486321</td>\n",
       "      <td>0.0</td>\n",
       "      <td>0.0</td>\n",
       "      <td>0.0</td>\n",
       "      <td>1.351427</td>\n",
       "      <td>...</td>\n",
       "      <td>25.147626</td>\n",
       "      <td>25.147626</td>\n",
       "      <td>25.147626</td>\n",
       "      <td>83.622665</td>\n",
       "      <td>83.622665</td>\n",
       "      <td>83.622665</td>\n",
       "      <td>0.0</td>\n",
       "      <td>0.0</td>\n",
       "      <td>0.0</td>\n",
       "      <td>839.883623</td>\n",
       "    </tr>\n",
       "    <tr>\n",
       "      <th>2222</th>\n",
       "      <td>2021-01-31</td>\n",
       "      <td>713.986619</td>\n",
       "      <td>684.656835</td>\n",
       "      <td>821.958607</td>\n",
       "      <td>713.836988</td>\n",
       "      <td>714.123193</td>\n",
       "      <td>0.0</td>\n",
       "      <td>0.0</td>\n",
       "      <td>0.0</td>\n",
       "      <td>1.655543</td>\n",
       "      <td>...</td>\n",
       "      <td>-55.725333</td>\n",
       "      <td>-55.725333</td>\n",
       "      <td>-55.725333</td>\n",
       "      <td>82.077622</td>\n",
       "      <td>82.077622</td>\n",
       "      <td>82.077622</td>\n",
       "      <td>0.0</td>\n",
       "      <td>0.0</td>\n",
       "      <td>0.0</td>\n",
       "      <td>753.702671</td>\n",
       "    </tr>\n",
       "  </tbody>\n",
       "</table>\n",
       "<p>31 rows × 40 columns</p>\n",
       "</div>"
      ],
      "text/plain": [
       "             ds       trend  yhat_lower  yhat_upper  trend_lower  trend_upper  \\\n",
       "2192 2021-01-01  725.368783  665.826765  801.190847   725.368783   725.368783   \n",
       "2193 2021-01-02  724.989377  782.038636  917.408665   724.989377   724.989377   \n",
       "2194 2021-01-03  724.609972  690.922847  838.934188   724.609972   724.609972   \n",
       "2195 2021-01-04  724.230566  820.096956  957.408486   724.230566   724.230566   \n",
       "2196 2021-01-05  723.851161  692.256295  831.285313   723.851161   723.851161   \n",
       "2197 2021-01-06  723.471755  855.740798  993.669480   723.471755   723.471755   \n",
       "2198 2021-01-07  723.092350  742.840912  886.570496   723.092350   723.092350   \n",
       "2199 2021-01-08  722.712944  665.909305  800.375777   722.712944   722.712944   \n",
       "2200 2021-01-09  722.333539  770.412702  912.590186   722.333539   722.333539   \n",
       "2201 2021-01-10  721.954133  690.678529  828.941002   721.954133   721.954133   \n",
       "2202 2021-01-11  721.574728  822.702273  963.708212   721.574728   721.574728   \n",
       "2203 2021-01-12  721.195323  698.013487  834.224469   721.195323   721.195323   \n",
       "2204 2021-01-13  720.815917  845.295645  984.130631   720.815917   720.815917   \n",
       "2205 2021-01-14  720.436512  743.660177  887.785452   720.436512   720.436512   \n",
       "2206 2021-01-15  720.057106  655.629770  797.888968   720.057106   720.057106   \n",
       "2207 2021-01-16  719.677701  767.914143  905.495103   719.677701   719.677701   \n",
       "2208 2021-01-17  719.298295  692.645540  835.917076   719.298295   719.298295   \n",
       "2209 2021-01-18  718.918890  821.061348  963.625359   718.918890   718.918890   \n",
       "2210 2021-01-19  718.539484  689.374642  832.402718   718.539484   718.542416   \n",
       "2211 2021-01-20  718.160079  846.399771  985.883012   718.160079   718.168820   \n",
       "2212 2021-01-21  717.780673  747.904356  887.446588   717.777801   717.800937   \n",
       "2213 2021-01-22  717.401268  650.071587  790.885327   717.392708   717.429879   \n",
       "2214 2021-01-23  717.021863  772.325927  909.307621   717.005380   717.061946   \n",
       "2215 2021-01-24  716.642457  704.229110  842.608420   716.609892   716.687940   \n",
       "2216 2021-01-25  716.263052  819.766366  960.986586   716.214232   716.319699   \n",
       "2217 2021-01-26  715.883646  698.016262  836.241227   715.831910   715.944763   \n",
       "2218 2021-01-27  715.504241  844.452610  987.961669   715.430038   715.578452   \n",
       "2219 2021-01-28  715.124835  744.231298  889.674986   715.033778   715.209822   \n",
       "2220 2021-01-29  714.745430  669.438107  805.824522   714.629037   714.849630   \n",
       "2221 2021-01-30  714.366024  769.132312  908.143266   714.235437   714.486321   \n",
       "2222 2021-01-31  713.986619  684.656835  821.958607   713.836988   714.123193   \n",
       "\n",
       "      Christmas  Christmas_lower  Christmas_upper  Marketing  ...      weekly  \\\n",
       "2192        0.0              0.0              0.0   1.427560  ...  -89.416913   \n",
       "2193        0.0              0.0              0.0   7.158714  ...   25.147626   \n",
       "2194        0.0              0.0              0.0  -0.579256  ...  -55.725333   \n",
       "2195        0.0              0.0              0.0  -0.104994  ...   74.205261   \n",
       "2196        0.0              0.0              0.0  -2.524347  ...  -53.804184   \n",
       "2197        0.0              0.0              0.0   5.572572  ...  103.661393   \n",
       "2198        0.0              0.0              0.0   0.796316  ...   -4.067850   \n",
       "2199        0.0              0.0              0.0   6.499950  ...  -89.416913   \n",
       "2200        0.0              0.0              0.0  -1.357479  ...   25.147626   \n",
       "2201        0.0              0.0              0.0  -2.854377  ...  -55.725333   \n",
       "2202        0.0              0.0              0.0  -0.237618  ...   74.205261   \n",
       "2203        0.0              0.0              0.0   7.622248  ...  -53.804184   \n",
       "2204        0.0              0.0              0.0  -4.355369  ...  103.661393   \n",
       "2205        0.0              0.0              0.0   8.357092  ...   -4.067850   \n",
       "2206        0.0              0.0              0.0   0.054112  ...  -89.416913   \n",
       "2207        0.0              0.0              0.0   2.274919  ...   25.147626   \n",
       "2208        0.0              0.0              0.0   2.381785  ...  -55.725333   \n",
       "2209        0.0              0.0              0.0   2.331047  ...   74.205261   \n",
       "2210        0.0              0.0              0.0  -3.593264  ...  -53.804184   \n",
       "2211        0.0              0.0              0.0  -5.178059  ...  103.661393   \n",
       "2212        0.0              0.0              0.0   1.447254  ...   -4.067850   \n",
       "2213        0.0              0.0              0.0  -5.269325  ...  -89.416913   \n",
       "2214        0.0              0.0              0.0  -2.650492  ...   25.147626   \n",
       "2215        0.0              0.0              0.0   2.776234  ...  -55.725333   \n",
       "2216        0.0              0.0              0.0  -4.262963  ...   74.205261   \n",
       "2217        0.0              0.0              0.0   2.249369  ...  -53.804184   \n",
       "2218        0.0              0.0              0.0  -4.509500  ...  103.661393   \n",
       "2219        0.0              0.0              0.0   3.557256  ...   -4.067850   \n",
       "2220        0.0              0.0              0.0   5.660365  ...  -89.416913   \n",
       "2221        0.0              0.0              0.0   1.351427  ...   25.147626   \n",
       "2222        0.0              0.0              0.0   1.655543  ...  -55.725333   \n",
       "\n",
       "      weekly_lower  weekly_upper     yearly  yearly_lower  yearly_upper  \\\n",
       "2192    -89.416913    -89.416913  87.486117     87.486117     87.486117   \n",
       "2193     25.147626     25.147626  86.445796     86.445796     86.445796   \n",
       "2194    -55.725333    -55.725333  85.573947     85.573947     85.573947   \n",
       "2195     74.205261     74.205261  84.882905     84.882905     84.882905   \n",
       "2196    -53.804184    -53.804184  84.379658     84.379658     84.379658   \n",
       "2197    103.661393    103.661393  84.065772     84.065772     84.065772   \n",
       "2198     -4.067850     -4.067850  83.937445     83.937445     83.937445   \n",
       "2199    -89.416913    -89.416913  83.985702     83.985702     83.985702   \n",
       "2200     25.147626     25.147626  84.196712     84.196712     84.196712   \n",
       "2201    -55.725333    -55.725333  84.552225     84.552225     84.552225   \n",
       "2202     74.205261     74.205261  85.030119     85.030119     85.030119   \n",
       "2203    -53.804184    -53.804184  85.605030     85.605030     85.605030   \n",
       "2204    103.661393    103.661393  86.249069     86.249069     86.249069   \n",
       "2205     -4.067850     -4.067850  86.932588     86.932588     86.932588   \n",
       "2206    -89.416913    -89.416913  87.624978     87.624978     87.624978   \n",
       "2207     25.147626     25.147626  88.295491     88.295491     88.295491   \n",
       "2208    -55.725333    -55.725333  88.914042     88.914042     88.914042   \n",
       "2209     74.205261     74.205261  89.451991     89.451991     89.451991   \n",
       "2210    -53.804184    -53.804184  89.882865     89.882865     89.882865   \n",
       "2211    103.661393    103.661393  90.183021     90.183021     90.183021   \n",
       "2212     -4.067850     -4.067850  90.332212     90.332212     90.332212   \n",
       "2213    -89.416913    -89.416913  90.314059     90.314059     90.314059   \n",
       "2214     25.147626     25.147626  90.116408     90.116408     90.116408   \n",
       "2215    -55.725333    -55.725333  89.731559     89.731559     89.731559   \n",
       "2216     74.205261     74.205261  89.156382     89.156382     89.156382   \n",
       "2217    -53.804184    -53.804184  88.392290     88.392290     88.392290   \n",
       "2218    103.661393    103.661393  87.445096     87.445096     87.445096   \n",
       "2219     -4.067850     -4.067850  86.324745     86.324745     86.324745   \n",
       "2220    -89.416913    -89.416913  85.044941     85.044941     85.044941   \n",
       "2221     25.147626     25.147626  83.622665     83.622665     83.622665   \n",
       "2222    -55.725333    -55.725333  82.077622     82.077622     82.077622   \n",
       "\n",
       "      multiplicative_terms  multiplicative_terms_lower  \\\n",
       "2192                   0.0                         0.0   \n",
       "2193                   0.0                         0.0   \n",
       "2194                   0.0                         0.0   \n",
       "2195                   0.0                         0.0   \n",
       "2196                   0.0                         0.0   \n",
       "2197                   0.0                         0.0   \n",
       "2198                   0.0                         0.0   \n",
       "2199                   0.0                         0.0   \n",
       "2200                   0.0                         0.0   \n",
       "2201                   0.0                         0.0   \n",
       "2202                   0.0                         0.0   \n",
       "2203                   0.0                         0.0   \n",
       "2204                   0.0                         0.0   \n",
       "2205                   0.0                         0.0   \n",
       "2206                   0.0                         0.0   \n",
       "2207                   0.0                         0.0   \n",
       "2208                   0.0                         0.0   \n",
       "2209                   0.0                         0.0   \n",
       "2210                   0.0                         0.0   \n",
       "2211                   0.0                         0.0   \n",
       "2212                   0.0                         0.0   \n",
       "2213                   0.0                         0.0   \n",
       "2214                   0.0                         0.0   \n",
       "2215                   0.0                         0.0   \n",
       "2216                   0.0                         0.0   \n",
       "2217                   0.0                         0.0   \n",
       "2218                   0.0                         0.0   \n",
       "2219                   0.0                         0.0   \n",
       "2220                   0.0                         0.0   \n",
       "2221                   0.0                         0.0   \n",
       "2222                   0.0                         0.0   \n",
       "\n",
       "      multiplicative_terms_upper        yhat  \n",
       "2192                         0.0  735.953619  \n",
       "2193                         0.0  848.063336  \n",
       "2194                         0.0  766.196622  \n",
       "2195                         0.0  892.452441  \n",
       "2196                         0.0  762.370212  \n",
       "2197                         0.0  927.239417  \n",
       "2198                         0.0  813.617112  \n",
       "2199                         0.0  736.098976  \n",
       "2200                         0.0  843.866910  \n",
       "2201                         0.0  757.785501  \n",
       "2202                         0.0  893.509929  \n",
       "2203                         0.0  769.248047  \n",
       "2204                         0.0  915.609715  \n",
       "2205                         0.0  817.209384  \n",
       "2206                         0.0  725.719694  \n",
       "2207                         0.0  842.176000  \n",
       "2208                         0.0  762.878273  \n",
       "2209                         0.0  892.916672  \n",
       "2210                         0.0  760.883753  \n",
       "2211                         0.0  917.914506  \n",
       "2212                         0.0  814.121920  \n",
       "2213                         0.0  721.038573  \n",
       "2214                         0.0  843.181916  \n",
       "2215                         0.0  768.820798  \n",
       "2216                         0.0  887.679024  \n",
       "2217                         0.0  766.887781  \n",
       "2218                         0.0  915.038669  \n",
       "2219                         0.0  815.714719  \n",
       "2220                         0.0  735.737512  \n",
       "2221                         0.0  839.883623  \n",
       "2222                         0.0  753.702671  \n",
       "\n",
       "[31 rows x 40 columns]"
      ]
     },
     "execution_count": 52,
     "metadata": {},
     "output_type": "execute_result"
    }
   ],
   "source": [
    "forecast = model.predict(future)\n",
    "forecast.tail(31)"
   ]
  },
  {
   "cell_type": "code",
   "execution_count": 53,
   "metadata": {},
   "outputs": [
    {
     "data": {
      "image/png": "[encoded data removed]",
      "text/plain": [
       "<Figure size 648x1080 with 5 Axes>"
      ]
     },
     "metadata": {},
     "output_type": "display_data"
    }
   ],
   "source": [
    "model.plot_components(forecast);"
   ]
  },
  {
   "cell_type": "code",
   "execution_count": 54,
   "metadata": {},
   "outputs": [
    {
     "data": {
      "text/plain": [
       "ds\n",
       "2021-01-01    735.953619\n",
       "2021-01-02    848.063336\n",
       "2021-01-03    766.196622\n",
       "2021-01-04    892.452441\n",
       "2021-01-05    762.370212\n",
       "2021-01-06    927.239417\n",
       "2021-01-07    813.617112\n",
       "2021-01-08    736.098976\n",
       "2021-01-09    843.866910\n",
       "2021-01-10    757.785501\n",
       "2021-01-11    893.509929\n",
       "2021-01-12    769.248047\n",
       "2021-01-13    915.609715\n",
       "2021-01-14    817.209384\n",
       "2021-01-15    725.719694\n",
       "2021-01-16    842.176000\n",
       "2021-01-17    762.878273\n",
       "2021-01-18    892.916672\n",
       "2021-01-19    760.883753\n",
       "2021-01-20    917.914506\n",
       "2021-01-21    814.121920\n",
       "2021-01-22    721.038573\n",
       "2021-01-23    843.181916\n",
       "2021-01-24    768.820798\n",
       "2021-01-25    887.679024\n",
       "2021-01-26    766.887781\n",
       "2021-01-27    915.038669\n",
       "2021-01-28    815.714719\n",
       "2021-01-29    735.737512\n",
       "2021-01-30    839.883623\n",
       "2021-01-31    753.702671\n",
       "Name: predictions, dtype: float64"
      ]
     },
     "execution_count": 54,
     "metadata": {},
     "output_type": "execute_result"
    }
   ],
   "source": [
    "predictions = forecast.yhat[-31:].rename(\"predictions\")\n",
    "predictions.index = future_data[\"ds\"]\n",
    "predictions"
   ]
  },
  {
   "cell_type": "code",
   "execution_count": 56,
   "metadata": {},
   "outputs": [],
   "source": [
    "predictions.to_csv(\"prophet_predictions.csv\")"
   ]
  }
 ],
 "metadata": {
  "kernelspec": {
   "display_name": "Python 3.9.7 ('base')",
   "language": "python",
   "name": "python3"
  },
  "language_info": {
   "codemirror_mode": {
    "name": "ipython",
    "version": 3
   },
   "file_extension": ".py",
   "mimetype": "text/x-python",
   "name": "python",
   "nbconvert_exporter": "python",
   "pygments_lexer": "ipython3",
   "version": "3.9.7"
  },
  "orig_nbformat": 4,
  "vscode": {
   "interpreter": {
    "hash": "0bd3759d1d8aa52da212024e62c534f3eafdba18a88d1945e55a82ebd3bdefdc"
   }
  }
 },
 "nbformat": 4,
 "nbformat_minor": 2
}
