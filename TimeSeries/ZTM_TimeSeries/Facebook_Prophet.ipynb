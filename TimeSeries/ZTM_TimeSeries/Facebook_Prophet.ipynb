{
 "cells": [
  {
   "cell_type": "code",
   "execution_count": 1,
   "metadata": {},
   "outputs": [],
   "source": [
    "import pandas as pd\n",
    "import numpy as np\n",
    "import matplotlib.pyplot as plt"
   ]
  },
  {
   "cell_type": "code",
   "execution_count": 2,
   "metadata": {},
   "outputs": [
    {
     "data": {
      "text/html": [
       "<div>\n",
       "<style scoped>\n",
       "    .dataframe tbody tr th:only-of-type {\n",
       "        vertical-align: middle;\n",
       "    }\n",
       "\n",
       "    .dataframe tbody tr th {\n",
       "        vertical-align: top;\n",
       "    }\n",
       "\n",
       "    .dataframe thead th {\n",
       "        text-align: right;\n",
       "    }\n",
       "</style>\n",
       "<table border=\"1\" class=\"dataframe\">\n",
       "  <thead>\n",
       "    <tr style=\"text-align: right;\">\n",
       "      <th></th>\n",
       "      <th>ds</th>\n",
       "      <th>y</th>\n",
       "      <th>Easter</th>\n",
       "      <th>Thanksgiving</th>\n",
       "      <th>Christmas</th>\n",
       "      <th>Temperature</th>\n",
       "      <th>Marketing</th>\n",
       "    </tr>\n",
       "  </thead>\n",
       "  <tbody>\n",
       "    <tr>\n",
       "      <th>0</th>\n",
       "      <td>1/1/2015</td>\n",
       "      <td>720.000885</td>\n",
       "      <td>0</td>\n",
       "      <td>0</td>\n",
       "      <td>0</td>\n",
       "      <td>3.68</td>\n",
       "      <td>41.305</td>\n",
       "    </tr>\n",
       "    <tr>\n",
       "      <th>1</th>\n",
       "      <td>1/2/2015</td>\n",
       "      <td>581.276773</td>\n",
       "      <td>0</td>\n",
       "      <td>0</td>\n",
       "      <td>0</td>\n",
       "      <td>4.73</td>\n",
       "      <td>131.574</td>\n",
       "    </tr>\n",
       "    <tr>\n",
       "      <th>2</th>\n",
       "      <td>1/3/2015</td>\n",
       "      <td>754.117039</td>\n",
       "      <td>0</td>\n",
       "      <td>0</td>\n",
       "      <td>0</td>\n",
       "      <td>7.23</td>\n",
       "      <td>162.700</td>\n",
       "    </tr>\n",
       "    <tr>\n",
       "      <th>3</th>\n",
       "      <td>1/4/2015</td>\n",
       "      <td>622.252774</td>\n",
       "      <td>0</td>\n",
       "      <td>0</td>\n",
       "      <td>0</td>\n",
       "      <td>10.96</td>\n",
       "      <td>160.281</td>\n",
       "    </tr>\n",
       "    <tr>\n",
       "      <th>4</th>\n",
       "      <td>1/5/2015</td>\n",
       "      <td>785.373319</td>\n",
       "      <td>0</td>\n",
       "      <td>0</td>\n",
       "      <td>0</td>\n",
       "      <td>6.92</td>\n",
       "      <td>51.077</td>\n",
       "    </tr>\n",
       "  </tbody>\n",
       "</table>\n",
       "</div>"
      ],
      "text/plain": [
       "         ds           y  Easter  Thanksgiving  Christmas  Temperature  \\\n",
       "0  1/1/2015  720.000885       0             0          0         3.68   \n",
       "1  1/2/2015  581.276773       0             0          0         4.73   \n",
       "2  1/3/2015  754.117039       0             0          0         7.23   \n",
       "3  1/4/2015  622.252774       0             0          0        10.96   \n",
       "4  1/5/2015  785.373319       0             0          0         6.92   \n",
       "\n",
       "   Marketing  \n",
       "0     41.305  \n",
       "1    131.574  \n",
       "2    162.700  \n",
       "3    160.281  \n",
       "4     51.077  "
      ]
     },
     "execution_count": 2,
     "metadata": {},
     "output_type": "execute_result"
    }
   ],
   "source": [
    "df = pd.read_csv(\"nyc_data.csv\")\n",
    "df = df.rename(columns={\"Demand\" : \"y\",\n",
    "                        \"Date\" : \"ds\"})\n",
    "df.head(5)"
   ]
  },
  {
   "cell_type": "code",
   "execution_count": 3,
   "metadata": {},
   "outputs": [
    {
     "data": {
      "text/plain": [
       "0   2015-01-01\n",
       "1   2015-01-02\n",
       "2   2015-01-03\n",
       "3   2015-01-04\n",
       "4   2015-01-05\n",
       "Name: ds, dtype: datetime64[ns]"
      ]
     },
     "execution_count": 3,
     "metadata": {},
     "output_type": "execute_result"
    }
   ],
   "source": [
    "# Date variable\n",
    "\n",
    "df.ds = pd.to_datetime(df.ds, format='%m/%d/%Y')\n",
    "df.ds.head()"
   ]
  },
  {
   "cell_type": "code",
   "execution_count": 4,
   "metadata": {},
   "outputs": [
    {
     "data": {
      "text/html": [
       "<div>\n",
       "<style scoped>\n",
       "    .dataframe tbody tr th:only-of-type {\n",
       "        vertical-align: middle;\n",
       "    }\n",
       "\n",
       "    .dataframe tbody tr th {\n",
       "        vertical-align: top;\n",
       "    }\n",
       "\n",
       "    .dataframe thead th {\n",
       "        text-align: right;\n",
       "    }\n",
       "</style>\n",
       "<table border=\"1\" class=\"dataframe\">\n",
       "  <thead>\n",
       "    <tr style=\"text-align: right;\">\n",
       "      <th></th>\n",
       "      <th>holiday</th>\n",
       "      <th>ds</th>\n",
       "      <th>lower_window</th>\n",
       "      <th>upper_window</th>\n",
       "    </tr>\n",
       "  </thead>\n",
       "  <tbody>\n",
       "    <tr>\n",
       "      <th>94</th>\n",
       "      <td>easter</td>\n",
       "      <td>2015-04-05</td>\n",
       "      <td>-5</td>\n",
       "      <td>2</td>\n",
       "    </tr>\n",
       "    <tr>\n",
       "      <th>451</th>\n",
       "      <td>easter</td>\n",
       "      <td>2016-03-27</td>\n",
       "      <td>-5</td>\n",
       "      <td>2</td>\n",
       "    </tr>\n",
       "    <tr>\n",
       "      <th>836</th>\n",
       "      <td>easter</td>\n",
       "      <td>2017-04-16</td>\n",
       "      <td>-5</td>\n",
       "      <td>2</td>\n",
       "    </tr>\n",
       "    <tr>\n",
       "      <th>1186</th>\n",
       "      <td>easter</td>\n",
       "      <td>2018-04-01</td>\n",
       "      <td>-5</td>\n",
       "      <td>2</td>\n",
       "    </tr>\n",
       "    <tr>\n",
       "      <th>1571</th>\n",
       "      <td>easter</td>\n",
       "      <td>2019-04-21</td>\n",
       "      <td>-5</td>\n",
       "      <td>2</td>\n",
       "    </tr>\n",
       "    <tr>\n",
       "      <th>1928</th>\n",
       "      <td>easter</td>\n",
       "      <td>2020-04-12</td>\n",
       "      <td>-5</td>\n",
       "      <td>2</td>\n",
       "    </tr>\n",
       "  </tbody>\n",
       "</table>\n",
       "</div>"
      ],
      "text/plain": [
       "     holiday         ds  lower_window  upper_window\n",
       "94    easter 2015-04-05            -5             2\n",
       "451   easter 2016-03-27            -5             2\n",
       "836   easter 2017-04-16            -5             2\n",
       "1186  easter 2018-04-01            -5             2\n",
       "1571  easter 2019-04-21            -5             2\n",
       "1928  easter 2020-04-12            -5             2"
      ]
     },
     "execution_count": 4,
     "metadata": {},
     "output_type": "execute_result"
    }
   ],
   "source": [
    "# Holidays\n",
    "# Easter\n",
    "\n",
    "dates = pd.to_datetime(df[df.Easter == 1].ds)\n",
    "easter = pd.DataFrame({\"holiday\": \"easter\",\n",
    "                       \"ds\" : dates,\n",
    "                       \"lower_window\" : -5,\n",
    "                       \"upper_window\" : 2})\n",
    "easter"
   ]
  },
  {
   "cell_type": "code",
   "execution_count": 5,
   "metadata": {},
   "outputs": [
    {
     "data": {
      "text/html": [
       "<div>\n",
       "<style scoped>\n",
       "    .dataframe tbody tr th:only-of-type {\n",
       "        vertical-align: middle;\n",
       "    }\n",
       "\n",
       "    .dataframe tbody tr th {\n",
       "        vertical-align: top;\n",
       "    }\n",
       "\n",
       "    .dataframe thead th {\n",
       "        text-align: right;\n",
       "    }\n",
       "</style>\n",
       "<table border=\"1\" class=\"dataframe\">\n",
       "  <thead>\n",
       "    <tr style=\"text-align: right;\">\n",
       "      <th></th>\n",
       "      <th>holiday</th>\n",
       "      <th>ds</th>\n",
       "      <th>lower_window</th>\n",
       "      <th>upper_window</th>\n",
       "    </tr>\n",
       "  </thead>\n",
       "  <tbody>\n",
       "    <tr>\n",
       "      <th>329</th>\n",
       "      <td>thanksgiving</td>\n",
       "      <td>2015-11-26</td>\n",
       "      <td>-3</td>\n",
       "      <td>5</td>\n",
       "    </tr>\n",
       "    <tr>\n",
       "      <th>693</th>\n",
       "      <td>thanksgiving</td>\n",
       "      <td>2016-11-24</td>\n",
       "      <td>-3</td>\n",
       "      <td>5</td>\n",
       "    </tr>\n",
       "    <tr>\n",
       "      <th>1057</th>\n",
       "      <td>thanksgiving</td>\n",
       "      <td>2017-11-23</td>\n",
       "      <td>-3</td>\n",
       "      <td>5</td>\n",
       "    </tr>\n",
       "    <tr>\n",
       "      <th>1421</th>\n",
       "      <td>thanksgiving</td>\n",
       "      <td>2018-11-22</td>\n",
       "      <td>-3</td>\n",
       "      <td>5</td>\n",
       "    </tr>\n",
       "    <tr>\n",
       "      <th>1792</th>\n",
       "      <td>thanksgiving</td>\n",
       "      <td>2019-11-28</td>\n",
       "      <td>-3</td>\n",
       "      <td>5</td>\n",
       "    </tr>\n",
       "    <tr>\n",
       "      <th>2156</th>\n",
       "      <td>thanksgiving</td>\n",
       "      <td>2020-11-26</td>\n",
       "      <td>-3</td>\n",
       "      <td>5</td>\n",
       "    </tr>\n",
       "  </tbody>\n",
       "</table>\n",
       "</div>"
      ],
      "text/plain": [
       "           holiday         ds  lower_window  upper_window\n",
       "329   thanksgiving 2015-11-26            -3             5\n",
       "693   thanksgiving 2016-11-24            -3             5\n",
       "1057  thanksgiving 2017-11-23            -3             5\n",
       "1421  thanksgiving 2018-11-22            -3             5\n",
       "1792  thanksgiving 2019-11-28            -3             5\n",
       "2156  thanksgiving 2020-11-26            -3             5"
      ]
     },
     "execution_count": 5,
     "metadata": {},
     "output_type": "execute_result"
    }
   ],
   "source": [
    "# Thanksgiving\n",
    "dates = pd.to_datetime(df[df.Thanksgiving == 1].ds)\n",
    "thanksgiving = pd.DataFrame({\"holiday\": \"thanksgiving\",\n",
    "                       \"ds\" : dates,\n",
    "                       \"lower_window\" : -3,\n",
    "                       \"upper_window\" : 5})\n",
    "thanksgiving"
   ]
  },
  {
   "cell_type": "code",
   "execution_count": 6,
   "metadata": {},
   "outputs": [
    {
     "data": {
      "text/html": [
       "<div>\n",
       "<style scoped>\n",
       "    .dataframe tbody tr th:only-of-type {\n",
       "        vertical-align: middle;\n",
       "    }\n",
       "\n",
       "    .dataframe tbody tr th {\n",
       "        vertical-align: top;\n",
       "    }\n",
       "\n",
       "    .dataframe thead th {\n",
       "        text-align: right;\n",
       "    }\n",
       "</style>\n",
       "<table border=\"1\" class=\"dataframe\">\n",
       "  <thead>\n",
       "    <tr style=\"text-align: right;\">\n",
       "      <th></th>\n",
       "      <th>holiday</th>\n",
       "      <th>ds</th>\n",
       "      <th>lower_window</th>\n",
       "      <th>upper_window</th>\n",
       "    </tr>\n",
       "  </thead>\n",
       "  <tbody>\n",
       "    <tr>\n",
       "      <th>94</th>\n",
       "      <td>easter</td>\n",
       "      <td>2015-04-05</td>\n",
       "      <td>-5</td>\n",
       "      <td>2</td>\n",
       "    </tr>\n",
       "    <tr>\n",
       "      <th>451</th>\n",
       "      <td>easter</td>\n",
       "      <td>2016-03-27</td>\n",
       "      <td>-5</td>\n",
       "      <td>2</td>\n",
       "    </tr>\n",
       "    <tr>\n",
       "      <th>836</th>\n",
       "      <td>easter</td>\n",
       "      <td>2017-04-16</td>\n",
       "      <td>-5</td>\n",
       "      <td>2</td>\n",
       "    </tr>\n",
       "    <tr>\n",
       "      <th>1186</th>\n",
       "      <td>easter</td>\n",
       "      <td>2018-04-01</td>\n",
       "      <td>-5</td>\n",
       "      <td>2</td>\n",
       "    </tr>\n",
       "    <tr>\n",
       "      <th>1571</th>\n",
       "      <td>easter</td>\n",
       "      <td>2019-04-21</td>\n",
       "      <td>-5</td>\n",
       "      <td>2</td>\n",
       "    </tr>\n",
       "    <tr>\n",
       "      <th>1928</th>\n",
       "      <td>easter</td>\n",
       "      <td>2020-04-12</td>\n",
       "      <td>-5</td>\n",
       "      <td>2</td>\n",
       "    </tr>\n",
       "    <tr>\n",
       "      <th>329</th>\n",
       "      <td>thanksgiving</td>\n",
       "      <td>2015-11-26</td>\n",
       "      <td>-3</td>\n",
       "      <td>5</td>\n",
       "    </tr>\n",
       "    <tr>\n",
       "      <th>693</th>\n",
       "      <td>thanksgiving</td>\n",
       "      <td>2016-11-24</td>\n",
       "      <td>-3</td>\n",
       "      <td>5</td>\n",
       "    </tr>\n",
       "    <tr>\n",
       "      <th>1057</th>\n",
       "      <td>thanksgiving</td>\n",
       "      <td>2017-11-23</td>\n",
       "      <td>-3</td>\n",
       "      <td>5</td>\n",
       "    </tr>\n",
       "    <tr>\n",
       "      <th>1421</th>\n",
       "      <td>thanksgiving</td>\n",
       "      <td>2018-11-22</td>\n",
       "      <td>-3</td>\n",
       "      <td>5</td>\n",
       "    </tr>\n",
       "    <tr>\n",
       "      <th>1792</th>\n",
       "      <td>thanksgiving</td>\n",
       "      <td>2019-11-28</td>\n",
       "      <td>-3</td>\n",
       "      <td>5</td>\n",
       "    </tr>\n",
       "    <tr>\n",
       "      <th>2156</th>\n",
       "      <td>thanksgiving</td>\n",
       "      <td>2020-11-26</td>\n",
       "      <td>-3</td>\n",
       "      <td>5</td>\n",
       "    </tr>\n",
       "  </tbody>\n",
       "</table>\n",
       "</div>"
      ],
      "text/plain": [
       "           holiday         ds  lower_window  upper_window\n",
       "94          easter 2015-04-05            -5             2\n",
       "451         easter 2016-03-27            -5             2\n",
       "836         easter 2017-04-16            -5             2\n",
       "1186        easter 2018-04-01            -5             2\n",
       "1571        easter 2019-04-21            -5             2\n",
       "1928        easter 2020-04-12            -5             2\n",
       "329   thanksgiving 2015-11-26            -3             5\n",
       "693   thanksgiving 2016-11-24            -3             5\n",
       "1057  thanksgiving 2017-11-23            -3             5\n",
       "1421  thanksgiving 2018-11-22            -3             5\n",
       "1792  thanksgiving 2019-11-28            -3             5\n",
       "2156  thanksgiving 2020-11-26            -3             5"
      ]
     },
     "execution_count": 6,
     "metadata": {},
     "output_type": "execute_result"
    }
   ],
   "source": [
    "holidays = pd.concat([easter, thanksgiving])\n",
    "holidays"
   ]
  },
  {
   "cell_type": "code",
   "execution_count": 7,
   "metadata": {},
   "outputs": [],
   "source": [
    "df = df.drop(columns=[\"Easter\", \"Thanksgiving\"])"
   ]
  },
  {
   "attachments": {},
   "cell_type": "markdown",
   "metadata": {},
   "source": [
    "# PROPHET MODEL"
   ]
  },
  {
   "cell_type": "code",
   "execution_count": 9,
   "metadata": {},
   "outputs": [
    {
     "name": "stderr",
     "output_type": "stream",
     "text": [
      "Importing plotly failed. Interactive plots will not work.\n"
     ]
    }
   ],
   "source": [
    "from prophet import Prophet"
   ]
  },
  {
   "cell_type": "code",
   "execution_count": 10,
   "metadata": {},
   "outputs": [
    {
     "name": "stderr",
     "output_type": "stream",
     "text": [
      "21:13:16 - cmdstanpy - INFO - Chain [1] start processing\n",
      "21:13:19 - cmdstanpy - INFO - Chain [1] done processing\n"
     ]
    },
    {
     "data": {
      "text/plain": [
       "<prophet.forecaster.Prophet at 0x29e6f74d1c0>"
      ]
     },
     "execution_count": 10,
     "metadata": {},
     "output_type": "execute_result"
    }
   ],
   "source": [
    "model = Prophet(holidays=holidays,\n",
    "                seasonality_mode = \"multiplicative\",\n",
    "                seasonality_prior_scale = 10,\n",
    "                holidays_prior_scale = 10,\n",
    "                changepoint_prior_scale = 0.5)\n",
    "\n",
    "model.add_regressor(\"Christmas\")\n",
    "model.add_regressor(\"Temperature\")\n",
    "model.add_regressor(\"Marketing\")\n",
    "\n",
    "model.fit(df)\n"
   ]
  },
  {
   "attachments": {},
   "cell_type": "markdown",
   "metadata": {},
   "source": [
    "## Cross-validation"
   ]
  },
  {
   "cell_type": "code",
   "execution_count": 11,
   "metadata": {},
   "outputs": [],
   "source": [
    "from prophet.diagnostics import cross_validation"
   ]
  },
  {
   "cell_type": "code",
   "execution_count": 12,
   "metadata": {},
   "outputs": [
    {
     "data": {
      "text/html": [
       "<div>\n",
       "<style scoped>\n",
       "    .dataframe tbody tr th:only-of-type {\n",
       "        vertical-align: middle;\n",
       "    }\n",
       "\n",
       "    .dataframe tbody tr th {\n",
       "        vertical-align: top;\n",
       "    }\n",
       "\n",
       "    .dataframe thead th {\n",
       "        text-align: right;\n",
       "    }\n",
       "</style>\n",
       "<table border=\"1\" class=\"dataframe\">\n",
       "  <thead>\n",
       "    <tr style=\"text-align: right;\">\n",
       "      <th></th>\n",
       "      <th>ds</th>\n",
       "      <th>yhat</th>\n",
       "      <th>yhat_lower</th>\n",
       "      <th>yhat_upper</th>\n",
       "      <th>y</th>\n",
       "      <th>cutoff</th>\n",
       "    </tr>\n",
       "  </thead>\n",
       "  <tbody>\n",
       "    <tr>\n",
       "      <th>0</th>\n",
       "      <td>2020-07-10</td>\n",
       "      <td>616.919246</td>\n",
       "      <td>557.122996</td>\n",
       "      <td>675.421377</td>\n",
       "      <td>571.069531</td>\n",
       "      <td>2020-07-09</td>\n",
       "    </tr>\n",
       "    <tr>\n",
       "      <th>1</th>\n",
       "      <td>2020-07-11</td>\n",
       "      <td>735.492966</td>\n",
       "      <td>669.942829</td>\n",
       "      <td>795.552053</td>\n",
       "      <td>677.106981</td>\n",
       "      <td>2020-07-09</td>\n",
       "    </tr>\n",
       "    <tr>\n",
       "      <th>2</th>\n",
       "      <td>2020-07-12</td>\n",
       "      <td>649.586229</td>\n",
       "      <td>586.506191</td>\n",
       "      <td>712.218981</td>\n",
       "      <td>619.572774</td>\n",
       "      <td>2020-07-09</td>\n",
       "    </tr>\n",
       "    <tr>\n",
       "      <th>3</th>\n",
       "      <td>2020-07-13</td>\n",
       "      <td>784.349204</td>\n",
       "      <td>722.218237</td>\n",
       "      <td>852.313659</td>\n",
       "      <td>808.932621</td>\n",
       "      <td>2020-07-09</td>\n",
       "    </tr>\n",
       "    <tr>\n",
       "      <th>4</th>\n",
       "      <td>2020-07-14</td>\n",
       "      <td>649.748544</td>\n",
       "      <td>585.674004</td>\n",
       "      <td>713.587083</td>\n",
       "      <td>661.791644</td>\n",
       "      <td>2020-07-09</td>\n",
       "    </tr>\n",
       "  </tbody>\n",
       "</table>\n",
       "</div>"
      ],
      "text/plain": [
       "          ds        yhat  yhat_lower  yhat_upper           y     cutoff\n",
       "0 2020-07-10  616.919246  557.122996  675.421377  571.069531 2020-07-09\n",
       "1 2020-07-11  735.492966  669.942829  795.552053  677.106981 2020-07-09\n",
       "2 2020-07-12  649.586229  586.506191  712.218981  619.572774 2020-07-09\n",
       "3 2020-07-13  784.349204  722.218237  852.313659  808.932621 2020-07-09\n",
       "4 2020-07-14  649.748544  585.674004  713.587083  661.791644 2020-07-09"
      ]
     },
     "execution_count": 12,
     "metadata": {},
     "output_type": "execute_result"
    }
   ],
   "source": [
    "df_cv = cross_validation(model,\n",
    "                         horizon = \"31 days\",\n",
    "                         period = \"16 days\",\n",
    "                         initial = \"2012 days\", #df.shape[0] - 180 (6 months)\n",
    "                         parallel = \"processes\")\n",
    "\n",
    "df_cv.head()"
   ]
  },
  {
   "cell_type": "code",
   "execution_count": 13,
   "metadata": {},
   "outputs": [],
   "source": [
    "from prophet.diagnostics import performance_metrics\n",
    "from prophet.plot import plot_cross_validation_metric"
   ]
  },
  {
   "cell_type": "code",
   "execution_count": 14,
   "metadata": {},
   "outputs": [
    {
     "data": {
      "text/html": [
       "<div>\n",
       "<style scoped>\n",
       "    .dataframe tbody tr th:only-of-type {\n",
       "        vertical-align: middle;\n",
       "    }\n",
       "\n",
       "    .dataframe tbody tr th {\n",
       "        vertical-align: top;\n",
       "    }\n",
       "\n",
       "    .dataframe thead th {\n",
       "        text-align: right;\n",
       "    }\n",
       "</style>\n",
       "<table border=\"1\" class=\"dataframe\">\n",
       "  <thead>\n",
       "    <tr style=\"text-align: right;\">\n",
       "      <th></th>\n",
       "      <th>horizon</th>\n",
       "      <th>mse</th>\n",
       "      <th>rmse</th>\n",
       "      <th>mae</th>\n",
       "      <th>mape</th>\n",
       "      <th>mdape</th>\n",
       "      <th>smape</th>\n",
       "      <th>coverage</th>\n",
       "    </tr>\n",
       "  </thead>\n",
       "  <tbody>\n",
       "    <tr>\n",
       "      <th>0</th>\n",
       "      <td>4 days</td>\n",
       "      <td>2771.214494</td>\n",
       "      <td>52.642326</td>\n",
       "      <td>45.045724</td>\n",
       "      <td>0.063733</td>\n",
       "      <td>0.048442</td>\n",
       "      <td>0.062860</td>\n",
       "      <td>0.829032</td>\n",
       "    </tr>\n",
       "    <tr>\n",
       "      <th>1</th>\n",
       "      <td>5 days</td>\n",
       "      <td>3061.927352</td>\n",
       "      <td>55.334685</td>\n",
       "      <td>47.083367</td>\n",
       "      <td>0.067434</td>\n",
       "      <td>0.059769</td>\n",
       "      <td>0.066019</td>\n",
       "      <td>0.741935</td>\n",
       "    </tr>\n",
       "    <tr>\n",
       "      <th>2</th>\n",
       "      <td>6 days</td>\n",
       "      <td>3328.783735</td>\n",
       "      <td>57.695613</td>\n",
       "      <td>50.292930</td>\n",
       "      <td>0.070984</td>\n",
       "      <td>0.068063</td>\n",
       "      <td>0.070094</td>\n",
       "      <td>0.700000</td>\n",
       "    </tr>\n",
       "    <tr>\n",
       "      <th>3</th>\n",
       "      <td>7 days</td>\n",
       "      <td>2723.982743</td>\n",
       "      <td>52.191788</td>\n",
       "      <td>44.108951</td>\n",
       "      <td>0.063278</td>\n",
       "      <td>0.057707</td>\n",
       "      <td>0.062226</td>\n",
       "      <td>0.767742</td>\n",
       "    </tr>\n",
       "    <tr>\n",
       "      <th>4</th>\n",
       "      <td>8 days</td>\n",
       "      <td>2221.065426</td>\n",
       "      <td>47.128181</td>\n",
       "      <td>38.408562</td>\n",
       "      <td>0.053932</td>\n",
       "      <td>0.033162</td>\n",
       "      <td>0.053690</td>\n",
       "      <td>0.796774</td>\n",
       "    </tr>\n",
       "    <tr>\n",
       "      <th>5</th>\n",
       "      <td>9 days</td>\n",
       "      <td>1186.296029</td>\n",
       "      <td>34.442648</td>\n",
       "      <td>28.740584</td>\n",
       "      <td>0.039412</td>\n",
       "      <td>0.033126</td>\n",
       "      <td>0.039631</td>\n",
       "      <td>0.922581</td>\n",
       "    </tr>\n",
       "    <tr>\n",
       "      <th>6</th>\n",
       "      <td>10 days</td>\n",
       "      <td>1281.310627</td>\n",
       "      <td>35.795400</td>\n",
       "      <td>29.325195</td>\n",
       "      <td>0.040695</td>\n",
       "      <td>0.032196</td>\n",
       "      <td>0.040806</td>\n",
       "      <td>0.903226</td>\n",
       "    </tr>\n",
       "    <tr>\n",
       "      <th>7</th>\n",
       "      <td>11 days</td>\n",
       "      <td>1290.961479</td>\n",
       "      <td>35.929952</td>\n",
       "      <td>30.112829</td>\n",
       "      <td>0.042741</td>\n",
       "      <td>0.035380</td>\n",
       "      <td>0.042552</td>\n",
       "      <td>0.929032</td>\n",
       "    </tr>\n",
       "    <tr>\n",
       "      <th>8</th>\n",
       "      <td>12 days</td>\n",
       "      <td>2178.385467</td>\n",
       "      <td>46.673177</td>\n",
       "      <td>38.356448</td>\n",
       "      <td>0.055214</td>\n",
       "      <td>0.040870</td>\n",
       "      <td>0.054661</td>\n",
       "      <td>0.774194</td>\n",
       "    </tr>\n",
       "    <tr>\n",
       "      <th>9</th>\n",
       "      <td>13 days</td>\n",
       "      <td>2557.093747</td>\n",
       "      <td>50.567714</td>\n",
       "      <td>43.127159</td>\n",
       "      <td>0.061859</td>\n",
       "      <td>0.058046</td>\n",
       "      <td>0.061426</td>\n",
       "      <td>0.674194</td>\n",
       "    </tr>\n",
       "    <tr>\n",
       "      <th>10</th>\n",
       "      <td>14 days</td>\n",
       "      <td>3007.901966</td>\n",
       "      <td>54.844343</td>\n",
       "      <td>47.264319</td>\n",
       "      <td>0.067597</td>\n",
       "      <td>0.055969</td>\n",
       "      <td>0.066860</td>\n",
       "      <td>0.674194</td>\n",
       "    </tr>\n",
       "    <tr>\n",
       "      <th>11</th>\n",
       "      <td>15 days</td>\n",
       "      <td>2444.295084</td>\n",
       "      <td>49.439813</td>\n",
       "      <td>42.209962</td>\n",
       "      <td>0.059994</td>\n",
       "      <td>0.049359</td>\n",
       "      <td>0.059396</td>\n",
       "      <td>0.758065</td>\n",
       "    </tr>\n",
       "    <tr>\n",
       "      <th>12</th>\n",
       "      <td>16 days</td>\n",
       "      <td>2429.886643</td>\n",
       "      <td>49.293880</td>\n",
       "      <td>40.295234</td>\n",
       "      <td>0.055361</td>\n",
       "      <td>0.049359</td>\n",
       "      <td>0.054729</td>\n",
       "      <td>0.858065</td>\n",
       "    </tr>\n",
       "    <tr>\n",
       "      <th>13</th>\n",
       "      <td>17 days</td>\n",
       "      <td>2828.905136</td>\n",
       "      <td>53.187453</td>\n",
       "      <td>41.621953</td>\n",
       "      <td>0.056012</td>\n",
       "      <td>0.045360</td>\n",
       "      <td>0.055991</td>\n",
       "      <td>0.803226</td>\n",
       "    </tr>\n",
       "    <tr>\n",
       "      <th>14</th>\n",
       "      <td>18 days</td>\n",
       "      <td>2719.507899</td>\n",
       "      <td>52.148901</td>\n",
       "      <td>41.595741</td>\n",
       "      <td>0.056408</td>\n",
       "      <td>0.048454</td>\n",
       "      <td>0.056318</td>\n",
       "      <td>0.832258</td>\n",
       "    </tr>\n",
       "    <tr>\n",
       "      <th>15</th>\n",
       "      <td>19 days</td>\n",
       "      <td>3864.210348</td>\n",
       "      <td>62.162773</td>\n",
       "      <td>49.669202</td>\n",
       "      <td>0.069242</td>\n",
       "      <td>0.061192</td>\n",
       "      <td>0.068348</td>\n",
       "      <td>0.738710</td>\n",
       "    </tr>\n",
       "    <tr>\n",
       "      <th>16</th>\n",
       "      <td>20 days</td>\n",
       "      <td>3347.844781</td>\n",
       "      <td>57.860563</td>\n",
       "      <td>47.298953</td>\n",
       "      <td>0.065878</td>\n",
       "      <td>0.051611</td>\n",
       "      <td>0.064895</td>\n",
       "      <td>0.764516</td>\n",
       "    </tr>\n",
       "    <tr>\n",
       "      <th>17</th>\n",
       "      <td>21 days</td>\n",
       "      <td>3969.877277</td>\n",
       "      <td>63.006962</td>\n",
       "      <td>52.611141</td>\n",
       "      <td>0.072951</td>\n",
       "      <td>0.061192</td>\n",
       "      <td>0.071425</td>\n",
       "      <td>0.674194</td>\n",
       "    </tr>\n",
       "    <tr>\n",
       "      <th>18</th>\n",
       "      <td>22 days</td>\n",
       "      <td>3116.905536</td>\n",
       "      <td>55.829253</td>\n",
       "      <td>47.901405</td>\n",
       "      <td>0.066782</td>\n",
       "      <td>0.060391</td>\n",
       "      <td>0.065975</td>\n",
       "      <td>0.696774</td>\n",
       "    </tr>\n",
       "    <tr>\n",
       "      <th>19</th>\n",
       "      <td>23 days</td>\n",
       "      <td>2767.203913</td>\n",
       "      <td>52.604220</td>\n",
       "      <td>44.794619</td>\n",
       "      <td>0.062460</td>\n",
       "      <td>0.053498</td>\n",
       "      <td>0.061627</td>\n",
       "      <td>0.735484</td>\n",
       "    </tr>\n",
       "    <tr>\n",
       "      <th>20</th>\n",
       "      <td>24 days</td>\n",
       "      <td>1952.760665</td>\n",
       "      <td>44.190052</td>\n",
       "      <td>36.497572</td>\n",
       "      <td>0.050358</td>\n",
       "      <td>0.044053</td>\n",
       "      <td>0.050274</td>\n",
       "      <td>0.825806</td>\n",
       "    </tr>\n",
       "    <tr>\n",
       "      <th>21</th>\n",
       "      <td>25 days</td>\n",
       "      <td>1348.212340</td>\n",
       "      <td>36.718011</td>\n",
       "      <td>30.502713</td>\n",
       "      <td>0.041290</td>\n",
       "      <td>0.034082</td>\n",
       "      <td>0.041410</td>\n",
       "      <td>0.925806</td>\n",
       "    </tr>\n",
       "    <tr>\n",
       "      <th>22</th>\n",
       "      <td>26 days</td>\n",
       "      <td>1549.087904</td>\n",
       "      <td>39.358454</td>\n",
       "      <td>31.668584</td>\n",
       "      <td>0.042716</td>\n",
       "      <td>0.039753</td>\n",
       "      <td>0.042864</td>\n",
       "      <td>0.900000</td>\n",
       "    </tr>\n",
       "    <tr>\n",
       "      <th>23</th>\n",
       "      <td>27 days</td>\n",
       "      <td>1678.774783</td>\n",
       "      <td>40.972854</td>\n",
       "      <td>33.553017</td>\n",
       "      <td>0.046641</td>\n",
       "      <td>0.039753</td>\n",
       "      <td>0.046400</td>\n",
       "      <td>0.900000</td>\n",
       "    </tr>\n",
       "    <tr>\n",
       "      <th>24</th>\n",
       "      <td>28 days</td>\n",
       "      <td>3156.626922</td>\n",
       "      <td>56.183867</td>\n",
       "      <td>45.072993</td>\n",
       "      <td>0.061588</td>\n",
       "      <td>0.047290</td>\n",
       "      <td>0.061177</td>\n",
       "      <td>0.741935</td>\n",
       "    </tr>\n",
       "    <tr>\n",
       "      <th>25</th>\n",
       "      <td>29 days</td>\n",
       "      <td>3747.681955</td>\n",
       "      <td>61.218314</td>\n",
       "      <td>51.526625</td>\n",
       "      <td>0.071096</td>\n",
       "      <td>0.065408</td>\n",
       "      <td>0.070822</td>\n",
       "      <td>0.638710</td>\n",
       "    </tr>\n",
       "    <tr>\n",
       "      <th>26</th>\n",
       "      <td>30 days</td>\n",
       "      <td>4059.797764</td>\n",
       "      <td>63.716542</td>\n",
       "      <td>53.603515</td>\n",
       "      <td>0.073598</td>\n",
       "      <td>0.065408</td>\n",
       "      <td>0.073084</td>\n",
       "      <td>0.641935</td>\n",
       "    </tr>\n",
       "    <tr>\n",
       "      <th>27</th>\n",
       "      <td>31 days</td>\n",
       "      <td>3085.830403</td>\n",
       "      <td>55.550251</td>\n",
       "      <td>46.972380</td>\n",
       "      <td>0.065434</td>\n",
       "      <td>0.056955</td>\n",
       "      <td>0.064778</td>\n",
       "      <td>0.725806</td>\n",
       "    </tr>\n",
       "  </tbody>\n",
       "</table>\n",
       "</div>"
      ],
      "text/plain": [
       "   horizon          mse       rmse        mae      mape     mdape     smape  \\\n",
       "0   4 days  2771.214494  52.642326  45.045724  0.063733  0.048442  0.062860   \n",
       "1   5 days  3061.927352  55.334685  47.083367  0.067434  0.059769  0.066019   \n",
       "2   6 days  3328.783735  57.695613  50.292930  0.070984  0.068063  0.070094   \n",
       "3   7 days  2723.982743  52.191788  44.108951  0.063278  0.057707  0.062226   \n",
       "4   8 days  2221.065426  47.128181  38.408562  0.053932  0.033162  0.053690   \n",
       "5   9 days  1186.296029  34.442648  28.740584  0.039412  0.033126  0.039631   \n",
       "6  10 days  1281.310627  35.795400  29.325195  0.040695  0.032196  0.040806   \n",
       "7  11 days  1290.961479  35.929952  30.112829  0.042741  0.035380  0.042552   \n",
       "8  12 days  2178.385467  46.673177  38.356448  0.055214  0.040870  0.054661   \n",
       "9  13 days  2557.093747  50.567714  43.127159  0.061859  0.058046  0.061426   \n",
       "10 14 days  3007.901966  54.844343  47.264319  0.067597  0.055969  0.066860   \n",
       "11 15 days  2444.295084  49.439813  42.209962  0.059994  0.049359  0.059396   \n",
       "12 16 days  2429.886643  49.293880  40.295234  0.055361  0.049359  0.054729   \n",
       "13 17 days  2828.905136  53.187453  41.621953  0.056012  0.045360  0.055991   \n",
       "14 18 days  2719.507899  52.148901  41.595741  0.056408  0.048454  0.056318   \n",
       "15 19 days  3864.210348  62.162773  49.669202  0.069242  0.061192  0.068348   \n",
       "16 20 days  3347.844781  57.860563  47.298953  0.065878  0.051611  0.064895   \n",
       "17 21 days  3969.877277  63.006962  52.611141  0.072951  0.061192  0.071425   \n",
       "18 22 days  3116.905536  55.829253  47.901405  0.066782  0.060391  0.065975   \n",
       "19 23 days  2767.203913  52.604220  44.794619  0.062460  0.053498  0.061627   \n",
       "20 24 days  1952.760665  44.190052  36.497572  0.050358  0.044053  0.050274   \n",
       "21 25 days  1348.212340  36.718011  30.502713  0.041290  0.034082  0.041410   \n",
       "22 26 days  1549.087904  39.358454  31.668584  0.042716  0.039753  0.042864   \n",
       "23 27 days  1678.774783  40.972854  33.553017  0.046641  0.039753  0.046400   \n",
       "24 28 days  3156.626922  56.183867  45.072993  0.061588  0.047290  0.061177   \n",
       "25 29 days  3747.681955  61.218314  51.526625  0.071096  0.065408  0.070822   \n",
       "26 30 days  4059.797764  63.716542  53.603515  0.073598  0.065408  0.073084   \n",
       "27 31 days  3085.830403  55.550251  46.972380  0.065434  0.056955  0.064778   \n",
       "\n",
       "    coverage  \n",
       "0   0.829032  \n",
       "1   0.741935  \n",
       "2   0.700000  \n",
       "3   0.767742  \n",
       "4   0.796774  \n",
       "5   0.922581  \n",
       "6   0.903226  \n",
       "7   0.929032  \n",
       "8   0.774194  \n",
       "9   0.674194  \n",
       "10  0.674194  \n",
       "11  0.758065  \n",
       "12  0.858065  \n",
       "13  0.803226  \n",
       "14  0.832258  \n",
       "15  0.738710  \n",
       "16  0.764516  \n",
       "17  0.674194  \n",
       "18  0.696774  \n",
       "19  0.735484  \n",
       "20  0.825806  \n",
       "21  0.925806  \n",
       "22  0.900000  \n",
       "23  0.900000  \n",
       "24  0.741935  \n",
       "25  0.638710  \n",
       "26  0.641935  \n",
       "27  0.725806  "
      ]
     },
     "execution_count": 14,
     "metadata": {},
     "output_type": "execute_result"
    }
   ],
   "source": [
    "# Performance\n",
    "\n",
    "performance_metrics(df_cv)"
   ]
  },
  {
   "cell_type": "code",
   "execution_count": 16,
   "metadata": {},
   "outputs": [
    {
     "data": {
      "image/png": "[encoded data removed]",
      "text/plain": [
       "<Figure size 720x432 with 1 Axes>"
      ]
     },
     "metadata": {},
     "output_type": "display_data"
    }
   ],
   "source": [
    "plot_cross_validation_metric(df_cv, metric = \"rmse\");"
   ]
  },
  {
   "attachments": {},
   "cell_type": "markdown",
   "metadata": {},
   "source": [
    "# Parameter Tuning"
   ]
  },
  {
   "cell_type": "code",
   "execution_count": 17,
   "metadata": {},
   "outputs": [],
   "source": [
    "from sklearn.model_selection import ParameterGrid"
   ]
  },
  {
   "cell_type": "code",
   "execution_count": 24,
   "metadata": {},
   "outputs": [],
   "source": [
    "param_grid = {\"seasonality_mode\" :[\"additive\", \"multiplicative\"],\n",
    "                \"seasonality_prior_scale\" : [1, 5, 10, 20],\n",
    "                \"holidays_prior_scale\" : [5, 10, 20, 25],\n",
    "                \"changepoint_prior_scale\" : [0.005, 0.01, 0.05, 0.1]\n",
    "}\n",
    "\n",
    "grid = ParameterGrid(param_grid)\n"
   ]
  },
  {
   "cell_type": "code",
   "execution_count": 25,
   "metadata": {},
   "outputs": [
    {
     "data": {
      "text/plain": [
       "[{'changepoint_prior_scale': 0.005,\n",
       "  'holidays_prior_scale': 5,\n",
       "  'seasonality_mode': 'additive',\n",
       "  'seasonality_prior_scale': 1},\n",
       " {'changepoint_prior_scale': 0.005,\n",
       "  'holidays_prior_scale': 5,\n",
       "  'seasonality_mode': 'additive',\n",
       "  'seasonality_prior_scale': 5},\n",
       " {'changepoint_prior_scale': 0.005,\n",
       "  'holidays_prior_scale': 5,\n",
       "  'seasonality_mode': 'additive',\n",
       "  'seasonality_prior_scale': 10},\n",
       " {'changepoint_prior_scale': 0.005,\n",
       "  'holidays_prior_scale': 5,\n",
       "  'seasonality_mode': 'additive',\n",
       "  'seasonality_prior_scale': 20},\n",
       " {'changepoint_prior_scale': 0.005,\n",
       "  'holidays_prior_scale': 5,\n",
       "  'seasonality_mode': 'multiplicative',\n",
       "  'seasonality_prior_scale': 1},\n",
       " {'changepoint_prior_scale': 0.005,\n",
       "  'holidays_prior_scale': 5,\n",
       "  'seasonality_mode': 'multiplicative',\n",
       "  'seasonality_prior_scale': 5},\n",
       " {'changepoint_prior_scale': 0.005,\n",
       "  'holidays_prior_scale': 5,\n",
       "  'seasonality_mode': 'multiplicative',\n",
       "  'seasonality_prior_scale': 10},\n",
       " {'changepoint_prior_scale': 0.005,\n",
       "  'holidays_prior_scale': 5,\n",
       "  'seasonality_mode': 'multiplicative',\n",
       "  'seasonality_prior_scale': 20},\n",
       " {'changepoint_prior_scale': 0.005,\n",
       "  'holidays_prior_scale': 10,\n",
       "  'seasonality_mode': 'additive',\n",
       "  'seasonality_prior_scale': 1},\n",
       " {'changepoint_prior_scale': 0.005,\n",
       "  'holidays_prior_scale': 10,\n",
       "  'seasonality_mode': 'additive',\n",
       "  'seasonality_prior_scale': 5},\n",
       " {'changepoint_prior_scale': 0.005,\n",
       "  'holidays_prior_scale': 10,\n",
       "  'seasonality_mode': 'additive',\n",
       "  'seasonality_prior_scale': 10},\n",
       " {'changepoint_prior_scale': 0.005,\n",
       "  'holidays_prior_scale': 10,\n",
       "  'seasonality_mode': 'additive',\n",
       "  'seasonality_prior_scale': 20},\n",
       " {'changepoint_prior_scale': 0.005,\n",
       "  'holidays_prior_scale': 10,\n",
       "  'seasonality_mode': 'multiplicative',\n",
       "  'seasonality_prior_scale': 1},\n",
       " {'changepoint_prior_scale': 0.005,\n",
       "  'holidays_prior_scale': 10,\n",
       "  'seasonality_mode': 'multiplicative',\n",
       "  'seasonality_prior_scale': 5},\n",
       " {'changepoint_prior_scale': 0.005,\n",
       "  'holidays_prior_scale': 10,\n",
       "  'seasonality_mode': 'multiplicative',\n",
       "  'seasonality_prior_scale': 10},\n",
       " {'changepoint_prior_scale': 0.005,\n",
       "  'holidays_prior_scale': 10,\n",
       "  'seasonality_mode': 'multiplicative',\n",
       "  'seasonality_prior_scale': 20},\n",
       " {'changepoint_prior_scale': 0.005,\n",
       "  'holidays_prior_scale': 20,\n",
       "  'seasonality_mode': 'additive',\n",
       "  'seasonality_prior_scale': 1},\n",
       " {'changepoint_prior_scale': 0.005,\n",
       "  'holidays_prior_scale': 20,\n",
       "  'seasonality_mode': 'additive',\n",
       "  'seasonality_prior_scale': 5},\n",
       " {'changepoint_prior_scale': 0.005,\n",
       "  'holidays_prior_scale': 20,\n",
       "  'seasonality_mode': 'additive',\n",
       "  'seasonality_prior_scale': 10},\n",
       " {'changepoint_prior_scale': 0.005,\n",
       "  'holidays_prior_scale': 20,\n",
       "  'seasonality_mode': 'additive',\n",
       "  'seasonality_prior_scale': 20},\n",
       " {'changepoint_prior_scale': 0.005,\n",
       "  'holidays_prior_scale': 20,\n",
       "  'seasonality_mode': 'multiplicative',\n",
       "  'seasonality_prior_scale': 1},\n",
       " {'changepoint_prior_scale': 0.005,\n",
       "  'holidays_prior_scale': 20,\n",
       "  'seasonality_mode': 'multiplicative',\n",
       "  'seasonality_prior_scale': 5},\n",
       " {'changepoint_prior_scale': 0.005,\n",
       "  'holidays_prior_scale': 20,\n",
       "  'seasonality_mode': 'multiplicative',\n",
       "  'seasonality_prior_scale': 10},\n",
       " {'changepoint_prior_scale': 0.005,\n",
       "  'holidays_prior_scale': 20,\n",
       "  'seasonality_mode': 'multiplicative',\n",
       "  'seasonality_prior_scale': 20},\n",
       " {'changepoint_prior_scale': 0.005,\n",
       "  'holidays_prior_scale': 25,\n",
       "  'seasonality_mode': 'additive',\n",
       "  'seasonality_prior_scale': 1},\n",
       " {'changepoint_prior_scale': 0.005,\n",
       "  'holidays_prior_scale': 25,\n",
       "  'seasonality_mode': 'additive',\n",
       "  'seasonality_prior_scale': 5},\n",
       " {'changepoint_prior_scale': 0.005,\n",
       "  'holidays_prior_scale': 25,\n",
       "  'seasonality_mode': 'additive',\n",
       "  'seasonality_prior_scale': 10},\n",
       " {'changepoint_prior_scale': 0.005,\n",
       "  'holidays_prior_scale': 25,\n",
       "  'seasonality_mode': 'additive',\n",
       "  'seasonality_prior_scale': 20},\n",
       " {'changepoint_prior_scale': 0.005,\n",
       "  'holidays_prior_scale': 25,\n",
       "  'seasonality_mode': 'multiplicative',\n",
       "  'seasonality_prior_scale': 1},\n",
       " {'changepoint_prior_scale': 0.005,\n",
       "  'holidays_prior_scale': 25,\n",
       "  'seasonality_mode': 'multiplicative',\n",
       "  'seasonality_prior_scale': 5},\n",
       " {'changepoint_prior_scale': 0.005,\n",
       "  'holidays_prior_scale': 25,\n",
       "  'seasonality_mode': 'multiplicative',\n",
       "  'seasonality_prior_scale': 10},\n",
       " {'changepoint_prior_scale': 0.005,\n",
       "  'holidays_prior_scale': 25,\n",
       "  'seasonality_mode': 'multiplicative',\n",
       "  'seasonality_prior_scale': 20},\n",
       " {'changepoint_prior_scale': 0.01,\n",
       "  'holidays_prior_scale': 5,\n",
       "  'seasonality_mode': 'additive',\n",
       "  'seasonality_prior_scale': 1},\n",
       " {'changepoint_prior_scale': 0.01,\n",
       "  'holidays_prior_scale': 5,\n",
       "  'seasonality_mode': 'additive',\n",
       "  'seasonality_prior_scale': 5},\n",
       " {'changepoint_prior_scale': 0.01,\n",
       "  'holidays_prior_scale': 5,\n",
       "  'seasonality_mode': 'additive',\n",
       "  'seasonality_prior_scale': 10},\n",
       " {'changepoint_prior_scale': 0.01,\n",
       "  'holidays_prior_scale': 5,\n",
       "  'seasonality_mode': 'additive',\n",
       "  'seasonality_prior_scale': 20},\n",
       " {'changepoint_prior_scale': 0.01,\n",
       "  'holidays_prior_scale': 5,\n",
       "  'seasonality_mode': 'multiplicative',\n",
       "  'seasonality_prior_scale': 1},\n",
       " {'changepoint_prior_scale': 0.01,\n",
       "  'holidays_prior_scale': 5,\n",
       "  'seasonality_mode': 'multiplicative',\n",
       "  'seasonality_prior_scale': 5},\n",
       " {'changepoint_prior_scale': 0.01,\n",
       "  'holidays_prior_scale': 5,\n",
       "  'seasonality_mode': 'multiplicative',\n",
       "  'seasonality_prior_scale': 10},\n",
       " {'changepoint_prior_scale': 0.01,\n",
       "  'holidays_prior_scale': 5,\n",
       "  'seasonality_mode': 'multiplicative',\n",
       "  'seasonality_prior_scale': 20},\n",
       " {'changepoint_prior_scale': 0.01,\n",
       "  'holidays_prior_scale': 10,\n",
       "  'seasonality_mode': 'additive',\n",
       "  'seasonality_prior_scale': 1},\n",
       " {'changepoint_prior_scale': 0.01,\n",
       "  'holidays_prior_scale': 10,\n",
       "  'seasonality_mode': 'additive',\n",
       "  'seasonality_prior_scale': 5},\n",
       " {'changepoint_prior_scale': 0.01,\n",
       "  'holidays_prior_scale': 10,\n",
       "  'seasonality_mode': 'additive',\n",
       "  'seasonality_prior_scale': 10},\n",
       " {'changepoint_prior_scale': 0.01,\n",
       "  'holidays_prior_scale': 10,\n",
       "  'seasonality_mode': 'additive',\n",
       "  'seasonality_prior_scale': 20},\n",
       " {'changepoint_prior_scale': 0.01,\n",
       "  'holidays_prior_scale': 10,\n",
       "  'seasonality_mode': 'multiplicative',\n",
       "  'seasonality_prior_scale': 1},\n",
       " {'changepoint_prior_scale': 0.01,\n",
       "  'holidays_prior_scale': 10,\n",
       "  'seasonality_mode': 'multiplicative',\n",
       "  'seasonality_prior_scale': 5},\n",
       " {'changepoint_prior_scale': 0.01,\n",
       "  'holidays_prior_scale': 10,\n",
       "  'seasonality_mode': 'multiplicative',\n",
       "  'seasonality_prior_scale': 10},\n",
       " {'changepoint_prior_scale': 0.01,\n",
       "  'holidays_prior_scale': 10,\n",
       "  'seasonality_mode': 'multiplicative',\n",
       "  'seasonality_prior_scale': 20},\n",
       " {'changepoint_prior_scale': 0.01,\n",
       "  'holidays_prior_scale': 20,\n",
       "  'seasonality_mode': 'additive',\n",
       "  'seasonality_prior_scale': 1},\n",
       " {'changepoint_prior_scale': 0.01,\n",
       "  'holidays_prior_scale': 20,\n",
       "  'seasonality_mode': 'additive',\n",
       "  'seasonality_prior_scale': 5},\n",
       " {'changepoint_prior_scale': 0.01,\n",
       "  'holidays_prior_scale': 20,\n",
       "  'seasonality_mode': 'additive',\n",
       "  'seasonality_prior_scale': 10},\n",
       " {'changepoint_prior_scale': 0.01,\n",
       "  'holidays_prior_scale': 20,\n",
       "  'seasonality_mode': 'additive',\n",
       "  'seasonality_prior_scale': 20},\n",
       " {'changepoint_prior_scale': 0.01,\n",
       "  'holidays_prior_scale': 20,\n",
       "  'seasonality_mode': 'multiplicative',\n",
       "  'seasonality_prior_scale': 1},\n",
       " {'changepoint_prior_scale': 0.01,\n",
       "  'holidays_prior_scale': 20,\n",
       "  'seasonality_mode': 'multiplicative',\n",
       "  'seasonality_prior_scale': 5},\n",
       " {'changepoint_prior_scale': 0.01,\n",
       "  'holidays_prior_scale': 20,\n",
       "  'seasonality_mode': 'multiplicative',\n",
       "  'seasonality_prior_scale': 10},\n",
       " {'changepoint_prior_scale': 0.01,\n",
       "  'holidays_prior_scale': 20,\n",
       "  'seasonality_mode': 'multiplicative',\n",
       "  'seasonality_prior_scale': 20},\n",
       " {'changepoint_prior_scale': 0.01,\n",
       "  'holidays_prior_scale': 25,\n",
       "  'seasonality_mode': 'additive',\n",
       "  'seasonality_prior_scale': 1},\n",
       " {'changepoint_prior_scale': 0.01,\n",
       "  'holidays_prior_scale': 25,\n",
       "  'seasonality_mode': 'additive',\n",
       "  'seasonality_prior_scale': 5},\n",
       " {'changepoint_prior_scale': 0.01,\n",
       "  'holidays_prior_scale': 25,\n",
       "  'seasonality_mode': 'additive',\n",
       "  'seasonality_prior_scale': 10},\n",
       " {'changepoint_prior_scale': 0.01,\n",
       "  'holidays_prior_scale': 25,\n",
       "  'seasonality_mode': 'additive',\n",
       "  'seasonality_prior_scale': 20},\n",
       " {'changepoint_prior_scale': 0.01,\n",
       "  'holidays_prior_scale': 25,\n",
       "  'seasonality_mode': 'multiplicative',\n",
       "  'seasonality_prior_scale': 1},\n",
       " {'changepoint_prior_scale': 0.01,\n",
       "  'holidays_prior_scale': 25,\n",
       "  'seasonality_mode': 'multiplicative',\n",
       "  'seasonality_prior_scale': 5},\n",
       " {'changepoint_prior_scale': 0.01,\n",
       "  'holidays_prior_scale': 25,\n",
       "  'seasonality_mode': 'multiplicative',\n",
       "  'seasonality_prior_scale': 10},\n",
       " {'changepoint_prior_scale': 0.01,\n",
       "  'holidays_prior_scale': 25,\n",
       "  'seasonality_mode': 'multiplicative',\n",
       "  'seasonality_prior_scale': 20},\n",
       " {'changepoint_prior_scale': 0.05,\n",
       "  'holidays_prior_scale': 5,\n",
       "  'seasonality_mode': 'additive',\n",
       "  'seasonality_prior_scale': 1},\n",
       " {'changepoint_prior_scale': 0.05,\n",
       "  'holidays_prior_scale': 5,\n",
       "  'seasonality_mode': 'additive',\n",
       "  'seasonality_prior_scale': 5},\n",
       " {'changepoint_prior_scale': 0.05,\n",
       "  'holidays_prior_scale': 5,\n",
       "  'seasonality_mode': 'additive',\n",
       "  'seasonality_prior_scale': 10},\n",
       " {'changepoint_prior_scale': 0.05,\n",
       "  'holidays_prior_scale': 5,\n",
       "  'seasonality_mode': 'additive',\n",
       "  'seasonality_prior_scale': 20},\n",
       " {'changepoint_prior_scale': 0.05,\n",
       "  'holidays_prior_scale': 5,\n",
       "  'seasonality_mode': 'multiplicative',\n",
       "  'seasonality_prior_scale': 1},\n",
       " {'changepoint_prior_scale': 0.05,\n",
       "  'holidays_prior_scale': 5,\n",
       "  'seasonality_mode': 'multiplicative',\n",
       "  'seasonality_prior_scale': 5},\n",
       " {'changepoint_prior_scale': 0.05,\n",
       "  'holidays_prior_scale': 5,\n",
       "  'seasonality_mode': 'multiplicative',\n",
       "  'seasonality_prior_scale': 10},\n",
       " {'changepoint_prior_scale': 0.05,\n",
       "  'holidays_prior_scale': 5,\n",
       "  'seasonality_mode': 'multiplicative',\n",
       "  'seasonality_prior_scale': 20},\n",
       " {'changepoint_prior_scale': 0.05,\n",
       "  'holidays_prior_scale': 10,\n",
       "  'seasonality_mode': 'additive',\n",
       "  'seasonality_prior_scale': 1},\n",
       " {'changepoint_prior_scale': 0.05,\n",
       "  'holidays_prior_scale': 10,\n",
       "  'seasonality_mode': 'additive',\n",
       "  'seasonality_prior_scale': 5},\n",
       " {'changepoint_prior_scale': 0.05,\n",
       "  'holidays_prior_scale': 10,\n",
       "  'seasonality_mode': 'additive',\n",
       "  'seasonality_prior_scale': 10},\n",
       " {'changepoint_prior_scale': 0.05,\n",
       "  'holidays_prior_scale': 10,\n",
       "  'seasonality_mode': 'additive',\n",
       "  'seasonality_prior_scale': 20},\n",
       " {'changepoint_prior_scale': 0.05,\n",
       "  'holidays_prior_scale': 10,\n",
       "  'seasonality_mode': 'multiplicative',\n",
       "  'seasonality_prior_scale': 1},\n",
       " {'changepoint_prior_scale': 0.05,\n",
       "  'holidays_prior_scale': 10,\n",
       "  'seasonality_mode': 'multiplicative',\n",
       "  'seasonality_prior_scale': 5},\n",
       " {'changepoint_prior_scale': 0.05,\n",
       "  'holidays_prior_scale': 10,\n",
       "  'seasonality_mode': 'multiplicative',\n",
       "  'seasonality_prior_scale': 10},\n",
       " {'changepoint_prior_scale': 0.05,\n",
       "  'holidays_prior_scale': 10,\n",
       "  'seasonality_mode': 'multiplicative',\n",
       "  'seasonality_prior_scale': 20},\n",
       " {'changepoint_prior_scale': 0.05,\n",
       "  'holidays_prior_scale': 20,\n",
       "  'seasonality_mode': 'additive',\n",
       "  'seasonality_prior_scale': 1},\n",
       " {'changepoint_prior_scale': 0.05,\n",
       "  'holidays_prior_scale': 20,\n",
       "  'seasonality_mode': 'additive',\n",
       "  'seasonality_prior_scale': 5},\n",
       " {'changepoint_prior_scale': 0.05,\n",
       "  'holidays_prior_scale': 20,\n",
       "  'seasonality_mode': 'additive',\n",
       "  'seasonality_prior_scale': 10},\n",
       " {'changepoint_prior_scale': 0.05,\n",
       "  'holidays_prior_scale': 20,\n",
       "  'seasonality_mode': 'additive',\n",
       "  'seasonality_prior_scale': 20},\n",
       " {'changepoint_prior_scale': 0.05,\n",
       "  'holidays_prior_scale': 20,\n",
       "  'seasonality_mode': 'multiplicative',\n",
       "  'seasonality_prior_scale': 1},\n",
       " {'changepoint_prior_scale': 0.05,\n",
       "  'holidays_prior_scale': 20,\n",
       "  'seasonality_mode': 'multiplicative',\n",
       "  'seasonality_prior_scale': 5},\n",
       " {'changepoint_prior_scale': 0.05,\n",
       "  'holidays_prior_scale': 20,\n",
       "  'seasonality_mode': 'multiplicative',\n",
       "  'seasonality_prior_scale': 10},\n",
       " {'changepoint_prior_scale': 0.05,\n",
       "  'holidays_prior_scale': 20,\n",
       "  'seasonality_mode': 'multiplicative',\n",
       "  'seasonality_prior_scale': 20},\n",
       " {'changepoint_prior_scale': 0.05,\n",
       "  'holidays_prior_scale': 25,\n",
       "  'seasonality_mode': 'additive',\n",
       "  'seasonality_prior_scale': 1},\n",
       " {'changepoint_prior_scale': 0.05,\n",
       "  'holidays_prior_scale': 25,\n",
       "  'seasonality_mode': 'additive',\n",
       "  'seasonality_prior_scale': 5},\n",
       " {'changepoint_prior_scale': 0.05,\n",
       "  'holidays_prior_scale': 25,\n",
       "  'seasonality_mode': 'additive',\n",
       "  'seasonality_prior_scale': 10},\n",
       " {'changepoint_prior_scale': 0.05,\n",
       "  'holidays_prior_scale': 25,\n",
       "  'seasonality_mode': 'additive',\n",
       "  'seasonality_prior_scale': 20},\n",
       " {'changepoint_prior_scale': 0.05,\n",
       "  'holidays_prior_scale': 25,\n",
       "  'seasonality_mode': 'multiplicative',\n",
       "  'seasonality_prior_scale': 1},\n",
       " {'changepoint_prior_scale': 0.05,\n",
       "  'holidays_prior_scale': 25,\n",
       "  'seasonality_mode': 'multiplicative',\n",
       "  'seasonality_prior_scale': 5},\n",
       " {'changepoint_prior_scale': 0.05,\n",
       "  'holidays_prior_scale': 25,\n",
       "  'seasonality_mode': 'multiplicative',\n",
       "  'seasonality_prior_scale': 10},\n",
       " {'changepoint_prior_scale': 0.05,\n",
       "  'holidays_prior_scale': 25,\n",
       "  'seasonality_mode': 'multiplicative',\n",
       "  'seasonality_prior_scale': 20},\n",
       " {'changepoint_prior_scale': 0.1,\n",
       "  'holidays_prior_scale': 5,\n",
       "  'seasonality_mode': 'additive',\n",
       "  'seasonality_prior_scale': 1},\n",
       " {'changepoint_prior_scale': 0.1,\n",
       "  'holidays_prior_scale': 5,\n",
       "  'seasonality_mode': 'additive',\n",
       "  'seasonality_prior_scale': 5},\n",
       " {'changepoint_prior_scale': 0.1,\n",
       "  'holidays_prior_scale': 5,\n",
       "  'seasonality_mode': 'additive',\n",
       "  'seasonality_prior_scale': 10},\n",
       " {'changepoint_prior_scale': 0.1,\n",
       "  'holidays_prior_scale': 5,\n",
       "  'seasonality_mode': 'additive',\n",
       "  'seasonality_prior_scale': 20},\n",
       " {'changepoint_prior_scale': 0.1,\n",
       "  'holidays_prior_scale': 5,\n",
       "  'seasonality_mode': 'multiplicative',\n",
       "  'seasonality_prior_scale': 1},\n",
       " {'changepoint_prior_scale': 0.1,\n",
       "  'holidays_prior_scale': 5,\n",
       "  'seasonality_mode': 'multiplicative',\n",
       "  'seasonality_prior_scale': 5},\n",
       " {'changepoint_prior_scale': 0.1,\n",
       "  'holidays_prior_scale': 5,\n",
       "  'seasonality_mode': 'multiplicative',\n",
       "  'seasonality_prior_scale': 10},\n",
       " {'changepoint_prior_scale': 0.1,\n",
       "  'holidays_prior_scale': 5,\n",
       "  'seasonality_mode': 'multiplicative',\n",
       "  'seasonality_prior_scale': 20},\n",
       " {'changepoint_prior_scale': 0.1,\n",
       "  'holidays_prior_scale': 10,\n",
       "  'seasonality_mode': 'additive',\n",
       "  'seasonality_prior_scale': 1},\n",
       " {'changepoint_prior_scale': 0.1,\n",
       "  'holidays_prior_scale': 10,\n",
       "  'seasonality_mode': 'additive',\n",
       "  'seasonality_prior_scale': 5},\n",
       " {'changepoint_prior_scale': 0.1,\n",
       "  'holidays_prior_scale': 10,\n",
       "  'seasonality_mode': 'additive',\n",
       "  'seasonality_prior_scale': 10},\n",
       " {'changepoint_prior_scale': 0.1,\n",
       "  'holidays_prior_scale': 10,\n",
       "  'seasonality_mode': 'additive',\n",
       "  'seasonality_prior_scale': 20},\n",
       " {'changepoint_prior_scale': 0.1,\n",
       "  'holidays_prior_scale': 10,\n",
       "  'seasonality_mode': 'multiplicative',\n",
       "  'seasonality_prior_scale': 1},\n",
       " {'changepoint_prior_scale': 0.1,\n",
       "  'holidays_prior_scale': 10,\n",
       "  'seasonality_mode': 'multiplicative',\n",
       "  'seasonality_prior_scale': 5},\n",
       " {'changepoint_prior_scale': 0.1,\n",
       "  'holidays_prior_scale': 10,\n",
       "  'seasonality_mode': 'multiplicative',\n",
       "  'seasonality_prior_scale': 10},\n",
       " {'changepoint_prior_scale': 0.1,\n",
       "  'holidays_prior_scale': 10,\n",
       "  'seasonality_mode': 'multiplicative',\n",
       "  'seasonality_prior_scale': 20},\n",
       " {'changepoint_prior_scale': 0.1,\n",
       "  'holidays_prior_scale': 20,\n",
       "  'seasonality_mode': 'additive',\n",
       "  'seasonality_prior_scale': 1},\n",
       " {'changepoint_prior_scale': 0.1,\n",
       "  'holidays_prior_scale': 20,\n",
       "  'seasonality_mode': 'additive',\n",
       "  'seasonality_prior_scale': 5},\n",
       " {'changepoint_prior_scale': 0.1,\n",
       "  'holidays_prior_scale': 20,\n",
       "  'seasonality_mode': 'additive',\n",
       "  'seasonality_prior_scale': 10},\n",
       " {'changepoint_prior_scale': 0.1,\n",
       "  'holidays_prior_scale': 20,\n",
       "  'seasonality_mode': 'additive',\n",
       "  'seasonality_prior_scale': 20},\n",
       " {'changepoint_prior_scale': 0.1,\n",
       "  'holidays_prior_scale': 20,\n",
       "  'seasonality_mode': 'multiplicative',\n",
       "  'seasonality_prior_scale': 1},\n",
       " {'changepoint_prior_scale': 0.1,\n",
       "  'holidays_prior_scale': 20,\n",
       "  'seasonality_mode': 'multiplicative',\n",
       "  'seasonality_prior_scale': 5},\n",
       " {'changepoint_prior_scale': 0.1,\n",
       "  'holidays_prior_scale': 20,\n",
       "  'seasonality_mode': 'multiplicative',\n",
       "  'seasonality_prior_scale': 10},\n",
       " {'changepoint_prior_scale': 0.1,\n",
       "  'holidays_prior_scale': 20,\n",
       "  'seasonality_mode': 'multiplicative',\n",
       "  'seasonality_prior_scale': 20},\n",
       " {'changepoint_prior_scale': 0.1,\n",
       "  'holidays_prior_scale': 25,\n",
       "  'seasonality_mode': 'additive',\n",
       "  'seasonality_prior_scale': 1},\n",
       " {'changepoint_prior_scale': 0.1,\n",
       "  'holidays_prior_scale': 25,\n",
       "  'seasonality_mode': 'additive',\n",
       "  'seasonality_prior_scale': 5},\n",
       " {'changepoint_prior_scale': 0.1,\n",
       "  'holidays_prior_scale': 25,\n",
       "  'seasonality_mode': 'additive',\n",
       "  'seasonality_prior_scale': 10},\n",
       " {'changepoint_prior_scale': 0.1,\n",
       "  'holidays_prior_scale': 25,\n",
       "  'seasonality_mode': 'additive',\n",
       "  'seasonality_prior_scale': 20},\n",
       " {'changepoint_prior_scale': 0.1,\n",
       "  'holidays_prior_scale': 25,\n",
       "  'seasonality_mode': 'multiplicative',\n",
       "  'seasonality_prior_scale': 1},\n",
       " {'changepoint_prior_scale': 0.1,\n",
       "  'holidays_prior_scale': 25,\n",
       "  'seasonality_mode': 'multiplicative',\n",
       "  'seasonality_prior_scale': 5},\n",
       " {'changepoint_prior_scale': 0.1,\n",
       "  'holidays_prior_scale': 25,\n",
       "  'seasonality_mode': 'multiplicative',\n",
       "  'seasonality_prior_scale': 10},\n",
       " {'changepoint_prior_scale': 0.1,\n",
       "  'holidays_prior_scale': 25,\n",
       "  'seasonality_mode': 'multiplicative',\n",
       "  'seasonality_prior_scale': 20}]"
      ]
     },
     "execution_count": 25,
     "metadata": {},
     "output_type": "execute_result"
    }
   ],
   "source": [
    "list(grid)"
   ]
  },
  {
   "cell_type": "code",
   "execution_count": 23,
   "metadata": {},
   "outputs": [
    {
     "data": {
      "text/plain": [
       "128"
      ]
     },
     "execution_count": 23,
     "metadata": {},
     "output_type": "execute_result"
    }
   ],
   "source": [
    "len(list(grid))"
   ]
  },
  {
   "cell_type": "code",
   "execution_count": 26,
   "metadata": {},
   "outputs": [
    {
     "name": "stdout",
     "output_type": "stream",
     "text": [
      "Running 1 / 128\n"
     ]
    },
    {
     "name": "stderr",
     "output_type": "stream",
     "text": [
      "21:47:31 - cmdstanpy - INFO - Chain [1] start processing\n",
      "21:47:32 - cmdstanpy - INFO - Chain [1] done processing\n"
     ]
    },
    {
     "name": "stdout",
     "output_type": "stream",
     "text": [
      "RMSE for epoch 1 is 53.18518315760396\n",
      "Running 2 / 128\n"
     ]
    },
    {
     "name": "stderr",
     "output_type": "stream",
     "text": [
      "21:47:50 - cmdstanpy - INFO - Chain [1] start processing\n",
      "21:47:50 - cmdstanpy - INFO - Chain [1] done processing\n"
     ]
    },
    {
     "name": "stdout",
     "output_type": "stream",
     "text": [
      "RMSE for epoch 2 is 52.879007813534066\n",
      "Running 3 / 128\n"
     ]
    },
    {
     "name": "stderr",
     "output_type": "stream",
     "text": [
      "21:48:10 - cmdstanpy - INFO - Chain [1] start processing\n",
      "21:48:11 - cmdstanpy - INFO - Chain [1] done processing\n"
     ]
    },
    {
     "name": "stdout",
     "output_type": "stream",
     "text": [
      "RMSE for epoch 3 is 53.31542253028949\n",
      "Running 4 / 128\n"
     ]
    },
    {
     "name": "stderr",
     "output_type": "stream",
     "text": [
      "21:48:32 - cmdstanpy - INFO - Chain [1] start processing\n",
      "21:48:32 - cmdstanpy - INFO - Chain [1] done processing\n"
     ]
    },
    {
     "name": "stdout",
     "output_type": "stream",
     "text": [
      "RMSE for epoch 4 is 52.9833463921711\n",
      "Running 5 / 128\n"
     ]
    },
    {
     "name": "stderr",
     "output_type": "stream",
     "text": [
      "21:48:49 - cmdstanpy - INFO - Chain [1] start processing\n",
      "21:48:50 - cmdstanpy - INFO - Chain [1] done processing\n"
     ]
    },
    {
     "name": "stdout",
     "output_type": "stream",
     "text": [
      "RMSE for epoch 5 is 49.77267660508992\n",
      "Running 6 / 128\n"
     ]
    },
    {
     "name": "stderr",
     "output_type": "stream",
     "text": [
      "21:49:05 - cmdstanpy - INFO - Chain [1] start processing\n",
      "21:49:05 - cmdstanpy - INFO - Chain [1] done processing\n"
     ]
    },
    {
     "name": "stdout",
     "output_type": "stream",
     "text": [
      "RMSE for epoch 6 is 49.91301895539415\n",
      "Running 7 / 128\n"
     ]
    },
    {
     "name": "stderr",
     "output_type": "stream",
     "text": [
      "21:49:21 - cmdstanpy - INFO - Chain [1] start processing\n",
      "21:49:21 - cmdstanpy - INFO - Chain [1] done processing\n"
     ]
    },
    {
     "name": "stdout",
     "output_type": "stream",
     "text": [
      "RMSE for epoch 7 is 50.38133985730108\n",
      "Running 8 / 128\n"
     ]
    },
    {
     "name": "stderr",
     "output_type": "stream",
     "text": [
      "21:49:37 - cmdstanpy - INFO - Chain [1] start processing\n",
      "21:49:37 - cmdstanpy - INFO - Chain [1] done processing\n"
     ]
    },
    {
     "name": "stdout",
     "output_type": "stream",
     "text": [
      "RMSE for epoch 8 is 50.799200263690636\n",
      "Running 9 / 128\n"
     ]
    },
    {
     "name": "stderr",
     "output_type": "stream",
     "text": [
      "21:49:53 - cmdstanpy - INFO - Chain [1] start processing\n",
      "21:49:54 - cmdstanpy - INFO - Chain [1] done processing\n"
     ]
    },
    {
     "name": "stdout",
     "output_type": "stream",
     "text": [
      "RMSE for epoch 9 is 53.54058942121667\n",
      "Running 10 / 128\n"
     ]
    },
    {
     "name": "stderr",
     "output_type": "stream",
     "text": [
      "21:50:10 - cmdstanpy - INFO - Chain [1] start processing\n",
      "21:50:10 - cmdstanpy - INFO - Chain [1] done processing\n"
     ]
    },
    {
     "name": "stdout",
     "output_type": "stream",
     "text": [
      "RMSE for epoch 10 is 52.694675220806644\n",
      "Running 11 / 128\n"
     ]
    },
    {
     "name": "stderr",
     "output_type": "stream",
     "text": [
      "21:50:26 - cmdstanpy - INFO - Chain [1] start processing\n",
      "21:50:26 - cmdstanpy - INFO - Chain [1] done processing\n"
     ]
    },
    {
     "name": "stdout",
     "output_type": "stream",
     "text": [
      "RMSE for epoch 11 is 52.233644940707464\n",
      "Running 12 / 128\n"
     ]
    },
    {
     "name": "stderr",
     "output_type": "stream",
     "text": [
      "21:50:45 - cmdstanpy - INFO - Chain [1] start processing\n",
      "21:50:46 - cmdstanpy - INFO - Chain [1] done processing\n"
     ]
    },
    {
     "name": "stdout",
     "output_type": "stream",
     "text": [
      "RMSE for epoch 12 is 52.650079024605354\n",
      "Running 13 / 128\n"
     ]
    },
    {
     "name": "stderr",
     "output_type": "stream",
     "text": [
      "21:51:04 - cmdstanpy - INFO - Chain [1] start processing\n",
      "21:51:05 - cmdstanpy - INFO - Chain [1] done processing\n"
     ]
    },
    {
     "name": "stdout",
     "output_type": "stream",
     "text": [
      "RMSE for epoch 13 is 49.9654027066743\n",
      "Running 14 / 128\n"
     ]
    },
    {
     "name": "stderr",
     "output_type": "stream",
     "text": [
      "21:51:21 - cmdstanpy - INFO - Chain [1] start processing\n",
      "21:51:22 - cmdstanpy - INFO - Chain [1] done processing\n"
     ]
    },
    {
     "name": "stdout",
     "output_type": "stream",
     "text": [
      "RMSE for epoch 14 is 49.920043676916286\n",
      "Running 15 / 128\n"
     ]
    },
    {
     "name": "stderr",
     "output_type": "stream",
     "text": [
      "21:51:38 - cmdstanpy - INFO - Chain [1] start processing\n",
      "21:51:39 - cmdstanpy - INFO - Chain [1] done processing\n"
     ]
    },
    {
     "name": "stdout",
     "output_type": "stream",
     "text": [
      "RMSE for epoch 15 is 50.24911154301185\n",
      "Running 16 / 128\n"
     ]
    },
    {
     "name": "stderr",
     "output_type": "stream",
     "text": [
      "21:51:54 - cmdstanpy - INFO - Chain [1] start processing\n",
      "21:51:54 - cmdstanpy - INFO - Chain [1] done processing\n"
     ]
    },
    {
     "name": "stdout",
     "output_type": "stream",
     "text": [
      "RMSE for epoch 16 is 50.305127348426346\n",
      "Running 17 / 128\n"
     ]
    },
    {
     "name": "stderr",
     "output_type": "stream",
     "text": [
      "21:52:10 - cmdstanpy - INFO - Chain [1] start processing\n",
      "21:52:11 - cmdstanpy - INFO - Chain [1] done processing\n"
     ]
    },
    {
     "name": "stdout",
     "output_type": "stream",
     "text": [
      "RMSE for epoch 17 is 53.23893515483019\n",
      "Running 18 / 128\n"
     ]
    },
    {
     "name": "stderr",
     "output_type": "stream",
     "text": [
      "21:52:26 - cmdstanpy - INFO - Chain [1] start processing\n",
      "21:52:27 - cmdstanpy - INFO - Chain [1] done processing\n"
     ]
    },
    {
     "name": "stdout",
     "output_type": "stream",
     "text": [
      "RMSE for epoch 18 is 52.70570563252104\n",
      "Running 19 / 128\n"
     ]
    },
    {
     "name": "stderr",
     "output_type": "stream",
     "text": [
      "21:52:40 - cmdstanpy - INFO - Chain [1] start processing\n",
      "21:52:41 - cmdstanpy - INFO - Chain [1] done processing\n"
     ]
    },
    {
     "name": "stdout",
     "output_type": "stream",
     "text": [
      "RMSE for epoch 19 is 52.424861099941374\n",
      "Running 20 / 128\n"
     ]
    },
    {
     "name": "stderr",
     "output_type": "stream",
     "text": [
      "21:52:56 - cmdstanpy - INFO - Chain [1] start processing\n",
      "21:52:57 - cmdstanpy - INFO - Chain [1] done processing\n"
     ]
    },
    {
     "name": "stdout",
     "output_type": "stream",
     "text": [
      "RMSE for epoch 20 is 52.75270968254707\n",
      "Running 21 / 128\n"
     ]
    },
    {
     "name": "stderr",
     "output_type": "stream",
     "text": [
      "21:53:13 - cmdstanpy - INFO - Chain [1] start processing\n",
      "21:53:13 - cmdstanpy - INFO - Chain [1] done processing\n"
     ]
    },
    {
     "name": "stdout",
     "output_type": "stream",
     "text": [
      "RMSE for epoch 21 is 50.15330334991899\n",
      "Running 22 / 128\n"
     ]
    },
    {
     "name": "stderr",
     "output_type": "stream",
     "text": [
      "21:53:29 - cmdstanpy - INFO - Chain [1] start processing\n",
      "21:53:30 - cmdstanpy - INFO - Chain [1] done processing\n"
     ]
    },
    {
     "name": "stdout",
     "output_type": "stream",
     "text": [
      "RMSE for epoch 22 is 50.1731920313859\n",
      "Running 23 / 128\n"
     ]
    },
    {
     "name": "stderr",
     "output_type": "stream",
     "text": [
      "21:53:46 - cmdstanpy - INFO - Chain [1] start processing\n",
      "21:53:47 - cmdstanpy - INFO - Chain [1] done processing\n"
     ]
    },
    {
     "name": "stdout",
     "output_type": "stream",
     "text": [
      "RMSE for epoch 23 is 49.68611276953048\n",
      "Running 24 / 128\n"
     ]
    },
    {
     "name": "stderr",
     "output_type": "stream",
     "text": [
      "21:54:03 - cmdstanpy - INFO - Chain [1] start processing\n",
      "21:54:04 - cmdstanpy - INFO - Chain [1] done processing\n"
     ]
    },
    {
     "name": "stdout",
     "output_type": "stream",
     "text": [
      "RMSE for epoch 24 is 50.230943588390446\n",
      "Running 25 / 128\n"
     ]
    },
    {
     "name": "stderr",
     "output_type": "stream",
     "text": [
      "21:54:22 - cmdstanpy - INFO - Chain [1] start processing\n",
      "21:54:23 - cmdstanpy - INFO - Chain [1] done processing\n"
     ]
    },
    {
     "name": "stdout",
     "output_type": "stream",
     "text": [
      "RMSE for epoch 25 is 52.846428024809335\n",
      "Running 26 / 128\n"
     ]
    },
    {
     "name": "stderr",
     "output_type": "stream",
     "text": [
      "21:54:41 - cmdstanpy - INFO - Chain [1] start processing\n",
      "21:54:41 - cmdstanpy - INFO - Chain [1] done processing\n"
     ]
    },
    {
     "name": "stdout",
     "output_type": "stream",
     "text": [
      "RMSE for epoch 26 is 53.17062693926693\n",
      "Running 27 / 128\n"
     ]
    },
    {
     "name": "stderr",
     "output_type": "stream",
     "text": [
      "21:54:57 - cmdstanpy - INFO - Chain [1] start processing\n",
      "21:54:58 - cmdstanpy - INFO - Chain [1] done processing\n"
     ]
    },
    {
     "name": "stdout",
     "output_type": "stream",
     "text": [
      "RMSE for epoch 27 is 52.81652791937654\n",
      "Running 28 / 128\n"
     ]
    },
    {
     "name": "stderr",
     "output_type": "stream",
     "text": [
      "21:55:15 - cmdstanpy - INFO - Chain [1] start processing\n",
      "21:55:15 - cmdstanpy - INFO - Chain [1] done processing\n"
     ]
    },
    {
     "name": "stdout",
     "output_type": "stream",
     "text": [
      "RMSE for epoch 28 is 53.20561614268297\n",
      "Running 29 / 128\n"
     ]
    },
    {
     "name": "stderr",
     "output_type": "stream",
     "text": [
      "21:55:33 - cmdstanpy - INFO - Chain [1] start processing\n",
      "21:55:33 - cmdstanpy - INFO - Chain [1] done processing\n"
     ]
    },
    {
     "name": "stdout",
     "output_type": "stream",
     "text": [
      "RMSE for epoch 29 is 51.016449405476386\n",
      "Running 30 / 128\n"
     ]
    },
    {
     "name": "stderr",
     "output_type": "stream",
     "text": [
      "21:55:50 - cmdstanpy - INFO - Chain [1] start processing\n",
      "21:55:50 - cmdstanpy - INFO - Chain [1] done processing\n"
     ]
    },
    {
     "name": "stdout",
     "output_type": "stream",
     "text": [
      "RMSE for epoch 30 is 50.1586540156972\n",
      "Running 31 / 128\n"
     ]
    },
    {
     "name": "stderr",
     "output_type": "stream",
     "text": [
      "21:56:08 - cmdstanpy - INFO - Chain [1] start processing\n",
      "21:56:09 - cmdstanpy - INFO - Chain [1] done processing\n"
     ]
    },
    {
     "name": "stdout",
     "output_type": "stream",
     "text": [
      "RMSE for epoch 31 is 50.04510147839981\n",
      "Running 32 / 128\n"
     ]
    },
    {
     "name": "stderr",
     "output_type": "stream",
     "text": [
      "21:56:25 - cmdstanpy - INFO - Chain [1] start processing\n",
      "21:56:26 - cmdstanpy - INFO - Chain [1] done processing\n"
     ]
    },
    {
     "name": "stdout",
     "output_type": "stream",
     "text": [
      "RMSE for epoch 32 is 49.81218706781815\n",
      "Running 33 / 128\n"
     ]
    },
    {
     "name": "stderr",
     "output_type": "stream",
     "text": [
      "21:56:45 - cmdstanpy - INFO - Chain [1] start processing\n",
      "21:56:45 - cmdstanpy - INFO - Chain [1] done processing\n"
     ]
    },
    {
     "name": "stdout",
     "output_type": "stream",
     "text": [
      "RMSE for epoch 33 is 48.36698747299489\n",
      "Running 34 / 128\n"
     ]
    },
    {
     "name": "stderr",
     "output_type": "stream",
     "text": [
      "21:57:01 - cmdstanpy - INFO - Chain [1] start processing\n",
      "21:57:02 - cmdstanpy - INFO - Chain [1] done processing\n"
     ]
    },
    {
     "name": "stdout",
     "output_type": "stream",
     "text": [
      "RMSE for epoch 34 is 47.87161449453226\n",
      "Running 35 / 128\n"
     ]
    },
    {
     "name": "stderr",
     "output_type": "stream",
     "text": [
      "21:57:20 - cmdstanpy - INFO - Chain [1] start processing\n",
      "21:57:21 - cmdstanpy - INFO - Chain [1] done processing\n"
     ]
    },
    {
     "name": "stdout",
     "output_type": "stream",
     "text": [
      "RMSE for epoch 35 is 48.87176184925083\n",
      "Running 36 / 128\n"
     ]
    },
    {
     "name": "stderr",
     "output_type": "stream",
     "text": [
      "21:57:37 - cmdstanpy - INFO - Chain [1] start processing\n",
      "21:57:38 - cmdstanpy - INFO - Chain [1] done processing\n"
     ]
    },
    {
     "name": "stdout",
     "output_type": "stream",
     "text": [
      "RMSE for epoch 36 is 48.42749722289296\n",
      "Running 37 / 128\n"
     ]
    },
    {
     "name": "stderr",
     "output_type": "stream",
     "text": [
      "21:57:57 - cmdstanpy - INFO - Chain [1] start processing\n",
      "21:57:57 - cmdstanpy - INFO - Chain [1] done processing\n"
     ]
    },
    {
     "name": "stdout",
     "output_type": "stream",
     "text": [
      "RMSE for epoch 37 is 49.03229493075894\n",
      "Running 38 / 128\n"
     ]
    },
    {
     "name": "stderr",
     "output_type": "stream",
     "text": [
      "21:58:13 - cmdstanpy - INFO - Chain [1] start processing\n",
      "21:58:13 - cmdstanpy - INFO - Chain [1] done processing\n"
     ]
    },
    {
     "name": "stdout",
     "output_type": "stream",
     "text": [
      "RMSE for epoch 38 is 49.222530815046824\n",
      "Running 39 / 128\n"
     ]
    },
    {
     "name": "stderr",
     "output_type": "stream",
     "text": [
      "21:58:32 - cmdstanpy - INFO - Chain [1] start processing\n",
      "21:58:32 - cmdstanpy - INFO - Chain [1] done processing\n"
     ]
    },
    {
     "name": "stdout",
     "output_type": "stream",
     "text": [
      "RMSE for epoch 39 is 49.229139496468584\n",
      "Running 40 / 128\n"
     ]
    },
    {
     "name": "stderr",
     "output_type": "stream",
     "text": [
      "21:58:49 - cmdstanpy - INFO - Chain [1] start processing\n",
      "21:58:50 - cmdstanpy - INFO - Chain [1] done processing\n"
     ]
    },
    {
     "name": "stdout",
     "output_type": "stream",
     "text": [
      "RMSE for epoch 40 is 49.128357706886604\n",
      "Running 41 / 128\n"
     ]
    },
    {
     "name": "stderr",
     "output_type": "stream",
     "text": [
      "21:59:09 - cmdstanpy - INFO - Chain [1] start processing\n",
      "21:59:09 - cmdstanpy - INFO - Chain [1] done processing\n"
     ]
    },
    {
     "name": "stdout",
     "output_type": "stream",
     "text": [
      "RMSE for epoch 41 is 48.351337305396044\n",
      "Running 42 / 128\n"
     ]
    },
    {
     "name": "stderr",
     "output_type": "stream",
     "text": [
      "21:59:28 - cmdstanpy - INFO - Chain [1] start processing\n",
      "21:59:29 - cmdstanpy - INFO - Chain [1] done processing\n"
     ]
    },
    {
     "name": "stdout",
     "output_type": "stream",
     "text": [
      "RMSE for epoch 42 is 48.20016382117325\n",
      "Running 43 / 128\n"
     ]
    },
    {
     "name": "stderr",
     "output_type": "stream",
     "text": [
      "21:59:45 - cmdstanpy - INFO - Chain [1] start processing\n",
      "21:59:45 - cmdstanpy - INFO - Chain [1] done processing\n"
     ]
    },
    {
     "name": "stdout",
     "output_type": "stream",
     "text": [
      "RMSE for epoch 43 is 48.31966540390166\n",
      "Running 44 / 128\n"
     ]
    },
    {
     "name": "stderr",
     "output_type": "stream",
     "text": [
      "21:59:59 - cmdstanpy - INFO - Chain [1] start processing\n",
      "21:59:59 - cmdstanpy - INFO - Chain [1] done processing\n"
     ]
    },
    {
     "name": "stdout",
     "output_type": "stream",
     "text": [
      "RMSE for epoch 44 is 48.25625968570298\n",
      "Running 45 / 128\n"
     ]
    },
    {
     "name": "stderr",
     "output_type": "stream",
     "text": [
      "22:00:14 - cmdstanpy - INFO - Chain [1] start processing\n",
      "22:00:15 - cmdstanpy - INFO - Chain [1] done processing\n"
     ]
    },
    {
     "name": "stdout",
     "output_type": "stream",
     "text": [
      "RMSE for epoch 45 is 49.24545103790732\n",
      "Running 46 / 128\n"
     ]
    },
    {
     "name": "stderr",
     "output_type": "stream",
     "text": [
      "22:00:30 - cmdstanpy - INFO - Chain [1] start processing\n",
      "22:00:30 - cmdstanpy - INFO - Chain [1] done processing\n"
     ]
    },
    {
     "name": "stdout",
     "output_type": "stream",
     "text": [
      "RMSE for epoch 46 is 49.105057322621064\n",
      "Running 47 / 128\n"
     ]
    },
    {
     "name": "stderr",
     "output_type": "stream",
     "text": [
      "22:00:46 - cmdstanpy - INFO - Chain [1] start processing\n",
      "22:00:46 - cmdstanpy - INFO - Chain [1] done processing\n"
     ]
    },
    {
     "name": "stdout",
     "output_type": "stream",
     "text": [
      "RMSE for epoch 47 is 49.22858642453087\n",
      "Running 48 / 128\n"
     ]
    },
    {
     "name": "stderr",
     "output_type": "stream",
     "text": [
      "22:00:59 - cmdstanpy - INFO - Chain [1] start processing\n",
      "22:01:00 - cmdstanpy - INFO - Chain [1] done processing\n"
     ]
    },
    {
     "name": "stdout",
     "output_type": "stream",
     "text": [
      "RMSE for epoch 48 is 49.284183018956604\n",
      "Running 49 / 128\n"
     ]
    },
    {
     "name": "stderr",
     "output_type": "stream",
     "text": [
      "22:01:15 - cmdstanpy - INFO - Chain [1] start processing\n",
      "22:01:16 - cmdstanpy - INFO - Chain [1] done processing\n"
     ]
    },
    {
     "name": "stdout",
     "output_type": "stream",
     "text": [
      "RMSE for epoch 49 is 48.588767810697156\n",
      "Running 50 / 128\n"
     ]
    },
    {
     "name": "stderr",
     "output_type": "stream",
     "text": [
      "22:01:30 - cmdstanpy - INFO - Chain [1] start processing\n",
      "22:01:31 - cmdstanpy - INFO - Chain [1] done processing\n"
     ]
    },
    {
     "name": "stdout",
     "output_type": "stream",
     "text": [
      "RMSE for epoch 50 is 48.267641799741774\n",
      "Running 51 / 128\n"
     ]
    },
    {
     "name": "stderr",
     "output_type": "stream",
     "text": [
      "22:01:46 - cmdstanpy - INFO - Chain [1] start processing\n",
      "22:01:46 - cmdstanpy - INFO - Chain [1] done processing\n"
     ]
    },
    {
     "name": "stdout",
     "output_type": "stream",
     "text": [
      "RMSE for epoch 51 is 48.37758131383588\n",
      "Running 52 / 128\n"
     ]
    },
    {
     "name": "stderr",
     "output_type": "stream",
     "text": [
      "22:01:56 - cmdstanpy - INFO - Chain [1] start processing\n",
      "22:01:56 - cmdstanpy - INFO - Chain [1] done processing\n"
     ]
    },
    {
     "name": "stdout",
     "output_type": "stream",
     "text": [
      "RMSE for epoch 52 is 48.419223503170016\n",
      "Running 53 / 128\n"
     ]
    },
    {
     "name": "stderr",
     "output_type": "stream",
     "text": [
      "22:02:12 - cmdstanpy - INFO - Chain [1] start processing\n",
      "22:02:12 - cmdstanpy - INFO - Chain [1] done processing\n"
     ]
    },
    {
     "name": "stdout",
     "output_type": "stream",
     "text": [
      "RMSE for epoch 53 is 49.16691452339314\n",
      "Running 54 / 128\n"
     ]
    },
    {
     "name": "stderr",
     "output_type": "stream",
     "text": [
      "22:02:27 - cmdstanpy - INFO - Chain [1] start processing\n",
      "22:02:27 - cmdstanpy - INFO - Chain [1] done processing\n"
     ]
    },
    {
     "name": "stdout",
     "output_type": "stream",
     "text": [
      "RMSE for epoch 54 is 49.183127509550175\n",
      "Running 55 / 128\n"
     ]
    },
    {
     "name": "stderr",
     "output_type": "stream",
     "text": [
      "22:02:42 - cmdstanpy - INFO - Chain [1] start processing\n",
      "22:02:43 - cmdstanpy - INFO - Chain [1] done processing\n"
     ]
    },
    {
     "name": "stdout",
     "output_type": "stream",
     "text": [
      "RMSE for epoch 55 is 49.08250436215544\n",
      "Running 56 / 128\n"
     ]
    },
    {
     "name": "stderr",
     "output_type": "stream",
     "text": [
      "22:02:59 - cmdstanpy - INFO - Chain [1] start processing\n",
      "22:03:00 - cmdstanpy - INFO - Chain [1] done processing\n"
     ]
    },
    {
     "name": "stdout",
     "output_type": "stream",
     "text": [
      "RMSE for epoch 56 is 48.86422845389096\n",
      "Running 57 / 128\n"
     ]
    },
    {
     "name": "stderr",
     "output_type": "stream",
     "text": [
      "22:03:12 - cmdstanpy - INFO - Chain [1] start processing\n",
      "22:03:13 - cmdstanpy - INFO - Chain [1] done processing\n"
     ]
    },
    {
     "name": "stdout",
     "output_type": "stream",
     "text": [
      "RMSE for epoch 57 is 48.362882409169615\n",
      "Running 58 / 128\n"
     ]
    },
    {
     "name": "stderr",
     "output_type": "stream",
     "text": [
      "22:03:28 - cmdstanpy - INFO - Chain [1] start processing\n",
      "22:03:28 - cmdstanpy - INFO - Chain [1] done processing\n"
     ]
    },
    {
     "name": "stdout",
     "output_type": "stream",
     "text": [
      "RMSE for epoch 58 is 48.37545157307342\n",
      "Running 59 / 128\n"
     ]
    },
    {
     "name": "stderr",
     "output_type": "stream",
     "text": [
      "22:03:44 - cmdstanpy - INFO - Chain [1] start processing\n",
      "22:03:44 - cmdstanpy - INFO - Chain [1] done processing\n"
     ]
    },
    {
     "name": "stdout",
     "output_type": "stream",
     "text": [
      "RMSE for epoch 59 is 48.276362326213466\n",
      "Running 60 / 128\n"
     ]
    },
    {
     "name": "stderr",
     "output_type": "stream",
     "text": [
      "22:03:54 - cmdstanpy - INFO - Chain [1] start processing\n",
      "22:03:55 - cmdstanpy - INFO - Chain [1] done processing\n"
     ]
    },
    {
     "name": "stdout",
     "output_type": "stream",
     "text": [
      "RMSE for epoch 60 is 48.829043757161976\n",
      "Running 61 / 128\n"
     ]
    },
    {
     "name": "stderr",
     "output_type": "stream",
     "text": [
      "22:04:09 - cmdstanpy - INFO - Chain [1] start processing\n",
      "22:04:09 - cmdstanpy - INFO - Chain [1] done processing\n"
     ]
    },
    {
     "name": "stdout",
     "output_type": "stream",
     "text": [
      "RMSE for epoch 61 is 49.03962582046755\n",
      "Running 62 / 128\n"
     ]
    },
    {
     "name": "stderr",
     "output_type": "stream",
     "text": [
      "22:04:26 - cmdstanpy - INFO - Chain [1] start processing\n",
      "22:04:27 - cmdstanpy - INFO - Chain [1] done processing\n"
     ]
    },
    {
     "name": "stdout",
     "output_type": "stream",
     "text": [
      "RMSE for epoch 62 is 49.4215569636979\n",
      "Running 63 / 128\n"
     ]
    },
    {
     "name": "stderr",
     "output_type": "stream",
     "text": [
      "22:04:42 - cmdstanpy - INFO - Chain [1] start processing\n",
      "22:04:42 - cmdstanpy - INFO - Chain [1] done processing\n"
     ]
    },
    {
     "name": "stdout",
     "output_type": "stream",
     "text": [
      "RMSE for epoch 63 is 49.55030373406989\n",
      "Running 64 / 128\n"
     ]
    },
    {
     "name": "stderr",
     "output_type": "stream",
     "text": [
      "22:05:01 - cmdstanpy - INFO - Chain [1] start processing\n",
      "22:05:01 - cmdstanpy - INFO - Chain [1] done processing\n"
     ]
    },
    {
     "name": "stdout",
     "output_type": "stream",
     "text": [
      "RMSE for epoch 64 is 49.168146255874426\n",
      "Running 65 / 128\n"
     ]
    },
    {
     "name": "stderr",
     "output_type": "stream",
     "text": [
      "22:05:17 - cmdstanpy - INFO - Chain [1] start processing\n",
      "22:05:18 - cmdstanpy - INFO - Chain [1] done processing\n"
     ]
    },
    {
     "name": "stdout",
     "output_type": "stream",
     "text": [
      "RMSE for epoch 65 is 49.910960283182796\n",
      "Running 66 / 128\n"
     ]
    },
    {
     "name": "stderr",
     "output_type": "stream",
     "text": [
      "22:05:41 - cmdstanpy - INFO - Chain [1] start processing\n",
      "22:05:43 - cmdstanpy - INFO - Chain [1] done processing\n"
     ]
    },
    {
     "name": "stdout",
     "output_type": "stream",
     "text": [
      "RMSE for epoch 66 is 49.901114739164846\n",
      "Running 67 / 128\n"
     ]
    },
    {
     "name": "stderr",
     "output_type": "stream",
     "text": [
      "22:06:03 - cmdstanpy - INFO - Chain [1] start processing\n",
      "22:06:04 - cmdstanpy - INFO - Chain [1] done processing\n"
     ]
    },
    {
     "name": "stdout",
     "output_type": "stream",
     "text": [
      "RMSE for epoch 67 is 50.07432964488339\n",
      "Running 68 / 128\n"
     ]
    },
    {
     "name": "stderr",
     "output_type": "stream",
     "text": [
      "22:06:24 - cmdstanpy - INFO - Chain [1] start processing\n",
      "22:06:25 - cmdstanpy - INFO - Chain [1] done processing\n"
     ]
    },
    {
     "name": "stdout",
     "output_type": "stream",
     "text": [
      "RMSE for epoch 68 is 50.029867365661666\n",
      "Running 69 / 128\n"
     ]
    },
    {
     "name": "stderr",
     "output_type": "stream",
     "text": [
      "22:06:46 - cmdstanpy - INFO - Chain [1] start processing\n",
      "22:06:47 - cmdstanpy - INFO - Chain [1] done processing\n"
     ]
    },
    {
     "name": "stdout",
     "output_type": "stream",
     "text": [
      "RMSE for epoch 69 is 53.661950632390884\n",
      "Running 70 / 128\n"
     ]
    },
    {
     "name": "stderr",
     "output_type": "stream",
     "text": [
      "22:07:06 - cmdstanpy - INFO - Chain [1] start processing\n",
      "22:07:06 - cmdstanpy - INFO - Chain [1] done processing\n"
     ]
    },
    {
     "name": "stdout",
     "output_type": "stream",
     "text": [
      "RMSE for epoch 70 is 53.73929694580984\n",
      "Running 71 / 128\n"
     ]
    },
    {
     "name": "stderr",
     "output_type": "stream",
     "text": [
      "22:07:24 - cmdstanpy - INFO - Chain [1] start processing\n",
      "22:07:25 - cmdstanpy - INFO - Chain [1] done processing\n"
     ]
    },
    {
     "name": "stdout",
     "output_type": "stream",
     "text": [
      "RMSE for epoch 71 is 53.717080249352314\n",
      "Running 72 / 128\n"
     ]
    },
    {
     "name": "stderr",
     "output_type": "stream",
     "text": [
      "22:07:44 - cmdstanpy - INFO - Chain [1] start processing\n",
      "22:07:45 - cmdstanpy - INFO - Chain [1] done processing\n"
     ]
    },
    {
     "name": "stdout",
     "output_type": "stream",
     "text": [
      "RMSE for epoch 72 is 53.78734444751383\n",
      "Running 73 / 128\n"
     ]
    },
    {
     "name": "stderr",
     "output_type": "stream",
     "text": [
      "22:08:04 - cmdstanpy - INFO - Chain [1] start processing\n",
      "22:08:05 - cmdstanpy - INFO - Chain [1] done processing\n"
     ]
    },
    {
     "name": "stdout",
     "output_type": "stream",
     "text": [
      "RMSE for epoch 73 is 49.93084964419454\n",
      "Running 74 / 128\n"
     ]
    },
    {
     "name": "stderr",
     "output_type": "stream",
     "text": [
      "22:08:23 - cmdstanpy - INFO - Chain [1] start processing\n",
      "22:08:23 - cmdstanpy - INFO - Chain [1] done processing\n"
     ]
    },
    {
     "name": "stdout",
     "output_type": "stream",
     "text": [
      "RMSE for epoch 74 is 50.0910102987554\n",
      "Running 75 / 128\n"
     ]
    },
    {
     "name": "stderr",
     "output_type": "stream",
     "text": [
      "22:08:42 - cmdstanpy - INFO - Chain [1] start processing\n",
      "22:08:45 - cmdstanpy - INFO - Chain [1] done processing\n"
     ]
    },
    {
     "name": "stdout",
     "output_type": "stream",
     "text": [
      "RMSE for epoch 75 is 50.17482778683199\n",
      "Running 76 / 128\n"
     ]
    },
    {
     "name": "stderr",
     "output_type": "stream",
     "text": [
      "22:09:04 - cmdstanpy - INFO - Chain [1] start processing\n",
      "22:09:05 - cmdstanpy - INFO - Chain [1] done processing\n"
     ]
    },
    {
     "name": "stdout",
     "output_type": "stream",
     "text": [
      "RMSE for epoch 76 is 49.9556025872118\n",
      "Running 77 / 128\n"
     ]
    },
    {
     "name": "stderr",
     "output_type": "stream",
     "text": [
      "22:09:25 - cmdstanpy - INFO - Chain [1] start processing\n",
      "22:09:25 - cmdstanpy - INFO - Chain [1] done processing\n"
     ]
    },
    {
     "name": "stdout",
     "output_type": "stream",
     "text": [
      "RMSE for epoch 77 is 54.01962330006175\n",
      "Running 78 / 128\n"
     ]
    },
    {
     "name": "stderr",
     "output_type": "stream",
     "text": [
      "22:09:46 - cmdstanpy - INFO - Chain [1] start processing\n",
      "22:09:47 - cmdstanpy - INFO - Chain [1] done processing\n"
     ]
    },
    {
     "name": "stdout",
     "output_type": "stream",
     "text": [
      "RMSE for epoch 78 is 53.75749881013736\n",
      "Running 79 / 128\n"
     ]
    },
    {
     "name": "stderr",
     "output_type": "stream",
     "text": [
      "22:10:02 - cmdstanpy - INFO - Chain [1] start processing\n",
      "22:10:03 - cmdstanpy - INFO - Chain [1] done processing\n"
     ]
    },
    {
     "name": "stdout",
     "output_type": "stream",
     "text": [
      "RMSE for epoch 79 is 53.87900814021837\n",
      "Running 80 / 128\n"
     ]
    },
    {
     "name": "stderr",
     "output_type": "stream",
     "text": [
      "22:10:23 - cmdstanpy - INFO - Chain [1] start processing\n",
      "22:10:24 - cmdstanpy - INFO - Chain [1] done processing\n"
     ]
    },
    {
     "name": "stdout",
     "output_type": "stream",
     "text": [
      "RMSE for epoch 80 is 53.79821543412101\n",
      "Running 81 / 128\n"
     ]
    },
    {
     "name": "stderr",
     "output_type": "stream",
     "text": [
      "22:10:42 - cmdstanpy - INFO - Chain [1] start processing\n",
      "22:10:43 - cmdstanpy - INFO - Chain [1] done processing\n"
     ]
    },
    {
     "name": "stdout",
     "output_type": "stream",
     "text": [
      "RMSE for epoch 81 is 49.80674045174063\n",
      "Running 82 / 128\n"
     ]
    },
    {
     "name": "stderr",
     "output_type": "stream",
     "text": [
      "22:11:01 - cmdstanpy - INFO - Chain [1] start processing\n",
      "22:11:03 - cmdstanpy - INFO - Chain [1] done processing\n"
     ]
    },
    {
     "name": "stdout",
     "output_type": "stream",
     "text": [
      "RMSE for epoch 82 is 50.04920528211538\n",
      "Running 83 / 128\n"
     ]
    },
    {
     "name": "stderr",
     "output_type": "stream",
     "text": [
      "22:11:24 - cmdstanpy - INFO - Chain [1] start processing\n",
      "22:11:25 - cmdstanpy - INFO - Chain [1] done processing\n"
     ]
    },
    {
     "name": "stdout",
     "output_type": "stream",
     "text": [
      "RMSE for epoch 83 is 49.76867957958241\n",
      "Running 84 / 128\n"
     ]
    },
    {
     "name": "stderr",
     "output_type": "stream",
     "text": [
      "22:11:46 - cmdstanpy - INFO - Chain [1] start processing\n",
      "22:11:47 - cmdstanpy - INFO - Chain [1] done processing\n"
     ]
    },
    {
     "name": "stdout",
     "output_type": "stream",
     "text": [
      "RMSE for epoch 84 is 50.079884433261256\n",
      "Running 85 / 128\n"
     ]
    },
    {
     "name": "stderr",
     "output_type": "stream",
     "text": [
      "22:12:08 - cmdstanpy - INFO - Chain [1] start processing\n",
      "22:12:09 - cmdstanpy - INFO - Chain [1] done processing\n"
     ]
    },
    {
     "name": "stdout",
     "output_type": "stream",
     "text": [
      "RMSE for epoch 85 is 53.860167030284565\n",
      "Running 86 / 128\n"
     ]
    },
    {
     "name": "stderr",
     "output_type": "stream",
     "text": [
      "22:12:31 - cmdstanpy - INFO - Chain [1] start processing\n",
      "22:12:32 - cmdstanpy - INFO - Chain [1] done processing\n"
     ]
    },
    {
     "name": "stdout",
     "output_type": "stream",
     "text": [
      "RMSE for epoch 86 is 53.5857485600058\n",
      "Running 87 / 128\n"
     ]
    },
    {
     "name": "stderr",
     "output_type": "stream",
     "text": [
      "22:12:51 - cmdstanpy - INFO - Chain [1] start processing\n",
      "22:12:52 - cmdstanpy - INFO - Chain [1] done processing\n"
     ]
    },
    {
     "name": "stdout",
     "output_type": "stream",
     "text": [
      "RMSE for epoch 87 is 53.807023424886246\n",
      "Running 88 / 128\n"
     ]
    },
    {
     "name": "stderr",
     "output_type": "stream",
     "text": [
      "22:13:13 - cmdstanpy - INFO - Chain [1] start processing\n",
      "22:13:14 - cmdstanpy - INFO - Chain [1] done processing\n"
     ]
    },
    {
     "name": "stdout",
     "output_type": "stream",
     "text": [
      "RMSE for epoch 88 is 53.7787023802389\n",
      "Running 89 / 128\n"
     ]
    },
    {
     "name": "stderr",
     "output_type": "stream",
     "text": [
      "22:13:35 - cmdstanpy - INFO - Chain [1] start processing\n",
      "22:13:36 - cmdstanpy - INFO - Chain [1] done processing\n"
     ]
    },
    {
     "ename": "KeyboardInterrupt",
     "evalue": "",
     "output_type": "error",
     "traceback": [
      "\u001b[1;31m---------------------------------------------------------------------------\u001b[0m",
      "\u001b[1;31mKeyboardInterrupt\u001b[0m                         Traceback (most recent call last)",
      "\u001b[1;32m~\\AppData\\Local\\Temp/ipykernel_8744/2712570326.py\u001b[0m in \u001b[0;36m<module>\u001b[1;34m\u001b[0m\n\u001b[0;32m     18\u001b[0m \u001b[1;33m\u001b[0m\u001b[0m\n\u001b[0;32m     19\u001b[0m     \u001b[1;31m#CV\u001b[0m\u001b[1;33m\u001b[0m\u001b[1;33m\u001b[0m\u001b[0m\n\u001b[1;32m---> 20\u001b[1;33m     df_cv = cross_validation(model,\n\u001b[0m\u001b[0;32m     21\u001b[0m                          \u001b[0mhorizon\u001b[0m \u001b[1;33m=\u001b[0m \u001b[1;34m\"31 days\"\u001b[0m\u001b[1;33m,\u001b[0m\u001b[1;33m\u001b[0m\u001b[1;33m\u001b[0m\u001b[0m\n\u001b[0;32m     22\u001b[0m                          \u001b[0mperiod\u001b[0m \u001b[1;33m=\u001b[0m \u001b[1;34m\"16 days\"\u001b[0m\u001b[1;33m,\u001b[0m\u001b[1;33m\u001b[0m\u001b[1;33m\u001b[0m\u001b[0m\n",
      "\u001b[1;32mc:\\Users\\ultra\\anaconda3\\lib\\site-packages\\prophet\\diagnostics.py\u001b[0m in \u001b[0;36mcross_validation\u001b[1;34m(model, horizon, period, initial, parallel, cutoffs, disable_tqdm)\u001b[0m\n\u001b[0;32m    203\u001b[0m \u001b[1;33m\u001b[0m\u001b[0m\n\u001b[0;32m    204\u001b[0m     \u001b[1;31m# Combine all predicted pd.DataFrame into one pd.DataFrame\u001b[0m\u001b[1;33m\u001b[0m\u001b[1;33m\u001b[0m\u001b[0m\n\u001b[1;32m--> 205\u001b[1;33m     \u001b[1;32mreturn\u001b[0m \u001b[0mpd\u001b[0m\u001b[1;33m.\u001b[0m\u001b[0mconcat\u001b[0m\u001b[1;33m(\u001b[0m\u001b[0mpredicts\u001b[0m\u001b[1;33m,\u001b[0m \u001b[0maxis\u001b[0m\u001b[1;33m=\u001b[0m\u001b[1;36m0\u001b[0m\u001b[1;33m)\u001b[0m\u001b[1;33m.\u001b[0m\u001b[0mreset_index\u001b[0m\u001b[1;33m(\u001b[0m\u001b[0mdrop\u001b[0m\u001b[1;33m=\u001b[0m\u001b[1;32mTrue\u001b[0m\u001b[1;33m)\u001b[0m\u001b[1;33m\u001b[0m\u001b[1;33m\u001b[0m\u001b[0m\n\u001b[0m\u001b[0;32m    206\u001b[0m \u001b[1;33m\u001b[0m\u001b[0m\n\u001b[0;32m    207\u001b[0m \u001b[1;33m\u001b[0m\u001b[0m\n",
      "\u001b[1;32mc:\\Users\\ultra\\anaconda3\\lib\\site-packages\\pandas\\util\\_decorators.py\u001b[0m in \u001b[0;36mwrapper\u001b[1;34m(*args, **kwargs)\u001b[0m\n\u001b[0;32m    309\u001b[0m                     \u001b[0mstacklevel\u001b[0m\u001b[1;33m=\u001b[0m\u001b[0mstacklevel\u001b[0m\u001b[1;33m,\u001b[0m\u001b[1;33m\u001b[0m\u001b[1;33m\u001b[0m\u001b[0m\n\u001b[0;32m    310\u001b[0m                 )\n\u001b[1;32m--> 311\u001b[1;33m             \u001b[1;32mreturn\u001b[0m \u001b[0mfunc\u001b[0m\u001b[1;33m(\u001b[0m\u001b[1;33m*\u001b[0m\u001b[0margs\u001b[0m\u001b[1;33m,\u001b[0m \u001b[1;33m**\u001b[0m\u001b[0mkwargs\u001b[0m\u001b[1;33m)\u001b[0m\u001b[1;33m\u001b[0m\u001b[1;33m\u001b[0m\u001b[0m\n\u001b[0m\u001b[0;32m    312\u001b[0m \u001b[1;33m\u001b[0m\u001b[0m\n\u001b[0;32m    313\u001b[0m         \u001b[1;32mreturn\u001b[0m \u001b[0mwrapper\u001b[0m\u001b[1;33m\u001b[0m\u001b[1;33m\u001b[0m\u001b[0m\n",
      "\u001b[1;32mc:\\Users\\ultra\\anaconda3\\lib\\site-packages\\pandas\\core\\reshape\\concat.py\u001b[0m in \u001b[0;36mconcat\u001b[1;34m(objs, axis, join, ignore_index, keys, levels, names, verify_integrity, sort, copy)\u001b[0m\n\u001b[0;32m    292\u001b[0m     \u001b[0mValueError\u001b[0m\u001b[1;33m:\u001b[0m \u001b[0mIndexes\u001b[0m \u001b[0mhave\u001b[0m \u001b[0moverlapping\u001b[0m \u001b[0mvalues\u001b[0m\u001b[1;33m:\u001b[0m \u001b[1;33m[\u001b[0m\u001b[1;34m'a'\u001b[0m\u001b[1;33m]\u001b[0m\u001b[1;33m\u001b[0m\u001b[1;33m\u001b[0m\u001b[0m\n\u001b[0;32m    293\u001b[0m     \"\"\"\n\u001b[1;32m--> 294\u001b[1;33m     op = _Concatenator(\n\u001b[0m\u001b[0;32m    295\u001b[0m         \u001b[0mobjs\u001b[0m\u001b[1;33m,\u001b[0m\u001b[1;33m\u001b[0m\u001b[1;33m\u001b[0m\u001b[0m\n\u001b[0;32m    296\u001b[0m         \u001b[0maxis\u001b[0m\u001b[1;33m=\u001b[0m\u001b[0maxis\u001b[0m\u001b[1;33m,\u001b[0m\u001b[1;33m\u001b[0m\u001b[1;33m\u001b[0m\u001b[0m\n",
      "\u001b[1;32mc:\\Users\\ultra\\anaconda3\\lib\\site-packages\\pandas\\core\\reshape\\concat.py\u001b[0m in \u001b[0;36m__init__\u001b[1;34m(self, objs, axis, join, keys, levels, names, ignore_index, verify_integrity, copy, sort)\u001b[0m\n\u001b[0;32m    346\u001b[0m             \u001b[0mobjs\u001b[0m \u001b[1;33m=\u001b[0m \u001b[1;33m[\u001b[0m\u001b[0mobjs\u001b[0m\u001b[1;33m[\u001b[0m\u001b[0mk\u001b[0m\u001b[1;33m]\u001b[0m \u001b[1;32mfor\u001b[0m \u001b[0mk\u001b[0m \u001b[1;32min\u001b[0m \u001b[0mkeys\u001b[0m\u001b[1;33m]\u001b[0m\u001b[1;33m\u001b[0m\u001b[1;33m\u001b[0m\u001b[0m\n\u001b[0;32m    347\u001b[0m         \u001b[1;32melse\u001b[0m\u001b[1;33m:\u001b[0m\u001b[1;33m\u001b[0m\u001b[1;33m\u001b[0m\u001b[0m\n\u001b[1;32m--> 348\u001b[1;33m             \u001b[0mobjs\u001b[0m \u001b[1;33m=\u001b[0m \u001b[0mlist\u001b[0m\u001b[1;33m(\u001b[0m\u001b[0mobjs\u001b[0m\u001b[1;33m)\u001b[0m\u001b[1;33m\u001b[0m\u001b[1;33m\u001b[0m\u001b[0m\n\u001b[0m\u001b[0;32m    349\u001b[0m \u001b[1;33m\u001b[0m\u001b[0m\n\u001b[0;32m    350\u001b[0m         \u001b[1;32mif\u001b[0m \u001b[0mlen\u001b[0m\u001b[1;33m(\u001b[0m\u001b[0mobjs\u001b[0m\u001b[1;33m)\u001b[0m \u001b[1;33m==\u001b[0m \u001b[1;36m0\u001b[0m\u001b[1;33m:\u001b[0m\u001b[1;33m\u001b[0m\u001b[1;33m\u001b[0m\u001b[0m\n",
      "\u001b[1;32mc:\\Users\\ultra\\anaconda3\\lib\\concurrent\\futures\\process.py\u001b[0m in \u001b[0;36m_chain_from_iterable_of_lists\u001b[1;34m(iterable)\u001b[0m\n\u001b[0;32m    557\u001b[0m     \u001b[0mcareful\u001b[0m \u001b[1;32mnot\u001b[0m \u001b[0mto\u001b[0m \u001b[0mkeep\u001b[0m \u001b[0mreferences\u001b[0m \u001b[0mto\u001b[0m \u001b[0myielded\u001b[0m \u001b[0mobjects\u001b[0m\u001b[1;33m.\u001b[0m\u001b[1;33m\u001b[0m\u001b[1;33m\u001b[0m\u001b[0m\n\u001b[0;32m    558\u001b[0m     \"\"\"\n\u001b[1;32m--> 559\u001b[1;33m     \u001b[1;32mfor\u001b[0m \u001b[0melement\u001b[0m \u001b[1;32min\u001b[0m \u001b[0miterable\u001b[0m\u001b[1;33m:\u001b[0m\u001b[1;33m\u001b[0m\u001b[1;33m\u001b[0m\u001b[0m\n\u001b[0m\u001b[0;32m    560\u001b[0m         \u001b[0melement\u001b[0m\u001b[1;33m.\u001b[0m\u001b[0mreverse\u001b[0m\u001b[1;33m(\u001b[0m\u001b[1;33m)\u001b[0m\u001b[1;33m\u001b[0m\u001b[1;33m\u001b[0m\u001b[0m\n\u001b[0;32m    561\u001b[0m         \u001b[1;32mwhile\u001b[0m \u001b[0melement\u001b[0m\u001b[1;33m:\u001b[0m\u001b[1;33m\u001b[0m\u001b[1;33m\u001b[0m\u001b[0m\n",
      "\u001b[1;32mc:\\Users\\ultra\\anaconda3\\lib\\concurrent\\futures\\_base.py\u001b[0m in \u001b[0;36mresult_iterator\u001b[1;34m()\u001b[0m\n\u001b[0;32m    606\u001b[0m                     \u001b[1;31m# Careful not to keep a reference to the popped future\u001b[0m\u001b[1;33m\u001b[0m\u001b[1;33m\u001b[0m\u001b[0m\n\u001b[0;32m    607\u001b[0m                     \u001b[1;32mif\u001b[0m \u001b[0mtimeout\u001b[0m \u001b[1;32mis\u001b[0m \u001b[1;32mNone\u001b[0m\u001b[1;33m:\u001b[0m\u001b[1;33m\u001b[0m\u001b[1;33m\u001b[0m\u001b[0m\n\u001b[1;32m--> 608\u001b[1;33m                         \u001b[1;32myield\u001b[0m \u001b[0mfs\u001b[0m\u001b[1;33m.\u001b[0m\u001b[0mpop\u001b[0m\u001b[1;33m(\u001b[0m\u001b[1;33m)\u001b[0m\u001b[1;33m.\u001b[0m\u001b[0mresult\u001b[0m\u001b[1;33m(\u001b[0m\u001b[1;33m)\u001b[0m\u001b[1;33m\u001b[0m\u001b[1;33m\u001b[0m\u001b[0m\n\u001b[0m\u001b[0;32m    609\u001b[0m                     \u001b[1;32melse\u001b[0m\u001b[1;33m:\u001b[0m\u001b[1;33m\u001b[0m\u001b[1;33m\u001b[0m\u001b[0m\n\u001b[0;32m    610\u001b[0m                         \u001b[1;32myield\u001b[0m \u001b[0mfs\u001b[0m\u001b[1;33m.\u001b[0m\u001b[0mpop\u001b[0m\u001b[1;33m(\u001b[0m\u001b[1;33m)\u001b[0m\u001b[1;33m.\u001b[0m\u001b[0mresult\u001b[0m\u001b[1;33m(\u001b[0m\u001b[0mend_time\u001b[0m \u001b[1;33m-\u001b[0m \u001b[0mtime\u001b[0m\u001b[1;33m.\u001b[0m\u001b[0mmonotonic\u001b[0m\u001b[1;33m(\u001b[0m\u001b[1;33m)\u001b[0m\u001b[1;33m)\u001b[0m\u001b[1;33m\u001b[0m\u001b[1;33m\u001b[0m\u001b[0m\n",
      "\u001b[1;32mc:\\Users\\ultra\\anaconda3\\lib\\concurrent\\futures\\_base.py\u001b[0m in \u001b[0;36mresult\u001b[1;34m(self, timeout)\u001b[0m\n\u001b[0;32m    438\u001b[0m                     \u001b[1;32mreturn\u001b[0m \u001b[0mself\u001b[0m\u001b[1;33m.\u001b[0m\u001b[0m__get_result\u001b[0m\u001b[1;33m(\u001b[0m\u001b[1;33m)\u001b[0m\u001b[1;33m\u001b[0m\u001b[1;33m\u001b[0m\u001b[0m\n\u001b[0;32m    439\u001b[0m \u001b[1;33m\u001b[0m\u001b[0m\n\u001b[1;32m--> 440\u001b[1;33m                 \u001b[0mself\u001b[0m\u001b[1;33m.\u001b[0m\u001b[0m_condition\u001b[0m\u001b[1;33m.\u001b[0m\u001b[0mwait\u001b[0m\u001b[1;33m(\u001b[0m\u001b[0mtimeout\u001b[0m\u001b[1;33m)\u001b[0m\u001b[1;33m\u001b[0m\u001b[1;33m\u001b[0m\u001b[0m\n\u001b[0m\u001b[0;32m    441\u001b[0m \u001b[1;33m\u001b[0m\u001b[0m\n\u001b[0;32m    442\u001b[0m                 \u001b[1;32mif\u001b[0m \u001b[0mself\u001b[0m\u001b[1;33m.\u001b[0m\u001b[0m_state\u001b[0m \u001b[1;32min\u001b[0m \u001b[1;33m[\u001b[0m\u001b[0mCANCELLED\u001b[0m\u001b[1;33m,\u001b[0m \u001b[0mCANCELLED_AND_NOTIFIED\u001b[0m\u001b[1;33m]\u001b[0m\u001b[1;33m:\u001b[0m\u001b[1;33m\u001b[0m\u001b[1;33m\u001b[0m\u001b[0m\n",
      "\u001b[1;32mc:\\Users\\ultra\\anaconda3\\lib\\threading.py\u001b[0m in \u001b[0;36mwait\u001b[1;34m(self, timeout)\u001b[0m\n\u001b[0;32m    310\u001b[0m         \u001b[1;32mtry\u001b[0m\u001b[1;33m:\u001b[0m    \u001b[1;31m# restore state no matter what (e.g., KeyboardInterrupt)\u001b[0m\u001b[1;33m\u001b[0m\u001b[1;33m\u001b[0m\u001b[0m\n\u001b[0;32m    311\u001b[0m             \u001b[1;32mif\u001b[0m \u001b[0mtimeout\u001b[0m \u001b[1;32mis\u001b[0m \u001b[1;32mNone\u001b[0m\u001b[1;33m:\u001b[0m\u001b[1;33m\u001b[0m\u001b[1;33m\u001b[0m\u001b[0m\n\u001b[1;32m--> 312\u001b[1;33m                 \u001b[0mwaiter\u001b[0m\u001b[1;33m.\u001b[0m\u001b[0macquire\u001b[0m\u001b[1;33m(\u001b[0m\u001b[1;33m)\u001b[0m\u001b[1;33m\u001b[0m\u001b[1;33m\u001b[0m\u001b[0m\n\u001b[0m\u001b[0;32m    313\u001b[0m                 \u001b[0mgotit\u001b[0m \u001b[1;33m=\u001b[0m \u001b[1;32mTrue\u001b[0m\u001b[1;33m\u001b[0m\u001b[1;33m\u001b[0m\u001b[0m\n\u001b[0;32m    314\u001b[0m             \u001b[1;32melse\u001b[0m\u001b[1;33m:\u001b[0m\u001b[1;33m\u001b[0m\u001b[1;33m\u001b[0m\u001b[0m\n",
      "\u001b[1;31mKeyboardInterrupt\u001b[0m: "
     ]
    }
   ],
   "source": [
    "rmse = []\n",
    "\n",
    "for i, params in enumerate(grid, start = 1):\n",
    "\n",
    "    print(f\"Running {i} / {len(list(grid))}\")\n",
    "    \n",
    "    #Model\n",
    "    model = Prophet(holidays=holidays,\n",
    "                    seasonality_mode = params[\"seasonality_mode\"],\n",
    "                    seasonality_prior_scale = params[\"seasonality_prior_scale\"],\n",
    "                    holidays_prior_scale = params[\"holidays_prior_scale\"],\n",
    "                    changepoint_prior_scale = params[\"changepoint_prior_scale\"])\n",
    "    model.add_regressor(\"Christmas\")\n",
    "    model.add_regressor(\"Temperature\")\n",
    "    model.add_regressor(\"Marketing\")\n",
    "\n",
    "    model.fit(df)\n",
    "\n",
    "    #CV\n",
    "    df_cv = cross_validation(model,\n",
    "                         horizon = \"31 days\",\n",
    "                         period = \"16 days\",\n",
    "                         initial = \"2012 days\", #df.shape[0] - 180 (6 months)\n",
    "                         parallel = \"processes\")\n",
    "\n",
    "    epoch_rmse = performance_metrics(df_cv)[\"rmse\"].mean()\n",
    "    print(f\"RMSE for epoch {i} is {epoch_rmse}\")\n",
    "    #Measure Error and Store\n",
    "    rmse.append(epoch_rmse)"
   ]
  }
 ],
 "metadata": {
  "kernelspec": {
   "display_name": "Python 3.9.7 ('base')",
   "language": "python",
   "name": "python3"
  },
  "language_info": {
   "codemirror_mode": {
    "name": "ipython",
    "version": 3
   },
   "file_extension": ".py",
   "mimetype": "text/x-python",
   "name": "python",
   "nbconvert_exporter": "python",
   "pygments_lexer": "ipython3",
   "version": "3.9.7"
  },
  "orig_nbformat": 4,
  "vscode": {
   "interpreter": {
    "hash": "0bd3759d1d8aa52da212024e62c534f3eafdba18a88d1945e55a82ebd3bdefdc"
   }
  }
 },
 "nbformat": 4,
 "nbformat_minor": 2
}
