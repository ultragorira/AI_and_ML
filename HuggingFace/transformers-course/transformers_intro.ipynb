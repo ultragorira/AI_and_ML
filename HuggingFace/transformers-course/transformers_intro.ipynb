{
 "cells": [
  {
   "cell_type": "code",
   "execution_count": 1,
   "metadata": {},
   "outputs": [
    {
     "name": "stderr",
     "output_type": "stream",
     "text": [
      "No model was supplied, defaulted to distilbert-base-uncased-finetuned-sst-2-english (https://huggingface.co/distilbert-base-uncased-finetuned-sst-2-english)\n",
      "Downloading: 100%|██████████| 629/629 [00:00<00:00, 631kB/s]\n",
      "Downloading: 100%|██████████| 255M/255M [00:31<00:00, 8.37MB/s] \n",
      "Downloading: 100%|██████████| 48.0/48.0 [00:00<00:00, 48.2kB/s]\n",
      "Downloading: 100%|██████████| 226k/226k [00:00<00:00, 379kB/s]  \n"
     ]
    },
    {
     "data": {
      "text/plain": [
       "[{'label': 'POSITIVE', 'score': 0.999757707118988}]"
      ]
     },
     "execution_count": 1,
     "metadata": {},
     "output_type": "execute_result"
    }
   ],
   "source": [
    "#All the examples below are taken from Hugging Face course: https://huggingface.co/course/\n",
    "\n",
    "#Sentiment Analysis\n",
    "\n",
    "from transformers import pipeline\n",
    "\n",
    "clf = pipeline('sentiment-analysis')\n",
    "clf('I really enjoy this free course from Hugging Face')\n"
   ]
  },
  {
   "cell_type": "markdown",
   "metadata": {},
   "source": [
    "# Sentiment Analysis"
   ]
  },
  {
   "cell_type": "code",
   "execution_count": 5,
   "metadata": {},
   "outputs": [
    {
     "data": {
      "text/plain": [
       "[{'label': 'NEGATIVE', 'score': 0.995639443397522}]"
      ]
     },
     "execution_count": 5,
     "metadata": {},
     "output_type": "execute_result"
    }
   ],
   "source": [
    "clf('I wish I could never see him again')"
   ]
  },
  {
   "cell_type": "code",
   "execution_count": 7,
   "metadata": {},
   "outputs": [
    {
     "data": {
      "text/plain": [
       "[{'label': 'NEGATIVE', 'score': 0.9974015951156616},\n",
       " {'label': 'POSITIVE', 'score': 0.9998677968978882}]"
      ]
     },
     "execution_count": 7,
     "metadata": {},
     "output_type": "execute_result"
    }
   ],
   "source": [
    "clf(['You are wrong, like always', 'You are spot on'])"
   ]
  },
  {
   "cell_type": "markdown",
   "metadata": {},
   "source": [
    "# Zero-shot Classification"
   ]
  },
  {
   "cell_type": "code",
   "execution_count": 8,
   "metadata": {},
   "outputs": [
    {
     "name": "stderr",
     "output_type": "stream",
     "text": [
      "No model was supplied, defaulted to facebook/bart-large-mnli (https://huggingface.co/facebook/bart-large-mnli)\n",
      "Downloading: 100%|██████████| 1.13k/1.13k [00:00<00:00, 1.17MB/s]\n",
      "Downloading: 100%|██████████| 1.52G/1.52G [03:25<00:00, 7.92MB/s]\n",
      "Downloading: 100%|██████████| 26.0/26.0 [00:00<00:00, 26.1kB/s]\n",
      "Downloading: 100%|██████████| 878k/878k [00:00<00:00, 1.24MB/s] \n",
      "Downloading: 100%|██████████| 446k/446k [00:00<00:00, 860kB/s] \n",
      "Downloading: 100%|██████████| 1.29M/1.29M [00:01<00:00, 1.26MB/s]\n"
     ]
    },
    {
     "data": {
      "text/plain": [
       "{'sequence': 'He made a amazing goal at the last minute',\n",
       " 'labels': ['sport', 'business', 'education'],\n",
       " 'scores': [0.8716087937355042, 0.07842306792736053, 0.049968115985393524]}"
      ]
     },
     "execution_count": 8,
     "metadata": {},
     "output_type": "execute_result"
    }
   ],
   "source": [
    "clf = pipeline('zero-shot-classification')\n",
    "\n",
    "clf(\n",
    "    'He made a amazing goal at the last minute',\n",
    "    candidate_labels = ['education', 'sport', 'business'],\n",
    ")"
   ]
  },
  {
   "cell_type": "code",
   "execution_count": 9,
   "metadata": {},
   "outputs": [
    {
     "data": {
      "text/plain": [
       "{'sequence': 'predominantly ground-dwelling great apes that inhabit the tropical forests of equatorial Africa',\n",
       " 'labels': ['animals', 'education', 'humans'],\n",
       " 'scores': [0.9919558763504028, 0.006134681403636932, 0.0019094188464805484]}"
      ]
     },
     "execution_count": 9,
     "metadata": {},
     "output_type": "execute_result"
    }
   ],
   "source": [
    "clf(\n",
    "    'predominantly ground-dwelling great apes that inhabit the tropical forests of equatorial Africa',\n",
    "    candidate_labels = ['animals', 'humans', 'education'],\n",
    ")"
   ]
  },
  {
   "cell_type": "markdown",
   "metadata": {},
   "source": [
    "# Text Generation"
   ]
  },
  {
   "cell_type": "code",
   "execution_count": 11,
   "metadata": {},
   "outputs": [
    {
     "name": "stderr",
     "output_type": "stream",
     "text": [
      "No model was supplied, defaulted to gpt2 (https://huggingface.co/gpt2)\n",
      "Setting `pad_token_id` to `eos_token_id`:50256 for open-end generation.\n"
     ]
    },
    {
     "data": {
      "text/plain": [
       "[{'generated_text': \"I am not really sure about how to classify him. I don't want to say I think he is more of a general or some sort of general.\\n\\n\\nWe have discussed him through various forums. His stats are a bit different from other members\"}]"
      ]
     },
     "execution_count": 11,
     "metadata": {},
     "output_type": "execute_result"
    }
   ],
   "source": [
    "generator = pipeline('text-generation')\n",
    "generator('I am not really sure about')"
   ]
  },
  {
   "cell_type": "code",
   "execution_count": 12,
   "metadata": {},
   "outputs": [
    {
     "name": "stderr",
     "output_type": "stream",
     "text": [
      "Setting `pad_token_id` to `eos_token_id`:50256 for open-end generation.\n"
     ]
    },
    {
     "data": {
      "text/plain": [
       "[{'generated_text': 'Could you please give me the money?\\n\\n\\nI can help you financially. I am not a'},\n",
       " {'generated_text': 'Could you please give me the time in London in the morning?\" Harry asked.\\n\\n\"There'},\n",
       " {'generated_text': \"Could you please give me the information to help clear some of these people out? That's kind of\"}]"
      ]
     },
     "execution_count": 12,
     "metadata": {},
     "output_type": "execute_result"
    }
   ],
   "source": [
    "generator('Could you please give me the', \n",
    "            max_length=20,\n",
    "            num_return_sequences=3,\n",
    ")"
   ]
  },
  {
   "cell_type": "markdown",
   "metadata": {},
   "source": [
    "# NER"
   ]
  },
  {
   "cell_type": "code",
   "execution_count": 3,
   "metadata": {},
   "outputs": [
    {
     "name": "stderr",
     "output_type": "stream",
     "text": [
      "No model was supplied, defaulted to dbmdz/bert-large-cased-finetuned-conll03-english (https://huggingface.co/dbmdz/bert-large-cased-finetuned-conll03-english)\n"
     ]
    },
    {
     "data": {
      "text/plain": [
       "[{'entity_group': 'PER',\n",
       "  'score': 0.97967404,\n",
       "  'word': 'Allen',\n",
       "  'start': 0,\n",
       "  'end': 5},\n",
       " {'entity_group': 'LOC',\n",
       "  'score': 0.91598606,\n",
       "  'word': 'Akihabara',\n",
       "  'start': 20,\n",
       "  'end': 29}]"
      ]
     },
     "execution_count": 3,
     "metadata": {},
     "output_type": "execute_result"
    }
   ],
   "source": [
    "from transformers import pipeline\n",
    "\n",
    "ner = pipeline('ner', grouped_entities=True)\n",
    "ner('Allen did you go to Akihabara last night?')"
   ]
  },
  {
   "cell_type": "markdown",
   "metadata": {},
   "source": [
    "# Question answering"
   ]
  },
  {
   "cell_type": "code",
   "execution_count": 5,
   "metadata": {},
   "outputs": [
    {
     "name": "stderr",
     "output_type": "stream",
     "text": [
      "No model was supplied, defaulted to distilbert-base-cased-distilled-squad (https://huggingface.co/distilbert-base-cased-distilled-squad)\n",
      "Downloading: 100%|██████████| 473/473 [00:00<00:00, 490kB/s]\n",
      "Downloading: 100%|██████████| 249M/249M [00:31<00:00, 8.37MB/s] \n",
      "Downloading: 100%|██████████| 29.0/29.0 [00:00<00:00, 28.9kB/s]\n",
      "Downloading: 100%|██████████| 208k/208k [00:00<00:00, 525kB/s]  \n",
      "Downloading: 100%|██████████| 426k/426k [00:00<00:00, 697kB/s]  \n"
     ]
    },
    {
     "data": {
      "text/plain": [
       "{'score': 0.9935292601585388, 'start': 28, 'end': 33, 'answer': '200kg'}"
      ]
     },
     "execution_count": 5,
     "metadata": {},
     "output_type": "execute_result"
    }
   ],
   "source": [
    "question = pipeline('question-answering')\n",
    "question(\n",
    "    question ='How much do I deadlift?',\n",
    "    context='Yesterday I managed to pull 200kg from the ground with no problem',\n",
    ")"
   ]
  },
  {
   "cell_type": "markdown",
   "metadata": {},
   "source": [
    "# Summarization"
   ]
  },
  {
   "cell_type": "code",
   "execution_count": 6,
   "metadata": {},
   "outputs": [
    {
     "name": "stderr",
     "output_type": "stream",
     "text": [
      "No model was supplied, defaulted to sshleifer/distilbart-cnn-12-6 (https://huggingface.co/sshleifer/distilbart-cnn-12-6)\n",
      "Downloading: 100%|██████████| 1.76k/1.76k [00:00<00:00, 899kB/s]\n",
      "Downloading: 100%|██████████| 1.14G/1.14G [02:25<00:00, 8.38MB/s]\n",
      "Downloading: 100%|██████████| 26.0/26.0 [00:00<00:00, 13.0kB/s]\n",
      "Downloading: 100%|██████████| 878k/878k [00:00<00:00, 924kB/s]  \n",
      "Downloading: 100%|██████████| 446k/446k [00:00<00:00, 597kB/s]  \n"
     ]
    },
    {
     "data": {
      "text/plain": [
       "[{'summary_text': ' NLP is a field of linguistics and machine learning focused on understanding everything related to human language . The aim of NLP tasks is not only to understand single words individually, but to be able to understand the context of those words . NLP isn’t limited to written text, it also tackles complex challenges in speech recognition and computer vision .'}]"
      ]
     },
     "execution_count": 6,
     "metadata": {},
     "output_type": "execute_result"
    }
   ],
   "source": [
    "summarizer = pipeline('summarization')\n",
    "summarizer('''NLP is a field of linguistics and machine learning focused on understanding everything related to human language. The aim of NLP tasks is not only to understand single words individually, but to be able to understand the context of those words.\n",
    "\n",
    "The following is a list of common NLP tasks, with some examples of each:\n",
    "\n",
    "Classifying whole sentences: Getting the sentiment of a review, detecting if an email is spam, determining if a sentence is grammatically correct or whether two sentences are logically related or not\n",
    "Classifying each word in a sentence: Identifying the grammatical components of a sentence (noun, verb, adjective), or the named entities (person, location, organization)\n",
    "Generating text content: Completing a prompt with auto-generated text, filling in the blanks in a text with masked words\n",
    "Extracting an answer from a text: Given a question and a context, extracting the answer to the question based on the information provided in the context\n",
    "Generating a new sentence from an input text: Translating a text into another language, summarizing a text\n",
    "NLP isn’t limited to written text though. It also tackles complex challenges in speech recognition and computer vision, such as generating a transcript of an audio sample or a description of an image.\n",
    "''')"
   ]
  },
  {
   "cell_type": "markdown",
   "metadata": {},
   "source": [
    "# Translation"
   ]
  },
  {
   "cell_type": "code",
   "execution_count": 8,
   "metadata": {},
   "outputs": [
    {
     "data": {
      "text/plain": [
       "[{'translation_text': 'In the middle of our life I found myself in a dark forest, for the straight way was lost.'}]"
      ]
     },
     "execution_count": 8,
     "metadata": {},
     "output_type": "execute_result"
    }
   ],
   "source": [
    "translator = pipeline('translation', model='Helsinki-NLP/opus-mt-it-en')\n",
    "translator('''Nel mezzo del cammin di nostra vita\n",
    "mi ritrovai per una selva oscura,\n",
    "ché la diritta via era smarrita''')"
   ]
  }
 ],
 "metadata": {
  "interpreter": {
   "hash": "b387498046005d87260c2a15af8957b404ae359b8249b6aaf657658f1b4409b6"
  },
  "kernelspec": {
   "display_name": "Python 3.7.7 64-bit",
   "language": "python",
   "name": "python3"
  },
  "language_info": {
   "codemirror_mode": {
    "name": "ipython",
    "version": 3
   },
   "file_extension": ".py",
   "mimetype": "text/x-python",
   "name": "python",
   "nbconvert_exporter": "python",
   "pygments_lexer": "ipython3",
   "version": "3.7.7"
  },
  "orig_nbformat": 4
 },
 "nbformat": 4,
 "nbformat_minor": 2
}
