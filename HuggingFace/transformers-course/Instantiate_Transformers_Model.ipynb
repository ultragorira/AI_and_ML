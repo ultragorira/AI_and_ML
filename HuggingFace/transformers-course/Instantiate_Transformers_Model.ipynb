{
 "cells": [
  {
   "cell_type": "code",
   "execution_count": 1,
   "metadata": {},
   "outputs": [],
   "source": [
    "#Random initialization \n",
    "from transformers import BertConfig, BertModel\n",
    "\n",
    "config = BertConfig()\n",
    "\n",
    "bert_model = BertModel(config)"
   ]
  },
  {
   "cell_type": "code",
   "execution_count": 2,
   "metadata": {},
   "outputs": [
    {
     "data": {
      "text/plain": [
       "BertConfig {\n",
       "  \"attention_probs_dropout_prob\": 0.1,\n",
       "  \"classifier_dropout\": null,\n",
       "  \"hidden_act\": \"gelu\",\n",
       "  \"hidden_dropout_prob\": 0.1,\n",
       "  \"hidden_size\": 768,\n",
       "  \"initializer_range\": 0.02,\n",
       "  \"intermediate_size\": 3072,\n",
       "  \"layer_norm_eps\": 1e-12,\n",
       "  \"max_position_embeddings\": 512,\n",
       "  \"model_type\": \"bert\",\n",
       "  \"num_attention_heads\": 12,\n",
       "  \"num_hidden_layers\": 12,\n",
       "  \"pad_token_id\": 0,\n",
       "  \"position_embedding_type\": \"absolute\",\n",
       "  \"transformers_version\": \"4.18.0\",\n",
       "  \"type_vocab_size\": 2,\n",
       "  \"use_cache\": true,\n",
       "  \"vocab_size\": 30522\n",
       "}"
      ]
     },
     "execution_count": 2,
     "metadata": {},
     "output_type": "execute_result"
    }
   ],
   "source": [
    "config"
   ]
  },
  {
   "cell_type": "markdown",
   "metadata": {},
   "source": [
    "As this is a randomly initialized model, the ouput will not make much sense. It will need to be trained. It can be done from scratch or use a pre-trained model with the from_pretrained method.\n"
   ]
  },
  {
   "cell_type": "code",
   "execution_count": 3,
   "metadata": {},
   "outputs": [
    {
     "name": "stderr",
     "output_type": "stream",
     "text": [
      "Downloading: 100%|██████████| 570/570 [00:00<00:00, 546kB/s]\n",
      "Downloading: 100%|██████████| 416M/416M [00:53<00:00, 8.10MB/s] \n",
      "Some weights of the model checkpoint at bert-base-cased were not used when initializing BertModel: ['cls.predictions.bias', 'cls.predictions.transform.dense.bias', 'cls.seq_relationship.bias', 'cls.seq_relationship.weight', 'cls.predictions.transform.LayerNorm.bias', 'cls.predictions.transform.dense.weight', 'cls.predictions.decoder.weight', 'cls.predictions.transform.LayerNorm.weight']\n",
      "- This IS expected if you are initializing BertModel from the checkpoint of a model trained on another task or with another architecture (e.g. initializing a BertForSequenceClassification model from a BertForPreTraining model).\n",
      "- This IS NOT expected if you are initializing BertModel from the checkpoint of a model that you expect to be exactly identical (initializing a BertForSequenceClassification model from a BertForSequenceClassification model).\n"
     ]
    }
   ],
   "source": [
    "\n",
    "model = BertModel.from_pretrained('bert-base-cased')"
   ]
  },
  {
   "cell_type": "markdown",
   "metadata": {},
   "source": [
    "In this way the model is ready for inference on tasks that was trained or also to be trained on new tasks but with pre-trained weights.\n",
    "The weights are downloaded and cached in a folder ~/.cache/huggingface/transformers. The destination can be customized by setting up HF_HOME in the system environment variables.\n",
    "\n",
    "\n"
   ]
  },
  {
   "cell_type": "code",
   "execution_count": 4,
   "metadata": {},
   "outputs": [],
   "source": [
    "#Save model\n",
    "\n",
    "model.save_pretrained('Folder_in_workstation')\n"
   ]
  },
  {
   "cell_type": "code",
   "execution_count": 10,
   "metadata": {},
   "outputs": [],
   "source": [
    "'''\n",
    "    To use the model the data will need to be encoded, transformed to numbers and then fed to the model for inference\n",
    "'''\n",
    "import torch\n",
    "sentences = ['Hi!', 'Bye', 'Hello']\n",
    "encoded_sentences = [[101, 847, 736, 102],\n",
    "                    [101, 843, 0, 102],\n",
    "                    [101, 903, 0,102]]\n",
    "inputs = torch.tensor(encoded_sentences)"
   ]
  },
  {
   "cell_type": "code",
   "execution_count": 13,
   "metadata": {},
   "outputs": [
    {
     "data": {
      "text/plain": [
       "BaseModelOutputWithPoolingAndCrossAttentions(last_hidden_state=tensor([[[ 3.3156e-01, -2.4216e-01,  5.7895e-02,  ..., -6.6250e-02,\n",
       "           3.5686e-01,  1.5054e-01],\n",
       "         [ 7.1623e-01, -5.8531e-01,  5.3607e-01,  ..., -3.0206e-01,\n",
       "           2.6362e-02,  1.2410e-01],\n",
       "         [ 1.1454e-03, -4.0482e-01,  3.5439e-01,  ..., -8.8243e-02,\n",
       "           2.3892e-01,  7.2803e-01],\n",
       "         [ 1.6707e+00, -4.8122e-01, -6.1362e-01,  ...,  1.8002e-01,\n",
       "           5.7982e-01,  8.6094e-01]],\n",
       "\n",
       "        [[ 1.5551e-01,  1.2524e-01,  1.1098e-01,  ..., -8.6317e-02,\n",
       "           3.5386e-01,  1.6136e-01],\n",
       "         [ 5.7380e-01, -4.4141e-01,  6.7494e-01,  ..., -1.3366e-01,\n",
       "           6.6688e-02,  3.9897e-01],\n",
       "         [ 7.9867e-02, -3.0490e-02,  3.8822e-01,  ..., -8.6710e-02,\n",
       "           2.3366e-01,  2.4841e-01],\n",
       "         [ 6.4485e-01, -3.7760e-02, -6.8594e-01,  ...,  5.3576e-02,\n",
       "           4.6451e-01,  2.2087e-01]],\n",
       "\n",
       "        [[-1.1228e-01, -4.2082e-02,  1.8729e-01,  ..., -2.0367e-01,\n",
       "           1.3510e-01,  3.7566e-01],\n",
       "         [ 4.2256e-01, -4.8857e-01,  5.3069e-01,  ..., -4.6529e-01,\n",
       "           3.3001e-01,  2.6389e-01],\n",
       "         [ 2.3123e-02, -3.7731e-01,  5.3690e-01,  ..., -5.2812e-01,\n",
       "           3.9809e-01,  4.5289e-01],\n",
       "         [-3.3941e-01,  3.6360e-01, -6.8740e-01,  ..., -2.5005e-02,\n",
       "           8.2053e-01,  2.2314e-01]]], grad_fn=<NativeLayerNormBackward0>), pooler_output=tensor([[-0.4000,  0.3368,  0.9986,  ...,  0.9996, -0.7615,  0.9207],\n",
       "        [-0.6468,  0.5418,  0.9999,  ...,  1.0000, -0.2930,  0.9832],\n",
       "        [-0.7400,  0.4757,  0.9999,  ...,  0.9999,  0.0150,  0.9860]],\n",
       "       grad_fn=<TanhBackward0>), hidden_states=None, past_key_values=None, attentions=None, cross_attentions=None)"
      ]
     },
     "execution_count": 13,
     "metadata": {},
     "output_type": "execute_result"
    }
   ],
   "source": [
    "output = model(inputs)\n",
    "output"
   ]
  }
 ],
 "metadata": {
  "interpreter": {
   "hash": "b387498046005d87260c2a15af8957b404ae359b8249b6aaf657658f1b4409b6"
  },
  "kernelspec": {
   "display_name": "Python 3.7.7 64-bit",
   "language": "python",
   "name": "python3"
  },
  "language_info": {
   "codemirror_mode": {
    "name": "ipython",
    "version": 3
   },
   "file_extension": ".py",
   "mimetype": "text/x-python",
   "name": "python",
   "nbconvert_exporter": "python",
   "pygments_lexer": "ipython3",
   "version": "3.7.7"
  },
  "orig_nbformat": 4
 },
 "nbformat": 4,
 "nbformat_minor": 2
}
