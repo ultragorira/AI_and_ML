{
 "cells": [
  {
   "cell_type": "markdown",
   "metadata": {},
   "source": [
    "# Notes\n"
   ]
  },
  {
   "cell_type": "markdown",
   "metadata": {},
   "source": [
    "Groups of Transformers:\n",
    "\n",
    "Auto-Regressive model like GPT <br>\n",
    "Auto-Encoding model like BERT <br>\n",
    "Sequence-To-Sequence model like BART or T5"
   ]
  }
 ],
 "metadata": {
  "language_info": {
   "name": "python"
  },
  "orig_nbformat": 4
 },
 "nbformat": 4,
 "nbformat_minor": 2
}
