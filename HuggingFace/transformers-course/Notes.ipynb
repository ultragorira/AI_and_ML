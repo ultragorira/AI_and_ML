{
 "cells": [
  {
   "cell_type": "markdown",
   "metadata": {},
   "source": [
    "# Notes\n"
   ]
  },
  {
   "cell_type": "markdown",
   "metadata": {},
   "source": [
    "Groups of Transformers:\n",
    "\n",
    "Auto-Regressive model like GPT <br>\n",
    "Auto-Encoding model like BERT <br>\n",
    "Sequence-To-Sequence model like BART or T5\n",
    "\n",
    "Encoder-only models: Good for tasks that require understanding of the input, such as sentence classification and named entity recognition. <br>\n",
    "Decoder-only models: Good for generative tasks such as text generation.<br>\n",
    "Encoder-decoder models or sequence-to-sequence models: Good for generative tasks that require an input, such as translation or summarization.\n",
    "\n",
    "\n",
    "## Transformer Architecture\n",
    "\n",
    "<img src=\"pics/Transformer_Architecture.png\">"
   ]
  },
  {
   "cell_type": "markdown",
   "metadata": {},
   "source": [
    "# Encoder Models"
   ]
  }
 ],
 "metadata": {
  "interpreter": {
   "hash": "b387498046005d87260c2a15af8957b404ae359b8249b6aaf657658f1b4409b6"
  },
  "kernelspec": {
   "display_name": "Python 3.7.7 64-bit",
   "language": "python",
   "name": "python3"
  },
  "language_info": {
   "name": "python",
   "version": "3.7.7"
  },
  "orig_nbformat": 4
 },
 "nbformat": 4,
 "nbformat_minor": 2
}
