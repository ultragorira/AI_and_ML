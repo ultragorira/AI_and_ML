{
 "cells": [
  {
   "attachments": {},
   "cell_type": "markdown",
   "metadata": {},
   "source": [
    "# Model Architecture\n"
   ]
  },
  {
   "attachments": {},
   "cell_type": "markdown",
   "metadata": {},
   "source": [
    "<img src=\"u-net-architecture.png\">\n",
    "\n",
    "Image taken from the original paper here: https://arxiv.org/abs/1505.04597"
   ]
  },
  {
   "cell_type": "code",
   "execution_count": 3,
   "metadata": {},
   "outputs": [],
   "source": [
    "import torch\n",
    "import torchvision.transforms.functional as F\n",
    "import torch.nn as nn"
   ]
  },
  {
   "cell_type": "code",
   "execution_count": 4,
   "metadata": {},
   "outputs": [],
   "source": [
    "FEATURES = [64, 128, 256, 512]"
   ]
  },
  {
   "cell_type": "code",
   "execution_count": 5,
   "metadata": {},
   "outputs": [],
   "source": [
    "class PairConv(nn.Module):\n",
    "\n",
    "    def __init__(self, in_channels, out_channels):\n",
    "        super(PairConv, self).__init__()\n",
    "        self.conv = nn.Sequential(\n",
    "                nn.Conv2d(in_channels, \n",
    "                          out_channels, \n",
    "                          kernel_size = 3,\n",
    "                          stride = 1, \n",
    "                          padding = 1,\n",
    "                          bias = False),\n",
    "                nn.BatchNorm2d(out_channels),\n",
    "                nn.ReLU(inplace = True),\n",
    "                nn.Conv2d(out_channels, \n",
    "                          out_channels, \n",
    "                          kernel_size = 3,\n",
    "                          stride = 1, \n",
    "                          padding = 1,\n",
    "                          bias = False),\n",
    "                nn.BatchNorm2d(out_channels),\n",
    "                nn.ReLU(inplace = True)\n",
    "            )\n",
    "        \n",
    "    def forward(self, x):\n",
    "        return self.conv(x)"
   ]
  },
  {
   "cell_type": "code",
   "execution_count": 6,
   "metadata": {},
   "outputs": [],
   "source": [
    "class UNET(nn.Module):\n",
    "\n",
    "    def __init__(self, in_channels = 3, out_channels = 1, features = FEATURES):\n",
    "        super(UNET, self).__init__()\n",
    "        self.contracting_path = nn.ModuleList()\n",
    "        self.expansive_path = nn.ModuleList()\n",
    "        self.max_pool = nn.MaxPool2d(kernel_size = 2, stride = 2)\n",
    "\n",
    "        for feature in features:\n",
    "            self.contracting_path.append(PairConv(in_channels, feature))\n",
    "            in_channels = feature\n",
    "\n",
    "        for feature in reversed(features):\n",
    "            self.expansive_path.append(\n",
    "            nn.ConvTranspose2d(\n",
    "                            feature*2,\n",
    "                            feature,\n",
    "                            kernel_size= 2,\n",
    "                            stride = 2\n",
    "                        )\n",
    "                )\n",
    "            self.expansive_path.append(PairConv(feature * 2, feature))\n",
    "        \n",
    "        self.bottom = PairConv(features[-1], features[-1] * 2)\n",
    "        self.out_conv = nn.Conv2d(features[0], out_channels,kernel_size = 1)\n",
    "\n",
    "    def forward(self, x):\n",
    "\n",
    "        skip_connections = []\n",
    "\n",
    "        for down in self.contracting_path:\n",
    "            x = down(x)\n",
    "            skip_connections.append(x)\n",
    "            x = self.max_pool(x)\n",
    "\n",
    "        x = self.bottom(x)\n",
    "        skip_connections = skip_connections[::-1]\n",
    "\n",
    "        for idx in range(0, len(self.expansive_path), 2):\n",
    "            x = self.expansive_path[idx](x)\n",
    "            skip_connection = skip_connections[idx//2]\n",
    "\n",
    "            if x.shape != skip_connection.shape:\n",
    "                x = F.resize(x, size=skip_connection.shape[2:])\n",
    "\n",
    "            concat_skip = torch.cat((skip_connection, x), dim=1)\n",
    "            x = self.expansive_path[idx+1](concat_skip)\n",
    "\n",
    "        return self.out_conv(x)\n",
    "\n"
   ]
  },
  {
   "cell_type": "code",
   "execution_count": 7,
   "metadata": {},
   "outputs": [],
   "source": [
    "import os\n",
    "import numpy as np\n",
    "from PIL import Image\n",
    "from torch.utils.data import Dataset\n"
   ]
  },
  {
   "cell_type": "code",
   "execution_count": 8,
   "metadata": {},
   "outputs": [],
   "source": [
    "class ImagesDataset(Dataset):\n",
    "    def __init__(self, img_dir, mask_dir, transform = None):\n",
    "        self.img_dir = img_dir\n",
    "        self.mask_dir = mask_dir\n",
    "        self.transform = transform\n",
    "        self.images = os.listdir(img_dir)\n",
    "\n",
    "    def __len__(self):\n",
    "        return len(self.images)\n",
    "    \n",
    "    def __getitem__(self, idx):\n",
    "        img_path = os.path.join(self.img_dir, self.images[idx])\n",
    "        mask_path = os.path.join(self.mask_dir, self.images[idx].replace('.jpg', '_mask.gif'))\n",
    "        img = np.array(Image.open(img_path).convert(\"RGB\"))\n",
    "        mask = np.array(Image.open(mask_path).convert(\"L\"), dtype=np.float32) #Greyscale\n",
    "        mask[mask == 255] = 1.0\n",
    "\n",
    "        if self.transform is not None:\n",
    "            augmentations = self.transform(img=img, mask=mask)\n",
    "            image = augmentations[\"img\"]\n",
    "            mask = augmentations[\"mask\"]\n",
    "        \n",
    "        return image, mask"
   ]
  },
  {
   "attachments": {},
   "cell_type": "markdown",
   "metadata": {},
   "source": [
    "## Training"
   ]
  },
  {
   "cell_type": "code",
   "execution_count": 9,
   "metadata": {},
   "outputs": [],
   "source": [
    "import torch\n",
    "from tqdm import tqdm\n",
    "import torch.nn as nn\n",
    "import torch.optim as optim\n",
    "import albumentations as A\n",
    "from albumentations.pytorch import ToTensorV2"
   ]
  },
  {
   "attachments": {},
   "cell_type": "markdown",
   "metadata": {},
   "source": [
    "### Hyperparameters"
   ]
  },
  {
   "cell_type": "code",
   "execution_count": 11,
   "metadata": {},
   "outputs": [],
   "source": [
    "LEARNING_RATE = 1e-3\n",
    "DEVICE = \"cuda\" if torch.cuda.is_available() else \"cpu\"\n",
    "TRAIN_IMG_PATH = \"data/train_img/\"\n",
    "TRAIN_MASK_PATH = \"data/train_mask/\"\n",
    "VAL_IMG_PATH = \"data/val_img/\"\n",
    "VAL_MASK_PATH = \"data/val_mask/\"\n",
    "BATCH_SIZE = 32\n",
    "NUM_EPOCHS = 50\n",
    "NUM_WORKERS = 2\n",
    "IMAGE_HEIGHT = 160\n",
    "IMAGE_WIDTH = 240\n",
    "PIN_MEMORY = True\n",
    "LOAD_MODEL = False"
   ]
  },
  {
   "cell_type": "code",
   "execution_count": 12,
   "metadata": {},
   "outputs": [],
   "source": [
    "def train(loader, model, optimizer, loss_fn, scaler):\n",
    "    loop = tqdm(loader)\n",
    "\n",
    "    for batch_id, (data, target) in enumerate(loop):\n",
    "        data = data.to(DEVICE)\n",
    "        targets = targets.float().unsqueeze(1).to(DEVICE)\n",
    "\n",
    "        #forward\n",
    "        with torch.cuda.amp.autocast():\n",
    "            prediction = model(data)\n",
    "            loss = loss_fn(prediction, targets)\n",
    "        #backward\n",
    "        optimizer.zero_grad()\n",
    "        scaler.scale(loss).backward()\n",
    "        scaler.step(optimizer)\n",
    "        scaler.update()\n",
    "\n",
    "        loop.set_postfix(loss=loss.item())\n"
   ]
  },
  {
   "cell_type": "code",
   "execution_count": 13,
   "metadata": {},
   "outputs": [],
   "source": [
    "def augment():\n",
    "\n",
    "    train_augmentation = A.Compose(\n",
    "        [\n",
    "            A.Resize(height=IMAGE_HEIGHT, width=IMAGE_WIDTH),\n",
    "            A.Rotate(limit=95, p=1.0),\n",
    "            A.HorizontalFlip(p=0.5),\n",
    "            A.VerticalFlip(p=0.1),\n",
    "            A.Normalize(\n",
    "                mean=[0.0, 0.0, 0.0],\n",
    "                std=[1.0, 1.0, 1.0],\n",
    "                max_pixel_value=255.0,\n",
    "            ),\n",
    "            ToTensorV2(),\n",
    "\n",
    "                ],\n",
    "            )\n",
    "    \n",
    "    val_augmentation = A.Compose(\n",
    "        [\n",
    "            A.Resize(height=IMAGE_HEIGHT, width=IMAGE_WIDTH),\n",
    "            A.Normalize(\n",
    "                mean=[0.0, 0.0, 0.0],\n",
    "                std=[1.0, 1.0, 1.0],\n",
    "                max_pixel_value=255.0,\n",
    "            ),\n",
    "            ToTensorV2(),\n",
    "\n",
    "                ],\n",
    "            )"
   ]
  },
  {
   "cell_type": "code",
   "execution_count": null,
   "metadata": {},
   "outputs": [],
   "source": [
    "model = UNET(in_channels=4, out_channels=1).to(DEVICE)\n",
    "loss_fn = nn.BCEWithLogitsLoss() #No Sigmoid in ouput of model\n",
    "optimizer = optim.Adam(model.parameters(), lr=LEARNING_RATE)\n",
    "scaler = torch.cuda.amp.GradScaler()\n",
    "\n",
    "for epoch in range(NUM_EPOCHS):\n",
    "    continue"
   ]
  }
 ],
 "metadata": {
  "kernelspec": {
   "display_name": "base",
   "language": "python",
   "name": "python3"
  },
  "language_info": {
   "codemirror_mode": {
    "name": "ipython",
    "version": 3
   },
   "file_extension": ".py",
   "mimetype": "text/x-python",
   "name": "python",
   "nbconvert_exporter": "python",
   "pygments_lexer": "ipython3",
   "version": "3.9.7"
  },
  "orig_nbformat": 4,
  "vscode": {
   "interpreter": {
    "hash": "0bd3759d1d8aa52da212024e62c534f3eafdba18a88d1945e55a82ebd3bdefdc"
   }
  }
 },
 "nbformat": 4,
 "nbformat_minor": 2
}
