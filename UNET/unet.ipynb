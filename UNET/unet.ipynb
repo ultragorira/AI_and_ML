{
 "cells": [
  {
   "attachments": {},
   "cell_type": "markdown",
   "metadata": {},
   "source": [
    "# Model Architecture\n"
   ]
  },
  {
   "attachments": {},
   "cell_type": "markdown",
   "metadata": {},
   "source": [
    "<img src=\"u-net-architecture.png\">\n",
    "\n",
    "Image taken from the original paper here: https://arxiv.org/abs/1505.04597"
   ]
  },
  {
   "cell_type": "code",
   "execution_count": 4,
   "metadata": {},
   "outputs": [],
   "source": [
    "import torch\n",
    "import torchvision.transforms.functional as F\n",
    "import torch.nn as nn"
   ]
  },
  {
   "cell_type": "code",
   "execution_count": 7,
   "metadata": {},
   "outputs": [],
   "source": [
    "FEATURES = [64, 128, 256, 512]"
   ]
  },
  {
   "cell_type": "code",
   "execution_count": 6,
   "metadata": {},
   "outputs": [],
   "source": [
    "class PairConv(nn.Module):\n",
    "\n",
    "    def __init__(self, in_channels, out_channels):\n",
    "        super(PairConv, self).__init__()\n",
    "        self.conv = nn.Sequential(\n",
    "                nn.Conv2d(in_channels, \n",
    "                          out_channels, \n",
    "                          kernel_size = 3,\n",
    "                          stride = 1, \n",
    "                          padding = 1,\n",
    "                          bias = False),\n",
    "                nn.BatchNorm2d(out_channels),\n",
    "                nn.ReLU(inplace = True),\n",
    "                nn.Conv2d(out_channels, \n",
    "                          out_channels, \n",
    "                          kernel_size = 3,\n",
    "                          stride = 1, \n",
    "                          padding = 1,\n",
    "                          bias = False),\n",
    "                nn.BatchNorm2d(out_channels),\n",
    "                nn.ReLU(inplace = True)\n",
    "            )\n",
    "        \n",
    "        def forward(self, x):\n",
    "            return self.conv(x)"
   ]
  },
  {
   "cell_type": "code",
   "execution_count": null,
   "metadata": {},
   "outputs": [],
   "source": [
    "class UNET(nn.Module):\n",
    "\n",
    "    def __init__(self, in_channels = 3, out_channels = 1, features = FEATURES):\n",
    "        super(UNET, self).__init__()\n",
    "        self.contracting_path = nn.ModuleList()\n",
    "        self.expansive_path = nn.ModuleList()\n",
    "        self.max_pool = nn.MaxPool2d(kernel_size = 2, stride = 2,)\n",
    "\n",
    "        for feature in features:\n",
    "            self.contracting_path.append(PairConv(in_channels, feature))\n",
    "            in_channels = feature\n",
    "\n",
    "        for feature in reversed(features):\n",
    "            self.expansive_path.append(\n",
    "            nn.ConvTranspose2d(\n",
    "                            feature*2,\n",
    "                            feature,\n",
    "                            kernel_size= 2,\n",
    "                            stride = 2\n",
    "                        )\n",
    "                )\n",
    "            self.expansive_path.append(PairConv(feature * 2, feature))\n",
    "        \n",
    "        self.bottom = PairConv(features[-1], features[-1] * 2)\n",
    "        self.out_conv = nn.Conv2d(features[0], out_channels,kernel_size = 1)\n"
   ]
  }
 ],
 "metadata": {
  "kernelspec": {
   "display_name": "base",
   "language": "python",
   "name": "python3"
  },
  "language_info": {
   "codemirror_mode": {
    "name": "ipython",
    "version": 3
   },
   "file_extension": ".py",
   "mimetype": "text/x-python",
   "name": "python",
   "nbconvert_exporter": "python",
   "pygments_lexer": "ipython3",
   "version": "3.9.7"
  },
  "orig_nbformat": 4,
  "vscode": {
   "interpreter": {
    "hash": "0bd3759d1d8aa52da212024e62c534f3eafdba18a88d1945e55a82ebd3bdefdc"
   }
  }
 },
 "nbformat": 4,
 "nbformat_minor": 2
}
