{
 "cells": [
  {
   "cell_type": "code",
   "execution_count": 1,
   "metadata": {},
   "outputs": [],
   "source": [
    "import pandas as pd\n",
    "import numpy as np\n",
    "import matplotlib.pyplot as plt\n",
    "from typing import Tuple"
   ]
  },
  {
   "cell_type": "code",
   "execution_count": 3,
   "metadata": {},
   "outputs": [
    {
     "data": {
      "text/html": [
       "<div>\n",
       "<style scoped>\n",
       "    .dataframe tbody tr th:only-of-type {\n",
       "        vertical-align: middle;\n",
       "    }\n",
       "\n",
       "    .dataframe tbody tr th {\n",
       "        vertical-align: top;\n",
       "    }\n",
       "\n",
       "    .dataframe thead th {\n",
       "        text-align: right;\n",
       "    }\n",
       "</style>\n",
       "<table border=\"1\" class=\"dataframe\">\n",
       "  <thead>\n",
       "    <tr style=\"text-align: right;\">\n",
       "      <th></th>\n",
       "      <th>label</th>\n",
       "      <th>pixel0</th>\n",
       "      <th>pixel1</th>\n",
       "      <th>pixel2</th>\n",
       "      <th>pixel3</th>\n",
       "      <th>pixel4</th>\n",
       "      <th>pixel5</th>\n",
       "      <th>pixel6</th>\n",
       "      <th>pixel7</th>\n",
       "      <th>pixel8</th>\n",
       "      <th>...</th>\n",
       "      <th>pixel774</th>\n",
       "      <th>pixel775</th>\n",
       "      <th>pixel776</th>\n",
       "      <th>pixel777</th>\n",
       "      <th>pixel778</th>\n",
       "      <th>pixel779</th>\n",
       "      <th>pixel780</th>\n",
       "      <th>pixel781</th>\n",
       "      <th>pixel782</th>\n",
       "      <th>pixel783</th>\n",
       "    </tr>\n",
       "  </thead>\n",
       "  <tbody>\n",
       "    <tr>\n",
       "      <th>0</th>\n",
       "      <td>1</td>\n",
       "      <td>0</td>\n",
       "      <td>0</td>\n",
       "      <td>0</td>\n",
       "      <td>0</td>\n",
       "      <td>0</td>\n",
       "      <td>0</td>\n",
       "      <td>0</td>\n",
       "      <td>0</td>\n",
       "      <td>0</td>\n",
       "      <td>...</td>\n",
       "      <td>0</td>\n",
       "      <td>0</td>\n",
       "      <td>0</td>\n",
       "      <td>0</td>\n",
       "      <td>0</td>\n",
       "      <td>0</td>\n",
       "      <td>0</td>\n",
       "      <td>0</td>\n",
       "      <td>0</td>\n",
       "      <td>0</td>\n",
       "    </tr>\n",
       "    <tr>\n",
       "      <th>1</th>\n",
       "      <td>0</td>\n",
       "      <td>0</td>\n",
       "      <td>0</td>\n",
       "      <td>0</td>\n",
       "      <td>0</td>\n",
       "      <td>0</td>\n",
       "      <td>0</td>\n",
       "      <td>0</td>\n",
       "      <td>0</td>\n",
       "      <td>0</td>\n",
       "      <td>...</td>\n",
       "      <td>0</td>\n",
       "      <td>0</td>\n",
       "      <td>0</td>\n",
       "      <td>0</td>\n",
       "      <td>0</td>\n",
       "      <td>0</td>\n",
       "      <td>0</td>\n",
       "      <td>0</td>\n",
       "      <td>0</td>\n",
       "      <td>0</td>\n",
       "    </tr>\n",
       "    <tr>\n",
       "      <th>2</th>\n",
       "      <td>1</td>\n",
       "      <td>0</td>\n",
       "      <td>0</td>\n",
       "      <td>0</td>\n",
       "      <td>0</td>\n",
       "      <td>0</td>\n",
       "      <td>0</td>\n",
       "      <td>0</td>\n",
       "      <td>0</td>\n",
       "      <td>0</td>\n",
       "      <td>...</td>\n",
       "      <td>0</td>\n",
       "      <td>0</td>\n",
       "      <td>0</td>\n",
       "      <td>0</td>\n",
       "      <td>0</td>\n",
       "      <td>0</td>\n",
       "      <td>0</td>\n",
       "      <td>0</td>\n",
       "      <td>0</td>\n",
       "      <td>0</td>\n",
       "    </tr>\n",
       "    <tr>\n",
       "      <th>3</th>\n",
       "      <td>4</td>\n",
       "      <td>0</td>\n",
       "      <td>0</td>\n",
       "      <td>0</td>\n",
       "      <td>0</td>\n",
       "      <td>0</td>\n",
       "      <td>0</td>\n",
       "      <td>0</td>\n",
       "      <td>0</td>\n",
       "      <td>0</td>\n",
       "      <td>...</td>\n",
       "      <td>0</td>\n",
       "      <td>0</td>\n",
       "      <td>0</td>\n",
       "      <td>0</td>\n",
       "      <td>0</td>\n",
       "      <td>0</td>\n",
       "      <td>0</td>\n",
       "      <td>0</td>\n",
       "      <td>0</td>\n",
       "      <td>0</td>\n",
       "    </tr>\n",
       "    <tr>\n",
       "      <th>4</th>\n",
       "      <td>0</td>\n",
       "      <td>0</td>\n",
       "      <td>0</td>\n",
       "      <td>0</td>\n",
       "      <td>0</td>\n",
       "      <td>0</td>\n",
       "      <td>0</td>\n",
       "      <td>0</td>\n",
       "      <td>0</td>\n",
       "      <td>0</td>\n",
       "      <td>...</td>\n",
       "      <td>0</td>\n",
       "      <td>0</td>\n",
       "      <td>0</td>\n",
       "      <td>0</td>\n",
       "      <td>0</td>\n",
       "      <td>0</td>\n",
       "      <td>0</td>\n",
       "      <td>0</td>\n",
       "      <td>0</td>\n",
       "      <td>0</td>\n",
       "    </tr>\n",
       "  </tbody>\n",
       "</table>\n",
       "<p>5 rows × 785 columns</p>\n",
       "</div>"
      ],
      "text/plain": [
       "   label  pixel0  pixel1  pixel2  pixel3  pixel4  pixel5  pixel6  pixel7  \\\n",
       "0      1       0       0       0       0       0       0       0       0   \n",
       "1      0       0       0       0       0       0       0       0       0   \n",
       "2      1       0       0       0       0       0       0       0       0   \n",
       "3      4       0       0       0       0       0       0       0       0   \n",
       "4      0       0       0       0       0       0       0       0       0   \n",
       "\n",
       "   pixel8  ...  pixel774  pixel775  pixel776  pixel777  pixel778  pixel779  \\\n",
       "0       0  ...         0         0         0         0         0         0   \n",
       "1       0  ...         0         0         0         0         0         0   \n",
       "2       0  ...         0         0         0         0         0         0   \n",
       "3       0  ...         0         0         0         0         0         0   \n",
       "4       0  ...         0         0         0         0         0         0   \n",
       "\n",
       "   pixel780  pixel781  pixel782  pixel783  \n",
       "0         0         0         0         0  \n",
       "1         0         0         0         0  \n",
       "2         0         0         0         0  \n",
       "3         0         0         0         0  \n",
       "4         0         0         0         0  \n",
       "\n",
       "[5 rows x 785 columns]"
      ]
     },
     "execution_count": 3,
     "metadata": {},
     "output_type": "execute_result"
    }
   ],
   "source": [
    "# Read MNIST data from CSV\n",
    "train_data = pd.read_csv('train.csv')\n",
    "train_data.head()\n"
   ]
  },
  {
   "cell_type": "code",
   "execution_count": 4,
   "metadata": {},
   "outputs": [
    {
     "data": {
      "text/plain": [
       "42000"
      ]
     },
     "execution_count": 4,
     "metadata": {},
     "output_type": "execute_result"
    }
   ],
   "source": [
    "len(train_data)"
   ]
  },
  {
   "cell_type": "code",
   "execution_count": 16,
   "metadata": {},
   "outputs": [
    {
     "data": {
      "image/png": "[encoded data removed]",
      "text/plain": [
       "<Figure size 640x480 with 1 Axes>"
      ]
     },
     "metadata": {},
     "output_type": "display_data"
    },
    {
     "data": {
      "image/png": "[encoded data removed]",
      "text/plain": [
       "<Figure size 640x480 with 1 Axes>"
      ]
     },
     "metadata": {},
     "output_type": "display_data"
    },
    {
     "data": {
      "image/png": "[encoded data removed]",
      "text/plain": [
       "<Figure size 640x480 with 1 Axes>"
      ]
     },
     "metadata": {},
     "output_type": "display_data"
    },
    {
     "data": {
      "image/png": "[encoded data removed]",
      "text/plain": [
       "<Figure size 640x480 with 1 Axes>"
      ]
     },
     "metadata": {},
     "output_type": "display_data"
    },
    {
     "data": {
      "image/png": "[encoded data removed]",
      "text/plain": [
       "<Figure size 640x480 with 1 Axes>"
      ]
     },
     "metadata": {},
     "output_type": "display_data"
    }
   ],
   "source": [
    "\n",
    "# Extract pixel values and labels\n",
    "pixels = train_data.drop('label', axis=1).values\n",
    "labels = train_data['label'].values\n",
    "\n",
    "def visualize_mnist_image(image_pixels: np.ndarray, image_id: int) -> None:\n",
    "    \"\"\"Function to plot an MNIST image from CSV\"\"\"\n",
    "    # Reshape pixel values into a 28x28 image\n",
    "    image = image_pixels.reshape(28, 28)\n",
    "\n",
    "    # Plot the image\n",
    "    plt.imshow(image, cmap='binary')\n",
    "    plt.title(labels[image_id])\n",
    "    plt.axis('off')\n",
    "    plt.show()\n",
    "\n",
    "images_to_show = [3, 20, 150, 23000, 34583]\n",
    "\n",
    "for image_id in images_to_show:\n",
    "    visualize_mnist_image(pixels[image_id], image_id)"
   ]
  },
  {
   "attachments": {},
   "cell_type": "markdown",
   "metadata": {},
   "source": [
    "## Initialize parameters"
   ]
  },
  {
   "cell_type": "code",
   "execution_count": 18,
   "metadata": {},
   "outputs": [],
   "source": [
    "def init_params() -> Tuple[np.ndarray, np.ndarray, np.ndarray, np.ndarray]:\n",
    "    W1 = np.random.normal(size=(10, 784)) * np.sqrt(1./(784))\n",
    "    b1 = np.random.normal(size=(10, 1)) * np.sqrt(1./10)\n",
    "    W2 = np.random.normal(size=(10, 10)) * np.sqrt(1./20)\n",
    "    b2 = np.random.normal(size=(10, 1)) * np.sqrt(1./(784))\n",
    "    \n",
    "    return W1, b1, W2, b2"
   ]
  },
  {
   "cell_type": "code",
   "execution_count": 49,
   "metadata": {},
   "outputs": [],
   "source": [
    "def forward_prop(W1, b1, W2, b2, X):\n",
    "    Z1 = W1.dot(X) + b1\n",
    "    A1 = ReLU(Z1)\n",
    "    Z2 = W2.dot(A1) + b2\n",
    "    A2 = softmax(Z2)\n",
    "    return Z1, A1, Z2, A2\n",
    "\n",
    "def ReLU(Z):\n",
    "    \"\"\"Activation function ReLU\"\"\"\n",
    "    return np.maximum(Z, 0)\n",
    "\n",
    "def softmax(Z):\n",
    "    \"\"\"Softmax function\"\"\"\n",
    "    exp = np.exp(Z - np.max(Z))\n",
    "    return exp / exp.sum(axis=0)\n",
    "\n",
    "def ReLU_deriv(Z):\n",
    "    return Z > 0\n",
    "\n",
    "def one_hot(Y):\n",
    "    one_hot_Y = np.zeros((Y.max()+1,Y.size))\n",
    "    one_hot_Y[Y,np.arange(Y.size)] = 1\n",
    "    return one_hot_Y\n",
    "\n",
    "def backward_prop(X, Y, A1, A2, W2, Z1, m):\n",
    "    one_hot_Y = one_hot(Y)\n",
    "    dZ2 = 2 * (A2 - one_hot_Y)\n",
    "    dW2 = 1 / m * (dZ2.dot(A1.T))\n",
    "    db2 = 1 / m * np.sum(dZ2, axis=1, keepdims=True)\n",
    "    dZ1 = W2.T.dot(dZ2) * ReLU_deriv(Z1)\n",
    "    dW1 = 1 / m * dZ1.dot(X.T)\n",
    "    db1 = 1 / m * np.sum(dZ1)\n",
    "    return dW1, db1, dW2, db2"
   ]
  },
  {
   "cell_type": "code",
   "execution_count": 45,
   "metadata": {},
   "outputs": [],
   "source": [
    "def update_params(alpha, W1, b1, W2, b2, dW1, db1, dW2, db2):\n",
    "    W1 -= alpha * dW1\n",
    "    b1 -= alpha * db1\n",
    "    W2 -= alpha * dW2\n",
    "    b2 -= alpha * db2   \n",
    "    return W1, b1, W2, b2"
   ]
  },
  {
   "cell_type": "code",
   "execution_count": 43,
   "metadata": {},
   "outputs": [],
   "source": [
    "def get_predictions(A2):\n",
    "    return np.argmax(A2, 0)\n",
    "\n",
    "def get_accuracy(predictions, Y):\n",
    "    print(predictions, Y)\n",
    "    return np.sum(predictions == Y) / Y.size\n",
    "\n",
    "def gradient_descent(X, Y, alpha, iterations):\n",
    "    _ , m = X.shape\n",
    "\n",
    "    W1, b1, W2, b2 = init_params()\n",
    "\n",
    "    for i in range(iterations):\n",
    "        Z1, A1, Z2, A2 = forward_prop(W1, b1, W2, b2, X)\n",
    "        dW1, db1, dW2, db2 = backward_prop(X, Y, A1, A2, W2, Z1, m)\n",
    "        W1, b1, W2, b2 = update_params(alpha, W1, b1, W2, b2, dW1, db1, dW2, db2)\n",
    "        if i % 10 == 0:\n",
    "            print(\"Iteration: \", i)\n",
    "            predictions = get_predictions(A2)\n",
    "            print(get_accuracy(predictions, Y))\n",
    "    return W1, b1, W2, b2"
   ]
  },
  {
   "cell_type": "code",
   "execution_count": 26,
   "metadata": {},
   "outputs": [],
   "source": [
    "train_data = np.array(train_data)\n",
    "m, n = train_data.shape\n",
    "np.random.shuffle(train_data) # shuffle before splitting into dev and training sets\n",
    "\n",
    "data_dev = train_data[0:1000].T\n",
    "Y_dev = data_dev[0]\n",
    "X_dev = data_dev[1:n]\n",
    "X_dev = X_dev / 255.\n",
    "\n",
    "data_train = train_data[1000:m].T\n",
    "Y_train = data_train[0]\n",
    "X_train = data_train[1:n]\n",
    "X_train = X_train / 255"
   ]
  },
  {
   "cell_type": "code",
   "execution_count": 51,
   "metadata": {},
   "outputs": [
    {
     "name": "stdout",
     "output_type": "stream",
     "text": [
      "Iteration:  0\n",
      "[8 2 7 ... 0 2 7] [4 7 2 ... 6 2 0]\n",
      "0.12765853658536586\n",
      "Iteration:  10\n",
      "[4 7 2 ... 6 2 0] [4 7 2 ... 6 2 0]\n",
      "0.4089512195121951\n",
      "Iteration:  20\n",
      "[4 7 2 ... 6 2 0] [4 7 2 ... 6 2 0]\n",
      "0.5164390243902439\n",
      "Iteration:  30\n",
      "[4 7 2 ... 6 8 0] [4 7 2 ... 6 2 0]\n",
      "0.6881463414634146\n",
      "Iteration:  40\n",
      "[4 9 2 ... 6 8 0] [4 7 2 ... 6 2 0]\n",
      "0.7713170731707317\n",
      "Iteration:  50\n",
      "[4 7 2 ... 6 8 0] [4 7 2 ... 6 2 0]\n",
      "0.806\n",
      "Iteration:  60\n",
      "[4 7 2 ... 6 8 0] [4 7 2 ... 6 2 0]\n",
      "0.8262926829268292\n",
      "Iteration:  70\n",
      "[4 7 2 ... 6 8 0] [4 7 2 ... 6 2 0]\n",
      "0.839780487804878\n",
      "Iteration:  80\n",
      "[4 7 2 ... 6 8 0] [4 7 2 ... 6 2 0]\n",
      "0.8512195121951219\n",
      "Iteration:  90\n",
      "[4 7 2 ... 6 8 0] [4 7 2 ... 6 2 0]\n",
      "0.8597560975609756\n",
      "Iteration:  100\n",
      "[4 7 2 ... 6 8 0] [4 7 2 ... 6 2 0]\n",
      "0.8655121951219512\n",
      "Iteration:  110\n",
      "[4 7 2 ... 6 8 0] [4 7 2 ... 6 2 0]\n",
      "0.8704878048780488\n",
      "Iteration:  120\n",
      "[4 7 2 ... 6 8 0] [4 7 2 ... 6 2 0]\n",
      "0.874780487804878\n",
      "Iteration:  130\n",
      "[4 7 2 ... 6 8 0] [4 7 2 ... 6 2 0]\n",
      "0.8775365853658537\n",
      "Iteration:  140\n",
      "[4 7 2 ... 6 8 0] [4 7 2 ... 6 2 0]\n",
      "0.8797317073170732\n",
      "Iteration:  150\n",
      "[4 7 2 ... 6 8 0] [4 7 2 ... 6 2 0]\n",
      "0.8819756097560976\n",
      "Iteration:  160\n",
      "[4 7 2 ... 6 8 0] [4 7 2 ... 6 2 0]\n",
      "0.8837073170731707\n",
      "Iteration:  170\n",
      "[4 7 2 ... 6 8 0] [4 7 2 ... 6 2 0]\n",
      "0.886\n",
      "Iteration:  180\n",
      "[4 7 2 ... 6 8 0] [4 7 2 ... 6 2 0]\n",
      "0.8875853658536585\n",
      "Iteration:  190\n",
      "[4 7 2 ... 6 8 0] [4 7 2 ... 6 2 0]\n",
      "0.8894146341463415\n",
      "Iteration:  200\n",
      "[4 7 2 ... 6 8 0] [4 7 2 ... 6 2 0]\n",
      "0.8908292682926829\n",
      "Iteration:  210\n",
      "[4 7 2 ... 6 8 0] [4 7 2 ... 6 2 0]\n",
      "0.8923170731707317\n",
      "Iteration:  220\n",
      "[4 7 2 ... 6 8 0] [4 7 2 ... 6 2 0]\n",
      "0.8935365853658537\n",
      "Iteration:  230\n",
      "[4 7 2 ... 6 8 0] [4 7 2 ... 6 2 0]\n",
      "0.8944878048780488\n",
      "Iteration:  240\n",
      "[4 7 2 ... 6 8 0] [4 7 2 ... 6 2 0]\n",
      "0.8954390243902439\n",
      "Iteration:  250\n",
      "[4 7 2 ... 6 8 0] [4 7 2 ... 6 2 0]\n",
      "0.8962439024390244\n",
      "Iteration:  260\n",
      "[4 7 2 ... 6 8 0] [4 7 2 ... 6 2 0]\n",
      "0.8969512195121951\n",
      "Iteration:  270\n",
      "[4 7 2 ... 6 8 0] [4 7 2 ... 6 2 0]\n",
      "0.8981707317073171\n",
      "Iteration:  280\n",
      "[4 7 2 ... 6 8 0] [4 7 2 ... 6 2 0]\n",
      "0.8990731707317073\n",
      "Iteration:  290\n",
      "[4 7 2 ... 6 2 0] [4 7 2 ... 6 2 0]\n",
      "0.8999512195121951\n",
      "Iteration:  300\n",
      "[4 7 2 ... 6 2 0] [4 7 2 ... 6 2 0]\n",
      "0.9010487804878049\n",
      "Iteration:  310\n",
      "[4 7 2 ... 6 2 0] [4 7 2 ... 6 2 0]\n",
      "0.9016829268292683\n",
      "Iteration:  320\n",
      "[4 7 2 ... 6 2 0] [4 7 2 ... 6 2 0]\n",
      "0.9026829268292683\n",
      "Iteration:  330\n",
      "[4 7 2 ... 6 2 0] [4 7 2 ... 6 2 0]\n",
      "0.9031707317073171\n",
      "Iteration:  340\n",
      "[4 7 2 ... 6 2 0] [4 7 2 ... 6 2 0]\n",
      "0.9038048780487805\n",
      "Iteration:  350\n",
      "[4 7 2 ... 6 2 0] [4 7 2 ... 6 2 0]\n",
      "0.9045365853658537\n",
      "Iteration:  360\n",
      "[4 7 2 ... 6 2 0] [4 7 2 ... 6 2 0]\n",
      "0.905219512195122\n",
      "Iteration:  370\n",
      "[4 7 2 ... 6 2 0] [4 7 2 ... 6 2 0]\n",
      "0.9055365853658537\n",
      "Iteration:  380\n",
      "[4 7 2 ... 6 2 0] [4 7 2 ... 6 2 0]\n",
      "0.9060487804878049\n",
      "Iteration:  390\n",
      "[4 7 2 ... 6 2 0] [4 7 2 ... 6 2 0]\n",
      "0.9063414634146342\n",
      "Iteration:  400\n",
      "[4 7 2 ... 6 2 0] [4 7 2 ... 6 2 0]\n",
      "0.9068780487804878\n",
      "Iteration:  410\n",
      "[4 7 2 ... 6 2 0] [4 7 2 ... 6 2 0]\n",
      "0.9076585365853659\n",
      "Iteration:  420\n",
      "[4 7 2 ... 6 2 0] [4 7 2 ... 6 2 0]\n",
      "0.9081707317073171\n",
      "Iteration:  430\n",
      "[4 7 2 ... 6 2 0] [4 7 2 ... 6 2 0]\n",
      "0.9086341463414634\n",
      "Iteration:  440\n",
      "[4 7 2 ... 6 2 0] [4 7 2 ... 6 2 0]\n",
      "0.9091219512195122\n",
      "Iteration:  450\n",
      "[4 7 2 ... 6 2 0] [4 7 2 ... 6 2 0]\n",
      "0.9095365853658537\n",
      "Iteration:  460\n",
      "[4 7 2 ... 6 2 0] [4 7 2 ... 6 2 0]\n",
      "0.91\n",
      "Iteration:  470\n",
      "[4 7 2 ... 6 2 0] [4 7 2 ... 6 2 0]\n",
      "0.9104390243902439\n",
      "Iteration:  480\n",
      "[4 7 2 ... 6 2 0] [4 7 2 ... 6 2 0]\n",
      "0.9108048780487805\n",
      "Iteration:  490\n",
      "[4 7 2 ... 6 2 0] [4 7 2 ... 6 2 0]\n",
      "0.9111951219512195\n"
     ]
    }
   ],
   "source": [
    "W1, b1, W2, b2 = gradient_descent(X_train, Y_train, 0.10, 500)"
   ]
  },
  {
   "cell_type": "code",
   "execution_count": 55,
   "metadata": {},
   "outputs": [],
   "source": [
    "def make_predictions(X, W1, b1, W2, b2):\n",
    "    _, _, _, A2 = forward_prop(W1, b1, W2, b2, X)\n",
    "    predictions = get_predictions(A2)\n",
    "    return predictions\n",
    "\n",
    "def test_prediction(index, W1, b1, W2, b2):\n",
    "    current_image = X_train[:, index, None]\n",
    "    prediction = make_predictions(X_train[:, index, None], W1, b1, W2, b2)\n",
    "    label = Y_train[index]\n",
    "    print(\"Prediction: \", prediction[0])\n",
    "    print(\"Label: \", label)\n",
    "    \n",
    "    current_image = current_image.reshape((28, 28)) * 255\n",
    "    plt.gray()\n",
    "    plt.imshow(current_image, interpolation='nearest')\n",
    "    plt.show()"
   ]
  },
  {
   "cell_type": "code",
   "execution_count": 56,
   "metadata": {},
   "outputs": [
    {
     "name": "stdout",
     "output_type": "stream",
     "text": [
      "Prediction:  2\n",
      "Label:  2\n"
     ]
    },
    {
     "data": {
      "image/png": "[encoded data removed]",
      "text/plain": [
       "<Figure size 640x480 with 1 Axes>"
      ]
     },
     "metadata": {},
     "output_type": "display_data"
    },
    {
     "name": "stdout",
     "output_type": "stream",
     "text": [
      "Prediction:  4\n",
      "Label:  4\n"
     ]
    },
    {
     "data": {
      "image/png": "[encoded data removed]",
      "text/plain": [
       "<Figure size 640x480 with 1 Axes>"
      ]
     },
     "metadata": {},
     "output_type": "display_data"
    },
    {
     "name": "stdout",
     "output_type": "stream",
     "text": [
      "Prediction:  7\n",
      "Label:  7\n"
     ]
    },
    {
     "data": {
      "image/png": "[encoded data removed]",
      "text/plain": [
       "<Figure size 640x480 with 1 Axes>"
      ]
     },
     "metadata": {},
     "output_type": "display_data"
    },
    {
     "name": "stdout",
     "output_type": "stream",
     "text": [
      "Prediction:  0\n",
      "Label:  0\n"
     ]
    },
    {
     "data": {
      "image/png": "[encoded data removed]",
      "text/plain": [
       "<Figure size 640x480 with 1 Axes>"
      ]
     },
     "metadata": {},
     "output_type": "display_data"
    }
   ],
   "source": [
    "test_prediction(10, W1, b1, W2, b2)\n",
    "test_prediction(32, W1, b1, W2, b2)\n",
    "test_prediction(83, W1, b1, W2, b2)\n",
    "test_prediction(200, W1, b1, W2, b2)"
   ]
  }
 ],
 "metadata": {
  "kernelspec": {
   "display_name": "base",
   "language": "python",
   "name": "python3"
  },
  "language_info": {
   "codemirror_mode": {
    "name": "ipython",
    "version": 3
   },
   "file_extension": ".py",
   "mimetype": "text/x-python",
   "name": "python",
   "nbconvert_exporter": "python",
   "pygments_lexer": "ipython3",
   "version": "3.9.16"
  },
  "orig_nbformat": 4
 },
 "nbformat": 4,
 "nbformat_minor": 2
}
